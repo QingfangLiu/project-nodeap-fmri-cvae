{
 "cells": [
  {
   "cell_type": "code",
   "execution_count": 2,
   "id": "30c7e54a-31d4-4b3b-821d-2f7b50b7287e",
   "metadata": {},
   "outputs": [],
   "source": [
    "# Auto-Reload for Fast Iteration\n",
    "%load_ext autoreload\n",
    "%autoreload 2"
   ]
  },
  {
   "cell_type": "code",
   "execution_count": 3,
   "id": "83151f47-00b2-4693-94da-2affc0d38613",
   "metadata": {},
   "outputs": [],
   "source": [
    "from pathlib import Path\n",
    "import sys\n",
    "\n",
    "project_root = Path(\"/Users/liuq13/vae-fmri-tms\")               \n",
    "sys.path.append(str(project_root))"
   ]
  },
  {
   "cell_type": "code",
   "execution_count": 4,
   "id": "e59ad578-c444-4b36-b316-f8ff8d486a1e",
   "metadata": {},
   "outputs": [
    {
     "name": "stderr",
     "output_type": "stream",
     "text": [
      "/Library/Frameworks/Python.framework/Versions/3.13/lib/python3.13/site-packages/tqdm/auto.py:21: TqdmWarning: IProgress not found. Please update jupyter and ipywidgets. See https://ipywidgets.readthedocs.io/en/stable/user_install.html\n",
      "  from .autonotebook import tqdm as notebook_tqdm\n"
     ]
    }
   ],
   "source": [
    "# Import from config.py (which is in the root folder)\n",
    "from utils.config import *\n",
    "\n",
    "# Import custom functions from your utils package\n",
    "from utils.models import VAE, CVAE\n",
    "\n",
    "from utils.train_utils import (\n",
    "    train_vae,\n",
    "    loss_function,\n",
    "    get_latent_mu,\n",
    "    get_latent_mu_cvae,\n",
    "    compute_condition_distances,\n",
    "    compute_per_session_dist_to_null\n",
    ")\n",
    "\n",
    "from utils.data_utils import (\n",
    "    load_all_fc_data,\n",
    "    preprocess_for_torch\n",
    ")\n",
    "\n",
    "from utils.utils_plotting import (\n",
    "    plot_vae_losses,\n",
    "    plot_latent_embedding_by_condition_and_subject,\n",
    "    plot_subject_distance_comparison\n",
    ")\n"
   ]
  },
  {
   "cell_type": "code",
   "execution_count": 5,
   "id": "d0a4e56e-5336-44ae-a53a-6aacf98e1dfe",
   "metadata": {},
   "outputs": [],
   "source": [
    "data_dir     = project_root / \"data\"\n",
    "sub_cond_path     = data_dir / \"subject_info.xlsx\"\n",
    "base_nifti_folder = data_dir / \"data_FC\"\n",
    "condition_map = {'N': 0, 'S': 1, 'C': 2}"
   ]
  },
  {
   "cell_type": "code",
   "execution_count": 6,
   "id": "418d6c0c-c292-467d-b057-dd0c9447c689",
   "metadata": {},
   "outputs": [
    {
     "name": "stdout",
     "output_type": "stream",
     "text": [
      "[WARN] File not found: /Users/liuq13/vae-fmri-tms/data/data_FC/NODEAP_30/S3D2/conn_matrix_w_sphere.mat\n",
      "[WARN] File not found: /Users/liuq13/vae-fmri-tms/data/data_FC/NODEAP_44/S1D1/conn_matrix_w_sphere.mat\n",
      "[WARN] File not found: /Users/liuq13/vae-fmri-tms/data/data_FC/NODEAP_83/S3D1/conn_matrix_w_sphere.mat\n",
      "[WARN] File not found: /Users/liuq13/vae-fmri-tms/data/data_FC/NODEAP_87/D0/conn_matrix_w_sphere.mat\n",
      "[WARN] File not found: /Users/liuq13/vae-fmri-tms/data/data_FC/NODEAP_88/D0/conn_matrix_w_sphere.mat\n",
      "Columns with NaN: 14 / 116\n",
      "Tensor shape after preprocessing: torch.Size([331, 102])\n"
     ]
    }
   ],
   "source": [
    "# Load and preprocess\n",
    "use_roi = 0\n",
    "all_corr_data, all_tms_type, all_subject_id, all_stimloc, all_session = load_all_fc_data(sub_cond_path, \n",
    "                                                               base_nifti_folder, \n",
    "                                                               mat_filename='conn_matrix_w_sphere.mat',\n",
    "                                                               key_name='correlation_matrix',row_idx=use_roi)\n",
    "# One-hot encode subject ID as condition\n",
    "subject_arr = np.array(all_subject_id).reshape(-1, 1)\n",
    "subject_encoder = OneHotEncoder(sparse_output=False, drop=None)\n",
    "subject_ohe = subject_encoder.fit_transform(subject_arr)  # shape: [n_samples, n_subjects]\n",
    "\n",
    "# Convert to torch tensors\n",
    "X_tensor = preprocess_for_torch(all_corr_data)  \n",
    "subject_cond_tensor = torch.tensor(subject_ohe, dtype=torch.float32)\n",
    "dataset = TensorDataset(X_tensor, subject_cond_tensor)\n",
    "dataloader = DataLoader(dataset, batch_size=32, shuffle=True)"
   ]
  },
  {
   "cell_type": "code",
   "execution_count": 7,
   "id": "9126f8f1-4737-4dfb-a2be-d9ac61e1e09f",
   "metadata": {},
   "outputs": [
    {
     "data": {
      "text/plain": [
       "torch.Size([331, 102])"
      ]
     },
     "execution_count": 7,
     "metadata": {},
     "output_type": "execute_result"
    }
   ],
   "source": [
    "X_tensor.shape"
   ]
  },
  {
   "cell_type": "code",
   "execution_count": 8,
   "id": "08798562-28c2-4726-8485-2eed7eff1068",
   "metadata": {},
   "outputs": [
    {
     "data": {
      "text/plain": [
       "torch.Size([331, 48])"
      ]
     },
     "execution_count": 8,
     "metadata": {},
     "output_type": "execute_result"
    }
   ],
   "source": [
    "subject_cond_tensor.shape"
   ]
  },
  {
   "cell_type": "code",
   "execution_count": 9,
   "id": "7f2df73d-40ce-48c4-a547-7de6e85a6de4",
   "metadata": {},
   "outputs": [
    {
     "data": {
      "text/plain": [
       "array(['N', 'S', 'S', 'S', 'C', 'C', 'S', 'N', 'S', 'S', 'C', 'S', 'S',\n",
       "       'C', 'N', 'C', 'S', 'S', 'S', 'S', 'C', 'N', 'S', 'S', 'S', 'C',\n",
       "       'C', 'S', 'N', 'S', 'S', 'S', 'C', 'C', 'S', 'N', 'C', 'S', 'S',\n",
       "       'C', 'S', 'S', 'N', 'S', 'C', 'S', 'S', 'C', 'S', 'N', 'S', 'C',\n",
       "       'S', 'S', 'C', 'S', 'N', 'S', 'C', 'S', 'S', 'C', 'S', 'N', 'S',\n",
       "       'C', 'C', 'S', 'S', 'S', 'N', 'S', 'S', 'S', 'C', 'C', 'S', 'N',\n",
       "       'S', 'C', 'C', 'S', 'S', 'S', 'N', 'S', 'C', 'C', 'S', 'S', 'N',\n",
       "       'C', 'S', 'S', 'S', 'S', 'C', 'N', 'C', 'S', 'S', 'C', 'S', 'S',\n",
       "       'N', 'C', 'S', 'S', 'C', 'S', 'S', 'N', 'S', 'S', 'S', 'C', 'C',\n",
       "       'S', 'N', 'S', 'C', 'C', 'S', 'S', 'S', 'N', 'C', 'S', 'S', 'C',\n",
       "       'S', 'S', 'N', 'S', 'S', 'C', 'S', 'S', 'N', 'S', 'S', 'C', 'S',\n",
       "       'S', 'C', 'N', 'S', 'C', 'C', 'S', 'S', 'S', 'N', 'C', 'S', 'S',\n",
       "       'C', 'S', 'S', 'N', 'S', 'S', 'S', 'C', 'C', 'S', 'N', 'S', 'C',\n",
       "       'S', 'S', 'C', 'S', 'N', 'S', 'S', 'C', 'S', 'S', 'C', 'N', 'S',\n",
       "       'S', 'S', 'C', 'C', 'S', 'N', 'S', 'C', 'C', 'S', 'S', 'S', 'N',\n",
       "       'C', 'S', 'S', 'S', 'S', 'C', 'N', 'S', 'S', 'C', 'S', 'S', 'C',\n",
       "       'N', 'C', 'S', 'S', 'S', 'S', 'C', 'N', 'C', 'S', 'S', 'C', 'S',\n",
       "       'S', 'N', 'S', 'C', 'C', 'S', 'S', 'S', 'N', 'C', 'S', 'S', 'S',\n",
       "       'S', 'C', 'N', 'S', 'S', 'C', 'S', 'S', 'C', 'N', 'C', 'S', 'S',\n",
       "       'C', 'S', 'S', 'N', 'S', 'S', 'C', 'S', 'S', 'C', 'N', 'S', 'C',\n",
       "       'C', 'S', 'S', 'S', 'N', 'C', 'S', 'S', 'S', 'S', 'C', 'N', 'S',\n",
       "       'C', 'S', 'S', 'C', 'S', 'N', 'S', 'C', 'S', 'S', 'C', 'S', 'N',\n",
       "       'S', 'C', 'S', 'S', 'C', 'S', 'N', 'S', 'S', 'C', 'S', 'C', 'N',\n",
       "       'S', 'S', 'C', 'S', 'S', 'C', 'N', 'C', 'S', 'S', 'S', 'S', 'C',\n",
       "       'N', 'C', 'S', 'S', 'C', 'S', 'S', 'S', 'S', 'S', 'C', 'C', 'S',\n",
       "       'S', 'C', 'S', 'S', 'C', 'S'], dtype='<U1')"
      ]
     },
     "execution_count": 9,
     "metadata": {},
     "output_type": "execute_result"
    }
   ],
   "source": [
    "all_tms_type"
   ]
  },
  {
   "cell_type": "markdown",
   "id": "c7bee715-ff14-433f-872f-362ca0700796",
   "metadata": {},
   "source": [
    "### a series of tests "
   ]
  },
  {
   "cell_type": "code",
   "execution_count": 10,
   "id": "00567966-a6f8-424b-b27c-a94ac2c28b75",
   "metadata": {},
   "outputs": [
    {
     "name": "stdout",
     "output_type": "stream",
     "text": [
      "Per-feature Brown–Forsythe tests (FDR q<0.05): 0/102 features differ in variance.\n",
      "Median within-group variance across features:\n",
      "var_C    0.984003\n",
      "var_N    1.002947\n",
      "var_S    1.012124\n"
     ]
    }
   ],
   "source": [
    "import numpy as np, pandas as pd\n",
    "from scipy.stats import levene\n",
    "from statsmodels.stats.multitest import multipletests\n",
    "\n",
    "X = X_tensor.detach().cpu().numpy()          # or use X_scaled if you prefer\n",
    "labels = np.asarray(all_tms_type)\n",
    "conds = np.array(sorted(np.unique(labels)))   # e.g., ['C','N','S']\n",
    "\n",
    "# group indices once\n",
    "idx = {g: np.where(labels==g)[0] for g in conds}\n",
    "\n",
    "rows = []\n",
    "for j in range(X.shape[1]):\n",
    "    samples = [X[idx[g], j] for g in conds]\n",
    "    stat, p = levene(*samples, center='median')    # Brown–Forsythe\n",
    "    vars_ = [np.var(s, ddof=1) for s in samples]\n",
    "    rows.append({\n",
    "        \"feature\": j,\n",
    "        **{f\"var_{g}\": v for g, v in zip(conds, vars_)},\n",
    "        \"max_var_group\": conds[int(np.argmax(vars_))],\n",
    "        \"var_ratio_max_min\": (np.max(vars_) / np.min(vars_)) if np.min(vars_)>0 else np.inf,\n",
    "        \"BF_F\": stat,\n",
    "        \"pval\": p,\n",
    "    })\n",
    "\n",
    "res = pd.DataFrame(rows)\n",
    "res[\"qval\"] = multipletests(res[\"pval\"], method=\"fdr_bh\")[1]\n",
    "res[\"reject_equal_var_q<0.05\"] = res[\"qval\"] < 0.05\n",
    "\n",
    "# ---- quick summary ----\n",
    "n_sig = int(res[\"reject_equal_var_q<0.05\"].sum())\n",
    "print(f\"Per-feature Brown–Forsythe tests (FDR q<0.05): {n_sig}/{X.shape[1]} features differ in variance.\")\n",
    "print(\"Median within-group variance across features:\")\n",
    "print(res[[f\"var_{g}\" for g in conds]].median().to_string())\n",
    "\n",
    "# (optional) see which group most often has the largest variance among sig features\n",
    "if n_sig > 0:\n",
    "    print(\"\\nMax-variance group counts among significant features:\")\n",
    "    print(res.loc[res[\"reject_equal_var_q<0.05\"], \"max_var_group\"].value_counts().to_string())\n",
    "\n",
    "# keep the full table if you want to save it\n",
    "# res.to_csv(\"per_feature_variance_tests.csv\", index=False)\n"
   ]
  },
  {
   "cell_type": "code",
   "execution_count": 11,
   "id": "ee8b3dc7-0ded-4844-9ca5-a08db0943d64",
   "metadata": {},
   "outputs": [
    {
     "name": "stdout",
     "output_type": "stream",
     "text": [
      "Per-feature Welch ANOVA (FDR q<0.05): 0/102 features differ in magnitude across conditions.\n",
      "Median group means across all features:\n",
      "mean_C   -0.006817\n",
      "mean_N    0.006035\n",
      "mean_S   -0.002237\n"
     ]
    }
   ],
   "source": [
    "from statsmodels.stats.multitest import multipletests\n",
    "from statsmodels.stats.oneway import anova_oneway    # Welch ANOVA\n",
    "from scipy.stats import kruskal                      # nonparametric alternative\n",
    "\n",
    "# ====== CONFIG ======\n",
    "TEST = \"welch\"           # \"welch\" for Welch ANOVA (means), \"kruskal\" for Kruskal–Wallis (medians)\n",
    "Q_CUTOFF = 0.05\n",
    "\n",
    "# ====== DATA PREP (same as before) ======\n",
    "X = X_tensor.detach().cpu().numpy()                 # samples × features\n",
    "labels = np.asarray(all_tms_type)                   # condition label per sample\n",
    "conds = np.array(sorted(np.unique(labels)))         # e.g., ['C','N','S']\n",
    "\n",
    "# group indices once\n",
    "idx = {g: np.where(labels == g)[0] for g in conds}\n",
    "\n",
    "rows = []\n",
    "for j in range(X.shape[1]):                         # loop over features (columns)\n",
    "    groups = [X[idx[g], j] for g in conds]\n",
    "\n",
    "    # --- location/magnitude test across conditions ---\n",
    "    if TEST == \"welch\":\n",
    "        # Welch one-way ANOVA on means (variance-robust)\n",
    "        # returns: stat, pvalue, dof (between, within)\n",
    "        res_test = anova_oneway(groups, use_var=\"unequal\", welch_correction=True)\n",
    "        stat = res_test.statistic\n",
    "        p = res_test.pvalue\n",
    "        test_name = \"Welch_ANOVA_F\"\n",
    "    elif TEST == \"kruskal\":\n",
    "        # rank-based test on medians/location (nonparametric)\n",
    "        res_test = kruskal(*groups)\n",
    "        stat = res_test.statistic\n",
    "        p = res_test.pvalue\n",
    "        test_name = \"Kruskal_H\"\n",
    "    else:\n",
    "        raise ValueError(\"TEST must be 'welch' or 'kruskal'.\")\n",
    "\n",
    "    means = [np.mean(g) for g in groups]\n",
    "    medians = [np.median(g) for g in groups]\n",
    "\n",
    "    # simple effect-size proxies\n",
    "    max_mean_group = conds[int(np.argmax(means))]\n",
    "    mean_range = float(np.max(means) - np.min(means))\n",
    "    mean_ratio = float(np.max(np.abs(means)) / (np.min(np.abs(means)) + 1e-12))  # guard zero\n",
    "\n",
    "    rows.append({\n",
    "        \"feature\": j,\n",
    "        **{f\"mean_{g}\": m for g, m in zip(conds, means)},\n",
    "        **{f\"median_{g}\": m for g, m in zip(conds, medians)},\n",
    "        \"max_mean_group\": max_mean_group,\n",
    "        \"mean_range\": mean_range,\n",
    "        \"mean_abs_ratio\": mean_ratio,\n",
    "        test_name: stat,\n",
    "        \"pval\": p,\n",
    "    })\n",
    "\n",
    "res = pd.DataFrame(rows)\n",
    "\n",
    "# multiple-testing correction (FDR BH)\n",
    "res[\"qval\"] = multipletests(res[\"pval\"], method=\"fdr_bh\")[1]\n",
    "res[\"reject_equal_location_q<0.05\"] = res[\"qval\"] < Q_CUTOFF\n",
    "\n",
    "# ---- quick summary ----\n",
    "n_sig = int(res[\"reject_equal_location_q<0.05\"].sum())\n",
    "print(f\"Per-feature {('Welch ANOVA' if TEST=='welch' else 'Kruskal–Wallis')} (FDR q<{Q_CUTOFF}): \"\n",
    "      f\"{n_sig}/{X.shape[1]} features differ in magnitude across conditions.\")\n",
    "print(\"Median group means across all features:\")\n",
    "print(res[[f'mean_{g}' for g in conds]].median().to_string())\n"
   ]
  },
  {
   "cell_type": "code",
   "execution_count": 12,
   "id": "cc89cecf-92a5-4337-aac9-ca7712399883",
   "metadata": {},
   "outputs": [
    {
     "name": "stdout",
     "output_type": "stream",
     "text": [
      "\n",
      "===== Pooled magnitude across features =====\n",
      "Metric: mean | Test: Welch ANOVA\n",
      "cond   n  pooled_mean  pooled_median\n",
      "   C  95    -0.007503      -0.059940\n",
      "   N  46     0.009452      -0.078802\n",
      "   S 190     0.001463      -0.014476\n",
      "\n",
      "Welch_ANOVA_F = 0.01889, p = 0.981, eta_sq = 0.000\n",
      "Highest pooled mean: N\n"
     ]
    }
   ],
   "source": [
    "from statsmodels.stats.oneway import anova_oneway\n",
    "from scipy.stats import kruskal\n",
    "\n",
    "# ====== CONFIG for pooled analysis ======\n",
    "POOL_METRIC = \"mean\"   # \"mean\", \"median\", or \"l2\"\n",
    "Q_CUTOFF = 0.05        # keep same as above\n",
    "\n",
    "def pooled_magnitude(mat, how=\"mean\"):\n",
    "    # mat: (n_samples, n_features)\n",
    "    if how == \"mean\":\n",
    "        return mat.mean(axis=1)\n",
    "    elif how == \"median\":\n",
    "        return np.median(mat, axis=1)\n",
    "    elif how == \"l2\":\n",
    "        # scale by sqrt(p) so it's comparable across p\n",
    "        return np.linalg.norm(mat, axis=1) / np.sqrt(mat.shape[1])\n",
    "    else:\n",
    "        raise ValueError(\"POOL_METRIC must be 'mean', 'median', or 'l2'.\")\n",
    "\n",
    "# 1) Build one pooled-magnitude value per sample\n",
    "pooled = pooled_magnitude(X, how=POOL_METRIC)\n",
    "\n",
    "# 2) Split by condition\n",
    "group_vals = [pooled[idx[g]] for g in conds]\n",
    "\n",
    "# 3) Run the location test across conditions\n",
    "if TEST == \"welch\":\n",
    "    # Welch one-way ANOVA (means)\n",
    "    _res = anova_oneway(group_vals, use_var=\"unequal\", welch_correction=True)\n",
    "    pooled_stat = float(_res.statistic)\n",
    "    pooled_pval = float(_res.pvalue)\n",
    "    pooled_test_name = \"Welch_ANOVA_F\"\n",
    "    # Effect size: eta-squared (Welch version uses F, approximate with classical df)\n",
    "    # If statsmodels returned dof (tuple), use it; else approximate\n",
    "    try:\n",
    "        df_between, df_within = _res.df\n",
    "        eta_sq = (pooled_stat * df_between) / (pooled_stat * df_between + df_within)\n",
    "    except Exception:\n",
    "        eta_sq = np.nan\n",
    "    effect_label = \"eta_sq\"\n",
    "else:\n",
    "    # Kruskal–Wallis (rank-based, location)\n",
    "    _res = kruskal(*group_vals)\n",
    "    pooled_stat = float(_res.statistic)\n",
    "    pooled_pval = float(_res.pvalue)\n",
    "    pooled_test_name = \"Kruskal_H\"\n",
    "    # Effect size: epsilon-squared (Kruskal)\n",
    "    N = sum(len(g) for g in group_vals)\n",
    "    k = len(group_vals)\n",
    "    eta_sq = (pooled_stat - (k - 1)) / (N - 1)\n",
    "    effect_label = \"epsilon_sq\"\n",
    "\n",
    "# 4) Summarize per-condition pooled magnitudes\n",
    "pooled_means   = [np.mean(v)   for v in group_vals]\n",
    "pooled_medians = [np.median(v) for v in group_vals]\n",
    "max_grp = conds[int(np.argmax(pooled_means))]\n",
    "\n",
    "pooled_summary = pd.DataFrame({\n",
    "    \"cond\": conds,\n",
    "    \"n\": [len(v) for v in group_vals],\n",
    "    \"pooled_mean\": pooled_means,\n",
    "    \"pooled_median\": pooled_medians,\n",
    "})\n",
    "\n",
    "print(\"\\n===== Pooled magnitude across features =====\")\n",
    "print(f\"Metric: {POOL_METRIC} | Test: {('Welch ANOVA' if TEST=='welch' else 'Kruskal–Wallis')}\")\n",
    "print(pooled_summary.to_string(index=False))\n",
    "print(f\"\\n{pooled_test_name} = {pooled_stat:.4g}, p = {pooled_pval:.3g}, {effect_label} = {eta_sq:.3f}\")\n",
    "print(f\"Highest pooled mean: {max_grp}\")\n"
   ]
  },
  {
   "cell_type": "code",
   "execution_count": 11,
   "id": "b79428c6-d795-4110-86ca-111871c5f8f2",
   "metadata": {},
   "outputs": [
    {
     "name": "stdout",
     "output_type": "stream",
     "text": [
      "\n",
      "===== Epoch 1 =====\n"
     ]
    },
    {
     "name": "stderr",
     "output_type": "stream",
     "text": [
      "Epoch 1/500: 100%|███████████████████████████████████████| 11/11 [00:00<00:00, 155.12it/s]\n"
     ]
    },
    {
     "name": "stdout",
     "output_type": "stream",
     "text": [
      "Epoch 1, Loss: 103.8677, Recon: 103.4738, KL: 0.3939\n",
      "\n",
      "===== Epoch 2 =====\n"
     ]
    },
    {
     "name": "stderr",
     "output_type": "stream",
     "text": [
      "Epoch 2/500: 100%|███████████████████████████████████████| 11/11 [00:00<00:00, 705.53it/s]\n"
     ]
    },
    {
     "name": "stdout",
     "output_type": "stream",
     "text": [
      "Epoch 2, Loss: 103.3690, Recon: 103.0465, KL: 0.3225\n",
      "\n",
      "===== Epoch 3 =====\n"
     ]
    },
    {
     "name": "stderr",
     "output_type": "stream",
     "text": [
      "Epoch 3/500: 100%|██████████████████████████████████████| 11/11 [00:00<00:00, 1208.16it/s]\n"
     ]
    },
    {
     "name": "stdout",
     "output_type": "stream",
     "text": [
      "Epoch 3, Loss: 102.7823, Recon: 102.4727, KL: 0.3096\n",
      "\n",
      "===== Epoch 4 =====\n"
     ]
    },
    {
     "name": "stderr",
     "output_type": "stream",
     "text": [
      "Epoch 4/500: 100%|██████████████████████████████████████| 11/11 [00:00<00:00, 1059.12it/s]\n"
     ]
    },
    {
     "name": "stdout",
     "output_type": "stream",
     "text": [
      "Epoch 4, Loss: 102.4109, Recon: 102.0747, KL: 0.3362\n",
      "\n",
      "===== Epoch 5 =====\n"
     ]
    },
    {
     "name": "stderr",
     "output_type": "stream",
     "text": [
      "Epoch 5/500: 100%|███████████████████████████████████████| 11/11 [00:00<00:00, 979.69it/s]\n"
     ]
    },
    {
     "name": "stdout",
     "output_type": "stream",
     "text": [
      "Epoch 5, Loss: 102.1014, Recon: 101.6864, KL: 0.4149\n",
      "\n",
      "===== Epoch 6 =====\n"
     ]
    },
    {
     "name": "stderr",
     "output_type": "stream",
     "text": [
      "Epoch 6/500: 100%|██████████████████████████████████████| 11/11 [00:00<00:00, 1213.85it/s]\n"
     ]
    },
    {
     "name": "stdout",
     "output_type": "stream",
     "text": [
      "Epoch 6, Loss: 101.5613, Recon: 100.9888, KL: 0.5725\n",
      "\n",
      "===== Epoch 7 =====\n"
     ]
    },
    {
     "name": "stderr",
     "output_type": "stream",
     "text": [
      "Epoch 7/500: 100%|██████████████████████████████████████| 11/11 [00:00<00:00, 1125.22it/s]\n"
     ]
    },
    {
     "name": "stdout",
     "output_type": "stream",
     "text": [
      "Epoch 7, Loss: 100.8786, Recon: 100.0350, KL: 0.8436\n",
      "\n",
      "===== Epoch 8 =====\n"
     ]
    },
    {
     "name": "stderr",
     "output_type": "stream",
     "text": [
      "Epoch 8/500: 100%|██████████████████████████████████████| 11/11 [00:00<00:00, 1196.82it/s]\n"
     ]
    },
    {
     "name": "stdout",
     "output_type": "stream",
     "text": [
      "Epoch 8, Loss: 99.2324, Recon: 97.9420, KL: 1.2904\n",
      "\n",
      "===== Epoch 9 =====\n"
     ]
    },
    {
     "name": "stderr",
     "output_type": "stream",
     "text": [
      "Epoch 9/500: 100%|██████████████████████████████████████| 11/11 [00:00<00:00, 1226.05it/s]\n"
     ]
    },
    {
     "name": "stdout",
     "output_type": "stream",
     "text": [
      "Epoch 9, Loss: 97.7823, Recon: 95.8148, KL: 1.9675\n",
      "\n",
      "===== Epoch 10 =====\n"
     ]
    },
    {
     "name": "stderr",
     "output_type": "stream",
     "text": [
      "Epoch 10/500: 100%|█████████████████████████████████████| 11/11 [00:00<00:00, 1123.49it/s]\n"
     ]
    },
    {
     "name": "stdout",
     "output_type": "stream",
     "text": [
      "Epoch 10, Loss: 94.7457, Recon: 91.7282, KL: 3.0174\n",
      "\n",
      "===== Epoch 11 =====\n"
     ]
    },
    {
     "name": "stderr",
     "output_type": "stream",
     "text": [
      "Epoch 11/500: 100%|█████████████████████████████████████| 11/11 [00:00<00:00, 1017.77it/s]\n"
     ]
    },
    {
     "name": "stdout",
     "output_type": "stream",
     "text": [
      "Epoch 11, Loss: 91.8647, Recon: 87.4238, KL: 4.4409\n",
      "\n",
      "===== Epoch 12 =====\n"
     ]
    },
    {
     "name": "stderr",
     "output_type": "stream",
     "text": [
      "Epoch 12/500: 100%|█████████████████████████████████████| 11/11 [00:00<00:00, 1010.83it/s]\n"
     ]
    },
    {
     "name": "stdout",
     "output_type": "stream",
     "text": [
      "Epoch 12, Loss: 87.8345, Recon: 81.8334, KL: 6.0012\n",
      "\n",
      "===== Epoch 13 =====\n"
     ]
    },
    {
     "name": "stderr",
     "output_type": "stream",
     "text": [
      "Epoch 13/500: 100%|█████████████████████████████████████| 11/11 [00:00<00:00, 1056.79it/s]\n"
     ]
    },
    {
     "name": "stdout",
     "output_type": "stream",
     "text": [
      "Epoch 13, Loss: 84.9973, Recon: 78.1551, KL: 6.8423\n",
      "\n",
      "===== Epoch 14 =====\n"
     ]
    },
    {
     "name": "stderr",
     "output_type": "stream",
     "text": [
      "Epoch 14/500: 100%|█████████████████████████████████████| 11/11 [00:00<00:00, 1039.50it/s]\n"
     ]
    },
    {
     "name": "stdout",
     "output_type": "stream",
     "text": [
      "Epoch 14, Loss: 81.8157, Recon: 74.7337, KL: 7.0820\n",
      "\n",
      "===== Epoch 15 =====\n"
     ]
    },
    {
     "name": "stderr",
     "output_type": "stream",
     "text": [
      "Epoch 15/500: 100%|█████████████████████████████████████| 11/11 [00:00<00:00, 1109.98it/s]\n"
     ]
    },
    {
     "name": "stdout",
     "output_type": "stream",
     "text": [
      "Epoch 15, Loss: 79.2412, Recon: 71.7049, KL: 7.5364\n",
      "\n",
      "===== Epoch 16 =====\n"
     ]
    },
    {
     "name": "stderr",
     "output_type": "stream",
     "text": [
      "Epoch 16/500: 100%|█████████████████████████████████████| 11/11 [00:00<00:00, 1136.22it/s]\n"
     ]
    },
    {
     "name": "stdout",
     "output_type": "stream",
     "text": [
      "Epoch 16, Loss: 76.3756, Recon: 68.3427, KL: 8.0330\n",
      "\n",
      "===== Epoch 17 =====\n"
     ]
    },
    {
     "name": "stderr",
     "output_type": "stream",
     "text": [
      "Epoch 17/500: 100%|█████████████████████████████████████| 11/11 [00:00<00:00, 1076.84it/s]\n"
     ]
    },
    {
     "name": "stdout",
     "output_type": "stream",
     "text": [
      "Epoch 17, Loss: 74.1069, Recon: 65.9818, KL: 8.1251\n",
      "\n",
      "===== Epoch 18 =====\n"
     ]
    },
    {
     "name": "stderr",
     "output_type": "stream",
     "text": [
      "Epoch 18/500: 100%|█████████████████████████████████████| 11/11 [00:00<00:00, 1188.52it/s]\n"
     ]
    },
    {
     "name": "stdout",
     "output_type": "stream",
     "text": [
      "Epoch 18, Loss: 72.2311, Recon: 64.1892, KL: 8.0419\n",
      "\n",
      "===== Epoch 19 =====\n"
     ]
    },
    {
     "name": "stderr",
     "output_type": "stream",
     "text": [
      "Epoch 19/500: 100%|█████████████████████████████████████| 11/11 [00:00<00:00, 1105.30it/s]\n"
     ]
    },
    {
     "name": "stdout",
     "output_type": "stream",
     "text": [
      "Epoch 19, Loss: 71.0958, Recon: 63.0579, KL: 8.0379\n",
      "\n",
      "===== Epoch 20 =====\n"
     ]
    },
    {
     "name": "stderr",
     "output_type": "stream",
     "text": [
      "Epoch 20/500: 100%|█████████████████████████████████████| 11/11 [00:00<00:00, 1223.15it/s]\n"
     ]
    },
    {
     "name": "stdout",
     "output_type": "stream",
     "text": [
      "Epoch 20, Loss: 69.3234, Recon: 61.2383, KL: 8.0852\n",
      "\n",
      "===== Epoch 21 =====\n"
     ]
    },
    {
     "name": "stderr",
     "output_type": "stream",
     "text": [
      "Epoch 21/500: 100%|█████████████████████████████████████| 11/11 [00:00<00:00, 1227.81it/s]\n"
     ]
    },
    {
     "name": "stdout",
     "output_type": "stream",
     "text": [
      "Epoch 21, Loss: 68.2077, Recon: 60.3796, KL: 7.8281\n",
      "\n",
      "===== Epoch 22 =====\n"
     ]
    },
    {
     "name": "stderr",
     "output_type": "stream",
     "text": [
      "Epoch 22/500: 100%|█████████████████████████████████████| 11/11 [00:00<00:00, 1163.18it/s]\n"
     ]
    },
    {
     "name": "stdout",
     "output_type": "stream",
     "text": [
      "Epoch 22, Loss: 67.3829, Recon: 59.6722, KL: 7.7107\n",
      "\n",
      "===== Epoch 23 =====\n"
     ]
    },
    {
     "name": "stderr",
     "output_type": "stream",
     "text": [
      "Epoch 23/500: 100%|█████████████████████████████████████| 11/11 [00:00<00:00, 1165.26it/s]\n"
     ]
    },
    {
     "name": "stdout",
     "output_type": "stream",
     "text": [
      "Epoch 23, Loss: 66.6728, Recon: 59.0485, KL: 7.6243\n",
      "\n",
      "===== Epoch 24 =====\n"
     ]
    },
    {
     "name": "stderr",
     "output_type": "stream",
     "text": [
      "Epoch 24/500: 100%|█████████████████████████████████████| 11/11 [00:00<00:00, 1127.03it/s]\n"
     ]
    },
    {
     "name": "stdout",
     "output_type": "stream",
     "text": [
      "Epoch 24, Loss: 65.4405, Recon: 57.5960, KL: 7.8445\n",
      "\n",
      "===== Epoch 25 =====\n"
     ]
    },
    {
     "name": "stderr",
     "output_type": "stream",
     "text": [
      "Epoch 25/500: 100%|█████████████████████████████████████| 11/11 [00:00<00:00, 1121.74it/s]\n"
     ]
    },
    {
     "name": "stdout",
     "output_type": "stream",
     "text": [
      "Epoch 25, Loss: 64.6650, Recon: 56.9142, KL: 7.7508\n",
      "\n",
      "===== Epoch 26 =====\n"
     ]
    },
    {
     "name": "stderr",
     "output_type": "stream",
     "text": [
      "Epoch 26/500: 100%|█████████████████████████████████████| 11/11 [00:00<00:00, 1129.96it/s]\n"
     ]
    },
    {
     "name": "stdout",
     "output_type": "stream",
     "text": [
      "Epoch 26, Loss: 63.7591, Recon: 56.1189, KL: 7.6401\n",
      "\n",
      "===== Epoch 27 =====\n"
     ]
    },
    {
     "name": "stderr",
     "output_type": "stream",
     "text": [
      "Epoch 27/500: 100%|██████████████████████████████████████| 11/11 [00:00<00:00, 925.23it/s]\n"
     ]
    },
    {
     "name": "stdout",
     "output_type": "stream",
     "text": [
      "Epoch 27, Loss: 63.2092, Recon: 55.4572, KL: 7.7520\n",
      "\n",
      "===== Epoch 28 =====\n"
     ]
    },
    {
     "name": "stderr",
     "output_type": "stream",
     "text": [
      "Epoch 28/500: 100%|██████████████████████████████████████| 11/11 [00:00<00:00, 988.95it/s]\n"
     ]
    },
    {
     "name": "stdout",
     "output_type": "stream",
     "text": [
      "Epoch 28, Loss: 62.5821, Recon: 54.4651, KL: 8.1170\n",
      "\n",
      "===== Epoch 29 =====\n"
     ]
    },
    {
     "name": "stderr",
     "output_type": "stream",
     "text": [
      "Epoch 29/500: 100%|█████████████████████████████████████| 11/11 [00:00<00:00, 1227.15it/s]\n"
     ]
    },
    {
     "name": "stdout",
     "output_type": "stream",
     "text": [
      "Epoch 29, Loss: 62.0967, Recon: 53.7142, KL: 8.3825\n",
      "\n",
      "===== Epoch 30 =====\n"
     ]
    },
    {
     "name": "stderr",
     "output_type": "stream",
     "text": [
      "Epoch 30/500: 100%|█████████████████████████████████████| 11/11 [00:00<00:00, 1040.49it/s]\n"
     ]
    },
    {
     "name": "stdout",
     "output_type": "stream",
     "text": [
      "Epoch 30, Loss: 60.9355, Recon: 52.4506, KL: 8.4850\n",
      "\n",
      "===== Epoch 31 =====\n"
     ]
    },
    {
     "name": "stderr",
     "output_type": "stream",
     "text": [
      "Epoch 31/500: 100%|█████████████████████████████████████| 11/11 [00:00<00:00, 1005.48it/s]\n"
     ]
    },
    {
     "name": "stdout",
     "output_type": "stream",
     "text": [
      "Epoch 31, Loss: 59.9047, Recon: 51.4226, KL: 8.4821\n",
      "\n",
      "===== Epoch 32 =====\n"
     ]
    },
    {
     "name": "stderr",
     "output_type": "stream",
     "text": [
      "Epoch 32/500: 100%|█████████████████████████████████████| 11/11 [00:00<00:00, 1202.75it/s]\n"
     ]
    },
    {
     "name": "stdout",
     "output_type": "stream",
     "text": [
      "Epoch 32, Loss: 59.6114, Recon: 51.1611, KL: 8.4503\n",
      "\n",
      "===== Epoch 33 =====\n"
     ]
    },
    {
     "name": "stderr",
     "output_type": "stream",
     "text": [
      "Epoch 33/500: 100%|█████████████████████████████████████| 11/11 [00:00<00:00, 1208.64it/s]\n"
     ]
    },
    {
     "name": "stdout",
     "output_type": "stream",
     "text": [
      "Epoch 33, Loss: 58.9851, Recon: 50.3599, KL: 8.6252\n",
      "\n",
      "===== Epoch 34 =====\n"
     ]
    },
    {
     "name": "stderr",
     "output_type": "stream",
     "text": [
      "Epoch 34/500: 100%|█████████████████████████████████████| 11/11 [00:00<00:00, 1133.32it/s]\n"
     ]
    },
    {
     "name": "stdout",
     "output_type": "stream",
     "text": [
      "Epoch 34, Loss: 58.3455, Recon: 49.7335, KL: 8.6120\n",
      "\n",
      "===== Epoch 35 =====\n"
     ]
    },
    {
     "name": "stderr",
     "output_type": "stream",
     "text": [
      "Epoch 35/500: 100%|█████████████████████████████████████| 11/11 [00:00<00:00, 1179.74it/s]\n"
     ]
    },
    {
     "name": "stdout",
     "output_type": "stream",
     "text": [
      "Epoch 35, Loss: 58.0964, Recon: 49.5922, KL: 8.5042\n",
      "\n",
      "===== Epoch 36 =====\n"
     ]
    },
    {
     "name": "stderr",
     "output_type": "stream",
     "text": [
      "Epoch 36/500: 100%|█████████████████████████████████████| 11/11 [00:00<00:00, 1224.13it/s]\n"
     ]
    },
    {
     "name": "stdout",
     "output_type": "stream",
     "text": [
      "Epoch 36, Loss: 57.2215, Recon: 48.5932, KL: 8.6283\n",
      "\n",
      "===== Epoch 37 =====\n"
     ]
    },
    {
     "name": "stderr",
     "output_type": "stream",
     "text": [
      "Epoch 37/500: 100%|█████████████████████████████████████| 11/11 [00:00<00:00, 1132.98it/s]\n"
     ]
    },
    {
     "name": "stdout",
     "output_type": "stream",
     "text": [
      "Epoch 37, Loss: 57.0372, Recon: 48.5522, KL: 8.4851\n",
      "\n",
      "===== Epoch 38 =====\n"
     ]
    },
    {
     "name": "stderr",
     "output_type": "stream",
     "text": [
      "Epoch 38/500: 100%|█████████████████████████████████████| 11/11 [00:00<00:00, 1200.34it/s]\n"
     ]
    },
    {
     "name": "stdout",
     "output_type": "stream",
     "text": [
      "Epoch 38, Loss: 56.9015, Recon: 48.5750, KL: 8.3264\n",
      "\n",
      "===== Epoch 39 =====\n"
     ]
    },
    {
     "name": "stderr",
     "output_type": "stream",
     "text": [
      "Epoch 39/500: 100%|█████████████████████████████████████| 11/11 [00:00<00:00, 1053.12it/s]\n"
     ]
    },
    {
     "name": "stdout",
     "output_type": "stream",
     "text": [
      "Epoch 39, Loss: 56.5375, Recon: 48.1345, KL: 8.4030\n",
      "\n",
      "===== Epoch 40 =====\n"
     ]
    },
    {
     "name": "stderr",
     "output_type": "stream",
     "text": [
      "Epoch 40/500: 100%|██████████████████████████████████████| 11/11 [00:00<00:00, 433.69it/s]\n"
     ]
    },
    {
     "name": "stdout",
     "output_type": "stream",
     "text": [
      "Epoch 40, Loss: 56.0733, Recon: 47.6334, KL: 8.4399\n",
      "\n",
      "===== Epoch 41 =====\n"
     ]
    },
    {
     "name": "stderr",
     "output_type": "stream",
     "text": [
      "Epoch 41/500: 100%|██████████████████████████████████████| 11/11 [00:00<00:00, 851.90it/s]\n"
     ]
    },
    {
     "name": "stdout",
     "output_type": "stream",
     "text": [
      "Epoch 41, Loss: 55.6202, Recon: 47.0770, KL: 8.5432\n",
      "\n",
      "===== Epoch 42 =====\n"
     ]
    },
    {
     "name": "stderr",
     "output_type": "stream",
     "text": [
      "Epoch 42/500: 100%|█████████████████████████████████████| 11/11 [00:00<00:00, 1146.33it/s]\n"
     ]
    },
    {
     "name": "stdout",
     "output_type": "stream",
     "text": [
      "Epoch 42, Loss: 55.2251, Recon: 46.8711, KL: 8.3540\n",
      "\n",
      "===== Epoch 43 =====\n"
     ]
    },
    {
     "name": "stderr",
     "output_type": "stream",
     "text": [
      "Epoch 43/500: 100%|█████████████████████████████████████| 11/11 [00:00<00:00, 1164.91it/s]\n"
     ]
    },
    {
     "name": "stdout",
     "output_type": "stream",
     "text": [
      "Epoch 43, Loss: 55.1309, Recon: 46.9127, KL: 8.2181\n",
      "\n",
      "===== Epoch 44 =====\n"
     ]
    },
    {
     "name": "stderr",
     "output_type": "stream",
     "text": [
      "Epoch 44/500: 100%|█████████████████████████████████████| 11/11 [00:00<00:00, 1220.47it/s]\n"
     ]
    },
    {
     "name": "stdout",
     "output_type": "stream",
     "text": [
      "Epoch 44, Loss: 54.7422, Recon: 46.3658, KL: 8.3764\n",
      "\n",
      "===== Epoch 45 =====\n"
     ]
    },
    {
     "name": "stderr",
     "output_type": "stream",
     "text": [
      "Epoch 45/500: 100%|█████████████████████████████████████| 11/11 [00:00<00:00, 1206.68it/s]\n"
     ]
    },
    {
     "name": "stdout",
     "output_type": "stream",
     "text": [
      "Epoch 45, Loss: 54.4640, Recon: 46.1418, KL: 8.3222\n",
      "\n",
      "===== Epoch 46 =====\n"
     ]
    },
    {
     "name": "stderr",
     "output_type": "stream",
     "text": [
      "Epoch 46/500: 100%|█████████████████████████████████████| 11/11 [00:00<00:00, 1186.87it/s]\n"
     ]
    },
    {
     "name": "stdout",
     "output_type": "stream",
     "text": [
      "Epoch 46, Loss: 54.7469, Recon: 46.2173, KL: 8.5295\n",
      "\n",
      "===== Epoch 47 =====\n"
     ]
    },
    {
     "name": "stderr",
     "output_type": "stream",
     "text": [
      "Epoch 47/500: 100%|█████████████████████████████████████| 11/11 [00:00<00:00, 1209.72it/s]\n"
     ]
    },
    {
     "name": "stdout",
     "output_type": "stream",
     "text": [
      "Epoch 47, Loss: 53.8950, Recon: 45.3386, KL: 8.5564\n",
      "\n",
      "===== Epoch 48 =====\n"
     ]
    },
    {
     "name": "stderr",
     "output_type": "stream",
     "text": [
      "Epoch 48/500: 100%|█████████████████████████████████████| 11/11 [00:00<00:00, 1148.15it/s]\n"
     ]
    },
    {
     "name": "stdout",
     "output_type": "stream",
     "text": [
      "Epoch 48, Loss: 53.3444, Recon: 44.9260, KL: 8.4184\n",
      "\n",
      "===== Epoch 49 =====\n"
     ]
    },
    {
     "name": "stderr",
     "output_type": "stream",
     "text": [
      "Epoch 49/500: 100%|█████████████████████████████████████| 11/11 [00:00<00:00, 1227.55it/s]\n"
     ]
    },
    {
     "name": "stdout",
     "output_type": "stream",
     "text": [
      "Epoch 49, Loss: 53.1930, Recon: 44.7820, KL: 8.4111\n",
      "\n",
      "===== Epoch 50 =====\n"
     ]
    },
    {
     "name": "stderr",
     "output_type": "stream",
     "text": [
      "Epoch 50/500: 100%|█████████████████████████████████████| 11/11 [00:00<00:00, 1218.15it/s]\n"
     ]
    },
    {
     "name": "stdout",
     "output_type": "stream",
     "text": [
      "Epoch 50, Loss: 52.9780, Recon: 44.5867, KL: 8.3913\n",
      "\n",
      "===== Epoch 51 =====\n"
     ]
    },
    {
     "name": "stderr",
     "output_type": "stream",
     "text": [
      "Epoch 51/500: 100%|█████████████████████████████████████| 11/11 [00:00<00:00, 1176.97it/s]\n"
     ]
    },
    {
     "name": "stdout",
     "output_type": "stream",
     "text": [
      "Epoch 51, Loss: 52.4654, Recon: 44.0489, KL: 8.4165\n",
      "\n",
      "===== Epoch 52 =====\n"
     ]
    },
    {
     "name": "stderr",
     "output_type": "stream",
     "text": [
      "Epoch 52/500: 100%|█████████████████████████████████████| 11/11 [00:00<00:00, 1180.89it/s]\n"
     ]
    },
    {
     "name": "stdout",
     "output_type": "stream",
     "text": [
      "Epoch 52, Loss: 52.4658, Recon: 43.8281, KL: 8.6377\n",
      "\n",
      "===== Epoch 53 =====\n"
     ]
    },
    {
     "name": "stderr",
     "output_type": "stream",
     "text": [
      "Epoch 53/500: 100%|█████████████████████████████████████| 11/11 [00:00<00:00, 1041.05it/s]\n"
     ]
    },
    {
     "name": "stdout",
     "output_type": "stream",
     "text": [
      "Epoch 53, Loss: 52.1265, Recon: 43.3589, KL: 8.7676\n",
      "\n",
      "===== Epoch 54 =====\n"
     ]
    },
    {
     "name": "stderr",
     "output_type": "stream",
     "text": [
      "Epoch 54/500: 100%|█████████████████████████████████████| 11/11 [00:00<00:00, 1172.61it/s]\n"
     ]
    },
    {
     "name": "stdout",
     "output_type": "stream",
     "text": [
      "Epoch 54, Loss: 51.7208, Recon: 42.9350, KL: 8.7858\n",
      "\n",
      "===== Epoch 55 =====\n"
     ]
    },
    {
     "name": "stderr",
     "output_type": "stream",
     "text": [
      "Epoch 55/500: 100%|█████████████████████████████████████| 11/11 [00:00<00:00, 1239.85it/s]\n"
     ]
    },
    {
     "name": "stdout",
     "output_type": "stream",
     "text": [
      "Epoch 55, Loss: 51.3091, Recon: 42.5396, KL: 8.7694\n",
      "\n",
      "===== Epoch 56 =====\n"
     ]
    },
    {
     "name": "stderr",
     "output_type": "stream",
     "text": [
      "Epoch 56/500: 100%|██████████████████████████████████████| 11/11 [00:00<00:00, 998.90it/s]\n"
     ]
    },
    {
     "name": "stdout",
     "output_type": "stream",
     "text": [
      "Epoch 56, Loss: 51.6267, Recon: 42.8315, KL: 8.7952\n",
      "\n",
      "===== Epoch 57 =====\n"
     ]
    },
    {
     "name": "stderr",
     "output_type": "stream",
     "text": [
      "Epoch 57/500: 100%|█████████████████████████████████████| 11/11 [00:00<00:00, 1175.95it/s]\n"
     ]
    },
    {
     "name": "stdout",
     "output_type": "stream",
     "text": [
      "Epoch 57, Loss: 51.1511, Recon: 42.3404, KL: 8.8106\n",
      "\n",
      "===== Epoch 58 =====\n"
     ]
    },
    {
     "name": "stderr",
     "output_type": "stream",
     "text": [
      "Epoch 58/500: 100%|█████████████████████████████████████| 11/11 [00:00<00:00, 1253.15it/s]\n"
     ]
    },
    {
     "name": "stdout",
     "output_type": "stream",
     "text": [
      "Epoch 58, Loss: 50.4640, Recon: 41.6312, KL: 8.8328\n",
      "\n",
      "===== Epoch 59 =====\n"
     ]
    },
    {
     "name": "stderr",
     "output_type": "stream",
     "text": [
      "Epoch 59/500: 100%|█████████████████████████████████████| 11/11 [00:00<00:00, 1206.39it/s]\n"
     ]
    },
    {
     "name": "stdout",
     "output_type": "stream",
     "text": [
      "Epoch 59, Loss: 50.5529, Recon: 41.6787, KL: 8.8742\n",
      "\n",
      "===== Epoch 60 =====\n"
     ]
    },
    {
     "name": "stderr",
     "output_type": "stream",
     "text": [
      "Epoch 60/500: 100%|█████████████████████████████████████| 11/11 [00:00<00:00, 1212.64it/s]\n"
     ]
    },
    {
     "name": "stdout",
     "output_type": "stream",
     "text": [
      "Epoch 60, Loss: 50.2038, Recon: 41.2984, KL: 8.9054\n",
      "\n",
      "===== Epoch 61 =====\n"
     ]
    },
    {
     "name": "stderr",
     "output_type": "stream",
     "text": [
      "Epoch 61/500: 100%|█████████████████████████████████████| 11/11 [00:00<00:00, 1118.21it/s]\n"
     ]
    },
    {
     "name": "stdout",
     "output_type": "stream",
     "text": [
      "Epoch 61, Loss: 50.1468, Recon: 41.2785, KL: 8.8683\n",
      "\n",
      "===== Epoch 62 =====\n"
     ]
    },
    {
     "name": "stderr",
     "output_type": "stream",
     "text": [
      "Epoch 62/500: 100%|█████████████████████████████████████| 11/11 [00:00<00:00, 1217.12it/s]\n"
     ]
    },
    {
     "name": "stdout",
     "output_type": "stream",
     "text": [
      "Epoch 62, Loss: 50.0364, Recon: 41.1689, KL: 8.8675\n",
      "\n",
      "===== Epoch 63 =====\n"
     ]
    },
    {
     "name": "stderr",
     "output_type": "stream",
     "text": [
      "Epoch 63/500: 100%|█████████████████████████████████████| 11/11 [00:00<00:00, 1205.48it/s]\n"
     ]
    },
    {
     "name": "stdout",
     "output_type": "stream",
     "text": [
      "Epoch 63, Loss: 49.9153, Recon: 41.0908, KL: 8.8245\n",
      "\n",
      "===== Epoch 64 =====\n"
     ]
    },
    {
     "name": "stderr",
     "output_type": "stream",
     "text": [
      "Epoch 64/500: 100%|██████████████████████████████████████| 11/11 [00:00<00:00, 966.98it/s]\n"
     ]
    },
    {
     "name": "stdout",
     "output_type": "stream",
     "text": [
      "Epoch 64, Loss: 49.5257, Recon: 40.6572, KL: 8.8685\n",
      "\n",
      "===== Epoch 65 =====\n"
     ]
    },
    {
     "name": "stderr",
     "output_type": "stream",
     "text": [
      "Epoch 65/500: 100%|██████████████████████████████████████| 11/11 [00:00<00:00, 455.62it/s]\n"
     ]
    },
    {
     "name": "stdout",
     "output_type": "stream",
     "text": [
      "Epoch 65, Loss: 49.4433, Recon: 40.5518, KL: 8.8915\n",
      "\n",
      "===== Epoch 66 =====\n"
     ]
    },
    {
     "name": "stderr",
     "output_type": "stream",
     "text": [
      "Epoch 66/500: 100%|██████████████████████████████████████| 11/11 [00:00<00:00, 915.90it/s]\n"
     ]
    },
    {
     "name": "stdout",
     "output_type": "stream",
     "text": [
      "Epoch 66, Loss: 49.1935, Recon: 40.2515, KL: 8.9420\n",
      "\n",
      "===== Epoch 67 =====\n"
     ]
    },
    {
     "name": "stderr",
     "output_type": "stream",
     "text": [
      "Epoch 67/500: 100%|██████████████████████████████████████| 11/11 [00:00<00:00, 935.47it/s]\n"
     ]
    },
    {
     "name": "stdout",
     "output_type": "stream",
     "text": [
      "Epoch 67, Loss: 49.2115, Recon: 40.1859, KL: 9.0256\n",
      "\n",
      "===== Epoch 68 =====\n"
     ]
    },
    {
     "name": "stderr",
     "output_type": "stream",
     "text": [
      "Epoch 68/500: 100%|██████████████████████████████████████| 11/11 [00:00<00:00, 954.30it/s]\n"
     ]
    },
    {
     "name": "stdout",
     "output_type": "stream",
     "text": [
      "Epoch 68, Loss: 49.2836, Recon: 40.3133, KL: 8.9703\n",
      "\n",
      "===== Epoch 69 =====\n"
     ]
    },
    {
     "name": "stderr",
     "output_type": "stream",
     "text": [
      "Epoch 69/500: 100%|█████████████████████████████████████| 11/11 [00:00<00:00, 1152.66it/s]\n"
     ]
    },
    {
     "name": "stdout",
     "output_type": "stream",
     "text": [
      "Epoch 69, Loss: 48.5633, Recon: 39.6442, KL: 8.9191\n",
      "\n",
      "===== Epoch 70 =====\n"
     ]
    },
    {
     "name": "stderr",
     "output_type": "stream",
     "text": [
      "Epoch 70/500: 100%|██████████████████████████████████████| 11/11 [00:00<00:00, 980.37it/s]\n"
     ]
    },
    {
     "name": "stdout",
     "output_type": "stream",
     "text": [
      "Epoch 70, Loss: 48.3659, Recon: 39.4854, KL: 8.8805\n",
      "\n",
      "===== Epoch 71 =====\n"
     ]
    },
    {
     "name": "stderr",
     "output_type": "stream",
     "text": [
      "Epoch 71/500: 100%|█████████████████████████████████████| 11/11 [00:00<00:00, 1092.37it/s]\n"
     ]
    },
    {
     "name": "stdout",
     "output_type": "stream",
     "text": [
      "Epoch 71, Loss: 48.4202, Recon: 39.6371, KL: 8.7830\n",
      "\n",
      "===== Epoch 72 =====\n"
     ]
    },
    {
     "name": "stderr",
     "output_type": "stream",
     "text": [
      "Epoch 72/500: 100%|█████████████████████████████████████| 11/11 [00:00<00:00, 1168.98it/s]\n"
     ]
    },
    {
     "name": "stdout",
     "output_type": "stream",
     "text": [
      "Epoch 72, Loss: 48.2333, Recon: 39.3535, KL: 8.8798\n",
      "\n",
      "===== Epoch 73 =====\n"
     ]
    },
    {
     "name": "stderr",
     "output_type": "stream",
     "text": [
      "Epoch 73/500: 100%|█████████████████████████████████████| 11/11 [00:00<00:00, 1156.30it/s]\n"
     ]
    },
    {
     "name": "stdout",
     "output_type": "stream",
     "text": [
      "Epoch 73, Loss: 48.4685, Recon: 39.5175, KL: 8.9510\n",
      "\n",
      "===== Epoch 74 =====\n"
     ]
    },
    {
     "name": "stderr",
     "output_type": "stream",
     "text": [
      "Epoch 74/500: 100%|█████████████████████████████████████| 11/11 [00:00<00:00, 1152.31it/s]\n"
     ]
    },
    {
     "name": "stdout",
     "output_type": "stream",
     "text": [
      "Epoch 74, Loss: 47.7359, Recon: 38.7839, KL: 8.9520\n",
      "\n",
      "===== Epoch 75 =====\n"
     ]
    },
    {
     "name": "stderr",
     "output_type": "stream",
     "text": [
      "Epoch 75/500: 100%|█████████████████████████████████████| 11/11 [00:00<00:00, 1176.85it/s]\n"
     ]
    },
    {
     "name": "stdout",
     "output_type": "stream",
     "text": [
      "Epoch 75, Loss: 47.8286, Recon: 38.9766, KL: 8.8521\n",
      "\n",
      "===== Epoch 76 =====\n"
     ]
    },
    {
     "name": "stderr",
     "output_type": "stream",
     "text": [
      "Epoch 76/500: 100%|█████████████████████████████████████| 11/11 [00:00<00:00, 1151.56it/s]\n"
     ]
    },
    {
     "name": "stdout",
     "output_type": "stream",
     "text": [
      "Epoch 76, Loss: 47.6625, Recon: 38.7800, KL: 8.8824\n",
      "\n",
      "===== Epoch 77 =====\n"
     ]
    },
    {
     "name": "stderr",
     "output_type": "stream",
     "text": [
      "Epoch 77/500: 100%|█████████████████████████████████████| 11/11 [00:00<00:00, 1123.14it/s]\n"
     ]
    },
    {
     "name": "stdout",
     "output_type": "stream",
     "text": [
      "Epoch 77, Loss: 47.2180, Recon: 38.2990, KL: 8.9190\n",
      "\n",
      "===== Epoch 78 =====\n"
     ]
    },
    {
     "name": "stderr",
     "output_type": "stream",
     "text": [
      "Epoch 78/500: 100%|█████████████████████████████████████| 11/11 [00:00<00:00, 1148.70it/s]\n"
     ]
    },
    {
     "name": "stdout",
     "output_type": "stream",
     "text": [
      "Epoch 78, Loss: 47.1789, Recon: 38.1781, KL: 9.0007\n",
      "\n",
      "===== Epoch 79 =====\n"
     ]
    },
    {
     "name": "stderr",
     "output_type": "stream",
     "text": [
      "Epoch 79/500: 100%|█████████████████████████████████████| 11/11 [00:00<00:00, 1156.64it/s]\n"
     ]
    },
    {
     "name": "stdout",
     "output_type": "stream",
     "text": [
      "Epoch 79, Loss: 46.8720, Recon: 37.7971, KL: 9.0749\n",
      "\n",
      "===== Epoch 80 =====\n"
     ]
    },
    {
     "name": "stderr",
     "output_type": "stream",
     "text": [
      "Epoch 80/500: 100%|█████████████████████████████████████| 11/11 [00:00<00:00, 1198.62it/s]\n"
     ]
    },
    {
     "name": "stdout",
     "output_type": "stream",
     "text": [
      "Epoch 80, Loss: 46.8299, Recon: 37.7783, KL: 9.0516\n",
      "\n",
      "===== Epoch 81 =====\n"
     ]
    },
    {
     "name": "stderr",
     "output_type": "stream",
     "text": [
      "Epoch 81/500: 100%|█████████████████████████████████████| 11/11 [00:00<00:00, 1023.91it/s]\n"
     ]
    },
    {
     "name": "stdout",
     "output_type": "stream",
     "text": [
      "Epoch 81, Loss: 46.7444, Recon: 37.6795, KL: 9.0649\n",
      "\n",
      "===== Epoch 82 =====\n"
     ]
    },
    {
     "name": "stderr",
     "output_type": "stream",
     "text": [
      "Epoch 82/500: 100%|█████████████████████████████████████| 11/11 [00:00<00:00, 1218.69it/s]\n"
     ]
    },
    {
     "name": "stdout",
     "output_type": "stream",
     "text": [
      "Epoch 82, Loss: 46.7780, Recon: 37.6713, KL: 9.1067\n",
      "\n",
      "===== Epoch 83 =====\n"
     ]
    },
    {
     "name": "stderr",
     "output_type": "stream",
     "text": [
      "Epoch 83/500: 100%|██████████████████████████████████████| 11/11 [00:00<00:00, 699.12it/s]\n"
     ]
    },
    {
     "name": "stdout",
     "output_type": "stream",
     "text": [
      "Epoch 83, Loss: 46.3068, Recon: 37.0914, KL: 9.2154\n",
      "\n",
      "===== Epoch 84 =====\n"
     ]
    },
    {
     "name": "stderr",
     "output_type": "stream",
     "text": [
      "Epoch 84/500: 100%|█████████████████████████████████████| 11/11 [00:00<00:00, 1155.22it/s]\n"
     ]
    },
    {
     "name": "stdout",
     "output_type": "stream",
     "text": [
      "Epoch 84, Loss: 46.3459, Recon: 37.1278, KL: 9.2181\n",
      "\n",
      "===== Epoch 85 =====\n"
     ]
    },
    {
     "name": "stderr",
     "output_type": "stream",
     "text": [
      "Epoch 85/500: 100%|█████████████████████████████████████| 11/11 [00:00<00:00, 1023.73it/s]\n"
     ]
    },
    {
     "name": "stdout",
     "output_type": "stream",
     "text": [
      "Epoch 85, Loss: 46.2398, Recon: 37.0933, KL: 9.1465\n",
      "\n",
      "===== Epoch 86 =====\n"
     ]
    },
    {
     "name": "stderr",
     "output_type": "stream",
     "text": [
      "Epoch 86/500: 100%|█████████████████████████████████████| 11/11 [00:00<00:00, 1190.33it/s]\n"
     ]
    },
    {
     "name": "stdout",
     "output_type": "stream",
     "text": [
      "Epoch 86, Loss: 46.1024, Recon: 36.9275, KL: 9.1749\n",
      "\n",
      "===== Epoch 87 =====\n"
     ]
    },
    {
     "name": "stderr",
     "output_type": "stream",
     "text": [
      "Epoch 87/500: 100%|█████████████████████████████████████| 11/11 [00:00<00:00, 1184.31it/s]\n"
     ]
    },
    {
     "name": "stdout",
     "output_type": "stream",
     "text": [
      "Epoch 87, Loss: 45.8408, Recon: 36.5781, KL: 9.2627\n",
      "\n",
      "===== Epoch 88 =====\n"
     ]
    },
    {
     "name": "stderr",
     "output_type": "stream",
     "text": [
      "Epoch 88/500: 100%|██████████████████████████████████████| 11/11 [00:00<00:00, 898.10it/s]\n"
     ]
    },
    {
     "name": "stdout",
     "output_type": "stream",
     "text": [
      "Epoch 88, Loss: 45.5693, Recon: 36.2612, KL: 9.3081\n",
      "\n",
      "===== Epoch 89 =====\n"
     ]
    },
    {
     "name": "stderr",
     "output_type": "stream",
     "text": [
      "Epoch 89/500: 100%|█████████████████████████████████████| 11/11 [00:00<00:00, 1065.38it/s]\n"
     ]
    },
    {
     "name": "stdout",
     "output_type": "stream",
     "text": [
      "Epoch 89, Loss: 45.2949, Recon: 35.9476, KL: 9.3473\n",
      "\n",
      "===== Epoch 90 =====\n"
     ]
    },
    {
     "name": "stderr",
     "output_type": "stream",
     "text": [
      "Epoch 90/500: 100%|█████████████████████████████████████| 11/11 [00:00<00:00, 1185.35it/s]\n"
     ]
    },
    {
     "name": "stdout",
     "output_type": "stream",
     "text": [
      "Epoch 90, Loss: 45.2469, Recon: 35.8194, KL: 9.4275\n",
      "\n",
      "===== Epoch 91 =====\n"
     ]
    },
    {
     "name": "stderr",
     "output_type": "stream",
     "text": [
      "Epoch 91/500: 100%|██████████████████████████████████████| 11/11 [00:00<00:00, 993.95it/s]\n"
     ]
    },
    {
     "name": "stdout",
     "output_type": "stream",
     "text": [
      "Epoch 91, Loss: 44.8974, Recon: 35.4893, KL: 9.4081\n",
      "\n",
      "===== Epoch 92 =====\n"
     ]
    },
    {
     "name": "stderr",
     "output_type": "stream",
     "text": [
      "Epoch 92/500: 100%|█████████████████████████████████████| 11/11 [00:00<00:00, 1206.27it/s]\n"
     ]
    },
    {
     "name": "stdout",
     "output_type": "stream",
     "text": [
      "Epoch 92, Loss: 44.8035, Recon: 35.4164, KL: 9.3871\n",
      "\n",
      "===== Epoch 93 =====\n"
     ]
    },
    {
     "name": "stderr",
     "output_type": "stream",
     "text": [
      "Epoch 93/500: 100%|██████████████████████████████████████| 11/11 [00:00<00:00, 943.14it/s]\n"
     ]
    },
    {
     "name": "stdout",
     "output_type": "stream",
     "text": [
      "Epoch 93, Loss: 44.8840, Recon: 35.4874, KL: 9.3966\n",
      "\n",
      "===== Epoch 94 =====\n"
     ]
    },
    {
     "name": "stderr",
     "output_type": "stream",
     "text": [
      "Epoch 94/500: 100%|█████████████████████████████████████| 11/11 [00:00<00:00, 1043.26it/s]\n"
     ]
    },
    {
     "name": "stdout",
     "output_type": "stream",
     "text": [
      "Epoch 94, Loss: 44.6062, Recon: 35.2008, KL: 9.4054\n",
      "\n",
      "===== Epoch 95 =====\n"
     ]
    },
    {
     "name": "stderr",
     "output_type": "stream",
     "text": [
      "Epoch 95/500: 100%|█████████████████████████████████████| 11/11 [00:00<00:00, 1113.57it/s]\n"
     ]
    },
    {
     "name": "stdout",
     "output_type": "stream",
     "text": [
      "Epoch 95, Loss: 44.3434, Recon: 34.8385, KL: 9.5049\n",
      "\n",
      "===== Epoch 96 =====\n"
     ]
    },
    {
     "name": "stderr",
     "output_type": "stream",
     "text": [
      "Epoch 96/500: 100%|█████████████████████████████████████| 11/11 [00:00<00:00, 1191.13it/s]\n"
     ]
    },
    {
     "name": "stdout",
     "output_type": "stream",
     "text": [
      "Epoch 96, Loss: 44.2720, Recon: 34.7744, KL: 9.4976\n",
      "\n",
      "===== Epoch 97 =====\n"
     ]
    },
    {
     "name": "stderr",
     "output_type": "stream",
     "text": [
      "Epoch 97/500: 100%|█████████████████████████████████████| 11/11 [00:00<00:00, 1212.00it/s]\n"
     ]
    },
    {
     "name": "stdout",
     "output_type": "stream",
     "text": [
      "Epoch 97, Loss: 43.8273, Recon: 34.2932, KL: 9.5341\n",
      "\n",
      "===== Epoch 98 =====\n"
     ]
    },
    {
     "name": "stderr",
     "output_type": "stream",
     "text": [
      "Epoch 98/500: 100%|█████████████████████████████████████| 11/11 [00:00<00:00, 1015.53it/s]\n"
     ]
    },
    {
     "name": "stdout",
     "output_type": "stream",
     "text": [
      "Epoch 98, Loss: 43.8368, Recon: 34.2904, KL: 9.5465\n",
      "\n",
      "===== Epoch 99 =====\n"
     ]
    },
    {
     "name": "stderr",
     "output_type": "stream",
     "text": [
      "Epoch 99/500: 100%|█████████████████████████████████████| 11/11 [00:00<00:00, 1187.79it/s]\n"
     ]
    },
    {
     "name": "stdout",
     "output_type": "stream",
     "text": [
      "Epoch 99, Loss: 43.5721, Recon: 34.1050, KL: 9.4670\n",
      "\n",
      "===== Epoch 100 =====\n"
     ]
    },
    {
     "name": "stderr",
     "output_type": "stream",
     "text": [
      "Epoch 100/500: 100%|████████████████████████████████████| 11/11 [00:00<00:00, 1181.01it/s]\n"
     ]
    },
    {
     "name": "stdout",
     "output_type": "stream",
     "text": [
      "Epoch 100, Loss: 43.6491, Recon: 34.2844, KL: 9.3647\n",
      "\n",
      "===== Epoch 101 =====\n"
     ]
    },
    {
     "name": "stderr",
     "output_type": "stream",
     "text": [
      "Epoch 101/500: 100%|████████████████████████████████████| 11/11 [00:00<00:00, 1090.92it/s]\n"
     ]
    },
    {
     "name": "stdout",
     "output_type": "stream",
     "text": [
      "Epoch 101, Loss: 43.3649, Recon: 33.8999, KL: 9.4651\n",
      "\n",
      "===== Epoch 102 =====\n"
     ]
    },
    {
     "name": "stderr",
     "output_type": "stream",
     "text": [
      "Epoch 102/500: 100%|████████████████████████████████████| 11/11 [00:00<00:00, 1189.20it/s]\n"
     ]
    },
    {
     "name": "stdout",
     "output_type": "stream",
     "text": [
      "Epoch 102, Loss: 43.2808, Recon: 33.7928, KL: 9.4880\n",
      "\n",
      "===== Epoch 103 =====\n"
     ]
    },
    {
     "name": "stderr",
     "output_type": "stream",
     "text": [
      "Epoch 103/500: 100%|████████████████████████████████████| 11/11 [00:00<00:00, 1264.07it/s]\n"
     ]
    },
    {
     "name": "stdout",
     "output_type": "stream",
     "text": [
      "Epoch 103, Loss: 43.0015, Recon: 33.4809, KL: 9.5207\n",
      "\n",
      "===== Epoch 104 =====\n"
     ]
    },
    {
     "name": "stderr",
     "output_type": "stream",
     "text": [
      "Epoch 104/500: 100%|████████████████████████████████████| 11/11 [00:00<00:00, 1148.92it/s]\n"
     ]
    },
    {
     "name": "stdout",
     "output_type": "stream",
     "text": [
      "Epoch 104, Loss: 42.9191, Recon: 33.4142, KL: 9.5048\n",
      "\n",
      "===== Epoch 105 =====\n"
     ]
    },
    {
     "name": "stderr",
     "output_type": "stream",
     "text": [
      "Epoch 105/500: 100%|████████████████████████████████████| 11/11 [00:00<00:00, 1187.36it/s]\n"
     ]
    },
    {
     "name": "stdout",
     "output_type": "stream",
     "text": [
      "Epoch 105, Loss: 43.1811, Recon: 33.6615, KL: 9.5196\n",
      "\n",
      "===== Epoch 106 =====\n"
     ]
    },
    {
     "name": "stderr",
     "output_type": "stream",
     "text": [
      "Epoch 106/500: 100%|████████████████████████████████████| 11/11 [00:00<00:00, 1204.03it/s]\n"
     ]
    },
    {
     "name": "stdout",
     "output_type": "stream",
     "text": [
      "Epoch 106, Loss: 42.6113, Recon: 32.9917, KL: 9.6196\n",
      "\n",
      "===== Epoch 107 =====\n"
     ]
    },
    {
     "name": "stderr",
     "output_type": "stream",
     "text": [
      "Epoch 107/500: 100%|████████████████████████████████████| 11/11 [00:00<00:00, 1174.93it/s]\n"
     ]
    },
    {
     "name": "stdout",
     "output_type": "stream",
     "text": [
      "Epoch 107, Loss: 42.6208, Recon: 32.9663, KL: 9.6545\n",
      "\n",
      "===== Epoch 108 =====\n"
     ]
    },
    {
     "name": "stderr",
     "output_type": "stream",
     "text": [
      "Epoch 108/500: 100%|████████████████████████████████████| 11/11 [00:00<00:00, 1258.86it/s]\n"
     ]
    },
    {
     "name": "stdout",
     "output_type": "stream",
     "text": [
      "Epoch 108, Loss: 42.6168, Recon: 32.9952, KL: 9.6216\n",
      "\n",
      "===== Epoch 109 =====\n"
     ]
    },
    {
     "name": "stderr",
     "output_type": "stream",
     "text": [
      "Epoch 109/500: 100%|████████████████████████████████████| 11/11 [00:00<00:00, 1204.66it/s]\n"
     ]
    },
    {
     "name": "stdout",
     "output_type": "stream",
     "text": [
      "Epoch 109, Loss: 42.2514, Recon: 32.5692, KL: 9.6822\n",
      "\n",
      "===== Epoch 110 =====\n"
     ]
    },
    {
     "name": "stderr",
     "output_type": "stream",
     "text": [
      "Epoch 110/500: 100%|████████████████████████████████████| 11/11 [00:00<00:00, 1218.02it/s]\n"
     ]
    },
    {
     "name": "stdout",
     "output_type": "stream",
     "text": [
      "Epoch 110, Loss: 42.3432, Recon: 32.6390, KL: 9.7043\n",
      "\n",
      "===== Epoch 111 =====\n"
     ]
    },
    {
     "name": "stderr",
     "output_type": "stream",
     "text": [
      "Epoch 111/500: 100%|████████████████████████████████████| 11/11 [00:00<00:00, 1128.80it/s]\n"
     ]
    },
    {
     "name": "stdout",
     "output_type": "stream",
     "text": [
      "Epoch 111, Loss: 42.2183, Recon: 32.5023, KL: 9.7160\n",
      "\n",
      "===== Epoch 112 =====\n"
     ]
    },
    {
     "name": "stderr",
     "output_type": "stream",
     "text": [
      "Epoch 112/500: 100%|████████████████████████████████████| 11/11 [00:00<00:00, 1231.25it/s]\n"
     ]
    },
    {
     "name": "stdout",
     "output_type": "stream",
     "text": [
      "Epoch 112, Loss: 42.1313, Recon: 32.5040, KL: 9.6273\n",
      "\n",
      "===== Epoch 113 =====\n"
     ]
    },
    {
     "name": "stderr",
     "output_type": "stream",
     "text": [
      "Epoch 113/500: 100%|████████████████████████████████████| 11/11 [00:00<00:00, 1178.96it/s]\n"
     ]
    },
    {
     "name": "stdout",
     "output_type": "stream",
     "text": [
      "Epoch 113, Loss: 41.9475, Recon: 32.3037, KL: 9.6438\n",
      "\n",
      "===== Epoch 114 =====\n"
     ]
    },
    {
     "name": "stderr",
     "output_type": "stream",
     "text": [
      "Epoch 114/500: 100%|████████████████████████████████████| 11/11 [00:00<00:00, 1086.74it/s]\n"
     ]
    },
    {
     "name": "stdout",
     "output_type": "stream",
     "text": [
      "Epoch 114, Loss: 41.6258, Recon: 31.9323, KL: 9.6935\n",
      "\n",
      "===== Epoch 115 =====\n"
     ]
    },
    {
     "name": "stderr",
     "output_type": "stream",
     "text": [
      "Epoch 115/500: 100%|████████████████████████████████████| 11/11 [00:00<00:00, 1181.01it/s]\n"
     ]
    },
    {
     "name": "stdout",
     "output_type": "stream",
     "text": [
      "Epoch 115, Loss: 41.8064, Recon: 32.1138, KL: 9.6926\n",
      "\n",
      "===== Epoch 116 =====\n"
     ]
    },
    {
     "name": "stderr",
     "output_type": "stream",
     "text": [
      "Epoch 116/500: 100%|████████████████████████████████████| 11/11 [00:00<00:00, 1081.72it/s]\n"
     ]
    },
    {
     "name": "stdout",
     "output_type": "stream",
     "text": [
      "Epoch 116, Loss: 41.4619, Recon: 31.7434, KL: 9.7185\n",
      "\n",
      "===== Epoch 117 =====\n"
     ]
    },
    {
     "name": "stderr",
     "output_type": "stream",
     "text": [
      "Epoch 117/500: 100%|████████████████████████████████████| 11/11 [00:00<00:00, 1180.62it/s]\n"
     ]
    },
    {
     "name": "stdout",
     "output_type": "stream",
     "text": [
      "Epoch 117, Loss: 41.1986, Recon: 31.5605, KL: 9.6381\n",
      "\n",
      "===== Epoch 118 =====\n"
     ]
    },
    {
     "name": "stderr",
     "output_type": "stream",
     "text": [
      "Epoch 118/500: 100%|████████████████████████████████████| 11/11 [00:00<00:00, 1176.58it/s]\n"
     ]
    },
    {
     "name": "stdout",
     "output_type": "stream",
     "text": [
      "Epoch 118, Loss: 41.1440, Recon: 31.5447, KL: 9.5992\n",
      "\n",
      "===== Epoch 119 =====\n"
     ]
    },
    {
     "name": "stderr",
     "output_type": "stream",
     "text": [
      "Epoch 119/500: 100%|█████████████████████████████████████| 11/11 [00:00<00:00, 933.54it/s]\n"
     ]
    },
    {
     "name": "stdout",
     "output_type": "stream",
     "text": [
      "Epoch 119, Loss: 40.9875, Recon: 31.4178, KL: 9.5697\n",
      "\n",
      "===== Epoch 120 =====\n"
     ]
    },
    {
     "name": "stderr",
     "output_type": "stream",
     "text": [
      "Epoch 120/500: 100%|████████████████████████████████████| 11/11 [00:00<00:00, 1121.99it/s]\n"
     ]
    },
    {
     "name": "stdout",
     "output_type": "stream",
     "text": [
      "Epoch 120, Loss: 41.0929, Recon: 31.5155, KL: 9.5774\n",
      "\n",
      "===== Epoch 121 =====\n"
     ]
    },
    {
     "name": "stderr",
     "output_type": "stream",
     "text": [
      "Epoch 121/500: 100%|████████████████████████████████████| 11/11 [00:00<00:00, 1178.27it/s]\n"
     ]
    },
    {
     "name": "stdout",
     "output_type": "stream",
     "text": [
      "Epoch 121, Loss: 41.2580, Recon: 31.6442, KL: 9.6138\n",
      "\n",
      "===== Epoch 122 =====\n"
     ]
    },
    {
     "name": "stderr",
     "output_type": "stream",
     "text": [
      "Epoch 122/500: 100%|████████████████████████████████████| 11/11 [00:00<00:00, 1120.49it/s]\n"
     ]
    },
    {
     "name": "stdout",
     "output_type": "stream",
     "text": [
      "Epoch 122, Loss: 40.6612, Recon: 31.0310, KL: 9.6301\n",
      "\n",
      "===== Epoch 123 =====\n"
     ]
    },
    {
     "name": "stderr",
     "output_type": "stream",
     "text": [
      "Epoch 123/500: 100%|█████████████████████████████████████| 11/11 [00:00<00:00, 942.27it/s]\n"
     ]
    },
    {
     "name": "stdout",
     "output_type": "stream",
     "text": [
      "Epoch 123, Loss: 40.6763, Recon: 30.9557, KL: 9.7206\n",
      "\n",
      "===== Epoch 124 =====\n"
     ]
    },
    {
     "name": "stderr",
     "output_type": "stream",
     "text": [
      "Epoch 124/500: 100%|████████████████████████████████████| 11/11 [00:00<00:00, 1155.43it/s]\n"
     ]
    },
    {
     "name": "stdout",
     "output_type": "stream",
     "text": [
      "Epoch 124, Loss: 40.5236, Recon: 30.8123, KL: 9.7113\n",
      "\n",
      "===== Epoch 125 =====\n"
     ]
    },
    {
     "name": "stderr",
     "output_type": "stream",
     "text": [
      "Epoch 125/500: 100%|████████████████████████████████████| 11/11 [00:00<00:00, 1104.08it/s]\n"
     ]
    },
    {
     "name": "stdout",
     "output_type": "stream",
     "text": [
      "Epoch 125, Loss: 40.5524, Recon: 30.8783, KL: 9.6741\n",
      "\n",
      "===== Epoch 126 =====\n"
     ]
    },
    {
     "name": "stderr",
     "output_type": "stream",
     "text": [
      "Epoch 126/500: 100%|████████████████████████████████████| 11/11 [00:00<00:00, 1115.05it/s]\n"
     ]
    },
    {
     "name": "stdout",
     "output_type": "stream",
     "text": [
      "Epoch 126, Loss: 40.4171, Recon: 30.6965, KL: 9.7206\n",
      "\n",
      "===== Epoch 127 =====\n"
     ]
    },
    {
     "name": "stderr",
     "output_type": "stream",
     "text": [
      "Epoch 127/500: 100%|████████████████████████████████████| 11/11 [00:00<00:00, 1172.58it/s]\n"
     ]
    },
    {
     "name": "stdout",
     "output_type": "stream",
     "text": [
      "Epoch 127, Loss: 39.9691, Recon: 30.2592, KL: 9.7099\n",
      "\n",
      "===== Epoch 128 =====\n"
     ]
    },
    {
     "name": "stderr",
     "output_type": "stream",
     "text": [
      "Epoch 128/500: 100%|████████████████████████████████████| 11/11 [00:00<00:00, 1119.70it/s]\n"
     ]
    },
    {
     "name": "stdout",
     "output_type": "stream",
     "text": [
      "Epoch 128, Loss: 39.9429, Recon: 30.3180, KL: 9.6249\n",
      "\n",
      "===== Epoch 129 =====\n"
     ]
    },
    {
     "name": "stderr",
     "output_type": "stream",
     "text": [
      "Epoch 129/500: 100%|████████████████████████████████████| 11/11 [00:00<00:00, 1183.07it/s]\n"
     ]
    },
    {
     "name": "stdout",
     "output_type": "stream",
     "text": [
      "Epoch 129, Loss: 40.0705, Recon: 30.4084, KL: 9.6621\n",
      "\n",
      "===== Epoch 130 =====\n"
     ]
    },
    {
     "name": "stderr",
     "output_type": "stream",
     "text": [
      "Epoch 130/500: 100%|████████████████████████████████████| 11/11 [00:00<00:00, 1122.34it/s]\n"
     ]
    },
    {
     "name": "stdout",
     "output_type": "stream",
     "text": [
      "Epoch 130, Loss: 39.9682, Recon: 30.2564, KL: 9.7118\n",
      "\n",
      "===== Epoch 131 =====\n"
     ]
    },
    {
     "name": "stderr",
     "output_type": "stream",
     "text": [
      "Epoch 131/500: 100%|████████████████████████████████████| 11/11 [00:00<00:00, 1187.42it/s]\n"
     ]
    },
    {
     "name": "stdout",
     "output_type": "stream",
     "text": [
      "Epoch 131, Loss: 39.8205, Recon: 30.1124, KL: 9.7081\n",
      "\n",
      "===== Epoch 132 =====\n"
     ]
    },
    {
     "name": "stderr",
     "output_type": "stream",
     "text": [
      "Epoch 132/500: 100%|█████████████████████████████████████| 11/11 [00:00<00:00, 937.94it/s]\n"
     ]
    },
    {
     "name": "stdout",
     "output_type": "stream",
     "text": [
      "Epoch 132, Loss: 39.4288, Recon: 29.7869, KL: 9.6419\n",
      "\n",
      "===== Epoch 133 =====\n"
     ]
    },
    {
     "name": "stderr",
     "output_type": "stream",
     "text": [
      "Epoch 133/500: 100%|████████████████████████████████████| 11/11 [00:00<00:00, 1128.55it/s]\n"
     ]
    },
    {
     "name": "stdout",
     "output_type": "stream",
     "text": [
      "Epoch 133, Loss: 39.7035, Recon: 30.0890, KL: 9.6145\n",
      "\n",
      "===== Epoch 134 =====\n"
     ]
    },
    {
     "name": "stderr",
     "output_type": "stream",
     "text": [
      "Epoch 134/500: 100%|████████████████████████████████████| 11/11 [00:00<00:00, 1179.80it/s]\n"
     ]
    },
    {
     "name": "stdout",
     "output_type": "stream",
     "text": [
      "Epoch 134, Loss: 39.4288, Recon: 29.7601, KL: 9.6686\n",
      "\n",
      "===== Epoch 135 =====\n"
     ]
    },
    {
     "name": "stderr",
     "output_type": "stream",
     "text": [
      "Epoch 135/500: 100%|████████████████████████████████████| 11/11 [00:00<00:00, 1078.03it/s]\n"
     ]
    },
    {
     "name": "stdout",
     "output_type": "stream",
     "text": [
      "Epoch 135, Loss: 39.3731, Recon: 29.6723, KL: 9.7008\n",
      "\n",
      "===== Epoch 136 =====\n"
     ]
    },
    {
     "name": "stderr",
     "output_type": "stream",
     "text": [
      "Epoch 136/500: 100%|████████████████████████████████████| 11/11 [00:00<00:00, 1203.62it/s]\n"
     ]
    },
    {
     "name": "stdout",
     "output_type": "stream",
     "text": [
      "Epoch 136, Loss: 39.3319, Recon: 29.5944, KL: 9.7374\n",
      "\n",
      "===== Epoch 137 =====\n"
     ]
    },
    {
     "name": "stderr",
     "output_type": "stream",
     "text": [
      "Epoch 137/500: 100%|████████████████████████████████████| 11/11 [00:00<00:00, 1216.29it/s]\n"
     ]
    },
    {
     "name": "stdout",
     "output_type": "stream",
     "text": [
      "Epoch 137, Loss: 39.2327, Recon: 29.4717, KL: 9.7609\n",
      "\n",
      "===== Epoch 138 =====\n"
     ]
    },
    {
     "name": "stderr",
     "output_type": "stream",
     "text": [
      "Epoch 138/500: 100%|████████████████████████████████████| 11/11 [00:00<00:00, 1212.67it/s]\n"
     ]
    },
    {
     "name": "stdout",
     "output_type": "stream",
     "text": [
      "Epoch 138, Loss: 39.2300, Recon: 29.4238, KL: 9.8062\n",
      "\n",
      "===== Epoch 139 =====\n"
     ]
    },
    {
     "name": "stderr",
     "output_type": "stream",
     "text": [
      "Epoch 139/500: 100%|████████████████████████████████████| 11/11 [00:00<00:00, 1175.32it/s]\n"
     ]
    },
    {
     "name": "stdout",
     "output_type": "stream",
     "text": [
      "Epoch 139, Loss: 38.7817, Recon: 28.9555, KL: 9.8263\n",
      "\n",
      "===== Epoch 140 =====\n"
     ]
    },
    {
     "name": "stderr",
     "output_type": "stream",
     "text": [
      "Epoch 140/500: 100%|████████████████████████████████████| 11/11 [00:00<00:00, 1153.66it/s]\n"
     ]
    },
    {
     "name": "stdout",
     "output_type": "stream",
     "text": [
      "Epoch 140, Loss: 38.8666, Recon: 29.1099, KL: 9.7567\n",
      "\n",
      "===== Epoch 141 =====\n"
     ]
    },
    {
     "name": "stderr",
     "output_type": "stream",
     "text": [
      "Epoch 141/500: 100%|████████████████████████████████████| 11/11 [00:00<00:00, 1220.31it/s]\n"
     ]
    },
    {
     "name": "stdout",
     "output_type": "stream",
     "text": [
      "Epoch 141, Loss: 38.5484, Recon: 28.8560, KL: 9.6923\n",
      "\n",
      "===== Epoch 142 =====\n"
     ]
    },
    {
     "name": "stderr",
     "output_type": "stream",
     "text": [
      "Epoch 142/500: 100%|████████████████████████████████████| 11/11 [00:00<00:00, 1062.51it/s]\n"
     ]
    },
    {
     "name": "stdout",
     "output_type": "stream",
     "text": [
      "Epoch 142, Loss: 38.8042, Recon: 29.1590, KL: 9.6451\n",
      "\n",
      "===== Epoch 143 =====\n"
     ]
    },
    {
     "name": "stderr",
     "output_type": "stream",
     "text": [
      "Epoch 143/500: 100%|████████████████████████████████████| 11/11 [00:00<00:00, 1163.26it/s]\n"
     ]
    },
    {
     "name": "stdout",
     "output_type": "stream",
     "text": [
      "Epoch 143, Loss: 38.4552, Recon: 28.7397, KL: 9.7155\n",
      "\n",
      "===== Epoch 144 =====\n"
     ]
    },
    {
     "name": "stderr",
     "output_type": "stream",
     "text": [
      "Epoch 144/500: 100%|████████████████████████████████████| 11/11 [00:00<00:00, 1238.72it/s]\n"
     ]
    },
    {
     "name": "stdout",
     "output_type": "stream",
     "text": [
      "Epoch 144, Loss: 38.6994, Recon: 28.9607, KL: 9.7387\n",
      "\n",
      "===== Epoch 145 =====\n"
     ]
    },
    {
     "name": "stderr",
     "output_type": "stream",
     "text": [
      "Epoch 145/500: 100%|████████████████████████████████████| 11/11 [00:00<00:00, 1199.71it/s]\n"
     ]
    },
    {
     "name": "stdout",
     "output_type": "stream",
     "text": [
      "Epoch 145, Loss: 38.4418, Recon: 28.5994, KL: 9.8424\n",
      "\n",
      "===== Epoch 146 =====\n"
     ]
    },
    {
     "name": "stderr",
     "output_type": "stream",
     "text": [
      "Epoch 146/500: 100%|████████████████████████████████████| 11/11 [00:00<00:00, 1221.70it/s]\n"
     ]
    },
    {
     "name": "stdout",
     "output_type": "stream",
     "text": [
      "Epoch 146, Loss: 38.5856, Recon: 28.6519, KL: 9.9337\n",
      "\n",
      "===== Epoch 147 =====\n"
     ]
    },
    {
     "name": "stderr",
     "output_type": "stream",
     "text": [
      "Epoch 147/500: 100%|████████████████████████████████████| 11/11 [00:00<00:00, 1132.04it/s]\n"
     ]
    },
    {
     "name": "stdout",
     "output_type": "stream",
     "text": [
      "Epoch 147, Loss: 37.9964, Recon: 28.1598, KL: 9.8366\n",
      "\n",
      "===== Epoch 148 =====\n"
     ]
    },
    {
     "name": "stderr",
     "output_type": "stream",
     "text": [
      "Epoch 148/500: 100%|████████████████████████████████████| 11/11 [00:00<00:00, 1230.17it/s]\n"
     ]
    },
    {
     "name": "stdout",
     "output_type": "stream",
     "text": [
      "Epoch 148, Loss: 38.5075, Recon: 28.7146, KL: 9.7929\n",
      "\n",
      "===== Epoch 149 =====\n"
     ]
    },
    {
     "name": "stderr",
     "output_type": "stream",
     "text": [
      "Epoch 149/500: 100%|████████████████████████████████████| 11/11 [00:00<00:00, 1224.22it/s]\n"
     ]
    },
    {
     "name": "stdout",
     "output_type": "stream",
     "text": [
      "Epoch 149, Loss: 38.3338, Recon: 28.3984, KL: 9.9354\n",
      "\n",
      "===== Epoch 150 =====\n"
     ]
    },
    {
     "name": "stderr",
     "output_type": "stream",
     "text": [
      "Epoch 150/500: 100%|████████████████████████████████████| 11/11 [00:00<00:00, 1173.23it/s]\n"
     ]
    },
    {
     "name": "stdout",
     "output_type": "stream",
     "text": [
      "Epoch 150, Loss: 38.0713, Recon: 28.2254, KL: 9.8459\n",
      "\n",
      "===== Epoch 151 =====\n"
     ]
    },
    {
     "name": "stderr",
     "output_type": "stream",
     "text": [
      "Epoch 151/500: 100%|████████████████████████████████████| 11/11 [00:00<00:00, 1234.71it/s]\n"
     ]
    },
    {
     "name": "stdout",
     "output_type": "stream",
     "text": [
      "Epoch 151, Loss: 38.3237, Recon: 28.4535, KL: 9.8703\n",
      "\n",
      "===== Epoch 152 =====\n"
     ]
    },
    {
     "name": "stderr",
     "output_type": "stream",
     "text": [
      "Epoch 152/500: 100%|████████████████████████████████████| 11/11 [00:00<00:00, 1172.70it/s]\n"
     ]
    },
    {
     "name": "stdout",
     "output_type": "stream",
     "text": [
      "Epoch 152, Loss: 37.9860, Recon: 28.0539, KL: 9.9321\n",
      "\n",
      "===== Epoch 153 =====\n"
     ]
    },
    {
     "name": "stderr",
     "output_type": "stream",
     "text": [
      "Epoch 153/500: 100%|████████████████████████████████████| 11/11 [00:00<00:00, 1204.94it/s]\n"
     ]
    },
    {
     "name": "stdout",
     "output_type": "stream",
     "text": [
      "Epoch 153, Loss: 37.3652, Recon: 27.4200, KL: 9.9452\n",
      "\n",
      "===== Epoch 154 =====\n"
     ]
    },
    {
     "name": "stderr",
     "output_type": "stream",
     "text": [
      "Epoch 154/500: 100%|████████████████████████████████████| 11/11 [00:00<00:00, 1215.10it/s]\n"
     ]
    },
    {
     "name": "stdout",
     "output_type": "stream",
     "text": [
      "Epoch 154, Loss: 37.6785, Recon: 27.8683, KL: 9.8102\n",
      "\n",
      "===== Epoch 155 =====\n"
     ]
    },
    {
     "name": "stderr",
     "output_type": "stream",
     "text": [
      "Epoch 155/500: 100%|████████████████████████████████████| 11/11 [00:00<00:00, 1147.84it/s]\n"
     ]
    },
    {
     "name": "stdout",
     "output_type": "stream",
     "text": [
      "Epoch 155, Loss: 37.7474, Recon: 27.9385, KL: 9.8090\n",
      "\n",
      "===== Epoch 156 =====\n"
     ]
    },
    {
     "name": "stderr",
     "output_type": "stream",
     "text": [
      "Epoch 156/500: 100%|████████████████████████████████████| 11/11 [00:00<00:00, 1176.94it/s]\n"
     ]
    },
    {
     "name": "stdout",
     "output_type": "stream",
     "text": [
      "Epoch 156, Loss: 37.7449, Recon: 27.9003, KL: 9.8446\n",
      "\n",
      "===== Epoch 157 =====\n"
     ]
    },
    {
     "name": "stderr",
     "output_type": "stream",
     "text": [
      "Epoch 157/500: 100%|████████████████████████████████████| 11/11 [00:00<00:00, 1176.70it/s]\n"
     ]
    },
    {
     "name": "stdout",
     "output_type": "stream",
     "text": [
      "Epoch 157, Loss: 37.3056, Recon: 27.4264, KL: 9.8792\n",
      "\n",
      "===== Epoch 158 =====\n"
     ]
    },
    {
     "name": "stderr",
     "output_type": "stream",
     "text": [
      "Epoch 158/500: 100%|████████████████████████████████████| 11/11 [00:00<00:00, 1128.52it/s]\n"
     ]
    },
    {
     "name": "stdout",
     "output_type": "stream",
     "text": [
      "Epoch 158, Loss: 37.6776, Recon: 27.8067, KL: 9.8709\n",
      "\n",
      "===== Epoch 159 =====\n"
     ]
    },
    {
     "name": "stderr",
     "output_type": "stream",
     "text": [
      "Epoch 159/500: 100%|████████████████████████████████████| 11/11 [00:00<00:00, 1247.43it/s]\n"
     ]
    },
    {
     "name": "stdout",
     "output_type": "stream",
     "text": [
      "Epoch 159, Loss: 37.1290, Recon: 27.1898, KL: 9.9392\n",
      "\n",
      "===== Epoch 160 =====\n"
     ]
    },
    {
     "name": "stderr",
     "output_type": "stream",
     "text": [
      "Epoch 160/500: 100%|████████████████████████████████████| 11/11 [00:00<00:00, 1186.63it/s]\n"
     ]
    },
    {
     "name": "stdout",
     "output_type": "stream",
     "text": [
      "Epoch 160, Loss: 37.2190, Recon: 27.3163, KL: 9.9027\n",
      "\n",
      "===== Epoch 161 =====\n"
     ]
    },
    {
     "name": "stderr",
     "output_type": "stream",
     "text": [
      "Epoch 161/500: 100%|████████████████████████████████████| 11/11 [00:00<00:00, 1212.77it/s]\n"
     ]
    },
    {
     "name": "stdout",
     "output_type": "stream",
     "text": [
      "Epoch 161, Loss: 37.0988, Recon: 27.3446, KL: 9.7541\n",
      "\n",
      "===== Epoch 162 =====\n"
     ]
    },
    {
     "name": "stderr",
     "output_type": "stream",
     "text": [
      "Epoch 162/500: 100%|████████████████████████████████████| 11/11 [00:00<00:00, 1154.24it/s]\n"
     ]
    },
    {
     "name": "stdout",
     "output_type": "stream",
     "text": [
      "Epoch 162, Loss: 36.9778, Recon: 27.1772, KL: 9.8006\n",
      "\n",
      "===== Epoch 163 =====\n"
     ]
    },
    {
     "name": "stderr",
     "output_type": "stream",
     "text": [
      "Epoch 163/500: 100%|████████████████████████████████████| 11/11 [00:00<00:00, 1229.05it/s]\n"
     ]
    },
    {
     "name": "stdout",
     "output_type": "stream",
     "text": [
      "Epoch 163, Loss: 37.0460, Recon: 27.1681, KL: 9.8780\n",
      "\n",
      "===== Epoch 164 =====\n"
     ]
    },
    {
     "name": "stderr",
     "output_type": "stream",
     "text": [
      "Epoch 164/500: 100%|████████████████████████████████████| 11/11 [00:00<00:00, 1161.83it/s]\n"
     ]
    },
    {
     "name": "stdout",
     "output_type": "stream",
     "text": [
      "Epoch 164, Loss: 36.9093, Recon: 27.1055, KL: 9.8038\n",
      "\n",
      "===== Epoch 165 =====\n"
     ]
    },
    {
     "name": "stderr",
     "output_type": "stream",
     "text": [
      "Epoch 165/500: 100%|████████████████████████████████████| 11/11 [00:00<00:00, 1197.97it/s]\n"
     ]
    },
    {
     "name": "stdout",
     "output_type": "stream",
     "text": [
      "Epoch 165, Loss: 37.2992, Recon: 27.4589, KL: 9.8403\n",
      "\n",
      "===== Epoch 166 =====\n"
     ]
    },
    {
     "name": "stderr",
     "output_type": "stream",
     "text": [
      "Epoch 166/500: 100%|████████████████████████████████████| 11/11 [00:00<00:00, 1113.11it/s]\n"
     ]
    },
    {
     "name": "stdout",
     "output_type": "stream",
     "text": [
      "Epoch 166, Loss: 36.7801, Recon: 26.8201, KL: 9.9600\n",
      "\n",
      "===== Epoch 167 =====\n"
     ]
    },
    {
     "name": "stderr",
     "output_type": "stream",
     "text": [
      "Epoch 167/500: 100%|████████████████████████████████████| 11/11 [00:00<00:00, 1188.92it/s]\n"
     ]
    },
    {
     "name": "stdout",
     "output_type": "stream",
     "text": [
      "Epoch 167, Loss: 36.7271, Recon: 26.7564, KL: 9.9707\n",
      "\n",
      "===== Epoch 168 =====\n"
     ]
    },
    {
     "name": "stderr",
     "output_type": "stream",
     "text": [
      "Epoch 168/500: 100%|████████████████████████████████████| 11/11 [00:00<00:00, 1160.45it/s]\n"
     ]
    },
    {
     "name": "stdout",
     "output_type": "stream",
     "text": [
      "Epoch 168, Loss: 36.7907, Recon: 26.9118, KL: 9.8790\n",
      "\n",
      "===== Epoch 169 =====\n"
     ]
    },
    {
     "name": "stderr",
     "output_type": "stream",
     "text": [
      "Epoch 169/500: 100%|████████████████████████████████████| 11/11 [00:00<00:00, 1182.80it/s]\n"
     ]
    },
    {
     "name": "stdout",
     "output_type": "stream",
     "text": [
      "Epoch 169, Loss: 36.8845, Recon: 26.9671, KL: 9.9174\n",
      "\n",
      "===== Epoch 170 =====\n"
     ]
    },
    {
     "name": "stderr",
     "output_type": "stream",
     "text": [
      "Epoch 170/500: 100%|████████████████████████████████████| 11/11 [00:00<00:00, 1192.64it/s]\n"
     ]
    },
    {
     "name": "stdout",
     "output_type": "stream",
     "text": [
      "Epoch 170, Loss: 36.5927, Recon: 26.6867, KL: 9.9060\n",
      "\n",
      "===== Epoch 171 =====\n"
     ]
    },
    {
     "name": "stderr",
     "output_type": "stream",
     "text": [
      "Epoch 171/500: 100%|████████████████████████████████████| 11/11 [00:00<00:00, 1140.38it/s]\n"
     ]
    },
    {
     "name": "stdout",
     "output_type": "stream",
     "text": [
      "Epoch 171, Loss: 36.7691, Recon: 26.8666, KL: 9.9026\n",
      "\n",
      "===== Epoch 172 =====\n"
     ]
    },
    {
     "name": "stderr",
     "output_type": "stream",
     "text": [
      "Epoch 172/500: 100%|████████████████████████████████████| 11/11 [00:00<00:00, 1184.07it/s]\n"
     ]
    },
    {
     "name": "stdout",
     "output_type": "stream",
     "text": [
      "Epoch 172, Loss: 36.5814, Recon: 26.6534, KL: 9.9280\n",
      "\n",
      "===== Epoch 173 =====\n"
     ]
    },
    {
     "name": "stderr",
     "output_type": "stream",
     "text": [
      "Epoch 173/500: 100%|████████████████████████████████████| 11/11 [00:00<00:00, 1249.86it/s]\n"
     ]
    },
    {
     "name": "stdout",
     "output_type": "stream",
     "text": [
      "Epoch 173, Loss: 36.3509, Recon: 26.3425, KL: 10.0085\n",
      "\n",
      "===== Epoch 174 =====\n"
     ]
    },
    {
     "name": "stderr",
     "output_type": "stream",
     "text": [
      "Epoch 174/500: 100%|████████████████████████████████████| 11/11 [00:00<00:00, 1161.71it/s]\n"
     ]
    },
    {
     "name": "stdout",
     "output_type": "stream",
     "text": [
      "Epoch 174, Loss: 36.0778, Recon: 26.1148, KL: 9.9629\n",
      "\n",
      "===== Epoch 175 =====\n"
     ]
    },
    {
     "name": "stderr",
     "output_type": "stream",
     "text": [
      "Epoch 175/500: 100%|████████████████████████████████████| 11/11 [00:00<00:00, 1192.27it/s]\n"
     ]
    },
    {
     "name": "stdout",
     "output_type": "stream",
     "text": [
      "Epoch 175, Loss: 36.3364, Recon: 26.4211, KL: 9.9153\n",
      "\n",
      "===== Epoch 176 =====\n"
     ]
    },
    {
     "name": "stderr",
     "output_type": "stream",
     "text": [
      "Epoch 176/500: 100%|████████████████████████████████████| 11/11 [00:00<00:00, 1102.10it/s]\n"
     ]
    },
    {
     "name": "stdout",
     "output_type": "stream",
     "text": [
      "Epoch 176, Loss: 36.3894, Recon: 26.4652, KL: 9.9242\n",
      "\n",
      "===== Epoch 177 =====\n"
     ]
    },
    {
     "name": "stderr",
     "output_type": "stream",
     "text": [
      "Epoch 177/500: 100%|█████████████████████████████████████| 11/11 [00:00<00:00, 919.40it/s]\n"
     ]
    },
    {
     "name": "stdout",
     "output_type": "stream",
     "text": [
      "Epoch 177, Loss: 35.9299, Recon: 26.0289, KL: 9.9010\n",
      "\n",
      "===== Epoch 178 =====\n"
     ]
    },
    {
     "name": "stderr",
     "output_type": "stream",
     "text": [
      "Epoch 178/500: 100%|█████████████████████████████████████| 11/11 [00:00<00:00, 941.94it/s]\n"
     ]
    },
    {
     "name": "stdout",
     "output_type": "stream",
     "text": [
      "Epoch 178, Loss: 36.1786, Recon: 26.3278, KL: 9.8509\n",
      "\n",
      "===== Epoch 179 =====\n"
     ]
    },
    {
     "name": "stderr",
     "output_type": "stream",
     "text": [
      "Epoch 179/500: 100%|█████████████████████████████████████| 11/11 [00:00<00:00, 919.58it/s]\n"
     ]
    },
    {
     "name": "stdout",
     "output_type": "stream",
     "text": [
      "Epoch 179, Loss: 36.0218, Recon: 26.2382, KL: 9.7836\n",
      "\n",
      "===== Epoch 180 =====\n"
     ]
    },
    {
     "name": "stderr",
     "output_type": "stream",
     "text": [
      "Epoch 180/500: 100%|████████████████████████████████████| 11/11 [00:00<00:00, 1107.63it/s]\n"
     ]
    },
    {
     "name": "stdout",
     "output_type": "stream",
     "text": [
      "Epoch 180, Loss: 36.2023, Recon: 26.3762, KL: 9.8261\n",
      "\n",
      "===== Epoch 181 =====\n"
     ]
    },
    {
     "name": "stderr",
     "output_type": "stream",
     "text": [
      "Epoch 181/500: 100%|████████████████████████████████████| 11/11 [00:00<00:00, 1164.14it/s]\n"
     ]
    },
    {
     "name": "stdout",
     "output_type": "stream",
     "text": [
      "Epoch 181, Loss: 35.9764, Recon: 26.0100, KL: 9.9664\n",
      "\n",
      "===== Epoch 182 =====\n"
     ]
    },
    {
     "name": "stderr",
     "output_type": "stream",
     "text": [
      "Epoch 182/500: 100%|████████████████████████████████████| 11/11 [00:00<00:00, 1252.71it/s]\n"
     ]
    },
    {
     "name": "stdout",
     "output_type": "stream",
     "text": [
      "Epoch 182, Loss: 35.6615, Recon: 25.7168, KL: 9.9447\n",
      "\n",
      "===== Epoch 183 =====\n"
     ]
    },
    {
     "name": "stderr",
     "output_type": "stream",
     "text": [
      "Epoch 183/500: 100%|████████████████████████████████████| 11/11 [00:00<00:00, 1132.59it/s]\n"
     ]
    },
    {
     "name": "stdout",
     "output_type": "stream",
     "text": [
      "Epoch 183, Loss: 35.5356, Recon: 25.7202, KL: 9.8154\n",
      "\n",
      "===== Epoch 184 =====\n"
     ]
    },
    {
     "name": "stderr",
     "output_type": "stream",
     "text": [
      "Epoch 184/500: 100%|████████████████████████████████████| 11/11 [00:00<00:00, 1186.48it/s]\n"
     ]
    },
    {
     "name": "stdout",
     "output_type": "stream",
     "text": [
      "Epoch 184, Loss: 35.4256, Recon: 25.6013, KL: 9.8243\n",
      "\n",
      "===== Epoch 185 =====\n"
     ]
    },
    {
     "name": "stderr",
     "output_type": "stream",
     "text": [
      "Epoch 185/500: 100%|████████████████████████████████████| 11/11 [00:00<00:00, 1225.36it/s]\n"
     ]
    },
    {
     "name": "stdout",
     "output_type": "stream",
     "text": [
      "Epoch 185, Loss: 35.3403, Recon: 25.5794, KL: 9.7609\n",
      "\n",
      "===== Epoch 186 =====\n"
     ]
    },
    {
     "name": "stderr",
     "output_type": "stream",
     "text": [
      "Epoch 186/500: 100%|████████████████████████████████████| 11/11 [00:00<00:00, 1127.39it/s]\n"
     ]
    },
    {
     "name": "stdout",
     "output_type": "stream",
     "text": [
      "Epoch 186, Loss: 35.6072, Recon: 25.9007, KL: 9.7066\n",
      "\n",
      "===== Epoch 187 =====\n"
     ]
    },
    {
     "name": "stderr",
     "output_type": "stream",
     "text": [
      "Epoch 187/500: 100%|████████████████████████████████████| 11/11 [00:00<00:00, 1194.62it/s]\n"
     ]
    },
    {
     "name": "stdout",
     "output_type": "stream",
     "text": [
      "Epoch 187, Loss: 35.6287, Recon: 25.9658, KL: 9.6630\n",
      "\n",
      "===== Epoch 188 =====\n"
     ]
    },
    {
     "name": "stderr",
     "output_type": "stream",
     "text": [
      "Epoch 188/500: 100%|█████████████████████████████████████| 11/11 [00:00<00:00, 826.14it/s]\n"
     ]
    },
    {
     "name": "stdout",
     "output_type": "stream",
     "text": [
      "Epoch 188, Loss: 35.6025, Recon: 25.7769, KL: 9.8256\n",
      "\n",
      "===== Epoch 189 =====\n"
     ]
    },
    {
     "name": "stderr",
     "output_type": "stream",
     "text": [
      "Epoch 189/500: 100%|████████████████████████████████████| 11/11 [00:00<00:00, 1218.82it/s]\n"
     ]
    },
    {
     "name": "stdout",
     "output_type": "stream",
     "text": [
      "Epoch 189, Loss: 35.4864, Recon: 25.6186, KL: 9.8678\n",
      "\n",
      "===== Epoch 190 =====\n"
     ]
    },
    {
     "name": "stderr",
     "output_type": "stream",
     "text": [
      "Epoch 190/500: 100%|████████████████████████████████████| 11/11 [00:00<00:00, 1211.59it/s]\n"
     ]
    },
    {
     "name": "stdout",
     "output_type": "stream",
     "text": [
      "Epoch 190, Loss: 35.3460, Recon: 25.5274, KL: 9.8186\n",
      "\n",
      "===== Epoch 191 =====\n"
     ]
    },
    {
     "name": "stderr",
     "output_type": "stream",
     "text": [
      "Epoch 191/500: 100%|████████████████████████████████████| 11/11 [00:00<00:00, 1254.28it/s]\n"
     ]
    },
    {
     "name": "stdout",
     "output_type": "stream",
     "text": [
      "Epoch 191, Loss: 35.2259, Recon: 25.4384, KL: 9.7875\n",
      "\n",
      "===== Epoch 192 =====\n"
     ]
    },
    {
     "name": "stderr",
     "output_type": "stream",
     "text": [
      "Epoch 192/500: 100%|█████████████████████████████████████| 11/11 [00:00<00:00, 564.13it/s]\n"
     ]
    },
    {
     "name": "stdout",
     "output_type": "stream",
     "text": [
      "Epoch 192, Loss: 35.3405, Recon: 25.5888, KL: 9.7517\n",
      "\n",
      "===== Epoch 193 =====\n"
     ]
    },
    {
     "name": "stderr",
     "output_type": "stream",
     "text": [
      "Epoch 193/500: 100%|█████████████████████████████████████| 11/11 [00:00<00:00, 784.20it/s]\n"
     ]
    },
    {
     "name": "stdout",
     "output_type": "stream",
     "text": [
      "Epoch 193, Loss: 35.0668, Recon: 25.3077, KL: 9.7591\n",
      "\n",
      "===== Epoch 194 =====\n"
     ]
    },
    {
     "name": "stderr",
     "output_type": "stream",
     "text": [
      "Epoch 194/500: 100%|████████████████████████████████████| 11/11 [00:00<00:00, 1119.38it/s]\n"
     ]
    },
    {
     "name": "stdout",
     "output_type": "stream",
     "text": [
      "Epoch 194, Loss: 35.3396, Recon: 25.5828, KL: 9.7568\n",
      "\n",
      "===== Epoch 195 =====\n"
     ]
    },
    {
     "name": "stderr",
     "output_type": "stream",
     "text": [
      "Epoch 195/500: 100%|████████████████████████████████████| 11/11 [00:00<00:00, 1231.94it/s]\n"
     ]
    },
    {
     "name": "stdout",
     "output_type": "stream",
     "text": [
      "Epoch 195, Loss: 35.2780, Recon: 25.4628, KL: 9.8152\n",
      "\n",
      "===== Epoch 196 =====\n"
     ]
    },
    {
     "name": "stderr",
     "output_type": "stream",
     "text": [
      "Epoch 196/500: 100%|████████████████████████████████████| 11/11 [00:00<00:00, 1199.96it/s]\n"
     ]
    },
    {
     "name": "stdout",
     "output_type": "stream",
     "text": [
      "Epoch 196, Loss: 35.0950, Recon: 25.2887, KL: 9.8063\n",
      "\n",
      "===== Epoch 197 =====\n"
     ]
    },
    {
     "name": "stderr",
     "output_type": "stream",
     "text": [
      "Epoch 197/500: 100%|████████████████████████████████████| 11/11 [00:00<00:00, 1156.67it/s]\n"
     ]
    },
    {
     "name": "stdout",
     "output_type": "stream",
     "text": [
      "Epoch 197, Loss: 35.1261, Recon: 25.3110, KL: 9.8152\n",
      "\n",
      "===== Epoch 198 =====\n"
     ]
    },
    {
     "name": "stderr",
     "output_type": "stream",
     "text": [
      "Epoch 198/500: 100%|████████████████████████████████████| 11/11 [00:00<00:00, 1154.01it/s]\n"
     ]
    },
    {
     "name": "stdout",
     "output_type": "stream",
     "text": [
      "Epoch 198, Loss: 35.1852, Recon: 25.2407, KL: 9.9445\n",
      "\n",
      "===== Epoch 199 =====\n"
     ]
    },
    {
     "name": "stderr",
     "output_type": "stream",
     "text": [
      "Epoch 199/500: 100%|████████████████████████████████████| 11/11 [00:00<00:00, 1215.61it/s]\n"
     ]
    },
    {
     "name": "stdout",
     "output_type": "stream",
     "text": [
      "Epoch 199, Loss: 35.0411, Recon: 25.1504, KL: 9.8907\n",
      "\n",
      "===== Epoch 200 =====\n"
     ]
    },
    {
     "name": "stderr",
     "output_type": "stream",
     "text": [
      "Epoch 200/500: 100%|████████████████████████████████████| 11/11 [00:00<00:00, 1120.16it/s]\n"
     ]
    },
    {
     "name": "stdout",
     "output_type": "stream",
     "text": [
      "Epoch 200, Loss: 35.0519, Recon: 25.2211, KL: 9.8308\n",
      "\n",
      "===== Epoch 201 =====\n"
     ]
    },
    {
     "name": "stderr",
     "output_type": "stream",
     "text": [
      "Epoch 201/500: 100%|████████████████████████████████████| 11/11 [00:00<00:00, 1186.39it/s]\n"
     ]
    },
    {
     "name": "stdout",
     "output_type": "stream",
     "text": [
      "Epoch 201, Loss: 35.0062, Recon: 25.1228, KL: 9.8833\n",
      "\n",
      "===== Epoch 202 =====\n"
     ]
    },
    {
     "name": "stderr",
     "output_type": "stream",
     "text": [
      "Epoch 202/500: 100%|████████████████████████████████████| 11/11 [00:00<00:00, 1161.10it/s]\n"
     ]
    },
    {
     "name": "stdout",
     "output_type": "stream",
     "text": [
      "Epoch 202, Loss: 34.8153, Recon: 24.9108, KL: 9.9046\n",
      "\n",
      "===== Epoch 203 =====\n"
     ]
    },
    {
     "name": "stderr",
     "output_type": "stream",
     "text": [
      "Epoch 203/500: 100%|████████████████████████████████████| 11/11 [00:00<00:00, 1165.38it/s]\n"
     ]
    },
    {
     "name": "stdout",
     "output_type": "stream",
     "text": [
      "Epoch 203, Loss: 35.1329, Recon: 25.2571, KL: 9.8758\n",
      "\n",
      "===== Epoch 204 =====\n"
     ]
    },
    {
     "name": "stderr",
     "output_type": "stream",
     "text": [
      "Epoch 204/500: 100%|████████████████████████████████████| 11/11 [00:00<00:00, 1146.90it/s]\n"
     ]
    },
    {
     "name": "stdout",
     "output_type": "stream",
     "text": [
      "Epoch 204, Loss: 34.4883, Recon: 24.5526, KL: 9.9357\n",
      "\n",
      "===== Epoch 205 =====\n"
     ]
    },
    {
     "name": "stderr",
     "output_type": "stream",
     "text": [
      "Epoch 205/500: 100%|████████████████████████████████████| 11/11 [00:00<00:00, 1186.87it/s]\n"
     ]
    },
    {
     "name": "stdout",
     "output_type": "stream",
     "text": [
      "Epoch 205, Loss: 34.5260, Recon: 24.6791, KL: 9.8469\n",
      "\n",
      "===== Epoch 206 =====\n"
     ]
    },
    {
     "name": "stderr",
     "output_type": "stream",
     "text": [
      "Epoch 206/500: 100%|████████████████████████████████████| 11/11 [00:00<00:00, 1044.26it/s]\n"
     ]
    },
    {
     "name": "stdout",
     "output_type": "stream",
     "text": [
      "Epoch 206, Loss: 34.6130, Recon: 24.8571, KL: 9.7559\n",
      "\n",
      "===== Epoch 207 =====\n"
     ]
    },
    {
     "name": "stderr",
     "output_type": "stream",
     "text": [
      "Epoch 207/500: 100%|████████████████████████████████████| 11/11 [00:00<00:00, 1153.75it/s]\n"
     ]
    },
    {
     "name": "stdout",
     "output_type": "stream",
     "text": [
      "Epoch 207, Loss: 34.6807, Recon: 24.8939, KL: 9.7868\n",
      "\n",
      "===== Epoch 208 =====\n"
     ]
    },
    {
     "name": "stderr",
     "output_type": "stream",
     "text": [
      "Epoch 208/500: 100%|████████████████████████████████████| 11/11 [00:00<00:00, 1188.04it/s]\n"
     ]
    },
    {
     "name": "stdout",
     "output_type": "stream",
     "text": [
      "Epoch 208, Loss: 34.6778, Recon: 24.9127, KL: 9.7651\n",
      "\n",
      "===== Epoch 209 =====\n"
     ]
    },
    {
     "name": "stderr",
     "output_type": "stream",
     "text": [
      "Epoch 209/500: 100%|████████████████████████████████████| 11/11 [00:00<00:00, 1193.97it/s]\n"
     ]
    },
    {
     "name": "stdout",
     "output_type": "stream",
     "text": [
      "Epoch 209, Loss: 34.5794, Recon: 24.7530, KL: 9.8264\n",
      "\n",
      "===== Epoch 210 =====\n"
     ]
    },
    {
     "name": "stderr",
     "output_type": "stream",
     "text": [
      "Epoch 210/500: 100%|████████████████████████████████████| 11/11 [00:00<00:00, 1144.90it/s]\n"
     ]
    },
    {
     "name": "stdout",
     "output_type": "stream",
     "text": [
      "Epoch 210, Loss: 34.4180, Recon: 24.5987, KL: 9.8194\n",
      "\n",
      "===== Epoch 211 =====\n"
     ]
    },
    {
     "name": "stderr",
     "output_type": "stream",
     "text": [
      "Epoch 211/500: 100%|████████████████████████████████████| 11/11 [00:00<00:00, 1139.90it/s]\n"
     ]
    },
    {
     "name": "stdout",
     "output_type": "stream",
     "text": [
      "Epoch 211, Loss: 34.5092, Recon: 24.6564, KL: 9.8528\n",
      "\n",
      "===== Epoch 212 =====\n"
     ]
    },
    {
     "name": "stderr",
     "output_type": "stream",
     "text": [
      "Epoch 212/500: 100%|████████████████████████████████████| 11/11 [00:00<00:00, 1218.02it/s]\n"
     ]
    },
    {
     "name": "stdout",
     "output_type": "stream",
     "text": [
      "Epoch 212, Loss: 34.4429, Recon: 24.6261, KL: 9.8168\n",
      "\n",
      "===== Epoch 213 =====\n"
     ]
    },
    {
     "name": "stderr",
     "output_type": "stream",
     "text": [
      "Epoch 213/500: 100%|████████████████████████████████████| 11/11 [00:00<00:00, 1174.37it/s]\n"
     ]
    },
    {
     "name": "stdout",
     "output_type": "stream",
     "text": [
      "Epoch 213, Loss: 34.2404, Recon: 24.4575, KL: 9.7829\n",
      "\n",
      "===== Epoch 214 =====\n"
     ]
    },
    {
     "name": "stderr",
     "output_type": "stream",
     "text": [
      "Epoch 214/500: 100%|████████████████████████████████████| 11/11 [00:00<00:00, 1208.42it/s]\n"
     ]
    },
    {
     "name": "stdout",
     "output_type": "stream",
     "text": [
      "Epoch 214, Loss: 34.0683, Recon: 24.2612, KL: 9.8071\n",
      "\n",
      "===== Epoch 215 =====\n"
     ]
    },
    {
     "name": "stderr",
     "output_type": "stream",
     "text": [
      "Epoch 215/500: 100%|████████████████████████████████████| 11/11 [00:00<00:00, 1225.53it/s]\n"
     ]
    },
    {
     "name": "stdout",
     "output_type": "stream",
     "text": [
      "Epoch 215, Loss: 34.2823, Recon: 24.5543, KL: 9.7280\n",
      "\n",
      "===== Epoch 216 =====\n"
     ]
    },
    {
     "name": "stderr",
     "output_type": "stream",
     "text": [
      "Epoch 216/500: 100%|████████████████████████████████████| 11/11 [00:00<00:00, 1123.71it/s]\n"
     ]
    },
    {
     "name": "stdout",
     "output_type": "stream",
     "text": [
      "Epoch 216, Loss: 34.2681, Recon: 24.5147, KL: 9.7535\n",
      "\n",
      "===== Epoch 217 =====\n"
     ]
    },
    {
     "name": "stderr",
     "output_type": "stream",
     "text": [
      "Epoch 217/500: 100%|████████████████████████████████████| 11/11 [00:00<00:00, 1192.03it/s]\n"
     ]
    },
    {
     "name": "stdout",
     "output_type": "stream",
     "text": [
      "Epoch 217, Loss: 34.6370, Recon: 24.8089, KL: 9.8281\n",
      "\n",
      "===== Epoch 218 =====\n"
     ]
    },
    {
     "name": "stderr",
     "output_type": "stream",
     "text": [
      "Epoch 218/500: 100%|████████████████████████████████████| 11/11 [00:00<00:00, 1190.09it/s]\n"
     ]
    },
    {
     "name": "stdout",
     "output_type": "stream",
     "text": [
      "Epoch 218, Loss: 33.8262, Recon: 23.9309, KL: 9.8953\n",
      "\n",
      "===== Epoch 219 =====\n"
     ]
    },
    {
     "name": "stderr",
     "output_type": "stream",
     "text": [
      "Epoch 219/500: 100%|████████████████████████████████████| 11/11 [00:00<00:00, 1172.46it/s]\n"
     ]
    },
    {
     "name": "stdout",
     "output_type": "stream",
     "text": [
      "Epoch 219, Loss: 33.9920, Recon: 24.1126, KL: 9.8794\n",
      "\n",
      "===== Epoch 220 =====\n"
     ]
    },
    {
     "name": "stderr",
     "output_type": "stream",
     "text": [
      "Epoch 220/500: 100%|████████████████████████████████████| 11/11 [00:00<00:00, 1196.04it/s]\n"
     ]
    },
    {
     "name": "stdout",
     "output_type": "stream",
     "text": [
      "Epoch 220, Loss: 34.0121, Recon: 24.2091, KL: 9.8030\n",
      "\n",
      "===== Epoch 221 =====\n"
     ]
    },
    {
     "name": "stderr",
     "output_type": "stream",
     "text": [
      "Epoch 221/500: 100%|████████████████████████████████████| 11/11 [00:00<00:00, 1160.34it/s]\n"
     ]
    },
    {
     "name": "stdout",
     "output_type": "stream",
     "text": [
      "Epoch 221, Loss: 33.8991, Recon: 24.0993, KL: 9.7999\n",
      "\n",
      "===== Epoch 222 =====\n"
     ]
    },
    {
     "name": "stderr",
     "output_type": "stream",
     "text": [
      "Epoch 222/500: 100%|████████████████████████████████████| 11/11 [00:00<00:00, 1229.48it/s]\n"
     ]
    },
    {
     "name": "stdout",
     "output_type": "stream",
     "text": [
      "Epoch 222, Loss: 33.7275, Recon: 23.9526, KL: 9.7749\n",
      "\n",
      "===== Epoch 223 =====\n"
     ]
    },
    {
     "name": "stderr",
     "output_type": "stream",
     "text": [
      "Epoch 223/500: 100%|████████████████████████████████████| 11/11 [00:00<00:00, 1111.88it/s]\n"
     ]
    },
    {
     "name": "stdout",
     "output_type": "stream",
     "text": [
      "Epoch 223, Loss: 34.0707, Recon: 24.3167, KL: 9.7540\n",
      "\n",
      "===== Epoch 224 =====\n"
     ]
    },
    {
     "name": "stderr",
     "output_type": "stream",
     "text": [
      "Epoch 224/500: 100%|████████████████████████████████████| 11/11 [00:00<00:00, 1172.93it/s]\n"
     ]
    },
    {
     "name": "stdout",
     "output_type": "stream",
     "text": [
      "Epoch 224, Loss: 33.7867, Recon: 24.0274, KL: 9.7593\n",
      "\n",
      "===== Epoch 225 =====\n"
     ]
    },
    {
     "name": "stderr",
     "output_type": "stream",
     "text": [
      "Epoch 225/500: 100%|████████████████████████████████████| 11/11 [00:00<00:00, 1231.77it/s]\n"
     ]
    },
    {
     "name": "stdout",
     "output_type": "stream",
     "text": [
      "Epoch 225, Loss: 33.8772, Recon: 24.1573, KL: 9.7199\n",
      "\n",
      "===== Epoch 226 =====\n"
     ]
    },
    {
     "name": "stderr",
     "output_type": "stream",
     "text": [
      "Epoch 226/500: 100%|████████████████████████████████████| 11/11 [00:00<00:00, 1140.60it/s]\n"
     ]
    },
    {
     "name": "stdout",
     "output_type": "stream",
     "text": [
      "Epoch 226, Loss: 33.8080, Recon: 24.0652, KL: 9.7428\n",
      "\n",
      "===== Epoch 227 =====\n"
     ]
    },
    {
     "name": "stderr",
     "output_type": "stream",
     "text": [
      "Epoch 227/500: 100%|█████████████████████████████████████| 11/11 [00:00<00:00, 987.28it/s]\n"
     ]
    },
    {
     "name": "stdout",
     "output_type": "stream",
     "text": [
      "Epoch 227, Loss: 33.9111, Recon: 24.0985, KL: 9.8125\n",
      "\n",
      "===== Epoch 228 =====\n"
     ]
    },
    {
     "name": "stderr",
     "output_type": "stream",
     "text": [
      "Epoch 228/500: 100%|████████████████████████████████████| 11/11 [00:00<00:00, 1189.32it/s]\n"
     ]
    },
    {
     "name": "stdout",
     "output_type": "stream",
     "text": [
      "Epoch 228, Loss: 33.6420, Recon: 23.7830, KL: 9.8591\n",
      "\n",
      "===== Epoch 229 =====\n"
     ]
    },
    {
     "name": "stderr",
     "output_type": "stream",
     "text": [
      "Epoch 229/500: 100%|████████████████████████████████████| 11/11 [00:00<00:00, 1125.08it/s]\n"
     ]
    },
    {
     "name": "stdout",
     "output_type": "stream",
     "text": [
      "Epoch 229, Loss: 33.6641, Recon: 23.8485, KL: 9.8156\n",
      "\n",
      "===== Epoch 230 =====\n"
     ]
    },
    {
     "name": "stderr",
     "output_type": "stream",
     "text": [
      "Epoch 230/500: 100%|████████████████████████████████████| 11/11 [00:00<00:00, 1259.72it/s]\n"
     ]
    },
    {
     "name": "stdout",
     "output_type": "stream",
     "text": [
      "Epoch 230, Loss: 33.6949, Recon: 23.8271, KL: 9.8678\n",
      "\n",
      "===== Epoch 231 =====\n"
     ]
    },
    {
     "name": "stderr",
     "output_type": "stream",
     "text": [
      "Epoch 231/500: 100%|████████████████████████████████████| 11/11 [00:00<00:00, 1184.19it/s]\n"
     ]
    },
    {
     "name": "stdout",
     "output_type": "stream",
     "text": [
      "Epoch 231, Loss: 33.5320, Recon: 23.6886, KL: 9.8434\n",
      "\n",
      "===== Epoch 232 =====\n"
     ]
    },
    {
     "name": "stderr",
     "output_type": "stream",
     "text": [
      "Epoch 232/500: 100%|████████████████████████████████████| 11/11 [00:00<00:00, 1134.49it/s]\n"
     ]
    },
    {
     "name": "stdout",
     "output_type": "stream",
     "text": [
      "Epoch 232, Loss: 33.4059, Recon: 23.5780, KL: 9.8279\n",
      "\n",
      "===== Epoch 233 =====\n"
     ]
    },
    {
     "name": "stderr",
     "output_type": "stream",
     "text": [
      "Epoch 233/500: 100%|████████████████████████████████████| 11/11 [00:00<00:00, 1233.98it/s]\n"
     ]
    },
    {
     "name": "stdout",
     "output_type": "stream",
     "text": [
      "Epoch 233, Loss: 33.5040, Recon: 23.6595, KL: 9.8445\n",
      "\n",
      "===== Epoch 234 =====\n"
     ]
    },
    {
     "name": "stderr",
     "output_type": "stream",
     "text": [
      "Epoch 234/500: 100%|████████████████████████████████████| 11/11 [00:00<00:00, 1235.27it/s]\n"
     ]
    },
    {
     "name": "stdout",
     "output_type": "stream",
     "text": [
      "Epoch 234, Loss: 33.5708, Recon: 23.7589, KL: 9.8119\n",
      "\n",
      "===== Epoch 235 =====\n"
     ]
    },
    {
     "name": "stderr",
     "output_type": "stream",
     "text": [
      "Epoch 235/500: 100%|████████████████████████████████████| 11/11 [00:00<00:00, 1118.92it/s]\n"
     ]
    },
    {
     "name": "stdout",
     "output_type": "stream",
     "text": [
      "Epoch 235, Loss: 33.3669, Recon: 23.5906, KL: 9.7763\n",
      "\n",
      "===== Epoch 236 =====\n"
     ]
    },
    {
     "name": "stderr",
     "output_type": "stream",
     "text": [
      "Epoch 236/500: 100%|████████████████████████████████████| 11/11 [00:00<00:00, 1235.14it/s]\n"
     ]
    },
    {
     "name": "stdout",
     "output_type": "stream",
     "text": [
      "Epoch 236, Loss: 33.4932, Recon: 23.7538, KL: 9.7394\n",
      "\n",
      "===== Epoch 237 =====\n"
     ]
    },
    {
     "name": "stderr",
     "output_type": "stream",
     "text": [
      "Epoch 237/500: 100%|████████████████████████████████████| 11/11 [00:00<00:00, 1213.44it/s]\n"
     ]
    },
    {
     "name": "stdout",
     "output_type": "stream",
     "text": [
      "Epoch 237, Loss: 33.3935, Recon: 23.6053, KL: 9.7883\n",
      "\n",
      "===== Epoch 238 =====\n"
     ]
    },
    {
     "name": "stderr",
     "output_type": "stream",
     "text": [
      "Epoch 238/500: 100%|████████████████████████████████████| 11/11 [00:00<00:00, 1210.95it/s]\n"
     ]
    },
    {
     "name": "stdout",
     "output_type": "stream",
     "text": [
      "Epoch 238, Loss: 33.4066, Recon: 23.6565, KL: 9.7501\n",
      "\n",
      "===== Epoch 239 =====\n"
     ]
    },
    {
     "name": "stderr",
     "output_type": "stream",
     "text": [
      "Epoch 239/500: 100%|████████████████████████████████████| 11/11 [00:00<00:00, 1137.79it/s]\n"
     ]
    },
    {
     "name": "stdout",
     "output_type": "stream",
     "text": [
      "Epoch 239, Loss: 33.4607, Recon: 23.6869, KL: 9.7738\n",
      "\n",
      "===== Epoch 240 =====\n"
     ]
    },
    {
     "name": "stderr",
     "output_type": "stream",
     "text": [
      "Epoch 240/500: 100%|█████████████████████████████████████| 11/11 [00:00<00:00, 873.02it/s]\n"
     ]
    },
    {
     "name": "stdout",
     "output_type": "stream",
     "text": [
      "Epoch 240, Loss: 33.2147, Recon: 23.3587, KL: 9.8559\n",
      "\n",
      "===== Epoch 241 =====\n"
     ]
    },
    {
     "name": "stderr",
     "output_type": "stream",
     "text": [
      "Epoch 241/500: 100%|█████████████████████████████████████| 11/11 [00:00<00:00, 775.20it/s]\n"
     ]
    },
    {
     "name": "stdout",
     "output_type": "stream",
     "text": [
      "Epoch 241, Loss: 33.0445, Recon: 23.2361, KL: 9.8084\n",
      "\n",
      "===== Epoch 242 =====\n"
     ]
    },
    {
     "name": "stderr",
     "output_type": "stream",
     "text": [
      "Epoch 242/500: 100%|█████████████████████████████████████| 11/11 [00:00<00:00, 939.60it/s]\n"
     ]
    },
    {
     "name": "stdout",
     "output_type": "stream",
     "text": [
      "Epoch 242, Loss: 33.1926, Recon: 23.4269, KL: 9.7657\n",
      "\n",
      "===== Epoch 243 =====\n"
     ]
    },
    {
     "name": "stderr",
     "output_type": "stream",
     "text": [
      "Epoch 243/500: 100%|████████████████████████████████████| 11/11 [00:00<00:00, 1158.85it/s]\n"
     ]
    },
    {
     "name": "stdout",
     "output_type": "stream",
     "text": [
      "Epoch 243, Loss: 33.4503, Recon: 23.6320, KL: 9.8183\n",
      "\n",
      "===== Epoch 244 =====\n"
     ]
    },
    {
     "name": "stderr",
     "output_type": "stream",
     "text": [
      "Epoch 244/500: 100%|████████████████████████████████████| 11/11 [00:00<00:00, 1149.30it/s]\n"
     ]
    },
    {
     "name": "stdout",
     "output_type": "stream",
     "text": [
      "Epoch 244, Loss: 32.9577, Recon: 23.1270, KL: 9.8307\n",
      "\n",
      "===== Epoch 245 =====\n"
     ]
    },
    {
     "name": "stderr",
     "output_type": "stream",
     "text": [
      "Epoch 245/500: 100%|████████████████████████████████████| 11/11 [00:00<00:00, 1033.06it/s]\n"
     ]
    },
    {
     "name": "stdout",
     "output_type": "stream",
     "text": [
      "Epoch 245, Loss: 33.0659, Recon: 23.2929, KL: 9.7730\n",
      "\n",
      "===== Epoch 246 =====\n"
     ]
    },
    {
     "name": "stderr",
     "output_type": "stream",
     "text": [
      "Epoch 246/500: 100%|████████████████████████████████████| 11/11 [00:00<00:00, 1185.11it/s]\n"
     ]
    },
    {
     "name": "stdout",
     "output_type": "stream",
     "text": [
      "Epoch 246, Loss: 32.8731, Recon: 23.1210, KL: 9.7521\n",
      "\n",
      "===== Epoch 247 =====\n"
     ]
    },
    {
     "name": "stderr",
     "output_type": "stream",
     "text": [
      "Epoch 247/500: 100%|████████████████████████████████████| 11/11 [00:00<00:00, 1101.66it/s]\n"
     ]
    },
    {
     "name": "stdout",
     "output_type": "stream",
     "text": [
      "Epoch 247, Loss: 33.1525, Recon: 23.4203, KL: 9.7322\n",
      "\n",
      "===== Epoch 248 =====\n"
     ]
    },
    {
     "name": "stderr",
     "output_type": "stream",
     "text": [
      "Epoch 248/500: 100%|████████████████████████████████████| 11/11 [00:00<00:00, 1080.15it/s]\n"
     ]
    },
    {
     "name": "stdout",
     "output_type": "stream",
     "text": [
      "Epoch 248, Loss: 32.5559, Recon: 22.7894, KL: 9.7665\n",
      "\n",
      "===== Epoch 249 =====\n"
     ]
    },
    {
     "name": "stderr",
     "output_type": "stream",
     "text": [
      "Epoch 249/500: 100%|████████████████████████████████████| 11/11 [00:00<00:00, 1177.36it/s]\n"
     ]
    },
    {
     "name": "stdout",
     "output_type": "stream",
     "text": [
      "Epoch 249, Loss: 32.8692, Recon: 23.1237, KL: 9.7456\n",
      "\n",
      "===== Epoch 250 =====\n"
     ]
    },
    {
     "name": "stderr",
     "output_type": "stream",
     "text": [
      "Epoch 250/500: 100%|████████████████████████████████████| 11/11 [00:00<00:00, 1249.12it/s]\n"
     ]
    },
    {
     "name": "stdout",
     "output_type": "stream",
     "text": [
      "Epoch 250, Loss: 32.8120, Recon: 23.1328, KL: 9.6792\n",
      "\n",
      "===== Epoch 251 =====\n"
     ]
    },
    {
     "name": "stderr",
     "output_type": "stream",
     "text": [
      "Epoch 251/500: 100%|████████████████████████████████████| 11/11 [00:00<00:00, 1213.73it/s]\n"
     ]
    },
    {
     "name": "stdout",
     "output_type": "stream",
     "text": [
      "Epoch 251, Loss: 32.7554, Recon: 23.0761, KL: 9.6794\n",
      "\n",
      "===== Epoch 252 =====\n"
     ]
    },
    {
     "name": "stderr",
     "output_type": "stream",
     "text": [
      "Epoch 252/500: 100%|████████████████████████████████████| 11/11 [00:00<00:00, 1207.18it/s]\n"
     ]
    },
    {
     "name": "stdout",
     "output_type": "stream",
     "text": [
      "Epoch 252, Loss: 33.0083, Recon: 23.3031, KL: 9.7052\n",
      "\n",
      "===== Epoch 253 =====\n"
     ]
    },
    {
     "name": "stderr",
     "output_type": "stream",
     "text": [
      "Epoch 253/500: 100%|████████████████████████████████████| 11/11 [00:00<00:00, 1121.64it/s]\n"
     ]
    },
    {
     "name": "stdout",
     "output_type": "stream",
     "text": [
      "Epoch 253, Loss: 32.5082, Recon: 22.7450, KL: 9.7633\n",
      "\n",
      "===== Epoch 254 =====\n"
     ]
    },
    {
     "name": "stderr",
     "output_type": "stream",
     "text": [
      "Epoch 254/500: 100%|████████████████████████████████████| 11/11 [00:00<00:00, 1206.39it/s]\n"
     ]
    },
    {
     "name": "stdout",
     "output_type": "stream",
     "text": [
      "Epoch 254, Loss: 32.4409, Recon: 22.7289, KL: 9.7121\n",
      "\n",
      "===== Epoch 255 =====\n"
     ]
    },
    {
     "name": "stderr",
     "output_type": "stream",
     "text": [
      "Epoch 255/500: 100%|████████████████████████████████████| 11/11 [00:00<00:00, 1158.62it/s]\n"
     ]
    },
    {
     "name": "stdout",
     "output_type": "stream",
     "text": [
      "Epoch 255, Loss: 32.7712, Recon: 23.0520, KL: 9.7192\n",
      "\n",
      "===== Epoch 256 =====\n"
     ]
    },
    {
     "name": "stderr",
     "output_type": "stream",
     "text": [
      "Epoch 256/500: 100%|████████████████████████████████████| 11/11 [00:00<00:00, 1184.07it/s]\n"
     ]
    },
    {
     "name": "stdout",
     "output_type": "stream",
     "text": [
      "Epoch 256, Loss: 32.3848, Recon: 22.6982, KL: 9.6866\n",
      "\n",
      "===== Epoch 257 =====\n"
     ]
    },
    {
     "name": "stderr",
     "output_type": "stream",
     "text": [
      "Epoch 257/500: 100%|████████████████████████████████████| 11/11 [00:00<00:00, 1159.99it/s]\n"
     ]
    },
    {
     "name": "stdout",
     "output_type": "stream",
     "text": [
      "Epoch 257, Loss: 32.5285, Recon: 22.8436, KL: 9.6850\n",
      "\n",
      "===== Epoch 258 =====\n"
     ]
    },
    {
     "name": "stderr",
     "output_type": "stream",
     "text": [
      "Epoch 258/500: 100%|████████████████████████████████████| 11/11 [00:00<00:00, 1179.23it/s]\n"
     ]
    },
    {
     "name": "stdout",
     "output_type": "stream",
     "text": [
      "Epoch 258, Loss: 32.2510, Recon: 22.5961, KL: 9.6549\n",
      "\n",
      "===== Epoch 259 =====\n"
     ]
    },
    {
     "name": "stderr",
     "output_type": "stream",
     "text": [
      "Epoch 259/500: 100%|████████████████████████████████████| 11/11 [00:00<00:00, 1206.02it/s]\n"
     ]
    },
    {
     "name": "stdout",
     "output_type": "stream",
     "text": [
      "Epoch 259, Loss: 32.5833, Recon: 22.9862, KL: 9.5971\n",
      "\n",
      "===== Epoch 260 =====\n"
     ]
    },
    {
     "name": "stderr",
     "output_type": "stream",
     "text": [
      "Epoch 260/500: 100%|████████████████████████████████████| 11/11 [00:00<00:00, 1150.27it/s]\n"
     ]
    },
    {
     "name": "stdout",
     "output_type": "stream",
     "text": [
      "Epoch 260, Loss: 32.1942, Recon: 22.5958, KL: 9.5984\n",
      "\n",
      "===== Epoch 261 =====\n"
     ]
    },
    {
     "name": "stderr",
     "output_type": "stream",
     "text": [
      "Epoch 261/500: 100%|████████████████████████████████████| 11/11 [00:00<00:00, 1116.86it/s]\n"
     ]
    },
    {
     "name": "stdout",
     "output_type": "stream",
     "text": [
      "Epoch 261, Loss: 32.5398, Recon: 22.9090, KL: 9.6308\n",
      "\n",
      "===== Epoch 262 =====\n"
     ]
    },
    {
     "name": "stderr",
     "output_type": "stream",
     "text": [
      "Epoch 262/500: 100%|████████████████████████████████████| 11/11 [00:00<00:00, 1251.32it/s]\n"
     ]
    },
    {
     "name": "stdout",
     "output_type": "stream",
     "text": [
      "Epoch 262, Loss: 32.0731, Recon: 22.4217, KL: 9.6514\n",
      "\n",
      "===== Epoch 263 =====\n"
     ]
    },
    {
     "name": "stderr",
     "output_type": "stream",
     "text": [
      "Epoch 263/500: 100%|████████████████████████████████████| 11/11 [00:00<00:00, 1126.92it/s]\n"
     ]
    },
    {
     "name": "stdout",
     "output_type": "stream",
     "text": [
      "Epoch 263, Loss: 32.2095, Recon: 22.5814, KL: 9.6281\n",
      "\n",
      "===== Epoch 264 =====\n"
     ]
    },
    {
     "name": "stderr",
     "output_type": "stream",
     "text": [
      "Epoch 264/500: 100%|████████████████████████████████████| 11/11 [00:00<00:00, 1211.97it/s]\n"
     ]
    },
    {
     "name": "stdout",
     "output_type": "stream",
     "text": [
      "Epoch 264, Loss: 32.4484, Recon: 22.8219, KL: 9.6265\n",
      "\n",
      "===== Epoch 265 =====\n"
     ]
    },
    {
     "name": "stderr",
     "output_type": "stream",
     "text": [
      "Epoch 265/500: 100%|████████████████████████████████████| 11/11 [00:00<00:00, 1165.03it/s]\n"
     ]
    },
    {
     "name": "stdout",
     "output_type": "stream",
     "text": [
      "Epoch 265, Loss: 32.1315, Recon: 22.5160, KL: 9.6155\n",
      "\n",
      "===== Epoch 266 =====\n"
     ]
    },
    {
     "name": "stderr",
     "output_type": "stream",
     "text": [
      "Epoch 266/500: 100%|█████████████████████████████████████| 11/11 [00:00<00:00, 995.13it/s]\n"
     ]
    },
    {
     "name": "stdout",
     "output_type": "stream",
     "text": [
      "Epoch 266, Loss: 32.0152, Recon: 22.3954, KL: 9.6198\n",
      "\n",
      "===== Epoch 267 =====\n"
     ]
    },
    {
     "name": "stderr",
     "output_type": "stream",
     "text": [
      "Epoch 267/500: 100%|████████████████████████████████████| 11/11 [00:00<00:00, 1205.10it/s]\n"
     ]
    },
    {
     "name": "stdout",
     "output_type": "stream",
     "text": [
      "Epoch 267, Loss: 32.1888, Recon: 22.5817, KL: 9.6071\n",
      "\n",
      "===== Epoch 268 =====\n"
     ]
    },
    {
     "name": "stderr",
     "output_type": "stream",
     "text": [
      "Epoch 268/500: 100%|████████████████████████████████████| 11/11 [00:00<00:00, 1193.57it/s]\n"
     ]
    },
    {
     "name": "stdout",
     "output_type": "stream",
     "text": [
      "Epoch 268, Loss: 31.8827, Recon: 22.2312, KL: 9.6516\n",
      "\n",
      "===== Epoch 269 =====\n"
     ]
    },
    {
     "name": "stderr",
     "output_type": "stream",
     "text": [
      "Epoch 269/500: 100%|████████████████████████████████████| 11/11 [00:00<00:00, 1111.90it/s]\n"
     ]
    },
    {
     "name": "stdout",
     "output_type": "stream",
     "text": [
      "Epoch 269, Loss: 32.0839, Recon: 22.4991, KL: 9.5848\n",
      "\n",
      "===== Epoch 270 =====\n"
     ]
    },
    {
     "name": "stderr",
     "output_type": "stream",
     "text": [
      "Epoch 270/500: 100%|████████████████████████████████████| 11/11 [00:00<00:00, 1266.12it/s]\n"
     ]
    },
    {
     "name": "stdout",
     "output_type": "stream",
     "text": [
      "Epoch 270, Loss: 32.2162, Recon: 22.6335, KL: 9.5828\n",
      "\n",
      "===== Epoch 271 =====\n"
     ]
    },
    {
     "name": "stderr",
     "output_type": "stream",
     "text": [
      "Epoch 271/500: 100%|████████████████████████████████████| 11/11 [00:00<00:00, 1122.10it/s]\n"
     ]
    },
    {
     "name": "stdout",
     "output_type": "stream",
     "text": [
      "Epoch 271, Loss: 32.0597, Recon: 22.3721, KL: 9.6875\n",
      "\n",
      "===== Epoch 272 =====\n"
     ]
    },
    {
     "name": "stderr",
     "output_type": "stream",
     "text": [
      "Epoch 272/500: 100%|████████████████████████████████████| 11/11 [00:00<00:00, 1109.98it/s]\n"
     ]
    },
    {
     "name": "stdout",
     "output_type": "stream",
     "text": [
      "Epoch 272, Loss: 31.9302, Recon: 22.2592, KL: 9.6710\n",
      "\n",
      "===== Epoch 273 =====\n"
     ]
    },
    {
     "name": "stderr",
     "output_type": "stream",
     "text": [
      "Epoch 273/500: 100%|████████████████████████████████████| 11/11 [00:00<00:00, 1217.60it/s]\n"
     ]
    },
    {
     "name": "stdout",
     "output_type": "stream",
     "text": [
      "Epoch 273, Loss: 32.0902, Recon: 22.4084, KL: 9.6818\n",
      "\n",
      "===== Epoch 274 =====\n"
     ]
    },
    {
     "name": "stderr",
     "output_type": "stream",
     "text": [
      "Epoch 274/500: 100%|████████████████████████████████████| 11/11 [00:00<00:00, 1180.41it/s]\n"
     ]
    },
    {
     "name": "stdout",
     "output_type": "stream",
     "text": [
      "Epoch 274, Loss: 31.9737, Recon: 22.2936, KL: 9.6801\n",
      "\n",
      "===== Epoch 275 =====\n"
     ]
    },
    {
     "name": "stderr",
     "output_type": "stream",
     "text": [
      "Epoch 275/500: 100%|████████████████████████████████████| 11/11 [00:00<00:00, 1176.49it/s]\n"
     ]
    },
    {
     "name": "stdout",
     "output_type": "stream",
     "text": [
      "Epoch 275, Loss: 32.0628, Recon: 22.4205, KL: 9.6423\n",
      "\n",
      "===== Epoch 276 =====\n"
     ]
    },
    {
     "name": "stderr",
     "output_type": "stream",
     "text": [
      "Epoch 276/500: 100%|████████████████████████████████████| 11/11 [00:00<00:00, 1101.45it/s]\n"
     ]
    },
    {
     "name": "stdout",
     "output_type": "stream",
     "text": [
      "Epoch 276, Loss: 32.2269, Recon: 22.4761, KL: 9.7508\n",
      "\n",
      "===== Epoch 277 =====\n"
     ]
    },
    {
     "name": "stderr",
     "output_type": "stream",
     "text": [
      "Epoch 277/500: 100%|████████████████████████████████████| 11/11 [00:00<00:00, 1213.57it/s]\n"
     ]
    },
    {
     "name": "stdout",
     "output_type": "stream",
     "text": [
      "Epoch 277, Loss: 31.4668, Recon: 21.7080, KL: 9.7588\n",
      "\n",
      "===== Epoch 278 =====\n"
     ]
    },
    {
     "name": "stderr",
     "output_type": "stream",
     "text": [
      "Epoch 278/500: 100%|████████████████████████████████████| 11/11 [00:00<00:00, 1219.66it/s]\n"
     ]
    },
    {
     "name": "stdout",
     "output_type": "stream",
     "text": [
      "Epoch 278, Loss: 31.9213, Recon: 22.2947, KL: 9.6266\n",
      "\n",
      "===== Epoch 279 =====\n"
     ]
    },
    {
     "name": "stderr",
     "output_type": "stream",
     "text": [
      "Epoch 279/500: 100%|████████████████████████████████████| 11/11 [00:00<00:00, 1105.77it/s]\n"
     ]
    },
    {
     "name": "stdout",
     "output_type": "stream",
     "text": [
      "Epoch 279, Loss: 31.7110, Recon: 22.0393, KL: 9.6717\n",
      "\n",
      "===== Epoch 280 =====\n"
     ]
    },
    {
     "name": "stderr",
     "output_type": "stream",
     "text": [
      "Epoch 280/500: 100%|████████████████████████████████████| 11/11 [00:00<00:00, 1080.12it/s]\n"
     ]
    },
    {
     "name": "stdout",
     "output_type": "stream",
     "text": [
      "Epoch 280, Loss: 31.4620, Recon: 21.8453, KL: 9.6167\n",
      "\n",
      "===== Epoch 281 =====\n"
     ]
    },
    {
     "name": "stderr",
     "output_type": "stream",
     "text": [
      "Epoch 281/500: 100%|████████████████████████████████████| 11/11 [00:00<00:00, 1162.56it/s]\n"
     ]
    },
    {
     "name": "stdout",
     "output_type": "stream",
     "text": [
      "Epoch 281, Loss: 31.8261, Recon: 22.2957, KL: 9.5304\n",
      "\n",
      "===== Epoch 282 =====\n"
     ]
    },
    {
     "name": "stderr",
     "output_type": "stream",
     "text": [
      "Epoch 282/500: 100%|████████████████████████████████████| 11/11 [00:00<00:00, 1156.67it/s]\n"
     ]
    },
    {
     "name": "stdout",
     "output_type": "stream",
     "text": [
      "Epoch 282, Loss: 31.5858, Recon: 22.0104, KL: 9.5753\n",
      "\n",
      "===== Epoch 283 =====\n"
     ]
    },
    {
     "name": "stderr",
     "output_type": "stream",
     "text": [
      "Epoch 283/500: 100%|████████████████████████████████████| 11/11 [00:00<00:00, 1155.11it/s]\n"
     ]
    },
    {
     "name": "stdout",
     "output_type": "stream",
     "text": [
      "Epoch 283, Loss: 31.7622, Recon: 22.1306, KL: 9.6316\n",
      "\n",
      "===== Epoch 284 =====\n"
     ]
    },
    {
     "name": "stderr",
     "output_type": "stream",
     "text": [
      "Epoch 284/500: 100%|████████████████████████████████████| 11/11 [00:00<00:00, 1217.06it/s]\n"
     ]
    },
    {
     "name": "stdout",
     "output_type": "stream",
     "text": [
      "Epoch 284, Loss: 31.7088, Recon: 22.0773, KL: 9.6315\n",
      "\n",
      "===== Epoch 285 =====\n"
     ]
    },
    {
     "name": "stderr",
     "output_type": "stream",
     "text": [
      "Epoch 285/500: 100%|████████████████████████████████████| 11/11 [00:00<00:00, 1170.73it/s]\n"
     ]
    },
    {
     "name": "stdout",
     "output_type": "stream",
     "text": [
      "Epoch 285, Loss: 31.5462, Recon: 21.9266, KL: 9.6197\n",
      "\n",
      "===== Epoch 286 =====\n"
     ]
    },
    {
     "name": "stderr",
     "output_type": "stream",
     "text": [
      "Epoch 286/500: 100%|████████████████████████████████████| 11/11 [00:00<00:00, 1173.59it/s]\n"
     ]
    },
    {
     "name": "stdout",
     "output_type": "stream",
     "text": [
      "Epoch 286, Loss: 31.7417, Recon: 22.1160, KL: 9.6257\n",
      "\n",
      "===== Epoch 287 =====\n"
     ]
    },
    {
     "name": "stderr",
     "output_type": "stream",
     "text": [
      "Epoch 287/500: 100%|████████████████████████████████████| 11/11 [00:00<00:00, 1212.80it/s]\n"
     ]
    },
    {
     "name": "stdout",
     "output_type": "stream",
     "text": [
      "Epoch 287, Loss: 31.4238, Recon: 21.7590, KL: 9.6648\n",
      "\n",
      "===== Epoch 288 =====\n"
     ]
    },
    {
     "name": "stderr",
     "output_type": "stream",
     "text": [
      "Epoch 288/500: 100%|████████████████████████████████████| 11/11 [00:00<00:00, 1139.90it/s]\n"
     ]
    },
    {
     "name": "stdout",
     "output_type": "stream",
     "text": [
      "Epoch 288, Loss: 31.5111, Recon: 21.8939, KL: 9.6172\n",
      "\n",
      "===== Epoch 289 =====\n"
     ]
    },
    {
     "name": "stderr",
     "output_type": "stream",
     "text": [
      "Epoch 289/500: 100%|████████████████████████████████████| 11/11 [00:00<00:00, 1184.44it/s]\n"
     ]
    },
    {
     "name": "stdout",
     "output_type": "stream",
     "text": [
      "Epoch 289, Loss: 31.3848, Recon: 21.8351, KL: 9.5497\n",
      "\n",
      "===== Epoch 290 =====\n"
     ]
    },
    {
     "name": "stderr",
     "output_type": "stream",
     "text": [
      "Epoch 290/500: 100%|████████████████████████████████████| 11/11 [00:00<00:00, 1006.14it/s]\n"
     ]
    },
    {
     "name": "stdout",
     "output_type": "stream",
     "text": [
      "Epoch 290, Loss: 31.2661, Recon: 21.7087, KL: 9.5574\n",
      "\n",
      "===== Epoch 291 =====\n"
     ]
    },
    {
     "name": "stderr",
     "output_type": "stream",
     "text": [
      "Epoch 291/500: 100%|████████████████████████████████████| 11/11 [00:00<00:00, 1065.68it/s]\n"
     ]
    },
    {
     "name": "stdout",
     "output_type": "stream",
     "text": [
      "Epoch 291, Loss: 31.4558, Recon: 21.8515, KL: 9.6043\n",
      "\n",
      "===== Epoch 292 =====\n"
     ]
    },
    {
     "name": "stderr",
     "output_type": "stream",
     "text": [
      "Epoch 292/500: 100%|████████████████████████████████████| 11/11 [00:00<00:00, 1195.14it/s]\n"
     ]
    },
    {
     "name": "stdout",
     "output_type": "stream",
     "text": [
      "Epoch 292, Loss: 31.4558, Recon: 21.8602, KL: 9.5956\n",
      "\n",
      "===== Epoch 293 =====\n"
     ]
    },
    {
     "name": "stderr",
     "output_type": "stream",
     "text": [
      "Epoch 293/500: 100%|████████████████████████████████████| 11/11 [00:00<00:00, 1210.80it/s]\n"
     ]
    },
    {
     "name": "stdout",
     "output_type": "stream",
     "text": [
      "Epoch 293, Loss: 31.5055, Recon: 21.8858, KL: 9.6197\n",
      "\n",
      "===== Epoch 294 =====\n"
     ]
    },
    {
     "name": "stderr",
     "output_type": "stream",
     "text": [
      "Epoch 294/500: 100%|████████████████████████████████████| 11/11 [00:00<00:00, 1045.44it/s]\n"
     ]
    },
    {
     "name": "stdout",
     "output_type": "stream",
     "text": [
      "Epoch 294, Loss: 31.3359, Recon: 21.7085, KL: 9.6274\n",
      "\n",
      "===== Epoch 295 =====\n"
     ]
    },
    {
     "name": "stderr",
     "output_type": "stream",
     "text": [
      "Epoch 295/500: 100%|████████████████████████████████████| 11/11 [00:00<00:00, 1200.37it/s]\n"
     ]
    },
    {
     "name": "stdout",
     "output_type": "stream",
     "text": [
      "Epoch 295, Loss: 31.0888, Recon: 21.4299, KL: 9.6589\n",
      "\n",
      "===== Epoch 296 =====\n"
     ]
    },
    {
     "name": "stderr",
     "output_type": "stream",
     "text": [
      "Epoch 296/500: 100%|████████████████████████████████████| 11/11 [00:00<00:00, 1146.21it/s]\n"
     ]
    },
    {
     "name": "stdout",
     "output_type": "stream",
     "text": [
      "Epoch 296, Loss: 31.1090, Recon: 21.4749, KL: 9.6341\n",
      "\n",
      "===== Epoch 297 =====\n"
     ]
    },
    {
     "name": "stderr",
     "output_type": "stream",
     "text": [
      "Epoch 297/500: 100%|████████████████████████████████████| 11/11 [00:00<00:00, 1162.94it/s]\n"
     ]
    },
    {
     "name": "stdout",
     "output_type": "stream",
     "text": [
      "Epoch 297, Loss: 31.4676, Recon: 21.8564, KL: 9.6111\n",
      "\n",
      "===== Epoch 298 =====\n"
     ]
    },
    {
     "name": "stderr",
     "output_type": "stream",
     "text": [
      "Epoch 298/500: 100%|████████████████████████████████████| 11/11 [00:00<00:00, 1180.68it/s]\n"
     ]
    },
    {
     "name": "stdout",
     "output_type": "stream",
     "text": [
      "Epoch 298, Loss: 31.3461, Recon: 21.7467, KL: 9.5994\n",
      "\n",
      "===== Epoch 299 =====\n"
     ]
    },
    {
     "name": "stderr",
     "output_type": "stream",
     "text": [
      "Epoch 299/500: 100%|█████████████████████████████████████| 11/11 [00:00<00:00, 959.62it/s]\n"
     ]
    },
    {
     "name": "stdout",
     "output_type": "stream",
     "text": [
      "Epoch 299, Loss: 31.1386, Recon: 21.5334, KL: 9.6052\n",
      "\n",
      "===== Epoch 300 =====\n"
     ]
    },
    {
     "name": "stderr",
     "output_type": "stream",
     "text": [
      "Epoch 300/500: 100%|█████████████████████████████████████| 11/11 [00:00<00:00, 944.84it/s]\n"
     ]
    },
    {
     "name": "stdout",
     "output_type": "stream",
     "text": [
      "Epoch 300, Loss: 31.0129, Recon: 21.3760, KL: 9.6369\n",
      "\n",
      "===== Epoch 301 =====\n"
     ]
    },
    {
     "name": "stderr",
     "output_type": "stream",
     "text": [
      "Epoch 301/500: 100%|████████████████████████████████████| 11/11 [00:00<00:00, 1191.50it/s]\n"
     ]
    },
    {
     "name": "stdout",
     "output_type": "stream",
     "text": [
      "Epoch 301, Loss: 30.9731, Recon: 21.3871, KL: 9.5860\n",
      "\n",
      "===== Epoch 302 =====\n"
     ]
    },
    {
     "name": "stderr",
     "output_type": "stream",
     "text": [
      "Epoch 302/500: 100%|████████████████████████████████████| 11/11 [00:00<00:00, 1164.79it/s]\n"
     ]
    },
    {
     "name": "stdout",
     "output_type": "stream",
     "text": [
      "Epoch 302, Loss: 31.0557, Recon: 21.5453, KL: 9.5104\n",
      "\n",
      "===== Epoch 303 =====\n"
     ]
    },
    {
     "name": "stderr",
     "output_type": "stream",
     "text": [
      "Epoch 303/500: 100%|████████████████████████████████████| 11/11 [00:00<00:00, 1117.45it/s]\n"
     ]
    },
    {
     "name": "stdout",
     "output_type": "stream",
     "text": [
      "Epoch 303, Loss: 31.0734, Recon: 21.6003, KL: 9.4732\n",
      "\n",
      "===== Epoch 304 =====\n"
     ]
    },
    {
     "name": "stderr",
     "output_type": "stream",
     "text": [
      "Epoch 304/500: 100%|████████████████████████████████████| 11/11 [00:00<00:00, 1167.38it/s]\n"
     ]
    },
    {
     "name": "stdout",
     "output_type": "stream",
     "text": [
      "Epoch 304, Loss: 30.6459, Recon: 21.1768, KL: 9.4691\n",
      "\n",
      "===== Epoch 305 =====\n"
     ]
    },
    {
     "name": "stderr",
     "output_type": "stream",
     "text": [
      "Epoch 305/500: 100%|████████████████████████████████████| 11/11 [00:00<00:00, 1187.27it/s]\n"
     ]
    },
    {
     "name": "stdout",
     "output_type": "stream",
     "text": [
      "Epoch 305, Loss: 30.8980, Recon: 21.3774, KL: 9.5205\n",
      "\n",
      "===== Epoch 306 =====\n"
     ]
    },
    {
     "name": "stderr",
     "output_type": "stream",
     "text": [
      "Epoch 306/500: 100%|████████████████████████████████████| 11/11 [00:00<00:00, 1220.31it/s]\n"
     ]
    },
    {
     "name": "stdout",
     "output_type": "stream",
     "text": [
      "Epoch 306, Loss: 30.7656, Recon: 21.2662, KL: 9.4994\n",
      "\n",
      "===== Epoch 307 =====\n"
     ]
    },
    {
     "name": "stderr",
     "output_type": "stream",
     "text": [
      "Epoch 307/500: 100%|████████████████████████████████████| 11/11 [00:00<00:00, 1167.09it/s]\n"
     ]
    },
    {
     "name": "stdout",
     "output_type": "stream",
     "text": [
      "Epoch 307, Loss: 31.1307, Recon: 21.6995, KL: 9.4312\n",
      "\n",
      "===== Epoch 308 =====\n"
     ]
    },
    {
     "name": "stderr",
     "output_type": "stream",
     "text": [
      "Epoch 308/500: 100%|████████████████████████████████████| 11/11 [00:00<00:00, 1164.41it/s]\n"
     ]
    },
    {
     "name": "stdout",
     "output_type": "stream",
     "text": [
      "Epoch 308, Loss: 30.9622, Recon: 21.4490, KL: 9.5132\n",
      "\n",
      "===== Epoch 309 =====\n"
     ]
    },
    {
     "name": "stderr",
     "output_type": "stream",
     "text": [
      "Epoch 309/500: 100%|████████████████████████████████████| 11/11 [00:00<00:00, 1188.04it/s]\n"
     ]
    },
    {
     "name": "stdout",
     "output_type": "stream",
     "text": [
      "Epoch 309, Loss: 30.7833, Recon: 21.2202, KL: 9.5632\n",
      "\n",
      "===== Epoch 310 =====\n"
     ]
    },
    {
     "name": "stderr",
     "output_type": "stream",
     "text": [
      "Epoch 310/500: 100%|████████████████████████████████████| 11/11 [00:00<00:00, 1141.79it/s]\n"
     ]
    },
    {
     "name": "stdout",
     "output_type": "stream",
     "text": [
      "Epoch 310, Loss: 30.9465, Recon: 21.3730, KL: 9.5735\n",
      "\n",
      "===== Epoch 311 =====\n"
     ]
    },
    {
     "name": "stderr",
     "output_type": "stream",
     "text": [
      "Epoch 311/500: 100%|████████████████████████████████████| 11/11 [00:00<00:00, 1171.30it/s]\n"
     ]
    },
    {
     "name": "stdout",
     "output_type": "stream",
     "text": [
      "Epoch 311, Loss: 30.8210, Recon: 21.1759, KL: 9.6452\n",
      "\n",
      "===== Epoch 312 =====\n"
     ]
    },
    {
     "name": "stderr",
     "output_type": "stream",
     "text": [
      "Epoch 312/500: 100%|████████████████████████████████████| 11/11 [00:00<00:00, 1176.19it/s]\n"
     ]
    },
    {
     "name": "stdout",
     "output_type": "stream",
     "text": [
      "Epoch 312, Loss: 30.7875, Recon: 21.1460, KL: 9.6415\n",
      "\n",
      "===== Epoch 313 =====\n"
     ]
    },
    {
     "name": "stderr",
     "output_type": "stream",
     "text": [
      "Epoch 313/500: 100%|████████████████████████████████████| 11/11 [00:00<00:00, 1158.39it/s]\n"
     ]
    },
    {
     "name": "stdout",
     "output_type": "stream",
     "text": [
      "Epoch 313, Loss: 30.5930, Recon: 21.0449, KL: 9.5481\n",
      "\n",
      "===== Epoch 314 =====\n"
     ]
    },
    {
     "name": "stderr",
     "output_type": "stream",
     "text": [
      "Epoch 314/500: 100%|████████████████████████████████████| 11/11 [00:00<00:00, 1205.89it/s]\n"
     ]
    },
    {
     "name": "stdout",
     "output_type": "stream",
     "text": [
      "Epoch 314, Loss: 30.9183, Recon: 21.4482, KL: 9.4700\n",
      "\n",
      "===== Epoch 315 =====\n"
     ]
    },
    {
     "name": "stderr",
     "output_type": "stream",
     "text": [
      "Epoch 315/500: 100%|████████████████████████████████████| 11/11 [00:00<00:00, 1203.50it/s]\n"
     ]
    },
    {
     "name": "stdout",
     "output_type": "stream",
     "text": [
      "Epoch 315, Loss: 30.6561, Recon: 21.1233, KL: 9.5329\n",
      "\n",
      "===== Epoch 316 =====\n"
     ]
    },
    {
     "name": "stderr",
     "output_type": "stream",
     "text": [
      "Epoch 316/500: 100%|████████████████████████████████████| 11/11 [00:00<00:00, 1123.82it/s]\n"
     ]
    },
    {
     "name": "stdout",
     "output_type": "stream",
     "text": [
      "Epoch 316, Loss: 30.6961, Recon: 21.1925, KL: 9.5036\n",
      "\n",
      "===== Epoch 317 =====\n"
     ]
    },
    {
     "name": "stderr",
     "output_type": "stream",
     "text": [
      "Epoch 317/500: 100%|████████████████████████████████████| 11/11 [00:00<00:00, 1107.87it/s]\n"
     ]
    },
    {
     "name": "stdout",
     "output_type": "stream",
     "text": [
      "Epoch 317, Loss: 30.6625, Recon: 21.1766, KL: 9.4859\n",
      "\n",
      "===== Epoch 318 =====\n"
     ]
    },
    {
     "name": "stderr",
     "output_type": "stream",
     "text": [
      "Epoch 318/500: 100%|█████████████████████████████████████| 11/11 [00:00<00:00, 999.64it/s]\n"
     ]
    },
    {
     "name": "stdout",
     "output_type": "stream",
     "text": [
      "Epoch 318, Loss: 31.0640, Recon: 21.5097, KL: 9.5544\n",
      "\n",
      "===== Epoch 319 =====\n"
     ]
    },
    {
     "name": "stderr",
     "output_type": "stream",
     "text": [
      "Epoch 319/500: 100%|████████████████████████████████████| 11/11 [00:00<00:00, 1110.54it/s]\n"
     ]
    },
    {
     "name": "stdout",
     "output_type": "stream",
     "text": [
      "Epoch 319, Loss: 30.6533, Recon: 21.0715, KL: 9.5817\n",
      "\n",
      "===== Epoch 320 =====\n"
     ]
    },
    {
     "name": "stderr",
     "output_type": "stream",
     "text": [
      "Epoch 320/500: 100%|████████████████████████████████████| 11/11 [00:00<00:00, 1192.83it/s]\n"
     ]
    },
    {
     "name": "stdout",
     "output_type": "stream",
     "text": [
      "Epoch 320, Loss: 30.4460, Recon: 20.9015, KL: 9.5445\n",
      "\n",
      "===== Epoch 321 =====\n"
     ]
    },
    {
     "name": "stderr",
     "output_type": "stream",
     "text": [
      "Epoch 321/500: 100%|████████████████████████████████████| 11/11 [00:00<00:00, 1168.51it/s]\n"
     ]
    },
    {
     "name": "stdout",
     "output_type": "stream",
     "text": [
      "Epoch 321, Loss: 30.5680, Recon: 21.0525, KL: 9.5155\n",
      "\n",
      "===== Epoch 322 =====\n"
     ]
    },
    {
     "name": "stderr",
     "output_type": "stream",
     "text": [
      "Epoch 322/500: 100%|█████████████████████████████████████| 11/11 [00:00<00:00, 468.99it/s]\n"
     ]
    },
    {
     "name": "stdout",
     "output_type": "stream",
     "text": [
      "Epoch 322, Loss: 30.6516, Recon: 21.1645, KL: 9.4871\n",
      "\n",
      "===== Epoch 323 =====\n"
     ]
    },
    {
     "name": "stderr",
     "output_type": "stream",
     "text": [
      "Epoch 323/500: 100%|█████████████████████████████████████| 11/11 [00:00<00:00, 898.17it/s]\n"
     ]
    },
    {
     "name": "stdout",
     "output_type": "stream",
     "text": [
      "Epoch 323, Loss: 30.5998, Recon: 21.0260, KL: 9.5738\n",
      "\n",
      "===== Epoch 324 =====\n"
     ]
    },
    {
     "name": "stderr",
     "output_type": "stream",
     "text": [
      "Epoch 324/500: 100%|████████████████████████████████████| 11/11 [00:00<00:00, 1083.52it/s]\n"
     ]
    },
    {
     "name": "stdout",
     "output_type": "stream",
     "text": [
      "Epoch 324, Loss: 30.5536, Recon: 20.9754, KL: 9.5781\n",
      "\n",
      "===== Epoch 325 =====\n"
     ]
    },
    {
     "name": "stderr",
     "output_type": "stream",
     "text": [
      "Epoch 325/500: 100%|████████████████████████████████████| 11/11 [00:00<00:00, 1218.95it/s]\n"
     ]
    },
    {
     "name": "stdout",
     "output_type": "stream",
     "text": [
      "Epoch 325, Loss: 30.1603, Recon: 20.6256, KL: 9.5347\n",
      "\n",
      "===== Epoch 326 =====\n"
     ]
    },
    {
     "name": "stderr",
     "output_type": "stream",
     "text": [
      "Epoch 326/500: 100%|████████████████████████████████████| 11/11 [00:00<00:00, 1154.73it/s]\n"
     ]
    },
    {
     "name": "stdout",
     "output_type": "stream",
     "text": [
      "Epoch 326, Loss: 30.2414, Recon: 20.7453, KL: 9.4960\n",
      "\n",
      "===== Epoch 327 =====\n"
     ]
    },
    {
     "name": "stderr",
     "output_type": "stream",
     "text": [
      "Epoch 327/500: 100%|█████████████████████████████████████| 11/11 [00:00<00:00, 996.01it/s]\n"
     ]
    },
    {
     "name": "stdout",
     "output_type": "stream",
     "text": [
      "Epoch 327, Loss: 30.4520, Recon: 21.0025, KL: 9.4495\n",
      "\n",
      "===== Epoch 328 =====\n"
     ]
    },
    {
     "name": "stderr",
     "output_type": "stream",
     "text": [
      "Epoch 328/500: 100%|████████████████████████████████████| 11/11 [00:00<00:00, 1161.18it/s]\n"
     ]
    },
    {
     "name": "stdout",
     "output_type": "stream",
     "text": [
      "Epoch 328, Loss: 30.2975, Recon: 20.9154, KL: 9.3821\n",
      "\n",
      "===== Epoch 329 =====\n"
     ]
    },
    {
     "name": "stderr",
     "output_type": "stream",
     "text": [
      "Epoch 329/500: 100%|████████████████████████████████████| 11/11 [00:00<00:00, 1223.70it/s]\n"
     ]
    },
    {
     "name": "stdout",
     "output_type": "stream",
     "text": [
      "Epoch 329, Loss: 30.1348, Recon: 20.7443, KL: 9.3904\n",
      "\n",
      "===== Epoch 330 =====\n"
     ]
    },
    {
     "name": "stderr",
     "output_type": "stream",
     "text": [
      "Epoch 330/500: 100%|████████████████████████████████████| 11/11 [00:00<00:00, 1143.12it/s]\n"
     ]
    },
    {
     "name": "stdout",
     "output_type": "stream",
     "text": [
      "Epoch 330, Loss: 30.3371, Recon: 20.9418, KL: 9.3953\n",
      "\n",
      "===== Epoch 331 =====\n"
     ]
    },
    {
     "name": "stderr",
     "output_type": "stream",
     "text": [
      "Epoch 331/500: 100%|████████████████████████████████████| 11/11 [00:00<00:00, 1213.31it/s]\n"
     ]
    },
    {
     "name": "stdout",
     "output_type": "stream",
     "text": [
      "Epoch 331, Loss: 30.0424, Recon: 20.6421, KL: 9.4003\n",
      "\n",
      "===== Epoch 332 =====\n"
     ]
    },
    {
     "name": "stderr",
     "output_type": "stream",
     "text": [
      "Epoch 332/500: 100%|████████████████████████████████████| 11/11 [00:00<00:00, 1163.41it/s]\n"
     ]
    },
    {
     "name": "stdout",
     "output_type": "stream",
     "text": [
      "Epoch 332, Loss: 30.3276, Recon: 20.9430, KL: 9.3845\n",
      "\n",
      "===== Epoch 333 =====\n"
     ]
    },
    {
     "name": "stderr",
     "output_type": "stream",
     "text": [
      "Epoch 333/500: 100%|████████████████████████████████████| 11/11 [00:00<00:00, 1206.68it/s]\n"
     ]
    },
    {
     "name": "stdout",
     "output_type": "stream",
     "text": [
      "Epoch 333, Loss: 29.9702, Recon: 20.5553, KL: 9.4150\n",
      "\n",
      "===== Epoch 334 =====\n"
     ]
    },
    {
     "name": "stderr",
     "output_type": "stream",
     "text": [
      "Epoch 334/500: 100%|████████████████████████████████████| 11/11 [00:00<00:00, 1228.92it/s]\n"
     ]
    },
    {
     "name": "stdout",
     "output_type": "stream",
     "text": [
      "Epoch 334, Loss: 30.1106, Recon: 20.7243, KL: 9.3863\n",
      "\n",
      "===== Epoch 335 =====\n"
     ]
    },
    {
     "name": "stderr",
     "output_type": "stream",
     "text": [
      "Epoch 335/500: 100%|████████████████████████████████████| 11/11 [00:00<00:00, 1194.34it/s]\n"
     ]
    },
    {
     "name": "stdout",
     "output_type": "stream",
     "text": [
      "Epoch 335, Loss: 30.3827, Recon: 21.0211, KL: 9.3617\n",
      "\n",
      "===== Epoch 336 =====\n"
     ]
    },
    {
     "name": "stderr",
     "output_type": "stream",
     "text": [
      "Epoch 336/500: 100%|████████████████████████████████████| 11/11 [00:00<00:00, 1149.98it/s]\n"
     ]
    },
    {
     "name": "stdout",
     "output_type": "stream",
     "text": [
      "Epoch 336, Loss: 30.1793, Recon: 20.7585, KL: 9.4207\n",
      "\n",
      "===== Epoch 337 =====\n"
     ]
    },
    {
     "name": "stderr",
     "output_type": "stream",
     "text": [
      "Epoch 337/500: 100%|████████████████████████████████████| 11/11 [00:00<00:00, 1184.07it/s]\n"
     ]
    },
    {
     "name": "stdout",
     "output_type": "stream",
     "text": [
      "Epoch 337, Loss: 30.1500, Recon: 20.6865, KL: 9.4635\n",
      "\n",
      "===== Epoch 338 =====\n"
     ]
    },
    {
     "name": "stderr",
     "output_type": "stream",
     "text": [
      "Epoch 338/500: 100%|████████████████████████████████████| 11/11 [00:00<00:00, 1044.33it/s]\n"
     ]
    },
    {
     "name": "stdout",
     "output_type": "stream",
     "text": [
      "Epoch 338, Loss: 30.1076, Recon: 20.6398, KL: 9.4678\n",
      "\n",
      "===== Epoch 339 =====\n"
     ]
    },
    {
     "name": "stderr",
     "output_type": "stream",
     "text": [
      "Epoch 339/500: 100%|████████████████████████████████████| 11/11 [00:00<00:00, 1249.18it/s]\n"
     ]
    },
    {
     "name": "stdout",
     "output_type": "stream",
     "text": [
      "Epoch 339, Loss: 30.0746, Recon: 20.6312, KL: 9.4433\n",
      "\n",
      "===== Epoch 340 =====\n"
     ]
    },
    {
     "name": "stderr",
     "output_type": "stream",
     "text": [
      "Epoch 340/500: 100%|████████████████████████████████████| 11/11 [00:00<00:00, 1185.75it/s]\n"
     ]
    },
    {
     "name": "stdout",
     "output_type": "stream",
     "text": [
      "Epoch 340, Loss: 29.9609, Recon: 20.4933, KL: 9.4676\n",
      "\n",
      "===== Epoch 341 =====\n"
     ]
    },
    {
     "name": "stderr",
     "output_type": "stream",
     "text": [
      "Epoch 341/500: 100%|████████████████████████████████████| 11/11 [00:00<00:00, 1156.41it/s]\n"
     ]
    },
    {
     "name": "stdout",
     "output_type": "stream",
     "text": [
      "Epoch 341, Loss: 29.7881, Recon: 20.3900, KL: 9.3980\n",
      "\n",
      "===== Epoch 342 =====\n"
     ]
    },
    {
     "name": "stderr",
     "output_type": "stream",
     "text": [
      "Epoch 342/500: 100%|████████████████████████████████████| 11/11 [00:00<00:00, 1208.26it/s]\n"
     ]
    },
    {
     "name": "stdout",
     "output_type": "stream",
     "text": [
      "Epoch 342, Loss: 30.3576, Recon: 21.0374, KL: 9.3202\n",
      "\n",
      "===== Epoch 343 =====\n"
     ]
    },
    {
     "name": "stderr",
     "output_type": "stream",
     "text": [
      "Epoch 343/500: 100%|████████████████████████████████████| 11/11 [00:00<00:00, 1182.55it/s]\n"
     ]
    },
    {
     "name": "stdout",
     "output_type": "stream",
     "text": [
      "Epoch 343, Loss: 29.9570, Recon: 20.5420, KL: 9.4150\n",
      "\n",
      "===== Epoch 344 =====\n"
     ]
    },
    {
     "name": "stderr",
     "output_type": "stream",
     "text": [
      "Epoch 344/500: 100%|████████████████████████████████████| 11/11 [00:00<00:00, 1178.75it/s]\n"
     ]
    },
    {
     "name": "stdout",
     "output_type": "stream",
     "text": [
      "Epoch 344, Loss: 30.1274, Recon: 20.6563, KL: 9.4711\n",
      "\n",
      "===== Epoch 345 =====\n"
     ]
    },
    {
     "name": "stderr",
     "output_type": "stream",
     "text": [
      "Epoch 345/500: 100%|████████████████████████████████████| 11/11 [00:00<00:00, 1199.99it/s]\n"
     ]
    },
    {
     "name": "stdout",
     "output_type": "stream",
     "text": [
      "Epoch 345, Loss: 29.9850, Recon: 20.4864, KL: 9.4987\n",
      "\n",
      "===== Epoch 346 =====\n"
     ]
    },
    {
     "name": "stderr",
     "output_type": "stream",
     "text": [
      "Epoch 346/500: 100%|████████████████████████████████████| 11/11 [00:00<00:00, 1248.30it/s]\n"
     ]
    },
    {
     "name": "stdout",
     "output_type": "stream",
     "text": [
      "Epoch 346, Loss: 29.9942, Recon: 20.4902, KL: 9.5040\n",
      "\n",
      "===== Epoch 347 =====\n"
     ]
    },
    {
     "name": "stderr",
     "output_type": "stream",
     "text": [
      "Epoch 347/500: 100%|████████████████████████████████████| 11/11 [00:00<00:00, 1166.03it/s]\n"
     ]
    },
    {
     "name": "stdout",
     "output_type": "stream",
     "text": [
      "Epoch 347, Loss: 30.0314, Recon: 20.5421, KL: 9.4892\n",
      "\n",
      "===== Epoch 348 =====\n"
     ]
    },
    {
     "name": "stderr",
     "output_type": "stream",
     "text": [
      "Epoch 348/500: 100%|████████████████████████████████████| 11/11 [00:00<00:00, 1165.00it/s]\n"
     ]
    },
    {
     "name": "stdout",
     "output_type": "stream",
     "text": [
      "Epoch 348, Loss: 29.7414, Recon: 20.2571, KL: 9.4843\n",
      "\n",
      "===== Epoch 349 =====\n"
     ]
    },
    {
     "name": "stderr",
     "output_type": "stream",
     "text": [
      "Epoch 349/500: 100%|████████████████████████████████████| 11/11 [00:00<00:00, 1220.76it/s]\n"
     ]
    },
    {
     "name": "stdout",
     "output_type": "stream",
     "text": [
      "Epoch 349, Loss: 29.7822, Recon: 20.3545, KL: 9.4277\n",
      "\n",
      "===== Epoch 350 =====\n"
     ]
    },
    {
     "name": "stderr",
     "output_type": "stream",
     "text": [
      "Epoch 350/500: 100%|████████████████████████████████████| 11/11 [00:00<00:00, 1090.18it/s]\n"
     ]
    },
    {
     "name": "stdout",
     "output_type": "stream",
     "text": [
      "Epoch 350, Loss: 29.8125, Recon: 20.3830, KL: 9.4296\n",
      "\n",
      "===== Epoch 351 =====\n"
     ]
    },
    {
     "name": "stderr",
     "output_type": "stream",
     "text": [
      "Epoch 351/500: 100%|█████████████████████████████████████| 11/11 [00:00<00:00, 981.54it/s]\n"
     ]
    },
    {
     "name": "stdout",
     "output_type": "stream",
     "text": [
      "Epoch 351, Loss: 29.5617, Recon: 20.1101, KL: 9.4516\n",
      "\n",
      "===== Epoch 352 =====\n"
     ]
    },
    {
     "name": "stderr",
     "output_type": "stream",
     "text": [
      "Epoch 352/500: 100%|████████████████████████████████████| 11/11 [00:00<00:00, 1153.15it/s]\n"
     ]
    },
    {
     "name": "stdout",
     "output_type": "stream",
     "text": [
      "Epoch 352, Loss: 29.8132, Recon: 20.4186, KL: 9.3946\n",
      "\n",
      "===== Epoch 353 =====\n"
     ]
    },
    {
     "name": "stderr",
     "output_type": "stream",
     "text": [
      "Epoch 353/500: 100%|████████████████████████████████████| 11/11 [00:00<00:00, 1207.18it/s]\n"
     ]
    },
    {
     "name": "stdout",
     "output_type": "stream",
     "text": [
      "Epoch 353, Loss: 29.6426, Recon: 20.2446, KL: 9.3980\n",
      "\n",
      "===== Epoch 354 =====\n"
     ]
    },
    {
     "name": "stderr",
     "output_type": "stream",
     "text": [
      "Epoch 354/500: 100%|████████████████████████████████████| 11/11 [00:00<00:00, 1246.89it/s]\n"
     ]
    },
    {
     "name": "stdout",
     "output_type": "stream",
     "text": [
      "Epoch 354, Loss: 29.6936, Recon: 20.3424, KL: 9.3513\n",
      "\n",
      "===== Epoch 355 =====\n"
     ]
    },
    {
     "name": "stderr",
     "output_type": "stream",
     "text": [
      "Epoch 355/500: 100%|████████████████████████████████████| 11/11 [00:00<00:00, 1252.23it/s]\n"
     ]
    },
    {
     "name": "stdout",
     "output_type": "stream",
     "text": [
      "Epoch 355, Loss: 29.7855, Recon: 20.4726, KL: 9.3129\n",
      "\n",
      "===== Epoch 356 =====\n"
     ]
    },
    {
     "name": "stderr",
     "output_type": "stream",
     "text": [
      "Epoch 356/500: 100%|████████████████████████████████████| 11/11 [00:00<00:00, 1178.99it/s]\n"
     ]
    },
    {
     "name": "stdout",
     "output_type": "stream",
     "text": [
      "Epoch 356, Loss: 29.5932, Recon: 20.2193, KL: 9.3739\n",
      "\n",
      "===== Epoch 357 =====\n"
     ]
    },
    {
     "name": "stderr",
     "output_type": "stream",
     "text": [
      "Epoch 357/500: 100%|████████████████████████████████████| 11/11 [00:00<00:00, 1133.57it/s]\n"
     ]
    },
    {
     "name": "stdout",
     "output_type": "stream",
     "text": [
      "Epoch 357, Loss: 29.9759, Recon: 20.5697, KL: 9.4062\n",
      "\n",
      "===== Epoch 358 =====\n"
     ]
    },
    {
     "name": "stderr",
     "output_type": "stream",
     "text": [
      "Epoch 358/500: 100%|████████████████████████████████████| 11/11 [00:00<00:00, 1244.90it/s]\n"
     ]
    },
    {
     "name": "stdout",
     "output_type": "stream",
     "text": [
      "Epoch 358, Loss: 29.7819, Recon: 20.3430, KL: 9.4390\n",
      "\n",
      "===== Epoch 359 =====\n"
     ]
    },
    {
     "name": "stderr",
     "output_type": "stream",
     "text": [
      "Epoch 359/500: 100%|████████████████████████████████████| 11/11 [00:00<00:00, 1127.17it/s]\n"
     ]
    },
    {
     "name": "stdout",
     "output_type": "stream",
     "text": [
      "Epoch 359, Loss: 29.7323, Recon: 20.2571, KL: 9.4752\n",
      "\n",
      "===== Epoch 360 =====\n"
     ]
    },
    {
     "name": "stderr",
     "output_type": "stream",
     "text": [
      "Epoch 360/500: 100%|████████████████████████████████████| 11/11 [00:00<00:00, 1187.48it/s]\n"
     ]
    },
    {
     "name": "stdout",
     "output_type": "stream",
     "text": [
      "Epoch 360, Loss: 29.6434, Recon: 20.1699, KL: 9.4735\n",
      "\n",
      "===== Epoch 361 =====\n"
     ]
    },
    {
     "name": "stderr",
     "output_type": "stream",
     "text": [
      "Epoch 361/500: 100%|████████████████████████████████████| 11/11 [00:00<00:00, 1169.34it/s]\n"
     ]
    },
    {
     "name": "stdout",
     "output_type": "stream",
     "text": [
      "Epoch 361, Loss: 29.6989, Recon: 20.2582, KL: 9.4407\n",
      "\n",
      "===== Epoch 362 =====\n"
     ]
    },
    {
     "name": "stderr",
     "output_type": "stream",
     "text": [
      "Epoch 362/500: 100%|████████████████████████████████████| 11/11 [00:00<00:00, 1181.19it/s]\n"
     ]
    },
    {
     "name": "stdout",
     "output_type": "stream",
     "text": [
      "Epoch 362, Loss: 29.7716, Recon: 20.3274, KL: 9.4441\n",
      "\n",
      "===== Epoch 363 =====\n"
     ]
    },
    {
     "name": "stderr",
     "output_type": "stream",
     "text": [
      "Epoch 363/500: 100%|████████████████████████████████████| 11/11 [00:00<00:00, 1063.00it/s]\n"
     ]
    },
    {
     "name": "stdout",
     "output_type": "stream",
     "text": [
      "Epoch 363, Loss: 29.6601, Recon: 20.1773, KL: 9.4828\n",
      "\n",
      "===== Epoch 364 =====\n"
     ]
    },
    {
     "name": "stderr",
     "output_type": "stream",
     "text": [
      "Epoch 364/500: 100%|████████████████████████████████████| 11/11 [00:00<00:00, 1127.75it/s]\n"
     ]
    },
    {
     "name": "stdout",
     "output_type": "stream",
     "text": [
      "Epoch 364, Loss: 29.9481, Recon: 20.4932, KL: 9.4549\n",
      "\n",
      "===== Epoch 365 =====\n"
     ]
    },
    {
     "name": "stderr",
     "output_type": "stream",
     "text": [
      "Epoch 365/500: 100%|████████████████████████████████████| 11/11 [00:00<00:00, 1161.80it/s]\n"
     ]
    },
    {
     "name": "stdout",
     "output_type": "stream",
     "text": [
      "Epoch 365, Loss: 29.6180, Recon: 20.1283, KL: 9.4896\n",
      "\n",
      "===== Epoch 366 =====\n"
     ]
    },
    {
     "name": "stderr",
     "output_type": "stream",
     "text": [
      "Epoch 366/500: 100%|████████████████████████████████████| 11/11 [00:00<00:00, 1102.45it/s]\n"
     ]
    },
    {
     "name": "stdout",
     "output_type": "stream",
     "text": [
      "Epoch 366, Loss: 29.3467, Recon: 19.8317, KL: 9.5150\n",
      "\n",
      "===== Epoch 367 =====\n"
     ]
    },
    {
     "name": "stderr",
     "output_type": "stream",
     "text": [
      "Epoch 367/500: 100%|████████████████████████████████████| 11/11 [00:00<00:00, 1202.84it/s]\n"
     ]
    },
    {
     "name": "stdout",
     "output_type": "stream",
     "text": [
      "Epoch 367, Loss: 29.3236, Recon: 19.8861, KL: 9.4375\n",
      "\n",
      "===== Epoch 368 =====\n"
     ]
    },
    {
     "name": "stderr",
     "output_type": "stream",
     "text": [
      "Epoch 368/500: 100%|████████████████████████████████████| 11/11 [00:00<00:00, 1167.27it/s]\n"
     ]
    },
    {
     "name": "stdout",
     "output_type": "stream",
     "text": [
      "Epoch 368, Loss: 29.5952, Recon: 20.2196, KL: 9.3756\n",
      "\n",
      "===== Epoch 369 =====\n"
     ]
    },
    {
     "name": "stderr",
     "output_type": "stream",
     "text": [
      "Epoch 369/500: 100%|████████████████████████████████████| 11/11 [00:00<00:00, 1140.63it/s]\n"
     ]
    },
    {
     "name": "stdout",
     "output_type": "stream",
     "text": [
      "Epoch 369, Loss: 29.5173, Recon: 20.1194, KL: 9.3979\n",
      "\n",
      "===== Epoch 370 =====\n"
     ]
    },
    {
     "name": "stderr",
     "output_type": "stream",
     "text": [
      "Epoch 370/500: 100%|████████████████████████████████████| 11/11 [00:00<00:00, 1229.77it/s]\n"
     ]
    },
    {
     "name": "stdout",
     "output_type": "stream",
     "text": [
      "Epoch 370, Loss: 29.3628, Recon: 19.9076, KL: 9.4552\n",
      "\n",
      "===== Epoch 371 =====\n"
     ]
    },
    {
     "name": "stderr",
     "output_type": "stream",
     "text": [
      "Epoch 371/500: 100%|████████████████████████████████████| 11/11 [00:00<00:00, 1108.30it/s]\n"
     ]
    },
    {
     "name": "stdout",
     "output_type": "stream",
     "text": [
      "Epoch 371, Loss: 29.2305, Recon: 19.7539, KL: 9.4765\n",
      "\n",
      "===== Epoch 372 =====\n"
     ]
    },
    {
     "name": "stderr",
     "output_type": "stream",
     "text": [
      "Epoch 372/500: 100%|████████████████████████████████████| 11/11 [00:00<00:00, 1135.66it/s]\n"
     ]
    },
    {
     "name": "stdout",
     "output_type": "stream",
     "text": [
      "Epoch 372, Loss: 29.3302, Recon: 19.9270, KL: 9.4031\n",
      "\n",
      "===== Epoch 373 =====\n"
     ]
    },
    {
     "name": "stderr",
     "output_type": "stream",
     "text": [
      "Epoch 373/500: 100%|████████████████████████████████████| 11/11 [00:00<00:00, 1143.94it/s]\n"
     ]
    },
    {
     "name": "stdout",
     "output_type": "stream",
     "text": [
      "Epoch 373, Loss: 29.6235, Recon: 20.2567, KL: 9.3668\n",
      "\n",
      "===== Epoch 374 =====\n"
     ]
    },
    {
     "name": "stderr",
     "output_type": "stream",
     "text": [
      "Epoch 374/500: 100%|████████████████████████████████████| 11/11 [00:00<00:00, 1135.66it/s]\n"
     ]
    },
    {
     "name": "stdout",
     "output_type": "stream",
     "text": [
      "Epoch 374, Loss: 29.4128, Recon: 19.9890, KL: 9.4238\n",
      "\n",
      "===== Epoch 375 =====\n"
     ]
    },
    {
     "name": "stderr",
     "output_type": "stream",
     "text": [
      "Epoch 375/500: 100%|████████████████████████████████████| 11/11 [00:00<00:00, 1119.70it/s]\n"
     ]
    },
    {
     "name": "stdout",
     "output_type": "stream",
     "text": [
      "Epoch 375, Loss: 29.1734, Recon: 19.7349, KL: 9.4385\n",
      "\n",
      "===== Epoch 376 =====\n"
     ]
    },
    {
     "name": "stderr",
     "output_type": "stream",
     "text": [
      "Epoch 376/500: 100%|████████████████████████████████████| 11/11 [00:00<00:00, 1164.26it/s]\n"
     ]
    },
    {
     "name": "stdout",
     "output_type": "stream",
     "text": [
      "Epoch 376, Loss: 29.1730, Recon: 19.8039, KL: 9.3691\n",
      "\n",
      "===== Epoch 377 =====\n"
     ]
    },
    {
     "name": "stderr",
     "output_type": "stream",
     "text": [
      "Epoch 377/500: 100%|████████████████████████████████████| 11/11 [00:00<00:00, 1128.80it/s]\n"
     ]
    },
    {
     "name": "stdout",
     "output_type": "stream",
     "text": [
      "Epoch 377, Loss: 29.4160, Recon: 20.0484, KL: 9.3676\n",
      "\n",
      "===== Epoch 378 =====\n"
     ]
    },
    {
     "name": "stderr",
     "output_type": "stream",
     "text": [
      "Epoch 378/500: 100%|████████████████████████████████████| 11/11 [00:00<00:00, 1200.06it/s]\n"
     ]
    },
    {
     "name": "stdout",
     "output_type": "stream",
     "text": [
      "Epoch 378, Loss: 29.1936, Recon: 19.7710, KL: 9.4227\n",
      "\n",
      "===== Epoch 379 =====\n"
     ]
    },
    {
     "name": "stderr",
     "output_type": "stream",
     "text": [
      "Epoch 379/500: 100%|█████████████████████████████████████| 11/11 [00:00<00:00, 942.68it/s]\n"
     ]
    },
    {
     "name": "stdout",
     "output_type": "stream",
     "text": [
      "Epoch 379, Loss: 29.2261, Recon: 19.8083, KL: 9.4178\n",
      "\n",
      "===== Epoch 380 =====\n"
     ]
    },
    {
     "name": "stderr",
     "output_type": "stream",
     "text": [
      "Epoch 380/500: 100%|████████████████████████████████████| 11/11 [00:00<00:00, 1024.59it/s]\n"
     ]
    },
    {
     "name": "stdout",
     "output_type": "stream",
     "text": [
      "Epoch 380, Loss: 29.3007, Recon: 19.8912, KL: 9.4095\n",
      "\n",
      "===== Epoch 381 =====\n"
     ]
    },
    {
     "name": "stderr",
     "output_type": "stream",
     "text": [
      "Epoch 381/500: 100%|████████████████████████████████████| 11/11 [00:00<00:00, 1167.35it/s]\n"
     ]
    },
    {
     "name": "stdout",
     "output_type": "stream",
     "text": [
      "Epoch 381, Loss: 29.1211, Recon: 19.7530, KL: 9.3681\n",
      "\n",
      "===== Epoch 382 =====\n"
     ]
    },
    {
     "name": "stderr",
     "output_type": "stream",
     "text": [
      "Epoch 382/500: 100%|████████████████████████████████████| 11/11 [00:00<00:00, 1137.42it/s]\n"
     ]
    },
    {
     "name": "stdout",
     "output_type": "stream",
     "text": [
      "Epoch 382, Loss: 29.4120, Recon: 20.0551, KL: 9.3570\n",
      "\n",
      "===== Epoch 383 =====\n"
     ]
    },
    {
     "name": "stderr",
     "output_type": "stream",
     "text": [
      "Epoch 383/500: 100%|████████████████████████████████████| 11/11 [00:00<00:00, 1170.08it/s]\n"
     ]
    },
    {
     "name": "stdout",
     "output_type": "stream",
     "text": [
      "Epoch 383, Loss: 29.1160, Recon: 19.7237, KL: 9.3923\n",
      "\n",
      "===== Epoch 384 =====\n"
     ]
    },
    {
     "name": "stderr",
     "output_type": "stream",
     "text": [
      "Epoch 384/500: 100%|████████████████████████████████████| 11/11 [00:00<00:00, 1102.52it/s]\n"
     ]
    },
    {
     "name": "stdout",
     "output_type": "stream",
     "text": [
      "Epoch 384, Loss: 29.1438, Recon: 19.7936, KL: 9.3502\n",
      "\n",
      "===== Epoch 385 =====\n"
     ]
    },
    {
     "name": "stderr",
     "output_type": "stream",
     "text": [
      "Epoch 385/500: 100%|████████████████████████████████████| 11/11 [00:00<00:00, 1214.40it/s]\n"
     ]
    },
    {
     "name": "stdout",
     "output_type": "stream",
     "text": [
      "Epoch 385, Loss: 29.2684, Recon: 19.9007, KL: 9.3677\n",
      "\n",
      "===== Epoch 386 =====\n"
     ]
    },
    {
     "name": "stderr",
     "output_type": "stream",
     "text": [
      "Epoch 386/500: 100%|████████████████████████████████████| 11/11 [00:00<00:00, 1161.45it/s]\n"
     ]
    },
    {
     "name": "stdout",
     "output_type": "stream",
     "text": [
      "Epoch 386, Loss: 29.0418, Recon: 19.6297, KL: 9.4122\n",
      "\n",
      "===== Epoch 387 =====\n"
     ]
    },
    {
     "name": "stderr",
     "output_type": "stream",
     "text": [
      "Epoch 387/500: 100%|████████████████████████████████████| 11/11 [00:00<00:00, 1134.38it/s]\n"
     ]
    },
    {
     "name": "stdout",
     "output_type": "stream",
     "text": [
      "Epoch 387, Loss: 29.0051, Recon: 19.6172, KL: 9.3879\n",
      "\n",
      "===== Epoch 388 =====\n"
     ]
    },
    {
     "name": "stderr",
     "output_type": "stream",
     "text": [
      "Epoch 388/500: 100%|████████████████████████████████████| 11/11 [00:00<00:00, 1216.38it/s]\n"
     ]
    },
    {
     "name": "stdout",
     "output_type": "stream",
     "text": [
      "Epoch 388, Loss: 29.2158, Recon: 19.8815, KL: 9.3342\n",
      "\n",
      "===== Epoch 389 =====\n"
     ]
    },
    {
     "name": "stderr",
     "output_type": "stream",
     "text": [
      "Epoch 389/500: 100%|████████████████████████████████████| 11/11 [00:00<00:00, 1155.22it/s]\n"
     ]
    },
    {
     "name": "stdout",
     "output_type": "stream",
     "text": [
      "Epoch 389, Loss: 29.1151, Recon: 19.7357, KL: 9.3794\n",
      "\n",
      "===== Epoch 390 =====\n"
     ]
    },
    {
     "name": "stderr",
     "output_type": "stream",
     "text": [
      "Epoch 390/500: 100%|████████████████████████████████████| 11/11 [00:00<00:00, 1134.01it/s]\n"
     ]
    },
    {
     "name": "stdout",
     "output_type": "stream",
     "text": [
      "Epoch 390, Loss: 29.3506, Recon: 19.9454, KL: 9.4052\n",
      "\n",
      "===== Epoch 391 =====\n"
     ]
    },
    {
     "name": "stderr",
     "output_type": "stream",
     "text": [
      "Epoch 391/500: 100%|████████████████████████████████████| 11/11 [00:00<00:00, 1193.72it/s]\n"
     ]
    },
    {
     "name": "stdout",
     "output_type": "stream",
     "text": [
      "Epoch 391, Loss: 28.9953, Recon: 19.5440, KL: 9.4513\n",
      "\n",
      "===== Epoch 392 =====\n"
     ]
    },
    {
     "name": "stderr",
     "output_type": "stream",
     "text": [
      "Epoch 392/500: 100%|████████████████████████████████████| 11/11 [00:00<00:00, 1135.33it/s]\n"
     ]
    },
    {
     "name": "stdout",
     "output_type": "stream",
     "text": [
      "Epoch 392, Loss: 28.6182, Recon: 19.2218, KL: 9.3964\n",
      "\n",
      "===== Epoch 393 =====\n"
     ]
    },
    {
     "name": "stderr",
     "output_type": "stream",
     "text": [
      "Epoch 393/500: 100%|████████████████████████████████████| 11/11 [00:00<00:00, 1142.75it/s]\n"
     ]
    },
    {
     "name": "stdout",
     "output_type": "stream",
     "text": [
      "Epoch 393, Loss: 29.0961, Recon: 19.7630, KL: 9.3330\n",
      "\n",
      "===== Epoch 394 =====\n"
     ]
    },
    {
     "name": "stderr",
     "output_type": "stream",
     "text": [
      "Epoch 394/500: 100%|████████████████████████████████████| 11/11 [00:00<00:00, 1154.27it/s]\n"
     ]
    },
    {
     "name": "stdout",
     "output_type": "stream",
     "text": [
      "Epoch 394, Loss: 28.7534, Recon: 19.4048, KL: 9.3486\n",
      "\n",
      "===== Epoch 395 =====\n"
     ]
    },
    {
     "name": "stderr",
     "output_type": "stream",
     "text": [
      "Epoch 395/500: 100%|████████████████████████████████████| 11/11 [00:00<00:00, 1168.51it/s]\n"
     ]
    },
    {
     "name": "stdout",
     "output_type": "stream",
     "text": [
      "Epoch 395, Loss: 29.1000, Recon: 19.7999, KL: 9.3001\n",
      "\n",
      "===== Epoch 396 =====\n"
     ]
    },
    {
     "name": "stderr",
     "output_type": "stream",
     "text": [
      "Epoch 396/500: 100%|████████████████████████████████████| 11/11 [00:00<00:00, 1102.00it/s]\n"
     ]
    },
    {
     "name": "stdout",
     "output_type": "stream",
     "text": [
      "Epoch 396, Loss: 29.2115, Recon: 19.9361, KL: 9.2754\n",
      "\n",
      "===== Epoch 397 =====\n"
     ]
    },
    {
     "name": "stderr",
     "output_type": "stream",
     "text": [
      "Epoch 397/500: 100%|████████████████████████████████████| 11/11 [00:00<00:00, 1192.03it/s]\n"
     ]
    },
    {
     "name": "stdout",
     "output_type": "stream",
     "text": [
      "Epoch 397, Loss: 29.0657, Recon: 19.7347, KL: 9.3311\n",
      "\n",
      "===== Epoch 398 =====\n"
     ]
    },
    {
     "name": "stderr",
     "output_type": "stream",
     "text": [
      "Epoch 398/500: 100%|████████████████████████████████████| 11/11 [00:00<00:00, 1203.66it/s]\n"
     ]
    },
    {
     "name": "stdout",
     "output_type": "stream",
     "text": [
      "Epoch 398, Loss: 29.1415, Recon: 19.7451, KL: 9.3964\n",
      "\n",
      "===== Epoch 399 =====\n"
     ]
    },
    {
     "name": "stderr",
     "output_type": "stream",
     "text": [
      "Epoch 399/500: 100%|████████████████████████████████████| 11/11 [00:00<00:00, 1097.57it/s]\n"
     ]
    },
    {
     "name": "stdout",
     "output_type": "stream",
     "text": [
      "Epoch 399, Loss: 28.7770, Recon: 19.3519, KL: 9.4251\n",
      "\n",
      "===== Epoch 400 =====\n"
     ]
    },
    {
     "name": "stderr",
     "output_type": "stream",
     "text": [
      "Epoch 400/500: 100%|████████████████████████████████████| 11/11 [00:00<00:00, 1105.51it/s]\n"
     ]
    },
    {
     "name": "stdout",
     "output_type": "stream",
     "text": [
      "Epoch 400, Loss: 28.7275, Recon: 19.3542, KL: 9.3732\n",
      "\n",
      "===== Epoch 401 =====\n"
     ]
    },
    {
     "name": "stderr",
     "output_type": "stream",
     "text": [
      "Epoch 401/500: 100%|████████████████████████████████████| 11/11 [00:00<00:00, 1188.04it/s]\n"
     ]
    },
    {
     "name": "stdout",
     "output_type": "stream",
     "text": [
      "Epoch 401, Loss: 28.6836, Recon: 19.3560, KL: 9.3275\n",
      "\n",
      "===== Epoch 402 =====\n"
     ]
    },
    {
     "name": "stderr",
     "output_type": "stream",
     "text": [
      "Epoch 402/500: 100%|████████████████████████████████████| 11/11 [00:00<00:00, 1143.68it/s]\n"
     ]
    },
    {
     "name": "stdout",
     "output_type": "stream",
     "text": [
      "Epoch 402, Loss: 28.7427, Recon: 19.4805, KL: 9.2621\n",
      "\n",
      "===== Epoch 403 =====\n"
     ]
    },
    {
     "name": "stderr",
     "output_type": "stream",
     "text": [
      "Epoch 403/500: 100%|████████████████████████████████████| 11/11 [00:00<00:00, 1206.39it/s]\n"
     ]
    },
    {
     "name": "stdout",
     "output_type": "stream",
     "text": [
      "Epoch 403, Loss: 28.6783, Recon: 19.4455, KL: 9.2329\n",
      "\n",
      "===== Epoch 404 =====\n"
     ]
    },
    {
     "name": "stderr",
     "output_type": "stream",
     "text": [
      "Epoch 404/500: 100%|████████████████████████████████████| 11/11 [00:00<00:00, 1225.88it/s]\n"
     ]
    },
    {
     "name": "stdout",
     "output_type": "stream",
     "text": [
      "Epoch 404, Loss: 28.9414, Recon: 19.6452, KL: 9.2961\n",
      "\n",
      "===== Epoch 405 =====\n"
     ]
    },
    {
     "name": "stderr",
     "output_type": "stream",
     "text": [
      "Epoch 405/500: 100%|████████████████████████████████████| 11/11 [00:00<00:00, 1217.73it/s]\n"
     ]
    },
    {
     "name": "stdout",
     "output_type": "stream",
     "text": [
      "Epoch 405, Loss: 29.1074, Recon: 19.7855, KL: 9.3220\n",
      "\n",
      "===== Epoch 406 =====\n"
     ]
    },
    {
     "name": "stderr",
     "output_type": "stream",
     "text": [
      "Epoch 406/500: 100%|████████████████████████████████████| 11/11 [00:00<00:00, 1214.24it/s]\n"
     ]
    },
    {
     "name": "stdout",
     "output_type": "stream",
     "text": [
      "Epoch 406, Loss: 28.6645, Recon: 19.3181, KL: 9.3464\n",
      "\n",
      "===== Epoch 407 =====\n"
     ]
    },
    {
     "name": "stderr",
     "output_type": "stream",
     "text": [
      "Epoch 407/500: 100%|████████████████████████████████████| 11/11 [00:00<00:00, 1143.09it/s]\n"
     ]
    },
    {
     "name": "stdout",
     "output_type": "stream",
     "text": [
      "Epoch 407, Loss: 28.7133, Recon: 19.3571, KL: 9.3563\n",
      "\n",
      "===== Epoch 408 =====\n"
     ]
    },
    {
     "name": "stderr",
     "output_type": "stream",
     "text": [
      "Epoch 408/500: 100%|████████████████████████████████████| 11/11 [00:00<00:00, 1170.35it/s]\n"
     ]
    },
    {
     "name": "stdout",
     "output_type": "stream",
     "text": [
      "Epoch 408, Loss: 28.7547, Recon: 19.3994, KL: 9.3552\n",
      "\n",
      "===== Epoch 409 =====\n"
     ]
    },
    {
     "name": "stderr",
     "output_type": "stream",
     "text": [
      "Epoch 409/500: 100%|████████████████████████████████████| 11/11 [00:00<00:00, 1177.33it/s]\n"
     ]
    },
    {
     "name": "stdout",
     "output_type": "stream",
     "text": [
      "Epoch 409, Loss: 28.8011, Recon: 19.4584, KL: 9.3427\n",
      "\n",
      "===== Epoch 410 =====\n"
     ]
    },
    {
     "name": "stderr",
     "output_type": "stream",
     "text": [
      "Epoch 410/500: 100%|████████████████████████████████████| 11/11 [00:00<00:00, 1156.41it/s]\n"
     ]
    },
    {
     "name": "stdout",
     "output_type": "stream",
     "text": [
      "Epoch 410, Loss: 28.8132, Recon: 19.4578, KL: 9.3554\n",
      "\n",
      "===== Epoch 411 =====\n"
     ]
    },
    {
     "name": "stderr",
     "output_type": "stream",
     "text": [
      "Epoch 411/500: 100%|████████████████████████████████████| 11/11 [00:00<00:00, 1082.88it/s]\n"
     ]
    },
    {
     "name": "stdout",
     "output_type": "stream",
     "text": [
      "Epoch 411, Loss: 28.6039, Recon: 19.2443, KL: 9.3596\n",
      "\n",
      "===== Epoch 412 =====\n"
     ]
    },
    {
     "name": "stderr",
     "output_type": "stream",
     "text": [
      "Epoch 412/500: 100%|████████████████████████████████████| 11/11 [00:00<00:00, 1232.89it/s]\n"
     ]
    },
    {
     "name": "stdout",
     "output_type": "stream",
     "text": [
      "Epoch 412, Loss: 28.8196, Recon: 19.4561, KL: 9.3636\n",
      "\n",
      "===== Epoch 413 =====\n"
     ]
    },
    {
     "name": "stderr",
     "output_type": "stream",
     "text": [
      "Epoch 413/500: 100%|████████████████████████████████████| 11/11 [00:00<00:00, 1138.94it/s]\n"
     ]
    },
    {
     "name": "stdout",
     "output_type": "stream",
     "text": [
      "Epoch 413, Loss: 28.4811, Recon: 19.1333, KL: 9.3478\n",
      "\n",
      "===== Epoch 414 =====\n"
     ]
    },
    {
     "name": "stderr",
     "output_type": "stream",
     "text": [
      "Epoch 414/500: 100%|████████████████████████████████████| 11/11 [00:00<00:00, 1234.18it/s]\n"
     ]
    },
    {
     "name": "stdout",
     "output_type": "stream",
     "text": [
      "Epoch 414, Loss: 28.4851, Recon: 19.1807, KL: 9.3044\n",
      "\n",
      "===== Epoch 415 =====\n"
     ]
    },
    {
     "name": "stderr",
     "output_type": "stream",
     "text": [
      "Epoch 415/500: 100%|████████████████████████████████████| 11/11 [00:00<00:00, 1143.68it/s]\n"
     ]
    },
    {
     "name": "stdout",
     "output_type": "stream",
     "text": [
      "Epoch 415, Loss: 28.5977, Recon: 19.2890, KL: 9.3087\n",
      "\n",
      "===== Epoch 416 =====\n"
     ]
    },
    {
     "name": "stderr",
     "output_type": "stream",
     "text": [
      "Epoch 416/500: 100%|████████████████████████████████████| 11/11 [00:00<00:00, 1198.34it/s]\n"
     ]
    },
    {
     "name": "stdout",
     "output_type": "stream",
     "text": [
      "Epoch 416, Loss: 28.5753, Recon: 19.3500, KL: 9.2253\n",
      "\n",
      "===== Epoch 417 =====\n"
     ]
    },
    {
     "name": "stderr",
     "output_type": "stream",
     "text": [
      "Epoch 417/500: 100%|████████████████████████████████████| 11/11 [00:00<00:00, 1214.65it/s]\n"
     ]
    },
    {
     "name": "stdout",
     "output_type": "stream",
     "text": [
      "Epoch 417, Loss: 28.6249, Recon: 19.4491, KL: 9.1758\n",
      "\n",
      "===== Epoch 418 =====\n"
     ]
    },
    {
     "name": "stderr",
     "output_type": "stream",
     "text": [
      "Epoch 418/500: 100%|████████████████████████████████████| 11/11 [00:00<00:00, 1256.02it/s]\n"
     ]
    },
    {
     "name": "stdout",
     "output_type": "stream",
     "text": [
      "Epoch 418, Loss: 28.5232, Recon: 19.3119, KL: 9.2113\n",
      "\n",
      "===== Epoch 419 =====\n"
     ]
    },
    {
     "name": "stderr",
     "output_type": "stream",
     "text": [
      "Epoch 419/500: 100%|████████████████████████████████████| 11/11 [00:00<00:00, 1181.16it/s]\n"
     ]
    },
    {
     "name": "stdout",
     "output_type": "stream",
     "text": [
      "Epoch 419, Loss: 28.7131, Recon: 19.4619, KL: 9.2512\n",
      "\n",
      "===== Epoch 420 =====\n"
     ]
    },
    {
     "name": "stderr",
     "output_type": "stream",
     "text": [
      "Epoch 420/500: 100%|████████████████████████████████████| 11/11 [00:00<00:00, 1168.71it/s]\n"
     ]
    },
    {
     "name": "stdout",
     "output_type": "stream",
     "text": [
      "Epoch 420, Loss: 28.5320, Recon: 19.2604, KL: 9.2716\n",
      "\n",
      "===== Epoch 421 =====\n"
     ]
    },
    {
     "name": "stderr",
     "output_type": "stream",
     "text": [
      "Epoch 421/500: 100%|████████████████████████████████████| 11/11 [00:00<00:00, 1188.92it/s]\n"
     ]
    },
    {
     "name": "stdout",
     "output_type": "stream",
     "text": [
      "Epoch 421, Loss: 28.5451, Recon: 19.2985, KL: 9.2466\n",
      "\n",
      "===== Epoch 422 =====\n"
     ]
    },
    {
     "name": "stderr",
     "output_type": "stream",
     "text": [
      "Epoch 422/500: 100%|█████████████████████████████████████| 11/11 [00:00<00:00, 950.40it/s]\n"
     ]
    },
    {
     "name": "stdout",
     "output_type": "stream",
     "text": [
      "Epoch 422, Loss: 28.7154, Recon: 19.4855, KL: 9.2299\n",
      "\n",
      "===== Epoch 423 =====\n"
     ]
    },
    {
     "name": "stderr",
     "output_type": "stream",
     "text": [
      "Epoch 423/500: 100%|████████████████████████████████████| 11/11 [00:00<00:00, 1190.73it/s]\n"
     ]
    },
    {
     "name": "stdout",
     "output_type": "stream",
     "text": [
      "Epoch 423, Loss: 28.3607, Recon: 19.1278, KL: 9.2329\n",
      "\n",
      "===== Epoch 424 =====\n"
     ]
    },
    {
     "name": "stderr",
     "output_type": "stream",
     "text": [
      "Epoch 424/500: 100%|████████████████████████████████████| 11/11 [00:00<00:00, 1187.48it/s]\n"
     ]
    },
    {
     "name": "stdout",
     "output_type": "stream",
     "text": [
      "Epoch 424, Loss: 28.5451, Recon: 19.2849, KL: 9.2602\n",
      "\n",
      "===== Epoch 425 =====\n"
     ]
    },
    {
     "name": "stderr",
     "output_type": "stream",
     "text": [
      "Epoch 425/500: 100%|████████████████████████████████████| 11/11 [00:00<00:00, 1148.24it/s]\n"
     ]
    },
    {
     "name": "stdout",
     "output_type": "stream",
     "text": [
      "Epoch 425, Loss: 28.3117, Recon: 19.0305, KL: 9.2812\n",
      "\n",
      "===== Epoch 426 =====\n"
     ]
    },
    {
     "name": "stderr",
     "output_type": "stream",
     "text": [
      "Epoch 426/500: 100%|████████████████████████████████████| 11/11 [00:00<00:00, 1163.79it/s]\n"
     ]
    },
    {
     "name": "stdout",
     "output_type": "stream",
     "text": [
      "Epoch 426, Loss: 28.5347, Recon: 19.2281, KL: 9.3066\n",
      "\n",
      "===== Epoch 427 =====\n"
     ]
    },
    {
     "name": "stderr",
     "output_type": "stream",
     "text": [
      "Epoch 427/500: 100%|████████████████████████████████████| 11/11 [00:00<00:00, 1192.67it/s]\n"
     ]
    },
    {
     "name": "stdout",
     "output_type": "stream",
     "text": [
      "Epoch 427, Loss: 28.3242, Recon: 19.0150, KL: 9.3092\n",
      "\n",
      "===== Epoch 428 =====\n"
     ]
    },
    {
     "name": "stderr",
     "output_type": "stream",
     "text": [
      "Epoch 428/500: 100%|████████████████████████████████████| 11/11 [00:00<00:00, 1106.09it/s]\n"
     ]
    },
    {
     "name": "stdout",
     "output_type": "stream",
     "text": [
      "Epoch 428, Loss: 28.3438, Recon: 19.0631, KL: 9.2807\n",
      "\n",
      "===== Epoch 429 =====\n"
     ]
    },
    {
     "name": "stderr",
     "output_type": "stream",
     "text": [
      "Epoch 429/500: 100%|████████████████████████████████████| 11/11 [00:00<00:00, 1215.74it/s]\n"
     ]
    },
    {
     "name": "stdout",
     "output_type": "stream",
     "text": [
      "Epoch 429, Loss: 28.3772, Recon: 19.1656, KL: 9.2115\n",
      "\n",
      "===== Epoch 430 =====\n"
     ]
    },
    {
     "name": "stderr",
     "output_type": "stream",
     "text": [
      "Epoch 430/500: 100%|████████████████████████████████████| 11/11 [00:00<00:00, 1202.46it/s]\n"
     ]
    },
    {
     "name": "stdout",
     "output_type": "stream",
     "text": [
      "Epoch 430, Loss: 28.3488, Recon: 19.0839, KL: 9.2649\n",
      "\n",
      "===== Epoch 431 =====\n"
     ]
    },
    {
     "name": "stderr",
     "output_type": "stream",
     "text": [
      "Epoch 431/500: 100%|████████████████████████████████████| 11/11 [00:00<00:00, 1149.41it/s]\n"
     ]
    },
    {
     "name": "stdout",
     "output_type": "stream",
     "text": [
      "Epoch 431, Loss: 28.7407, Recon: 19.4698, KL: 9.2708\n",
      "\n",
      "===== Epoch 432 =====\n"
     ]
    },
    {
     "name": "stderr",
     "output_type": "stream",
     "text": [
      "Epoch 432/500: 100%|████████████████████████████████████| 11/11 [00:00<00:00, 1183.68it/s]\n"
     ]
    },
    {
     "name": "stdout",
     "output_type": "stream",
     "text": [
      "Epoch 432, Loss: 28.1172, Recon: 18.8617, KL: 9.2556\n",
      "\n",
      "===== Epoch 433 =====\n"
     ]
    },
    {
     "name": "stderr",
     "output_type": "stream",
     "text": [
      "Epoch 433/500: 100%|████████████████████████████████████| 11/11 [00:00<00:00, 1263.62it/s]\n"
     ]
    },
    {
     "name": "stdout",
     "output_type": "stream",
     "text": [
      "Epoch 433, Loss: 28.2230, Recon: 18.9709, KL: 9.2522\n",
      "\n",
      "===== Epoch 434 =====\n"
     ]
    },
    {
     "name": "stderr",
     "output_type": "stream",
     "text": [
      "Epoch 434/500: 100%|████████████████████████████████████| 11/11 [00:00<00:00, 1178.12it/s]\n"
     ]
    },
    {
     "name": "stdout",
     "output_type": "stream",
     "text": [
      "Epoch 434, Loss: 28.3624, Recon: 19.1030, KL: 9.2595\n",
      "\n",
      "===== Epoch 435 =====\n"
     ]
    },
    {
     "name": "stderr",
     "output_type": "stream",
     "text": [
      "Epoch 435/500: 100%|████████████████████████████████████| 11/11 [00:00<00:00, 1184.83it/s]\n"
     ]
    },
    {
     "name": "stdout",
     "output_type": "stream",
     "text": [
      "Epoch 435, Loss: 28.3805, Recon: 19.1129, KL: 9.2676\n",
      "\n",
      "===== Epoch 436 =====\n"
     ]
    },
    {
     "name": "stderr",
     "output_type": "stream",
     "text": [
      "Epoch 436/500: 100%|████████████████████████████████████| 11/11 [00:00<00:00, 1178.36it/s]\n"
     ]
    },
    {
     "name": "stdout",
     "output_type": "stream",
     "text": [
      "Epoch 436, Loss: 28.3662, Recon: 19.1085, KL: 9.2577\n",
      "\n",
      "===== Epoch 437 =====\n"
     ]
    },
    {
     "name": "stderr",
     "output_type": "stream",
     "text": [
      "Epoch 437/500: 100%|████████████████████████████████████| 11/11 [00:00<00:00, 1202.43it/s]\n"
     ]
    },
    {
     "name": "stdout",
     "output_type": "stream",
     "text": [
      "Epoch 437, Loss: 28.3910, Recon: 19.1021, KL: 9.2889\n",
      "\n",
      "===== Epoch 438 =====\n"
     ]
    },
    {
     "name": "stderr",
     "output_type": "stream",
     "text": [
      "Epoch 438/500: 100%|████████████████████████████████████| 11/11 [00:00<00:00, 1183.92it/s]\n"
     ]
    },
    {
     "name": "stdout",
     "output_type": "stream",
     "text": [
      "Epoch 438, Loss: 28.2615, Recon: 18.9632, KL: 9.2983\n",
      "\n",
      "===== Epoch 439 =====\n"
     ]
    },
    {
     "name": "stderr",
     "output_type": "stream",
     "text": [
      "Epoch 439/500: 100%|████████████████████████████████████| 11/11 [00:00<00:00, 1290.77it/s]\n"
     ]
    },
    {
     "name": "stdout",
     "output_type": "stream",
     "text": [
      "Epoch 439, Loss: 28.2069, Recon: 18.8960, KL: 9.3109\n",
      "\n",
      "===== Epoch 440 =====\n"
     ]
    },
    {
     "name": "stderr",
     "output_type": "stream",
     "text": [
      "Epoch 440/500: 100%|████████████████████████████████████| 11/11 [00:00<00:00, 1102.87it/s]\n"
     ]
    },
    {
     "name": "stdout",
     "output_type": "stream",
     "text": [
      "Epoch 440, Loss: 28.1976, Recon: 18.9189, KL: 9.2787\n",
      "\n",
      "===== Epoch 441 =====\n"
     ]
    },
    {
     "name": "stderr",
     "output_type": "stream",
     "text": [
      "Epoch 441/500: 100%|████████████████████████████████████| 11/11 [00:00<00:00, 1239.55it/s]\n"
     ]
    },
    {
     "name": "stdout",
     "output_type": "stream",
     "text": [
      "Epoch 441, Loss: 28.3461, Recon: 19.0862, KL: 9.2599\n",
      "\n",
      "===== Epoch 442 =====\n"
     ]
    },
    {
     "name": "stderr",
     "output_type": "stream",
     "text": [
      "Epoch 442/500: 100%|████████████████████████████████████| 11/11 [00:00<00:00, 1147.24it/s]\n"
     ]
    },
    {
     "name": "stdout",
     "output_type": "stream",
     "text": [
      "Epoch 442, Loss: 28.2752, Recon: 19.0221, KL: 9.2531\n",
      "\n",
      "===== Epoch 443 =====\n"
     ]
    },
    {
     "name": "stderr",
     "output_type": "stream",
     "text": [
      "Epoch 443/500: 100%|████████████████████████████████████| 11/11 [00:00<00:00, 1219.95it/s]\n"
     ]
    },
    {
     "name": "stdout",
     "output_type": "stream",
     "text": [
      "Epoch 443, Loss: 28.0883, Recon: 18.8015, KL: 9.2868\n",
      "\n",
      "===== Epoch 444 =====\n"
     ]
    },
    {
     "name": "stderr",
     "output_type": "stream",
     "text": [
      "Epoch 444/500: 100%|████████████████████████████████████| 11/11 [00:00<00:00, 1093.66it/s]\n"
     ]
    },
    {
     "name": "stdout",
     "output_type": "stream",
     "text": [
      "Epoch 444, Loss: 28.3992, Recon: 19.1123, KL: 9.2869\n",
      "\n",
      "===== Epoch 445 =====\n"
     ]
    },
    {
     "name": "stderr",
     "output_type": "stream",
     "text": [
      "Epoch 445/500: 100%|████████████████████████████████████| 11/11 [00:00<00:00, 1110.65it/s]\n"
     ]
    },
    {
     "name": "stdout",
     "output_type": "stream",
     "text": [
      "Epoch 445, Loss: 28.1279, Recon: 18.8723, KL: 9.2556\n",
      "\n",
      "===== Epoch 446 =====\n"
     ]
    },
    {
     "name": "stderr",
     "output_type": "stream",
     "text": [
      "Epoch 446/500: 100%|████████████████████████████████████| 11/11 [00:00<00:00, 1183.80it/s]\n"
     ]
    },
    {
     "name": "stdout",
     "output_type": "stream",
     "text": [
      "Epoch 446, Loss: 28.1769, Recon: 18.9152, KL: 9.2617\n",
      "\n",
      "===== Epoch 447 =====\n"
     ]
    },
    {
     "name": "stderr",
     "output_type": "stream",
     "text": [
      "Epoch 447/500: 100%|████████████████████████████████████| 11/11 [00:00<00:00, 1121.09it/s]\n"
     ]
    },
    {
     "name": "stdout",
     "output_type": "stream",
     "text": [
      "Epoch 447, Loss: 27.9550, Recon: 18.6971, KL: 9.2579\n",
      "\n",
      "===== Epoch 448 =====\n"
     ]
    },
    {
     "name": "stderr",
     "output_type": "stream",
     "text": [
      "Epoch 448/500: 100%|████████████████████████████████████| 11/11 [00:00<00:00, 1102.21it/s]\n"
     ]
    },
    {
     "name": "stdout",
     "output_type": "stream",
     "text": [
      "Epoch 448, Loss: 28.0840, Recon: 18.8377, KL: 9.2462\n",
      "\n",
      "===== Epoch 449 =====\n"
     ]
    },
    {
     "name": "stderr",
     "output_type": "stream",
     "text": [
      "Epoch 449/500: 100%|████████████████████████████████████| 11/11 [00:00<00:00, 1167.00it/s]\n"
     ]
    },
    {
     "name": "stdout",
     "output_type": "stream",
     "text": [
      "Epoch 449, Loss: 27.9704, Recon: 18.7313, KL: 9.2391\n",
      "\n",
      "===== Epoch 450 =====\n"
     ]
    },
    {
     "name": "stderr",
     "output_type": "stream",
     "text": [
      "Epoch 450/500: 100%|█████████████████████████████████████| 11/11 [00:00<00:00, 781.26it/s]\n"
     ]
    },
    {
     "name": "stdout",
     "output_type": "stream",
     "text": [
      "Epoch 450, Loss: 28.0745, Recon: 18.8642, KL: 9.2104\n",
      "\n",
      "===== Epoch 451 =====\n"
     ]
    },
    {
     "name": "stderr",
     "output_type": "stream",
     "text": [
      "Epoch 451/500: 100%|█████████████████████████████████████| 11/11 [00:00<00:00, 776.36it/s]\n"
     ]
    },
    {
     "name": "stdout",
     "output_type": "stream",
     "text": [
      "Epoch 451, Loss: 28.0895, Recon: 18.9309, KL: 9.1586\n",
      "\n",
      "===== Epoch 452 =====\n"
     ]
    },
    {
     "name": "stderr",
     "output_type": "stream",
     "text": [
      "Epoch 452/500: 100%|████████████████████████████████████| 11/11 [00:00<00:00, 1035.40it/s]\n"
     ]
    },
    {
     "name": "stdout",
     "output_type": "stream",
     "text": [
      "Epoch 452, Loss: 27.8944, Recon: 18.7221, KL: 9.1724\n",
      "\n",
      "===== Epoch 453 =====\n"
     ]
    },
    {
     "name": "stderr",
     "output_type": "stream",
     "text": [
      "Epoch 453/500: 100%|████████████████████████████████████| 11/11 [00:00<00:00, 1101.52it/s]\n"
     ]
    },
    {
     "name": "stdout",
     "output_type": "stream",
     "text": [
      "Epoch 453, Loss: 28.0562, Recon: 18.9201, KL: 9.1361\n",
      "\n",
      "===== Epoch 454 =====\n"
     ]
    },
    {
     "name": "stderr",
     "output_type": "stream",
     "text": [
      "Epoch 454/500: 100%|████████████████████████████████████| 11/11 [00:00<00:00, 1160.45it/s]\n"
     ]
    },
    {
     "name": "stdout",
     "output_type": "stream",
     "text": [
      "Epoch 454, Loss: 27.9799, Recon: 18.8138, KL: 9.1661\n",
      "\n",
      "===== Epoch 455 =====\n"
     ]
    },
    {
     "name": "stderr",
     "output_type": "stream",
     "text": [
      "Epoch 455/500: 100%|████████████████████████████████████| 11/11 [00:00<00:00, 1175.44it/s]\n"
     ]
    },
    {
     "name": "stdout",
     "output_type": "stream",
     "text": [
      "Epoch 455, Loss: 28.1224, Recon: 18.9346, KL: 9.1878\n",
      "\n",
      "===== Epoch 456 =====\n"
     ]
    },
    {
     "name": "stderr",
     "output_type": "stream",
     "text": [
      "Epoch 456/500: 100%|████████████████████████████████████| 11/11 [00:00<00:00, 1089.76it/s]\n"
     ]
    },
    {
     "name": "stdout",
     "output_type": "stream",
     "text": [
      "Epoch 456, Loss: 27.8296, Recon: 18.6139, KL: 9.2157\n",
      "\n",
      "===== Epoch 457 =====\n"
     ]
    },
    {
     "name": "stderr",
     "output_type": "stream",
     "text": [
      "Epoch 457/500: 100%|████████████████████████████████████| 11/11 [00:00<00:00, 1137.31it/s]\n"
     ]
    },
    {
     "name": "stdout",
     "output_type": "stream",
     "text": [
      "Epoch 457, Loss: 27.9875, Recon: 18.8365, KL: 9.1510\n",
      "\n",
      "===== Epoch 458 =====\n"
     ]
    },
    {
     "name": "stderr",
     "output_type": "stream",
     "text": [
      "Epoch 458/500: 100%|████████████████████████████████████| 11/11 [00:00<00:00, 1116.29it/s]\n"
     ]
    },
    {
     "name": "stdout",
     "output_type": "stream",
     "text": [
      "Epoch 458, Loss: 28.0539, Recon: 18.9002, KL: 9.1538\n",
      "\n",
      "===== Epoch 459 =====\n"
     ]
    },
    {
     "name": "stderr",
     "output_type": "stream",
     "text": [
      "Epoch 459/500: 100%|████████████████████████████████████| 11/11 [00:00<00:00, 1096.37it/s]\n"
     ]
    },
    {
     "name": "stdout",
     "output_type": "stream",
     "text": [
      "Epoch 459, Loss: 27.8037, Recon: 18.5884, KL: 9.2153\n",
      "\n",
      "===== Epoch 460 =====\n"
     ]
    },
    {
     "name": "stderr",
     "output_type": "stream",
     "text": [
      "Epoch 460/500: 100%|████████████████████████████████████| 11/11 [00:00<00:00, 1133.21it/s]\n"
     ]
    },
    {
     "name": "stdout",
     "output_type": "stream",
     "text": [
      "Epoch 460, Loss: 28.0064, Recon: 18.8432, KL: 9.1632\n",
      "\n",
      "===== Epoch 461 =====\n"
     ]
    },
    {
     "name": "stderr",
     "output_type": "stream",
     "text": [
      "Epoch 461/500: 100%|████████████████████████████████████| 11/11 [00:00<00:00, 1168.45it/s]\n"
     ]
    },
    {
     "name": "stdout",
     "output_type": "stream",
     "text": [
      "Epoch 461, Loss: 28.0808, Recon: 18.9122, KL: 9.1686\n",
      "\n",
      "===== Epoch 462 =====\n"
     ]
    },
    {
     "name": "stderr",
     "output_type": "stream",
     "text": [
      "Epoch 462/500: 100%|████████████████████████████████████| 11/11 [00:00<00:00, 1135.77it/s]\n"
     ]
    },
    {
     "name": "stdout",
     "output_type": "stream",
     "text": [
      "Epoch 462, Loss: 27.7697, Recon: 18.5721, KL: 9.1976\n",
      "\n",
      "===== Epoch 463 =====\n"
     ]
    },
    {
     "name": "stderr",
     "output_type": "stream",
     "text": [
      "Epoch 463/500: 100%|████████████████████████████████████| 11/11 [00:00<00:00, 1128.91it/s]\n"
     ]
    },
    {
     "name": "stdout",
     "output_type": "stream",
     "text": [
      "Epoch 463, Loss: 27.8833, Recon: 18.7301, KL: 9.1532\n",
      "\n",
      "===== Epoch 464 =====\n"
     ]
    },
    {
     "name": "stderr",
     "output_type": "stream",
     "text": [
      "Epoch 464/500: 100%|████████████████████████████████████| 11/11 [00:00<00:00, 1104.08it/s]\n"
     ]
    },
    {
     "name": "stdout",
     "output_type": "stream",
     "text": [
      "Epoch 464, Loss: 27.8692, Recon: 18.6834, KL: 9.1858\n",
      "\n",
      "===== Epoch 465 =====\n"
     ]
    },
    {
     "name": "stderr",
     "output_type": "stream",
     "text": [
      "Epoch 465/500: 100%|█████████████████████████████████████| 11/11 [00:00<00:00, 971.82it/s]"
     ]
    },
    {
     "name": "stdout",
     "output_type": "stream",
     "text": [
      "Epoch 465, Loss: 28.0081, Recon: 18.8148, KL: 9.1933\n",
      "\n",
      "===== Epoch 466 =====\n"
     ]
    },
    {
     "name": "stderr",
     "output_type": "stream",
     "text": [
      "\n",
      "Epoch 466/500: 100%|████████████████████████████████████| 11/11 [00:00<00:00, 1209.84it/s]\n"
     ]
    },
    {
     "name": "stdout",
     "output_type": "stream",
     "text": [
      "Epoch 466, Loss: 27.8863, Recon: 18.7343, KL: 9.1520\n",
      "\n",
      "===== Epoch 467 =====\n"
     ]
    },
    {
     "name": "stderr",
     "output_type": "stream",
     "text": [
      "Epoch 467/500: 100%|████████████████████████████████████| 11/11 [00:00<00:00, 1100.03it/s]\n"
     ]
    },
    {
     "name": "stdout",
     "output_type": "stream",
     "text": [
      "Epoch 467, Loss: 27.9793, Recon: 18.8303, KL: 9.1490\n",
      "\n",
      "===== Epoch 468 =====\n"
     ]
    },
    {
     "name": "stderr",
     "output_type": "stream",
     "text": [
      "Epoch 468/500: 100%|████████████████████████████████████| 11/11 [00:00<00:00, 1075.59it/s]\n"
     ]
    },
    {
     "name": "stdout",
     "output_type": "stream",
     "text": [
      "Epoch 468, Loss: 27.9631, Recon: 18.8085, KL: 9.1546\n",
      "\n",
      "===== Epoch 469 =====\n"
     ]
    },
    {
     "name": "stderr",
     "output_type": "stream",
     "text": [
      "Epoch 469/500: 100%|████████████████████████████████████| 11/11 [00:00<00:00, 1185.08it/s]\n"
     ]
    },
    {
     "name": "stdout",
     "output_type": "stream",
     "text": [
      "Epoch 469, Loss: 27.8421, Recon: 18.6259, KL: 9.2161\n",
      "\n",
      "===== Epoch 470 =====\n"
     ]
    },
    {
     "name": "stderr",
     "output_type": "stream",
     "text": [
      "Epoch 470/500: 100%|████████████████████████████████████| 11/11 [00:00<00:00, 1071.07it/s]\n"
     ]
    },
    {
     "name": "stdout",
     "output_type": "stream",
     "text": [
      "Epoch 470, Loss: 27.8596, Recon: 18.5822, KL: 9.2773\n",
      "\n",
      "===== Epoch 471 =====\n"
     ]
    },
    {
     "name": "stderr",
     "output_type": "stream",
     "text": [
      "Epoch 471/500: 100%|████████████████████████████████████| 11/11 [00:00<00:00, 1019.84it/s]\n"
     ]
    },
    {
     "name": "stdout",
     "output_type": "stream",
     "text": [
      "Epoch 471, Loss: 27.7174, Recon: 18.4697, KL: 9.2477\n",
      "\n",
      "===== Epoch 472 =====\n"
     ]
    },
    {
     "name": "stderr",
     "output_type": "stream",
     "text": [
      "Epoch 472/500: 100%|████████████████████████████████████| 11/11 [00:00<00:00, 1160.45it/s]\n"
     ]
    },
    {
     "name": "stdout",
     "output_type": "stream",
     "text": [
      "Epoch 472, Loss: 27.5848, Recon: 18.3846, KL: 9.2003\n",
      "\n",
      "===== Epoch 473 =====\n"
     ]
    },
    {
     "name": "stderr",
     "output_type": "stream",
     "text": [
      "Epoch 473/500: 100%|████████████████████████████████████| 11/11 [00:00<00:00, 1159.99it/s]\n"
     ]
    },
    {
     "name": "stdout",
     "output_type": "stream",
     "text": [
      "Epoch 473, Loss: 27.7470, Recon: 18.5187, KL: 9.2283\n",
      "\n",
      "===== Epoch 474 =====\n"
     ]
    },
    {
     "name": "stderr",
     "output_type": "stream",
     "text": [
      "Epoch 474/500: 100%|████████████████████████████████████| 11/11 [00:00<00:00, 1205.48it/s]\n"
     ]
    },
    {
     "name": "stdout",
     "output_type": "stream",
     "text": [
      "Epoch 474, Loss: 27.6556, Recon: 18.4692, KL: 9.1864\n",
      "\n",
      "===== Epoch 475 =====\n"
     ]
    },
    {
     "name": "stderr",
     "output_type": "stream",
     "text": [
      "Epoch 475/500: 100%|████████████████████████████████████| 11/11 [00:00<00:00, 1129.96it/s]\n"
     ]
    },
    {
     "name": "stdout",
     "output_type": "stream",
     "text": [
      "Epoch 475, Loss: 27.7715, Recon: 18.6561, KL: 9.1154\n",
      "\n",
      "===== Epoch 476 =====\n"
     ]
    },
    {
     "name": "stderr",
     "output_type": "stream",
     "text": [
      "Epoch 476/500: 100%|████████████████████████████████████| 11/11 [00:00<00:00, 1132.15it/s]\n"
     ]
    },
    {
     "name": "stdout",
     "output_type": "stream",
     "text": [
      "Epoch 476, Loss: 27.6980, Recon: 18.5538, KL: 9.1442\n",
      "\n",
      "===== Epoch 477 =====\n"
     ]
    },
    {
     "name": "stderr",
     "output_type": "stream",
     "text": [
      "Epoch 477/500: 100%|████████████████████████████████████| 11/11 [00:00<00:00, 1126.26it/s]\n"
     ]
    },
    {
     "name": "stdout",
     "output_type": "stream",
     "text": [
      "Epoch 477, Loss: 27.8602, Recon: 18.7199, KL: 9.1403\n",
      "\n",
      "===== Epoch 478 =====\n"
     ]
    },
    {
     "name": "stderr",
     "output_type": "stream",
     "text": [
      "Epoch 478/500: 100%|████████████████████████████████████| 11/11 [00:00<00:00, 1168.36it/s]\n"
     ]
    },
    {
     "name": "stdout",
     "output_type": "stream",
     "text": [
      "Epoch 478, Loss: 27.8849, Recon: 18.6889, KL: 9.1960\n",
      "\n",
      "===== Epoch 479 =====\n"
     ]
    },
    {
     "name": "stderr",
     "output_type": "stream",
     "text": [
      "Epoch 479/500: 100%|████████████████████████████████████| 11/11 [00:00<00:00, 1130.07it/s]\n"
     ]
    },
    {
     "name": "stdout",
     "output_type": "stream",
     "text": [
      "Epoch 479, Loss: 27.7308, Recon: 18.4981, KL: 9.2327\n",
      "\n",
      "===== Epoch 480 =====\n"
     ]
    },
    {
     "name": "stderr",
     "output_type": "stream",
     "text": [
      "Epoch 480/500: 100%|████████████████████████████████████| 11/11 [00:00<00:00, 1161.33it/s]\n"
     ]
    },
    {
     "name": "stdout",
     "output_type": "stream",
     "text": [
      "Epoch 480, Loss: 27.4994, Recon: 18.2858, KL: 9.2136\n",
      "\n",
      "===== Epoch 481 =====\n"
     ]
    },
    {
     "name": "stderr",
     "output_type": "stream",
     "text": [
      "Epoch 481/500: 100%|████████████████████████████████████| 11/11 [00:00<00:00, 1088.92it/s]\n"
     ]
    },
    {
     "name": "stdout",
     "output_type": "stream",
     "text": [
      "Epoch 481, Loss: 27.7901, Recon: 18.6095, KL: 9.1806\n",
      "\n",
      "===== Epoch 482 =====\n"
     ]
    },
    {
     "name": "stderr",
     "output_type": "stream",
     "text": [
      "Epoch 482/500: 100%|████████████████████████████████████| 11/11 [00:00<00:00, 1131.23it/s]\n"
     ]
    },
    {
     "name": "stdout",
     "output_type": "stream",
     "text": [
      "Epoch 482, Loss: 27.7338, Recon: 18.5163, KL: 9.2175\n",
      "\n",
      "===== Epoch 483 =====\n"
     ]
    },
    {
     "name": "stderr",
     "output_type": "stream",
     "text": [
      "Epoch 483/500: 100%|████████████████████████████████████| 11/11 [00:00<00:00, 1160.86it/s]\n"
     ]
    },
    {
     "name": "stdout",
     "output_type": "stream",
     "text": [
      "Epoch 483, Loss: 27.5431, Recon: 18.3110, KL: 9.2320\n",
      "\n",
      "===== Epoch 484 =====\n"
     ]
    },
    {
     "name": "stderr",
     "output_type": "stream",
     "text": [
      "Epoch 484/500: 100%|████████████████████████████████████| 11/11 [00:00<00:00, 1078.53it/s]\n"
     ]
    },
    {
     "name": "stdout",
     "output_type": "stream",
     "text": [
      "Epoch 484, Loss: 27.6572, Recon: 18.5016, KL: 9.1556\n",
      "\n",
      "===== Epoch 485 =====\n"
     ]
    },
    {
     "name": "stderr",
     "output_type": "stream",
     "text": [
      "Epoch 485/500: 100%|████████████████████████████████████| 11/11 [00:00<00:00, 1130.76it/s]\n"
     ]
    },
    {
     "name": "stdout",
     "output_type": "stream",
     "text": [
      "Epoch 485, Loss: 27.5594, Recon: 18.4163, KL: 9.1431\n",
      "\n",
      "===== Epoch 486 =====\n"
     ]
    },
    {
     "name": "stderr",
     "output_type": "stream",
     "text": [
      "Epoch 486/500: 100%|████████████████████████████████████| 11/11 [00:00<00:00, 1125.77it/s]\n"
     ]
    },
    {
     "name": "stdout",
     "output_type": "stream",
     "text": [
      "Epoch 486, Loss: 27.5651, Recon: 18.3939, KL: 9.1712\n",
      "\n",
      "===== Epoch 487 =====\n"
     ]
    },
    {
     "name": "stderr",
     "output_type": "stream",
     "text": [
      "Epoch 487/500: 100%|████████████████████████████████████| 11/11 [00:00<00:00, 1159.26it/s]\n"
     ]
    },
    {
     "name": "stdout",
     "output_type": "stream",
     "text": [
      "Epoch 487, Loss: 27.6176, Recon: 18.4736, KL: 9.1441\n",
      "\n",
      "===== Epoch 488 =====\n"
     ]
    },
    {
     "name": "stderr",
     "output_type": "stream",
     "text": [
      "Epoch 488/500: 100%|████████████████████████████████████| 11/11 [00:00<00:00, 1177.36it/s]\n"
     ]
    },
    {
     "name": "stdout",
     "output_type": "stream",
     "text": [
      "Epoch 488, Loss: 27.5429, Recon: 18.3954, KL: 9.1475\n",
      "\n",
      "===== Epoch 489 =====\n"
     ]
    },
    {
     "name": "stderr",
     "output_type": "stream",
     "text": [
      "Epoch 489/500: 100%|████████████████████████████████████| 11/11 [00:00<00:00, 1134.35it/s]\n"
     ]
    },
    {
     "name": "stdout",
     "output_type": "stream",
     "text": [
      "Epoch 489, Loss: 27.4277, Recon: 18.2928, KL: 9.1349\n",
      "\n",
      "===== Epoch 490 =====\n"
     ]
    },
    {
     "name": "stderr",
     "output_type": "stream",
     "text": [
      "Epoch 490/500: 100%|████████████████████████████████████| 11/11 [00:00<00:00, 1114.83it/s]\n"
     ]
    },
    {
     "name": "stdout",
     "output_type": "stream",
     "text": [
      "Epoch 490, Loss: 27.5120, Recon: 18.4177, KL: 9.0943\n",
      "\n",
      "===== Epoch 491 =====\n"
     ]
    },
    {
     "name": "stderr",
     "output_type": "stream",
     "text": [
      "Epoch 491/500: 100%|████████████████████████████████████| 11/11 [00:00<00:00, 1175.44it/s]\n"
     ]
    },
    {
     "name": "stdout",
     "output_type": "stream",
     "text": [
      "Epoch 491, Loss: 27.5676, Recon: 18.4130, KL: 9.1546\n",
      "\n",
      "===== Epoch 492 =====\n"
     ]
    },
    {
     "name": "stderr",
     "output_type": "stream",
     "text": [
      "Epoch 492/500: 100%|████████████████████████████████████| 11/11 [00:00<00:00, 1156.79it/s]\n"
     ]
    },
    {
     "name": "stdout",
     "output_type": "stream",
     "text": [
      "Epoch 492, Loss: 27.5937, Recon: 18.4488, KL: 9.1449\n",
      "\n",
      "===== Epoch 493 =====\n"
     ]
    },
    {
     "name": "stderr",
     "output_type": "stream",
     "text": [
      "Epoch 493/500: 100%|████████████████████████████████████| 11/11 [00:00<00:00, 1139.31it/s]\n"
     ]
    },
    {
     "name": "stdout",
     "output_type": "stream",
     "text": [
      "Epoch 493, Loss: 27.2873, Recon: 18.1917, KL: 9.0957\n",
      "\n",
      "===== Epoch 494 =====\n"
     ]
    },
    {
     "name": "stderr",
     "output_type": "stream",
     "text": [
      "Epoch 494/500: 100%|████████████████████████████████████| 11/11 [00:00<00:00, 1151.73it/s]\n"
     ]
    },
    {
     "name": "stdout",
     "output_type": "stream",
     "text": [
      "Epoch 494, Loss: 27.4836, Recon: 18.4039, KL: 9.0797\n",
      "\n",
      "===== Epoch 495 =====\n"
     ]
    },
    {
     "name": "stderr",
     "output_type": "stream",
     "text": [
      "Epoch 495/500: 100%|████████████████████████████████████| 11/11 [00:00<00:00, 1102.18it/s]\n"
     ]
    },
    {
     "name": "stdout",
     "output_type": "stream",
     "text": [
      "Epoch 495, Loss: 27.4162, Recon: 18.3306, KL: 9.0856\n",
      "\n",
      "===== Epoch 496 =====\n"
     ]
    },
    {
     "name": "stderr",
     "output_type": "stream",
     "text": [
      "Epoch 496/500: 100%|████████████████████████████████████| 11/11 [00:00<00:00, 1203.50it/s]\n"
     ]
    },
    {
     "name": "stdout",
     "output_type": "stream",
     "text": [
      "Epoch 496, Loss: 27.2315, Recon: 18.1867, KL: 9.0449\n",
      "\n",
      "===== Epoch 497 =====\n"
     ]
    },
    {
     "name": "stderr",
     "output_type": "stream",
     "text": [
      "Epoch 497/500: 100%|████████████████████████████████████| 11/11 [00:00<00:00, 1154.47it/s]\n"
     ]
    },
    {
     "name": "stdout",
     "output_type": "stream",
     "text": [
      "Epoch 497, Loss: 27.4776, Recon: 18.4609, KL: 9.0167\n",
      "\n",
      "===== Epoch 498 =====\n"
     ]
    },
    {
     "name": "stderr",
     "output_type": "stream",
     "text": [
      "Epoch 498/500: 100%|████████████████████████████████████| 11/11 [00:00<00:00, 1113.70it/s]\n"
     ]
    },
    {
     "name": "stdout",
     "output_type": "stream",
     "text": [
      "Epoch 498, Loss: 27.2461, Recon: 18.1920, KL: 9.0541\n",
      "\n",
      "===== Epoch 499 =====\n"
     ]
    },
    {
     "name": "stderr",
     "output_type": "stream",
     "text": [
      "Epoch 499/500: 100%|████████████████████████████████████| 11/11 [00:00<00:00, 1125.55it/s]\n"
     ]
    },
    {
     "name": "stdout",
     "output_type": "stream",
     "text": [
      "Epoch 499, Loss: 27.4335, Recon: 18.3616, KL: 9.0719\n",
      "\n",
      "===== Epoch 500 =====\n"
     ]
    },
    {
     "name": "stderr",
     "output_type": "stream",
     "text": [
      "Epoch 500/500: 100%|████████████████████████████████████| 11/11 [00:00<00:00, 1099.87it/s]\n"
     ]
    },
    {
     "name": "stdout",
     "output_type": "stream",
     "text": [
      "Epoch 500, Loss: 27.3746, Recon: 18.2940, KL: 9.0806\n"
     ]
    },
    {
     "data": {
      "image/png": "[encoded data removed]",
      "text/plain": [
       "<Figure size 1000x600 with 1 Axes>"
      ]
     },
     "metadata": {},
     "output_type": "display_data"
    },
    {
     "name": "stdout",
     "output_type": "stream",
     "text": [
      "dim of latent mu: (331, 10)\n"
     ]
    },
    {
     "data": {
      "image/png": "[encoded data removed]",
      "text/plain": [
       "<Figure size 800x800 with 1 Axes>"
      ]
     },
     "metadata": {},
     "output_type": "display_data"
    },
    {
     "name": "stdout",
     "output_type": "stream",
     "text": [
      "Paired t-test: t = -1.893, p = 0.0647\n"
     ]
    },
    {
     "data": {
      "image/png": "[encoded data removed]",
      "text/plain": [
       "<Figure size 800x500 with 1 Axes>"
      ]
     },
     "metadata": {},
     "output_type": "display_data"
    }
   ],
   "source": [
    "# Set up model, optimizer, and device\n",
    "input_dim = X_tensor.shape[1]\n",
    "cond_dim = subject_cond_tensor.shape[1]\n",
    "latent_dim = 10\n",
    "hidden_dim = 64 \n",
    "NUM_EPOCH = 500\n",
    "LR = 3e-4\n",
    "model = CVAE(input_dim=input_dim, cond_dim=cond_dim, latent_dim=latent_dim, hidden_dim=hidden_dim).to(DEVICE)\n",
    "optimizer = torch.optim.Adam(model.parameters(), lr=LR)\n",
    "total_loss_hist, recon_loss_hist, kld_loss_hist = train_vae(model, dataloader, optimizer, device=DEVICE, epochs=NUM_EPOCH)\n",
    "\n",
    "plot_vae_losses(total_loss_hist, recon_loss_hist, kld_loss_hist)\n",
    "\n",
    "mu_all = get_latent_mu_cvae(model, X_tensor, subject_cond_tensor, device=DEVICE)\n",
    "# 2d-TSNE\n",
    "z_2d = TSNE(n_components=2, perplexity=8).fit_transform(mu_all)\n",
    "plot_latent_embedding_by_condition_and_subject(z_2d, all_tms_type, all_subject_id)\n",
    "\n",
    "df = compute_condition_distances(mu_all, all_tms_type, all_subject_id, condition_map)\n",
    "\n",
    "# Paired t-test\n",
    "t_stat, p_val_t = ttest_rel(df[\"d_null_sham\"], df[\"d_null_real\"])\n",
    "print(f\"Paired t-test: t = {t_stat:.3f}, p = {p_val_t:.4f}\")\n",
    "plot_subject_distance_comparison(df)"
   ]
  },
  {
   "cell_type": "code",
   "execution_count": null,
   "id": "10d79a60-c5f6-49cf-a299-70a21bf4dbb9",
   "metadata": {},
   "outputs": [],
   "source": [
    "output_dir = project_root / \"outputs\"\n",
    "output_dir.mkdir(parents=True, exist_ok=True)   # ensure folder exists\n",
    "\n",
    "# Build the filename\n",
    "output_filename = output_dir / f\"dist_summary_roi_{use_roi}.csv\"\n",
    "\n",
    "# Save DataFrame\n",
    "df.to_csv(output_filename, index=False)\n",
    "\n",
    "df_session_dists = compute_per_session_dist_to_null(mu_all, all_subject_id, all_tms_type, all_session)\n",
    "output_filename = output_dir / f\"session_distances_roi_{use_roi}.csv\"\n",
    "\n",
    "# Save DataFrame\n",
    "df_session_dists.to_csv(output_filename, index=False)"
   ]
  },
  {
   "cell_type": "code",
   "execution_count": 13,
   "id": "1a1205a9-5ad3-45c4-8c0c-1237c95bf2d2",
   "metadata": {},
   "outputs": [
    {
     "name": "stderr",
     "output_type": "stream",
     "text": [
      "<>:13: SyntaxWarning: invalid escape sequence '\\h'\n",
      "<>:13: SyntaxWarning: invalid escape sequence '\\h'\n",
      "/var/folders/br/nr4k1vxj1_j7jxk17x7xr8n9g2q0k8/T/ipykernel_76825/3939244392.py:13: SyntaxWarning: invalid escape sequence '\\h'\n",
      "  \"\"\"Return reconstructions \\hat{X} in same order as X.\"\"\"\n"
     ]
    },
    {
     "name": "stdout",
     "output_type": "stream",
     "text": [
      "Reconstruction MSE (S vs C): t = 2.086, p = 0.0425 (means S=0.1834, C=0.1717, n=48)\n",
      "Reconstruction corr r (S vs C): t = -0.028, p = 0.9776 (means S=0.8463, C=0.8466, n=48)\n"
     ]
    },
    {
     "data": {
      "image/png": "[encoded data removed]",
      "text/plain": [
       "<Figure size 640x480 with 1 Axes>"
      ]
     },
     "metadata": {},
     "output_type": "display_data"
    },
    {
     "data": {
      "image/png": "[encoded data removed]",
      "text/plain": [
       "<Figure size 640x480 with 1 Axes>"
      ]
     },
     "metadata": {},
     "output_type": "display_data"
    }
   ],
   "source": [
    "# ---------- Reconstruction fidelity by condition (per session) ----------\n",
    "# Assumes: model is trained; X_tensor (N x D); subject_cond_tensor (N x cond_dim)\n",
    "#          all_tms_type is an array-like of length N with 'S','C','N'\n",
    "#          all_subject_id is array-like of subject IDs (ints/str)\n",
    "\n",
    "import torch\n",
    "import numpy as np\n",
    "import pandas as pd\n",
    "from scipy.stats import pearsonr, ttest_rel\n",
    "import matplotlib.pyplot as plt\n",
    "\n",
    "def reconstruct_in_batches(model, X, C, batch_size=256, device=DEVICE):\n",
    "    \"\"\"Return reconstructions \\hat{X} in same order as X.\"\"\"\n",
    "    model.eval()\n",
    "    outs = []\n",
    "    with torch.no_grad():\n",
    "        for start in range(0, X.shape[0], batch_size):\n",
    "            xb = X[start:start+batch_size].to(device)\n",
    "            cb = C[start:start+batch_size].to(device)\n",
    "            # forward pass; adapt to your model's API if different\n",
    "            x_hat, mu, logvar = model(xb, cb)\n",
    "            outs.append(x_hat.detach().cpu())\n",
    "    return torch.cat(outs, dim=0)\n",
    "\n",
    "def session_metrics(x_true, x_hat):\n",
    "    \"\"\"Return MSE and Pearson r for one session (1D tensors).\"\"\"\n",
    "    # flatten to 1D\n",
    "    a = x_true.view(-1).cpu().numpy()\n",
    "    b = x_hat.view(-1).cpu().numpy()\n",
    "    mse = np.mean((a - b)**2)\n",
    "    # guard against constant vectors\n",
    "    if np.std(a) == 0 or np.std(b) == 0:\n",
    "        r = np.nan\n",
    "    else:\n",
    "        r = pearsonr(a, b)[0]\n",
    "    return mse, r\n",
    "\n",
    "# 1) Get reconstructions for all sessions\n",
    "X_hat = reconstruct_in_batches(model, X_tensor, subject_cond_tensor, batch_size=512)\n",
    "\n",
    "# 2) Compute per-session metrics\n",
    "rows = []\n",
    "for i in range(X_tensor.shape[0]):\n",
    "    mse, r = session_metrics(X_tensor[i], X_hat[i])\n",
    "    rows.append({\n",
    "        \"idx\": i,\n",
    "        \"subject\": str(all_subject_id[i]),\n",
    "        \"condition\": str(all_tms_type[i]),   # 'S','C','N'\n",
    "        \"mse\": float(mse),\n",
    "        \"r\": float(r),\n",
    "    })\n",
    "recon_df = pd.DataFrame(rows)\n",
    "\n",
    "# 3) Restrict to sham (S) and cTBS (C) for the reviewer’s comparison\n",
    "sc = recon_df[recon_df[\"condition\"].isin([\"S\",\"C\"])].copy()\n",
    "\n",
    "# 4) Aggregate within subject (mean over sessions per condition), then paired t-test\n",
    "agg = sc.groupby([\"subject\",\"condition\"], as_index=False)[[\"mse\",\"r\"]].mean()\n",
    "\n",
    "wide_mse = agg.pivot(index=\"subject\", columns=\"condition\", values=\"mse\").dropna()\n",
    "wide_r   = agg.pivot(index=\"subject\", columns=\"condition\", values=\"r\").dropna()\n",
    "\n",
    "t_mse, p_mse = ttest_rel(wide_mse[\"S\"], wide_mse[\"C\"])\n",
    "t_r,   p_r   = ttest_rel(wide_r[\"S\"],   wide_r[\"C\"])\n",
    "\n",
    "print(f\"Reconstruction MSE (S vs C): t = {t_mse:.3f}, p = {p_mse:.4f} \"\n",
    "      f\"(means S={wide_mse['S'].mean():.4f}, C={wide_mse['C'].mean():.4f}, n={len(wide_mse)})\")\n",
    "print(f\"Reconstruction corr r (S vs C): t = {t_r:.3f}, p = {p_r:.4f} \"\n",
    "      f\"(means S={wide_r['S'].mean():.4f}, C={wide_r['C'].mean():.4f}, n={len(wide_r)})\")\n",
    "\n",
    "# 5) Quick visualization (boxplots) to drop in the manuscript/SI\n",
    "fig, ax = plt.subplots()\n",
    "sc.boxplot(column=\"mse\", by=\"condition\", ax=ax)\n",
    "ax.set_title(\"Reconstruction MSE by condition\")\n",
    "ax.set_xlabel(\"Condition\")\n",
    "ax.set_ylabel(\"MSE\")\n",
    "plt.suptitle(\"\")\n",
    "plt.show()\n",
    "\n",
    "fig, ax = plt.subplots()\n",
    "sc.boxplot(column=\"r\", by=\"condition\", ax=ax)\n",
    "ax.set_title(\"Reconstruction correlation (Pearson r) by condition\")\n",
    "ax.set_xlabel(\"Condition\")\n",
    "ax.set_ylabel(\"r\")\n",
    "plt.suptitle(\"\")\n",
    "plt.show()\n"
   ]
  },
  {
   "cell_type": "code",
   "execution_count": null,
   "id": "34d303a2-0084-4a93-8834-1bb05c46b0f4",
   "metadata": {},
   "outputs": [],
   "source": []
  }
 ],
 "metadata": {
  "kernelspec": {
   "display_name": "Python 3 (ipykernel)",
   "language": "python",
   "name": "python3"
  },
  "language_info": {
   "codemirror_mode": {
    "name": "ipython",
    "version": 3
   },
   "file_extension": ".py",
   "mimetype": "text/x-python",
   "name": "python",
   "nbconvert_exporter": "python",
   "pygments_lexer": "ipython3",
   "version": "3.13.7"
  }
 },
 "nbformat": 4,
 "nbformat_minor": 5
}
