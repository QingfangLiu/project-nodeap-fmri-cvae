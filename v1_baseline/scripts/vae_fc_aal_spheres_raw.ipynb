{
 "cells": [
  {
   "cell_type": "markdown",
   "id": "8e267ad9-fbc9-496b-bc71-e1149b832c58",
   "metadata": {},
   "source": [
    "### this feeds the aal-sphere FC to vae\n",
    "* code allows using all four spheres, or picking one of them"
   ]
  },
  {
   "cell_type": "code",
   "execution_count": 4,
   "id": "cb874ec5-88c8-40af-818c-569198afb92e",
   "metadata": {},
   "outputs": [
    {
     "name": "stdout",
     "output_type": "stream",
     "text": [
      "The autoreload extension is already loaded. To reload it, use:\n",
      "  %reload_ext autoreload\n"
     ]
    }
   ],
   "source": [
    "# Auto-Reload for Fast Iteration\n",
    "%load_ext autoreload\n",
    "%autoreload 2\n",
    "\n",
    "# Add project root to sys.path\n",
    "import sys\n",
    "import os\n",
    "sys.path.append(os.path.abspath('..'))\n",
    "\n",
    "# Import from base_script.py (which is in the root folder)\n",
    "from base_script import *\n",
    "\n",
    "# Import custom functions from your utils package\n",
    "from utils.models import VAE, CVAE\n",
    "\n",
    "from utils.train_utils import (\n",
    "    train_vae,\n",
    "    loss_function,\n",
    "    get_latent_mu,\n",
    "    compute_condition_distances\n",
    ")\n",
    "\n",
    "from utils.data_utils import (\n",
    "    load_all_fc_data,\n",
    "    preprocess_for_torch\n",
    ")\n",
    "\n",
    "from utils.utils_plotting import (\n",
    "    plot_vae_losses,\n",
    "    plot_latent_embedding_by_condition_and_subject,\n",
    "    plot_subject_distance_comparison\n",
    ")\n"
   ]
  },
  {
   "cell_type": "code",
   "execution_count": 5,
   "id": "8997caba-1575-4e03-b460-3ee50ee4831a",
   "metadata": {},
   "outputs": [],
   "source": [
    "sub_cond_path = '../subject_info.xlsx'\n",
    "base_nifti_folder = '../data_FC'\n",
    "condition_map = {'N': 0, 'S': 1, 'C': 2}"
   ]
  },
  {
   "cell_type": "code",
   "execution_count": 6,
   "id": "418d6c0c-c292-467d-b057-dd0c9447c689",
   "metadata": {},
   "outputs": [
    {
     "name": "stdout",
     "output_type": "stream",
     "text": [
      "[WARN] File not found: ../data_FC/NODEAP_30/S3D2/conn_matrix_w_sphere.mat\n",
      "[WARN] File not found: ../data_FC/NODEAP_44/S1D1/conn_matrix_w_sphere.mat\n",
      "[WARN] File not found: ../data_FC/NODEAP_83/S3D1/conn_matrix_w_sphere.mat\n",
      "[WARN] File not found: ../data_FC/NODEAP_87/D0/conn_matrix_w_sphere.mat\n",
      "[WARN] File not found: ../data_FC/NODEAP_88/D0/conn_matrix_w_sphere.mat\n",
      "Columns with NaN: 14 / 116\n",
      "Tensor shape after preprocessing: torch.Size([331, 102])\n"
     ]
    }
   ],
   "source": [
    "# Load and preprocess\n",
    "use_roi = 0\n",
    "all_corr_data, all_tms_type, all_subject_id, all_stimloc, all_session = load_all_fc_data(sub_cond_path, \n",
    "                                                               base_nifti_folder, \n",
    "                                                               mat_filename='conn_matrix_w_sphere.mat',\n",
    "                                                               key_name='correlation_matrix',row_idx=use_roi)\n",
    "X_tensor = preprocess_for_torch(all_corr_data)\n",
    "dataset = TensorDataset(X_tensor)\n",
    "dataloader = DataLoader(dataset, batch_size=32, shuffle=True)"
   ]
  },
  {
   "cell_type": "code",
   "execution_count": 7,
   "id": "b2e2a3d8-7779-4f1a-b1c9-ba00f36719a0",
   "metadata": {},
   "outputs": [
    {
     "name": "stdout",
     "output_type": "stream",
     "text": [
      "\n",
      "===== Epoch 1 =====\n"
     ]
    },
    {
     "name": "stderr",
     "output_type": "stream",
     "text": [
      "Epoch 1/500: 100%|█████████████████████████████| 11/11 [00:00<00:00, 152.00it/s]\n"
     ]
    },
    {
     "name": "stdout",
     "output_type": "stream",
     "text": [
      "Epoch 1, Loss: 107.7599, Recon: 107.4115, KL: 0.3484\n",
      "\n",
      "===== Epoch 2 =====\n"
     ]
    },
    {
     "name": "stderr",
     "output_type": "stream",
     "text": [
      "Epoch 2/500: 100%|████████████████████████████| 11/11 [00:00<00:00, 1065.38it/s]\n"
     ]
    },
    {
     "name": "stdout",
     "output_type": "stream",
     "text": [
      "Epoch 2, Loss: 103.8029, Recon: 103.3166, KL: 0.4863\n",
      "\n",
      "===== Epoch 3 =====\n"
     ]
    },
    {
     "name": "stderr",
     "output_type": "stream",
     "text": [
      "Epoch 3/500: 100%|████████████████████████████| 11/11 [00:00<00:00, 1132.84it/s]\n"
     ]
    },
    {
     "name": "stdout",
     "output_type": "stream",
     "text": [
      "Epoch 3, Loss: 100.4163, Recon: 99.4520, KL: 0.9643\n",
      "\n",
      "===== Epoch 4 =====\n"
     ]
    },
    {
     "name": "stderr",
     "output_type": "stream",
     "text": [
      "Epoch 4/500: 100%|████████████████████████████| 11/11 [00:00<00:00, 1074.21it/s]\n"
     ]
    },
    {
     "name": "stdout",
     "output_type": "stream",
     "text": [
      "Epoch 4, Loss: 94.1560, Recon: 92.1066, KL: 2.0494\n",
      "\n",
      "===== Epoch 5 =====\n"
     ]
    },
    {
     "name": "stderr",
     "output_type": "stream",
     "text": [
      "Epoch 5/500: 100%|████████████████████████████| 11/11 [00:00<00:00, 1177.96it/s]\n"
     ]
    },
    {
     "name": "stdout",
     "output_type": "stream",
     "text": [
      "Epoch 5, Loss: 85.8880, Recon: 81.7733, KL: 4.1147\n",
      "\n",
      "===== Epoch 6 =====\n"
     ]
    },
    {
     "name": "stderr",
     "output_type": "stream",
     "text": [
      "Epoch 6/500: 100%|████████████████████████████| 11/11 [00:00<00:00, 1245.78it/s]\n"
     ]
    },
    {
     "name": "stdout",
     "output_type": "stream",
     "text": [
      "Epoch 6, Loss: 79.0251, Recon: 72.8177, KL: 6.2074\n",
      "\n",
      "===== Epoch 7 =====\n"
     ]
    },
    {
     "name": "stderr",
     "output_type": "stream",
     "text": [
      "Epoch 7/500: 100%|████████████████████████████| 11/11 [00:00<00:00, 1338.56it/s]\n"
     ]
    },
    {
     "name": "stdout",
     "output_type": "stream",
     "text": [
      "Epoch 7, Loss: 72.8049, Recon: 66.1222, KL: 6.6827\n",
      "\n",
      "===== Epoch 8 =====\n"
     ]
    },
    {
     "name": "stderr",
     "output_type": "stream",
     "text": [
      "Epoch 8/500: 100%|████████████████████████████| 11/11 [00:00<00:00, 1200.49it/s]\n"
     ]
    },
    {
     "name": "stdout",
     "output_type": "stream",
     "text": [
      "Epoch 8, Loss: 68.3214, Recon: 60.8946, KL: 7.4269\n",
      "\n",
      "===== Epoch 9 =====\n"
     ]
    },
    {
     "name": "stderr",
     "output_type": "stream",
     "text": [
      "Epoch 9/500: 100%|████████████████████████████| 11/11 [00:00<00:00, 1012.05it/s]\n"
     ]
    },
    {
     "name": "stdout",
     "output_type": "stream",
     "text": [
      "Epoch 9, Loss: 65.4843, Recon: 57.2970, KL: 8.1873\n",
      "\n",
      "===== Epoch 10 =====\n"
     ]
    },
    {
     "name": "stderr",
     "output_type": "stream",
     "text": [
      "Epoch 10/500: 100%|███████████████████████████| 11/11 [00:00<00:00, 1260.76it/s]\n"
     ]
    },
    {
     "name": "stdout",
     "output_type": "stream",
     "text": [
      "Epoch 10, Loss: 62.9509, Recon: 54.7947, KL: 8.1562\n",
      "\n",
      "===== Epoch 11 =====\n"
     ]
    },
    {
     "name": "stderr",
     "output_type": "stream",
     "text": [
      "Epoch 11/500: 100%|███████████████████████████| 11/11 [00:00<00:00, 1403.42it/s]\n"
     ]
    },
    {
     "name": "stdout",
     "output_type": "stream",
     "text": [
      "Epoch 11, Loss: 59.9107, Recon: 51.5374, KL: 8.3733\n",
      "\n",
      "===== Epoch 12 =====\n"
     ]
    },
    {
     "name": "stderr",
     "output_type": "stream",
     "text": [
      "Epoch 12/500: 100%|███████████████████████████| 11/11 [00:00<00:00, 1265.70it/s]\n"
     ]
    },
    {
     "name": "stdout",
     "output_type": "stream",
     "text": [
      "Epoch 12, Loss: 57.3014, Recon: 48.3999, KL: 8.9015\n",
      "\n",
      "===== Epoch 13 =====\n"
     ]
    },
    {
     "name": "stderr",
     "output_type": "stream",
     "text": [
      "Epoch 13/500: 100%|███████████████████████████| 11/11 [00:00<00:00, 1339.84it/s]\n"
     ]
    },
    {
     "name": "stdout",
     "output_type": "stream",
     "text": [
      "Epoch 13, Loss: 55.5395, Recon: 46.0242, KL: 9.5153\n",
      "\n",
      "===== Epoch 14 =====\n"
     ]
    },
    {
     "name": "stderr",
     "output_type": "stream",
     "text": [
      "Epoch 14/500: 100%|███████████████████████████| 11/11 [00:00<00:00, 1285.34it/s]\n"
     ]
    },
    {
     "name": "stdout",
     "output_type": "stream",
     "text": [
      "Epoch 14, Loss: 54.4625, Recon: 44.9589, KL: 9.5036\n",
      "\n",
      "===== Epoch 15 =====\n"
     ]
    },
    {
     "name": "stderr",
     "output_type": "stream",
     "text": [
      "Epoch 15/500: 100%|███████████████████████████| 11/11 [00:00<00:00, 1365.13it/s]\n"
     ]
    },
    {
     "name": "stdout",
     "output_type": "stream",
     "text": [
      "Epoch 15, Loss: 52.8540, Recon: 43.3194, KL: 9.5345\n",
      "\n",
      "===== Epoch 16 =====\n"
     ]
    },
    {
     "name": "stderr",
     "output_type": "stream",
     "text": [
      "Epoch 16/500: 100%|███████████████████████████| 11/11 [00:00<00:00, 1198.78it/s]\n"
     ]
    },
    {
     "name": "stdout",
     "output_type": "stream",
     "text": [
      "Epoch 16, Loss: 51.4776, Recon: 41.8477, KL: 9.6299\n",
      "\n",
      "===== Epoch 17 =====\n"
     ]
    },
    {
     "name": "stderr",
     "output_type": "stream",
     "text": [
      "Epoch 17/500: 100%|███████████████████████████| 11/11 [00:00<00:00, 1223.83it/s]\n"
     ]
    },
    {
     "name": "stdout",
     "output_type": "stream",
     "text": [
      "Epoch 17, Loss: 51.0039, Recon: 41.4161, KL: 9.5877\n",
      "\n",
      "===== Epoch 18 =====\n"
     ]
    },
    {
     "name": "stderr",
     "output_type": "stream",
     "text": [
      "Epoch 18/500: 100%|███████████████████████████| 11/11 [00:00<00:00, 1140.97it/s]\n"
     ]
    },
    {
     "name": "stdout",
     "output_type": "stream",
     "text": [
      "Epoch 18, Loss: 50.1498, Recon: 40.3798, KL: 9.7700\n",
      "\n",
      "===== Epoch 19 =====\n"
     ]
    },
    {
     "name": "stderr",
     "output_type": "stream",
     "text": [
      "Epoch 19/500: 100%|███████████████████████████| 11/11 [00:00<00:00, 1307.53it/s]\n"
     ]
    },
    {
     "name": "stdout",
     "output_type": "stream",
     "text": [
      "Epoch 19, Loss: 49.3073, Recon: 39.3827, KL: 9.9246\n",
      "\n",
      "===== Epoch 20 =====\n"
     ]
    },
    {
     "name": "stderr",
     "output_type": "stream",
     "text": [
      "Epoch 20/500: 100%|███████████████████████████| 11/11 [00:00<00:00, 1274.34it/s]\n"
     ]
    },
    {
     "name": "stdout",
     "output_type": "stream",
     "text": [
      "Epoch 20, Loss: 49.0999, Recon: 39.2065, KL: 9.8934\n",
      "\n",
      "===== Epoch 21 =====\n"
     ]
    },
    {
     "name": "stderr",
     "output_type": "stream",
     "text": [
      "Epoch 21/500: 100%|███████████████████████████| 11/11 [00:00<00:00, 1236.66it/s]\n"
     ]
    },
    {
     "name": "stdout",
     "output_type": "stream",
     "text": [
      "Epoch 21, Loss: 47.9605, Recon: 37.8250, KL: 10.1355\n",
      "\n",
      "===== Epoch 22 =====\n"
     ]
    },
    {
     "name": "stderr",
     "output_type": "stream",
     "text": [
      "Epoch 22/500: 100%|███████████████████████████| 11/11 [00:00<00:00, 1340.81it/s]\n"
     ]
    },
    {
     "name": "stdout",
     "output_type": "stream",
     "text": [
      "Epoch 22, Loss: 47.5182, Recon: 37.2709, KL: 10.2472\n",
      "\n",
      "===== Epoch 23 =====\n"
     ]
    },
    {
     "name": "stderr",
     "output_type": "stream",
     "text": [
      "Epoch 23/500: 100%|███████████████████████████| 11/11 [00:00<00:00, 1313.59it/s]\n"
     ]
    },
    {
     "name": "stdout",
     "output_type": "stream",
     "text": [
      "Epoch 23, Loss: 46.9201, Recon: 36.6060, KL: 10.3141\n",
      "\n",
      "===== Epoch 24 =====\n"
     ]
    },
    {
     "name": "stderr",
     "output_type": "stream",
     "text": [
      "Epoch 24/500: 100%|███████████████████████████| 11/11 [00:00<00:00, 1265.39it/s]\n"
     ]
    },
    {
     "name": "stdout",
     "output_type": "stream",
     "text": [
      "Epoch 24, Loss: 46.5837, Recon: 36.1495, KL: 10.4342\n",
      "\n",
      "===== Epoch 25 =====\n"
     ]
    },
    {
     "name": "stderr",
     "output_type": "stream",
     "text": [
      "Epoch 25/500: 100%|███████████████████████████| 11/11 [00:00<00:00, 1262.65it/s]\n"
     ]
    },
    {
     "name": "stdout",
     "output_type": "stream",
     "text": [
      "Epoch 25, Loss: 46.1731, Recon: 35.7192, KL: 10.4539\n",
      "\n",
      "===== Epoch 26 =====\n"
     ]
    },
    {
     "name": "stderr",
     "output_type": "stream",
     "text": [
      "Epoch 26/500: 100%|███████████████████████████| 11/11 [00:00<00:00, 1340.46it/s]\n"
     ]
    },
    {
     "name": "stdout",
     "output_type": "stream",
     "text": [
      "Epoch 26, Loss: 45.6129, Recon: 35.0711, KL: 10.5418\n",
      "\n",
      "===== Epoch 27 =====\n"
     ]
    },
    {
     "name": "stderr",
     "output_type": "stream",
     "text": [
      "Epoch 27/500: 100%|███████████████████████████| 11/11 [00:00<00:00, 1251.73it/s]\n"
     ]
    },
    {
     "name": "stdout",
     "output_type": "stream",
     "text": [
      "Epoch 27, Loss: 45.2493, Recon: 34.5500, KL: 10.6993\n",
      "\n",
      "===== Epoch 28 =====\n"
     ]
    },
    {
     "name": "stderr",
     "output_type": "stream",
     "text": [
      "Epoch 28/500: 100%|███████████████████████████| 11/11 [00:00<00:00, 1109.76it/s]\n"
     ]
    },
    {
     "name": "stdout",
     "output_type": "stream",
     "text": [
      "Epoch 28, Loss: 44.8942, Recon: 34.1401, KL: 10.7542\n",
      "\n",
      "===== Epoch 29 =====\n"
     ]
    },
    {
     "name": "stderr",
     "output_type": "stream",
     "text": [
      "Epoch 29/500: 100%|███████████████████████████| 11/11 [00:00<00:00, 1135.91it/s]\n"
     ]
    },
    {
     "name": "stdout",
     "output_type": "stream",
     "text": [
      "Epoch 29, Loss: 44.5301, Recon: 33.7663, KL: 10.7638\n",
      "\n",
      "===== Epoch 30 =====\n"
     ]
    },
    {
     "name": "stderr",
     "output_type": "stream",
     "text": [
      "Epoch 30/500: 100%|███████████████████████████| 11/11 [00:00<00:00, 1377.07it/s]\n"
     ]
    },
    {
     "name": "stdout",
     "output_type": "stream",
     "text": [
      "Epoch 30, Loss: 43.8267, Recon: 32.9749, KL: 10.8518\n",
      "\n",
      "===== Epoch 31 =====\n"
     ]
    },
    {
     "name": "stderr",
     "output_type": "stream",
     "text": [
      "Epoch 31/500: 100%|███████████████████████████| 11/11 [00:00<00:00, 1291.68it/s]\n"
     ]
    },
    {
     "name": "stdout",
     "output_type": "stream",
     "text": [
      "Epoch 31, Loss: 43.9622, Recon: 33.0928, KL: 10.8695\n",
      "\n",
      "===== Epoch 32 =====\n"
     ]
    },
    {
     "name": "stderr",
     "output_type": "stream",
     "text": [
      "Epoch 32/500: 100%|███████████████████████████| 11/11 [00:00<00:00, 1213.02it/s]\n"
     ]
    },
    {
     "name": "stdout",
     "output_type": "stream",
     "text": [
      "Epoch 32, Loss: 43.7476, Recon: 32.7614, KL: 10.9862\n",
      "\n",
      "===== Epoch 33 =====\n"
     ]
    },
    {
     "name": "stderr",
     "output_type": "stream",
     "text": [
      "Epoch 33/500: 100%|███████████████████████████| 11/11 [00:00<00:00, 1367.96it/s]\n"
     ]
    },
    {
     "name": "stdout",
     "output_type": "stream",
     "text": [
      "Epoch 33, Loss: 43.7026, Recon: 32.6241, KL: 11.0785\n",
      "\n",
      "===== Epoch 34 =====\n"
     ]
    },
    {
     "name": "stderr",
     "output_type": "stream",
     "text": [
      "Epoch 34/500: 100%|███████████████████████████| 11/11 [00:00<00:00, 1371.75it/s]\n"
     ]
    },
    {
     "name": "stdout",
     "output_type": "stream",
     "text": [
      "Epoch 34, Loss: 42.9545, Recon: 31.7680, KL: 11.1865\n",
      "\n",
      "===== Epoch 35 =====\n"
     ]
    },
    {
     "name": "stderr",
     "output_type": "stream",
     "text": [
      "Epoch 35/500: 100%|███████████████████████████| 11/11 [00:00<00:00, 1394.47it/s]\n"
     ]
    },
    {
     "name": "stdout",
     "output_type": "stream",
     "text": [
      "Epoch 35, Loss: 42.9994, Recon: 31.8387, KL: 11.1607\n",
      "\n",
      "===== Epoch 36 =====\n"
     ]
    },
    {
     "name": "stderr",
     "output_type": "stream",
     "text": [
      "Epoch 36/500: 100%|███████████████████████████| 11/11 [00:00<00:00, 1400.90it/s]\n"
     ]
    },
    {
     "name": "stdout",
     "output_type": "stream",
     "text": [
      "Epoch 36, Loss: 42.5359, Recon: 31.3639, KL: 11.1719\n",
      "\n",
      "===== Epoch 37 =====\n"
     ]
    },
    {
     "name": "stderr",
     "output_type": "stream",
     "text": [
      "Epoch 37/500: 100%|███████████████████████████| 11/11 [00:00<00:00, 1490.66it/s]\n"
     ]
    },
    {
     "name": "stdout",
     "output_type": "stream",
     "text": [
      "Epoch 37, Loss: 42.6163, Recon: 31.2554, KL: 11.3610\n",
      "\n",
      "===== Epoch 38 =====\n"
     ]
    },
    {
     "name": "stderr",
     "output_type": "stream",
     "text": [
      "Epoch 38/500: 100%|███████████████████████████| 11/11 [00:00<00:00, 1460.41it/s]\n"
     ]
    },
    {
     "name": "stdout",
     "output_type": "stream",
     "text": [
      "Epoch 38, Loss: 42.0641, Recon: 30.6132, KL: 11.4509\n",
      "\n",
      "===== Epoch 39 =====\n"
     ]
    },
    {
     "name": "stderr",
     "output_type": "stream",
     "text": [
      "Epoch 39/500: 100%|███████████████████████████| 11/11 [00:00<00:00, 1453.10it/s]\n"
     ]
    },
    {
     "name": "stdout",
     "output_type": "stream",
     "text": [
      "Epoch 39, Loss: 41.8771, Recon: 30.4030, KL: 11.4741\n",
      "\n",
      "===== Epoch 40 =====\n"
     ]
    },
    {
     "name": "stderr",
     "output_type": "stream",
     "text": [
      "Epoch 40/500: 100%|███████████████████████████| 11/11 [00:00<00:00, 1488.88it/s]\n"
     ]
    },
    {
     "name": "stdout",
     "output_type": "stream",
     "text": [
      "Epoch 40, Loss: 41.3691, Recon: 29.8229, KL: 11.5462\n",
      "\n",
      "===== Epoch 41 =====\n"
     ]
    },
    {
     "name": "stderr",
     "output_type": "stream",
     "text": [
      "Epoch 41/500: 100%|███████████████████████████| 11/11 [00:00<00:00, 1422.28it/s]\n"
     ]
    },
    {
     "name": "stdout",
     "output_type": "stream",
     "text": [
      "Epoch 41, Loss: 40.8430, Recon: 29.2979, KL: 11.5451\n",
      "\n",
      "===== Epoch 42 =====\n"
     ]
    },
    {
     "name": "stderr",
     "output_type": "stream",
     "text": [
      "Epoch 42/500: 100%|███████████████████████████| 11/11 [00:00<00:00, 1426.68it/s]\n"
     ]
    },
    {
     "name": "stdout",
     "output_type": "stream",
     "text": [
      "Epoch 42, Loss: 40.6059, Recon: 29.0889, KL: 11.5170\n",
      "\n",
      "===== Epoch 43 =====\n"
     ]
    },
    {
     "name": "stderr",
     "output_type": "stream",
     "text": [
      "Epoch 43/500: 100%|███████████████████████████| 11/11 [00:00<00:00, 1425.40it/s]\n"
     ]
    },
    {
     "name": "stdout",
     "output_type": "stream",
     "text": [
      "Epoch 43, Loss: 40.6667, Recon: 29.1237, KL: 11.5429\n",
      "\n",
      "===== Epoch 44 =====\n"
     ]
    },
    {
     "name": "stderr",
     "output_type": "stream",
     "text": [
      "Epoch 44/500: 100%|███████████████████████████| 11/11 [00:00<00:00, 1411.01it/s]\n"
     ]
    },
    {
     "name": "stdout",
     "output_type": "stream",
     "text": [
      "Epoch 44, Loss: 39.9438, Recon: 28.2521, KL: 11.6917\n",
      "\n",
      "===== Epoch 45 =====\n"
     ]
    },
    {
     "name": "stderr",
     "output_type": "stream",
     "text": [
      "Epoch 45/500: 100%|███████████████████████████| 11/11 [00:00<00:00, 1427.47it/s]\n"
     ]
    },
    {
     "name": "stdout",
     "output_type": "stream",
     "text": [
      "Epoch 45, Loss: 39.9621, Recon: 28.3416, KL: 11.6205\n",
      "\n",
      "===== Epoch 46 =====\n"
     ]
    },
    {
     "name": "stderr",
     "output_type": "stream",
     "text": [
      "Epoch 46/500: 100%|███████████████████████████| 11/11 [00:00<00:00, 1479.90it/s]\n"
     ]
    },
    {
     "name": "stdout",
     "output_type": "stream",
     "text": [
      "Epoch 46, Loss: 39.8420, Recon: 28.1319, KL: 11.7101\n",
      "\n",
      "===== Epoch 47 =====\n"
     ]
    },
    {
     "name": "stderr",
     "output_type": "stream",
     "text": [
      "Epoch 47/500: 100%|███████████████████████████| 11/11 [00:00<00:00, 1465.28it/s]\n"
     ]
    },
    {
     "name": "stdout",
     "output_type": "stream",
     "text": [
      "Epoch 47, Loss: 39.8147, Recon: 27.8475, KL: 11.9671\n",
      "\n",
      "===== Epoch 48 =====\n"
     ]
    },
    {
     "name": "stderr",
     "output_type": "stream",
     "text": [
      "Epoch 48/500: 100%|███████████████████████████| 11/11 [00:00<00:00, 1457.74it/s]\n"
     ]
    },
    {
     "name": "stdout",
     "output_type": "stream",
     "text": [
      "Epoch 48, Loss: 39.5274, Recon: 27.5762, KL: 11.9512\n",
      "\n",
      "===== Epoch 49 =====\n"
     ]
    },
    {
     "name": "stderr",
     "output_type": "stream",
     "text": [
      "Epoch 49/500: 100%|███████████████████████████| 11/11 [00:00<00:00, 1413.69it/s]\n"
     ]
    },
    {
     "name": "stdout",
     "output_type": "stream",
     "text": [
      "Epoch 49, Loss: 39.6604, Recon: 27.6425, KL: 12.0179\n",
      "\n",
      "===== Epoch 50 =====\n"
     ]
    },
    {
     "name": "stderr",
     "output_type": "stream",
     "text": [
      "Epoch 50/500: 100%|███████████████████████████| 11/11 [00:00<00:00, 1437.88it/s]\n"
     ]
    },
    {
     "name": "stdout",
     "output_type": "stream",
     "text": [
      "Epoch 50, Loss: 39.1946, Recon: 27.0075, KL: 12.1871\n",
      "\n",
      "===== Epoch 51 =====\n"
     ]
    },
    {
     "name": "stderr",
     "output_type": "stream",
     "text": [
      "Epoch 51/500: 100%|███████████████████████████| 11/11 [00:00<00:00, 1479.14it/s]\n"
     ]
    },
    {
     "name": "stdout",
     "output_type": "stream",
     "text": [
      "Epoch 51, Loss: 39.0216, Recon: 27.0216, KL: 12.0000\n",
      "\n",
      "===== Epoch 52 =====\n"
     ]
    },
    {
     "name": "stderr",
     "output_type": "stream",
     "text": [
      "Epoch 52/500: 100%|███████████████████████████| 11/11 [00:00<00:00, 1460.04it/s]\n"
     ]
    },
    {
     "name": "stdout",
     "output_type": "stream",
     "text": [
      "Epoch 52, Loss: 38.7375, Recon: 26.6719, KL: 12.0656\n",
      "\n",
      "===== Epoch 53 =====\n"
     ]
    },
    {
     "name": "stderr",
     "output_type": "stream",
     "text": [
      "Epoch 53/500: 100%|███████████████████████████| 11/11 [00:00<00:00, 1464.72it/s]\n"
     ]
    },
    {
     "name": "stdout",
     "output_type": "stream",
     "text": [
      "Epoch 53, Loss: 38.6641, Recon: 26.6349, KL: 12.0292\n",
      "\n",
      "===== Epoch 54 =====\n"
     ]
    },
    {
     "name": "stderr",
     "output_type": "stream",
     "text": [
      "Epoch 54/500: 100%|███████████████████████████| 11/11 [00:00<00:00, 1476.30it/s]\n"
     ]
    },
    {
     "name": "stdout",
     "output_type": "stream",
     "text": [
      "Epoch 54, Loss: 38.6328, Recon: 26.6502, KL: 11.9826\n",
      "\n",
      "===== Epoch 55 =====\n"
     ]
    },
    {
     "name": "stderr",
     "output_type": "stream",
     "text": [
      "Epoch 55/500: 100%|███████████████████████████| 11/11 [00:00<00:00, 1423.25it/s]\n"
     ]
    },
    {
     "name": "stdout",
     "output_type": "stream",
     "text": [
      "Epoch 55, Loss: 38.5724, Recon: 26.5596, KL: 12.0127\n",
      "\n",
      "===== Epoch 56 =====\n"
     ]
    },
    {
     "name": "stderr",
     "output_type": "stream",
     "text": [
      "Epoch 56/500: 100%|███████████████████████████| 11/11 [00:00<00:00, 1449.49it/s]\n"
     ]
    },
    {
     "name": "stdout",
     "output_type": "stream",
     "text": [
      "Epoch 56, Loss: 38.3862, Recon: 26.2181, KL: 12.1681\n",
      "\n",
      "===== Epoch 57 =====\n"
     ]
    },
    {
     "name": "stderr",
     "output_type": "stream",
     "text": [
      "Epoch 57/500: 100%|███████████████████████████| 11/11 [00:00<00:00, 1365.94it/s]\n"
     ]
    },
    {
     "name": "stdout",
     "output_type": "stream",
     "text": [
      "Epoch 57, Loss: 38.0934, Recon: 25.9290, KL: 12.1645\n",
      "\n",
      "===== Epoch 58 =====\n"
     ]
    },
    {
     "name": "stderr",
     "output_type": "stream",
     "text": [
      "Epoch 58/500: 100%|███████████████████████████| 11/11 [00:00<00:00, 1441.43it/s]\n"
     ]
    },
    {
     "name": "stdout",
     "output_type": "stream",
     "text": [
      "Epoch 58, Loss: 38.1384, Recon: 25.9334, KL: 12.2051\n",
      "\n",
      "===== Epoch 59 =====\n"
     ]
    },
    {
     "name": "stderr",
     "output_type": "stream",
     "text": [
      "Epoch 59/500: 100%|███████████████████████████| 11/11 [00:00<00:00, 1404.10it/s]\n"
     ]
    },
    {
     "name": "stdout",
     "output_type": "stream",
     "text": [
      "Epoch 59, Loss: 37.8802, Recon: 25.6225, KL: 12.2576\n",
      "\n",
      "===== Epoch 60 =====\n"
     ]
    },
    {
     "name": "stderr",
     "output_type": "stream",
     "text": [
      "Epoch 60/500: 100%|███████████████████████████| 11/11 [00:00<00:00, 1453.47it/s]\n"
     ]
    },
    {
     "name": "stdout",
     "output_type": "stream",
     "text": [
      "Epoch 60, Loss: 38.1690, Recon: 25.9520, KL: 12.2170\n",
      "\n",
      "===== Epoch 61 =====\n"
     ]
    },
    {
     "name": "stderr",
     "output_type": "stream",
     "text": [
      "Epoch 61/500: 100%|███████████████████████████| 11/11 [00:00<00:00, 1428.93it/s]\n"
     ]
    },
    {
     "name": "stdout",
     "output_type": "stream",
     "text": [
      "Epoch 61, Loss: 37.8775, Recon: 25.5283, KL: 12.3492\n",
      "\n",
      "===== Epoch 62 =====\n"
     ]
    },
    {
     "name": "stderr",
     "output_type": "stream",
     "text": [
      "Epoch 62/500: 100%|███████████████████████████| 11/11 [00:00<00:00, 1435.69it/s]\n"
     ]
    },
    {
     "name": "stdout",
     "output_type": "stream",
     "text": [
      "Epoch 62, Loss: 37.7288, Recon: 25.4371, KL: 12.2916\n",
      "\n",
      "===== Epoch 63 =====\n"
     ]
    },
    {
     "name": "stderr",
     "output_type": "stream",
     "text": [
      "Epoch 63/500: 100%|███████████████████████████| 11/11 [00:00<00:00, 1428.18it/s]\n"
     ]
    },
    {
     "name": "stdout",
     "output_type": "stream",
     "text": [
      "Epoch 63, Loss: 37.6840, Recon: 25.3866, KL: 12.2973\n",
      "\n",
      "===== Epoch 64 =====\n"
     ]
    },
    {
     "name": "stderr",
     "output_type": "stream",
     "text": [
      "Epoch 64/500: 100%|███████████████████████████| 11/11 [00:00<00:00, 1404.83it/s]\n"
     ]
    },
    {
     "name": "stdout",
     "output_type": "stream",
     "text": [
      "Epoch 64, Loss: 37.7205, Recon: 25.3268, KL: 12.3937\n",
      "\n",
      "===== Epoch 65 =====\n"
     ]
    },
    {
     "name": "stderr",
     "output_type": "stream",
     "text": [
      "Epoch 65/500: 100%|███████████████████████████| 11/11 [00:00<00:00, 1402.73it/s]\n"
     ]
    },
    {
     "name": "stdout",
     "output_type": "stream",
     "text": [
      "Epoch 65, Loss: 37.4400, Recon: 25.1260, KL: 12.3140\n",
      "\n",
      "===== Epoch 66 =====\n"
     ]
    },
    {
     "name": "stderr",
     "output_type": "stream",
     "text": [
      "Epoch 66/500: 100%|███████████████████████████| 11/11 [00:00<00:00, 1283.27it/s]\n"
     ]
    },
    {
     "name": "stdout",
     "output_type": "stream",
     "text": [
      "Epoch 66, Loss: 37.3949, Recon: 25.1434, KL: 12.2515\n",
      "\n",
      "===== Epoch 67 =====\n"
     ]
    },
    {
     "name": "stderr",
     "output_type": "stream",
     "text": [
      "Epoch 67/500: 100%|███████████████████████████| 11/11 [00:00<00:00, 1358.70it/s]\n"
     ]
    },
    {
     "name": "stdout",
     "output_type": "stream",
     "text": [
      "Epoch 67, Loss: 37.1024, Recon: 24.9141, KL: 12.1883\n",
      "\n",
      "===== Epoch 68 =====\n"
     ]
    },
    {
     "name": "stderr",
     "output_type": "stream",
     "text": [
      "Epoch 68/500: 100%|███████████████████████████| 11/11 [00:00<00:00, 1412.05it/s]\n"
     ]
    },
    {
     "name": "stdout",
     "output_type": "stream",
     "text": [
      "Epoch 68, Loss: 37.2593, Recon: 25.0172, KL: 12.2421\n",
      "\n",
      "===== Epoch 69 =====\n"
     ]
    },
    {
     "name": "stderr",
     "output_type": "stream",
     "text": [
      "Epoch 69/500: 100%|███████████████████████████| 11/11 [00:00<00:00, 1462.17it/s]\n"
     ]
    },
    {
     "name": "stdout",
     "output_type": "stream",
     "text": [
      "Epoch 69, Loss: 36.6270, Recon: 24.4095, KL: 12.2175\n",
      "\n",
      "===== Epoch 70 =====\n"
     ]
    },
    {
     "name": "stderr",
     "output_type": "stream",
     "text": [
      "Epoch 70/500: 100%|███████████████████████████| 11/11 [00:00<00:00, 1436.58it/s]\n"
     ]
    },
    {
     "name": "stdout",
     "output_type": "stream",
     "text": [
      "Epoch 70, Loss: 37.4544, Recon: 25.3531, KL: 12.1013\n",
      "\n",
      "===== Epoch 71 =====\n"
     ]
    },
    {
     "name": "stderr",
     "output_type": "stream",
     "text": [
      "Epoch 71/500: 100%|███████████████████████████| 11/11 [00:00<00:00, 1437.52it/s]\n"
     ]
    },
    {
     "name": "stdout",
     "output_type": "stream",
     "text": [
      "Epoch 71, Loss: 37.2080, Recon: 24.8001, KL: 12.4078\n",
      "\n",
      "===== Epoch 72 =====\n"
     ]
    },
    {
     "name": "stderr",
     "output_type": "stream",
     "text": [
      "Epoch 72/500: 100%|███████████████████████████| 11/11 [00:00<00:00, 1415.17it/s]\n"
     ]
    },
    {
     "name": "stdout",
     "output_type": "stream",
     "text": [
      "Epoch 72, Loss: 37.0205, Recon: 24.5821, KL: 12.4383\n",
      "\n",
      "===== Epoch 73 =====\n"
     ]
    },
    {
     "name": "stderr",
     "output_type": "stream",
     "text": [
      "Epoch 73/500: 100%|███████████████████████████| 11/11 [00:00<00:00, 1365.98it/s]\n"
     ]
    },
    {
     "name": "stdout",
     "output_type": "stream",
     "text": [
      "Epoch 73, Loss: 36.4754, Recon: 24.0500, KL: 12.4254\n",
      "\n",
      "===== Epoch 74 =====\n"
     ]
    },
    {
     "name": "stderr",
     "output_type": "stream",
     "text": [
      "Epoch 74/500: 100%|███████████████████████████| 11/11 [00:00<00:00, 1441.52it/s]\n"
     ]
    },
    {
     "name": "stdout",
     "output_type": "stream",
     "text": [
      "Epoch 74, Loss: 36.7488, Recon: 24.4068, KL: 12.3420\n",
      "\n",
      "===== Epoch 75 =====\n"
     ]
    },
    {
     "name": "stderr",
     "output_type": "stream",
     "text": [
      "Epoch 75/500: 100%|███████████████████████████| 11/11 [00:00<00:00, 1436.05it/s]\n"
     ]
    },
    {
     "name": "stdout",
     "output_type": "stream",
     "text": [
      "Epoch 75, Loss: 36.5653, Recon: 24.2827, KL: 12.2827\n",
      "\n",
      "===== Epoch 76 =====\n"
     ]
    },
    {
     "name": "stderr",
     "output_type": "stream",
     "text": [
      "Epoch 76/500: 100%|███████████████████████████| 11/11 [00:00<00:00, 1449.04it/s]\n"
     ]
    },
    {
     "name": "stdout",
     "output_type": "stream",
     "text": [
      "Epoch 76, Loss: 36.6864, Recon: 24.4653, KL: 12.2211\n",
      "\n",
      "===== Epoch 77 =====\n"
     ]
    },
    {
     "name": "stderr",
     "output_type": "stream",
     "text": [
      "Epoch 77/500: 100%|███████████████████████████| 11/11 [00:00<00:00, 1178.51it/s]\n"
     ]
    },
    {
     "name": "stdout",
     "output_type": "stream",
     "text": [
      "Epoch 77, Loss: 36.4583, Recon: 24.1461, KL: 12.3122\n",
      "\n",
      "===== Epoch 78 =====\n"
     ]
    },
    {
     "name": "stderr",
     "output_type": "stream",
     "text": [
      "Epoch 78/500: 100%|███████████████████████████| 11/11 [00:00<00:00, 1450.45it/s]\n"
     ]
    },
    {
     "name": "stdout",
     "output_type": "stream",
     "text": [
      "Epoch 78, Loss: 36.5457, Recon: 24.3493, KL: 12.1964\n",
      "\n",
      "===== Epoch 79 =====\n"
     ]
    },
    {
     "name": "stderr",
     "output_type": "stream",
     "text": [
      "Epoch 79/500: 100%|███████████████████████████| 11/11 [00:00<00:00, 1466.68it/s]\n"
     ]
    },
    {
     "name": "stdout",
     "output_type": "stream",
     "text": [
      "Epoch 79, Loss: 36.4703, Recon: 24.1165, KL: 12.3539\n",
      "\n",
      "===== Epoch 80 =====\n"
     ]
    },
    {
     "name": "stderr",
     "output_type": "stream",
     "text": [
      "Epoch 80/500: 100%|███████████████████████████| 11/11 [00:00<00:00, 1476.30it/s]\n"
     ]
    },
    {
     "name": "stdout",
     "output_type": "stream",
     "text": [
      "Epoch 80, Loss: 36.2995, Recon: 23.9028, KL: 12.3967\n",
      "\n",
      "===== Epoch 81 =====\n"
     ]
    },
    {
     "name": "stderr",
     "output_type": "stream",
     "text": [
      "Epoch 81/500: 100%|███████████████████████████| 11/11 [00:00<00:00, 1390.85it/s]\n"
     ]
    },
    {
     "name": "stdout",
     "output_type": "stream",
     "text": [
      "Epoch 81, Loss: 36.7294, Recon: 24.3503, KL: 12.3791\n",
      "\n",
      "===== Epoch 82 =====\n"
     ]
    },
    {
     "name": "stderr",
     "output_type": "stream",
     "text": [
      "Epoch 82/500: 100%|███████████████████████████| 11/11 [00:00<00:00, 1492.10it/s]\n"
     ]
    },
    {
     "name": "stdout",
     "output_type": "stream",
     "text": [
      "Epoch 82, Loss: 36.3683, Recon: 23.8272, KL: 12.5411\n",
      "\n",
      "===== Epoch 83 =====\n"
     ]
    },
    {
     "name": "stderr",
     "output_type": "stream",
     "text": [
      "Epoch 83/500: 100%|███████████████████████████| 11/11 [00:00<00:00, 1468.83it/s]\n"
     ]
    },
    {
     "name": "stdout",
     "output_type": "stream",
     "text": [
      "Epoch 83, Loss: 36.2055, Recon: 23.6835, KL: 12.5220\n",
      "\n",
      "===== Epoch 84 =====\n"
     ]
    },
    {
     "name": "stderr",
     "output_type": "stream",
     "text": [
      "Epoch 84/500: 100%|███████████████████████████| 11/11 [00:00<00:00, 1446.63it/s]\n"
     ]
    },
    {
     "name": "stdout",
     "output_type": "stream",
     "text": [
      "Epoch 84, Loss: 35.8119, Recon: 23.3870, KL: 12.4249\n",
      "\n",
      "===== Epoch 85 =====\n"
     ]
    },
    {
     "name": "stderr",
     "output_type": "stream",
     "text": [
      "Epoch 85/500: 100%|███████████████████████████| 11/11 [00:00<00:00, 1284.77it/s]\n"
     ]
    },
    {
     "name": "stdout",
     "output_type": "stream",
     "text": [
      "Epoch 85, Loss: 36.2131, Recon: 23.8316, KL: 12.3815\n",
      "\n",
      "===== Epoch 86 =====\n"
     ]
    },
    {
     "name": "stderr",
     "output_type": "stream",
     "text": [
      "Epoch 86/500: 100%|███████████████████████████| 11/11 [00:00<00:00, 1483.47it/s]\n"
     ]
    },
    {
     "name": "stdout",
     "output_type": "stream",
     "text": [
      "Epoch 86, Loss: 36.1644, Recon: 23.6720, KL: 12.4924\n",
      "\n",
      "===== Epoch 87 =====\n"
     ]
    },
    {
     "name": "stderr",
     "output_type": "stream",
     "text": [
      "Epoch 87/500: 100%|███████████████████████████| 11/11 [00:00<00:00, 1487.92it/s]\n"
     ]
    },
    {
     "name": "stdout",
     "output_type": "stream",
     "text": [
      "Epoch 87, Loss: 35.9741, Recon: 23.5876, KL: 12.3865\n",
      "\n",
      "===== Epoch 88 =====\n"
     ]
    },
    {
     "name": "stderr",
     "output_type": "stream",
     "text": [
      "Epoch 88/500: 100%|███████████████████████████| 11/11 [00:00<00:00, 1455.44it/s]\n"
     ]
    },
    {
     "name": "stdout",
     "output_type": "stream",
     "text": [
      "Epoch 88, Loss: 35.6793, Recon: 23.2607, KL: 12.4187\n",
      "\n",
      "===== Epoch 89 =====\n"
     ]
    },
    {
     "name": "stderr",
     "output_type": "stream",
     "text": [
      "Epoch 89/500: 100%|███████████████████████████| 11/11 [00:00<00:00, 1459.90it/s]\n"
     ]
    },
    {
     "name": "stdout",
     "output_type": "stream",
     "text": [
      "Epoch 89, Loss: 35.7336, Recon: 23.4159, KL: 12.3177\n",
      "\n",
      "===== Epoch 90 =====\n"
     ]
    },
    {
     "name": "stderr",
     "output_type": "stream",
     "text": [
      "Epoch 90/500: 100%|███████████████████████████| 11/11 [00:00<00:00, 1419.74it/s]\n"
     ]
    },
    {
     "name": "stdout",
     "output_type": "stream",
     "text": [
      "Epoch 90, Loss: 35.9984, Recon: 23.5803, KL: 12.4182\n",
      "\n",
      "===== Epoch 91 =====\n"
     ]
    },
    {
     "name": "stderr",
     "output_type": "stream",
     "text": [
      "Epoch 91/500: 100%|████████████████████████████| 11/11 [00:00<00:00, 927.25it/s]\n"
     ]
    },
    {
     "name": "stdout",
     "output_type": "stream",
     "text": [
      "Epoch 91, Loss: 35.7016, Recon: 23.2424, KL: 12.4592\n",
      "\n",
      "===== Epoch 92 =====\n"
     ]
    },
    {
     "name": "stderr",
     "output_type": "stream",
     "text": [
      "Epoch 92/500: 100%|███████████████████████████| 11/11 [00:00<00:00, 1191.50it/s]\n"
     ]
    },
    {
     "name": "stdout",
     "output_type": "stream",
     "text": [
      "Epoch 92, Loss: 35.8950, Recon: 23.3444, KL: 12.5506\n",
      "\n",
      "===== Epoch 93 =====\n"
     ]
    },
    {
     "name": "stderr",
     "output_type": "stream",
     "text": [
      "Epoch 93/500: 100%|███████████████████████████| 11/11 [00:00<00:00, 1435.15it/s]\n"
     ]
    },
    {
     "name": "stdout",
     "output_type": "stream",
     "text": [
      "Epoch 93, Loss: 35.6224, Recon: 23.0458, KL: 12.5766\n",
      "\n",
      "===== Epoch 94 =====\n"
     ]
    },
    {
     "name": "stderr",
     "output_type": "stream",
     "text": [
      "Epoch 94/500: 100%|███████████████████████████| 11/11 [00:00<00:00, 1340.46it/s]\n"
     ]
    },
    {
     "name": "stdout",
     "output_type": "stream",
     "text": [
      "Epoch 94, Loss: 35.7398, Recon: 23.1906, KL: 12.5492\n",
      "\n",
      "===== Epoch 95 =====\n"
     ]
    },
    {
     "name": "stderr",
     "output_type": "stream",
     "text": [
      "Epoch 95/500: 100%|███████████████████████████| 11/11 [00:00<00:00, 1161.56it/s]\n"
     ]
    },
    {
     "name": "stdout",
     "output_type": "stream",
     "text": [
      "Epoch 95, Loss: 35.5593, Recon: 22.9150, KL: 12.6442\n",
      "\n",
      "===== Epoch 96 =====\n"
     ]
    },
    {
     "name": "stderr",
     "output_type": "stream",
     "text": [
      "Epoch 96/500: 100%|███████████████████████████| 11/11 [00:00<00:00, 1455.44it/s]\n"
     ]
    },
    {
     "name": "stdout",
     "output_type": "stream",
     "text": [
      "Epoch 96, Loss: 35.6808, Recon: 23.0611, KL: 12.6197\n",
      "\n",
      "===== Epoch 97 =====\n"
     ]
    },
    {
     "name": "stderr",
     "output_type": "stream",
     "text": [
      "Epoch 97/500: 100%|███████████████████████████| 11/11 [00:00<00:00, 1420.13it/s]\n"
     ]
    },
    {
     "name": "stdout",
     "output_type": "stream",
     "text": [
      "Epoch 97, Loss: 35.2847, Recon: 22.7856, KL: 12.4991\n",
      "\n",
      "===== Epoch 98 =====\n"
     ]
    },
    {
     "name": "stderr",
     "output_type": "stream",
     "text": [
      "Epoch 98/500: 100%|████████████████████████████| 11/11 [00:00<00:00, 928.11it/s]\n"
     ]
    },
    {
     "name": "stdout",
     "output_type": "stream",
     "text": [
      "Epoch 98, Loss: 35.1871, Recon: 22.6836, KL: 12.5035\n",
      "\n",
      "===== Epoch 99 =====\n"
     ]
    },
    {
     "name": "stderr",
     "output_type": "stream",
     "text": [
      "Epoch 99/500: 100%|███████████████████████████| 11/11 [00:00<00:00, 1347.86it/s]\n"
     ]
    },
    {
     "name": "stdout",
     "output_type": "stream",
     "text": [
      "Epoch 99, Loss: 35.3451, Recon: 22.8334, KL: 12.5117\n",
      "\n",
      "===== Epoch 100 =====\n"
     ]
    },
    {
     "name": "stderr",
     "output_type": "stream",
     "text": [
      "Epoch 100/500: 100%|██████████████████████████| 11/11 [00:00<00:00, 1296.68it/s]\n"
     ]
    },
    {
     "name": "stdout",
     "output_type": "stream",
     "text": [
      "Epoch 100, Loss: 35.1438, Recon: 22.7142, KL: 12.4296\n",
      "\n",
      "===== Epoch 101 =====\n"
     ]
    },
    {
     "name": "stderr",
     "output_type": "stream",
     "text": [
      "Epoch 101/500: 100%|██████████████████████████| 11/11 [00:00<00:00, 1274.48it/s]\n"
     ]
    },
    {
     "name": "stdout",
     "output_type": "stream",
     "text": [
      "Epoch 101, Loss: 35.4539, Recon: 22.8916, KL: 12.5623\n",
      "\n",
      "===== Epoch 102 =====\n"
     ]
    },
    {
     "name": "stderr",
     "output_type": "stream",
     "text": [
      "Epoch 102/500: 100%|██████████████████████████| 11/11 [00:00<00:00, 1288.68it/s]\n"
     ]
    },
    {
     "name": "stdout",
     "output_type": "stream",
     "text": [
      "Epoch 102, Loss: 35.6556, Recon: 23.0310, KL: 12.6246\n",
      "\n",
      "===== Epoch 103 =====\n"
     ]
    },
    {
     "name": "stderr",
     "output_type": "stream",
     "text": [
      "Epoch 103/500: 100%|██████████████████████████| 11/11 [00:00<00:00, 1403.25it/s]\n"
     ]
    },
    {
     "name": "stdout",
     "output_type": "stream",
     "text": [
      "Epoch 103, Loss: 35.2197, Recon: 22.5133, KL: 12.7063\n",
      "\n",
      "===== Epoch 104 =====\n"
     ]
    },
    {
     "name": "stderr",
     "output_type": "stream",
     "text": [
      "Epoch 104/500: 100%|██████████████████████████| 11/11 [00:00<00:00, 1344.92it/s]\n"
     ]
    },
    {
     "name": "stdout",
     "output_type": "stream",
     "text": [
      "Epoch 104, Loss: 35.2159, Recon: 22.5511, KL: 12.6648\n",
      "\n",
      "===== Epoch 105 =====\n"
     ]
    },
    {
     "name": "stderr",
     "output_type": "stream",
     "text": [
      "Epoch 105/500: 100%|██████████████████████████| 11/11 [00:00<00:00, 1238.05it/s]\n"
     ]
    },
    {
     "name": "stdout",
     "output_type": "stream",
     "text": [
      "Epoch 105, Loss: 35.0760, Recon: 22.4507, KL: 12.6253\n",
      "\n",
      "===== Epoch 106 =====\n"
     ]
    },
    {
     "name": "stderr",
     "output_type": "stream",
     "text": [
      "Epoch 106/500: 100%|███████████████████████████| 11/11 [00:00<00:00, 968.99it/s]\n"
     ]
    },
    {
     "name": "stdout",
     "output_type": "stream",
     "text": [
      "Epoch 106, Loss: 34.9119, Recon: 22.3869, KL: 12.5250\n",
      "\n",
      "===== Epoch 107 =====\n"
     ]
    },
    {
     "name": "stderr",
     "output_type": "stream",
     "text": [
      "Epoch 107/500: 100%|██████████████████████████| 11/11 [00:00<00:00, 1420.66it/s]\n"
     ]
    },
    {
     "name": "stdout",
     "output_type": "stream",
     "text": [
      "Epoch 107, Loss: 35.1307, Recon: 22.6527, KL: 12.4780\n",
      "\n",
      "===== Epoch 108 =====\n"
     ]
    },
    {
     "name": "stderr",
     "output_type": "stream",
     "text": [
      "Epoch 108/500: 100%|██████████████████████████| 11/11 [00:00<00:00, 1446.95it/s]\n"
     ]
    },
    {
     "name": "stdout",
     "output_type": "stream",
     "text": [
      "Epoch 108, Loss: 35.2239, Recon: 22.6829, KL: 12.5411\n",
      "\n",
      "===== Epoch 109 =====\n"
     ]
    },
    {
     "name": "stderr",
     "output_type": "stream",
     "text": [
      "Epoch 109/500: 100%|██████████████████████████| 11/11 [00:00<00:00, 1211.72it/s]\n"
     ]
    },
    {
     "name": "stdout",
     "output_type": "stream",
     "text": [
      "Epoch 109, Loss: 34.9199, Recon: 22.1616, KL: 12.7582\n",
      "\n",
      "===== Epoch 110 =====\n"
     ]
    },
    {
     "name": "stderr",
     "output_type": "stream",
     "text": [
      "Epoch 110/500: 100%|██████████████████████████| 11/11 [00:00<00:00, 1308.75it/s]\n"
     ]
    },
    {
     "name": "stdout",
     "output_type": "stream",
     "text": [
      "Epoch 110, Loss: 34.7126, Recon: 22.0180, KL: 12.6946\n",
      "\n",
      "===== Epoch 111 =====\n"
     ]
    },
    {
     "name": "stderr",
     "output_type": "stream",
     "text": [
      "Epoch 111/500: 100%|██████████████████████████| 11/11 [00:00<00:00, 1413.87it/s]\n"
     ]
    },
    {
     "name": "stdout",
     "output_type": "stream",
     "text": [
      "Epoch 111, Loss: 34.7166, Recon: 22.2495, KL: 12.4671\n",
      "\n",
      "===== Epoch 112 =====\n"
     ]
    },
    {
     "name": "stderr",
     "output_type": "stream",
     "text": [
      "Epoch 112/500: 100%|██████████████████████████| 11/11 [00:00<00:00, 1467.66it/s]\n"
     ]
    },
    {
     "name": "stdout",
     "output_type": "stream",
     "text": [
      "Epoch 112, Loss: 34.6894, Recon: 22.2413, KL: 12.4481\n",
      "\n",
      "===== Epoch 113 =====\n"
     ]
    },
    {
     "name": "stderr",
     "output_type": "stream",
     "text": [
      "Epoch 113/500: 100%|██████████████████████████| 11/11 [00:00<00:00, 1455.62it/s]\n"
     ]
    },
    {
     "name": "stdout",
     "output_type": "stream",
     "text": [
      "Epoch 113, Loss: 34.6147, Recon: 22.1133, KL: 12.5014\n",
      "\n",
      "===== Epoch 114 =====\n"
     ]
    },
    {
     "name": "stderr",
     "output_type": "stream",
     "text": [
      "Epoch 114/500: 100%|██████████████████████████| 11/11 [00:00<00:00, 1424.87it/s]\n"
     ]
    },
    {
     "name": "stdout",
     "output_type": "stream",
     "text": [
      "Epoch 114, Loss: 34.5293, Recon: 22.0482, KL: 12.4812\n",
      "\n",
      "===== Epoch 115 =====\n"
     ]
    },
    {
     "name": "stderr",
     "output_type": "stream",
     "text": [
      "Epoch 115/500: 100%|██████████████████████████| 11/11 [00:00<00:00, 1256.16it/s]\n"
     ]
    },
    {
     "name": "stdout",
     "output_type": "stream",
     "text": [
      "Epoch 115, Loss: 34.5346, Recon: 22.0424, KL: 12.4922\n",
      "\n",
      "===== Epoch 116 =====\n"
     ]
    },
    {
     "name": "stderr",
     "output_type": "stream",
     "text": [
      "Epoch 116/500: 100%|██████████████████████████| 11/11 [00:00<00:00, 1438.29it/s]\n"
     ]
    },
    {
     "name": "stdout",
     "output_type": "stream",
     "text": [
      "Epoch 116, Loss: 34.6671, Recon: 22.2424, KL: 12.4247\n",
      "\n",
      "===== Epoch 117 =====\n"
     ]
    },
    {
     "name": "stderr",
     "output_type": "stream",
     "text": [
      "Epoch 117/500: 100%|██████████████████████████| 11/11 [00:00<00:00, 1431.55it/s]\n"
     ]
    },
    {
     "name": "stdout",
     "output_type": "stream",
     "text": [
      "Epoch 117, Loss: 34.5925, Recon: 22.0722, KL: 12.5203\n",
      "\n",
      "===== Epoch 118 =====\n"
     ]
    },
    {
     "name": "stderr",
     "output_type": "stream",
     "text": [
      "Epoch 118/500: 100%|██████████████████████████| 11/11 [00:00<00:00, 1446.04it/s]\n"
     ]
    },
    {
     "name": "stdout",
     "output_type": "stream",
     "text": [
      "Epoch 118, Loss: 34.6971, Recon: 22.0618, KL: 12.6353\n",
      "\n",
      "===== Epoch 119 =====\n"
     ]
    },
    {
     "name": "stderr",
     "output_type": "stream",
     "text": [
      "Epoch 119/500: 100%|██████████████████████████| 11/11 [00:00<00:00, 1480.09it/s]\n"
     ]
    },
    {
     "name": "stdout",
     "output_type": "stream",
     "text": [
      "Epoch 119, Loss: 34.3154, Recon: 21.6350, KL: 12.6803\n",
      "\n",
      "===== Epoch 120 =====\n"
     ]
    },
    {
     "name": "stderr",
     "output_type": "stream",
     "text": [
      "Epoch 120/500: 100%|██████████████████████████| 11/11 [00:00<00:00, 1455.57it/s]\n"
     ]
    },
    {
     "name": "stdout",
     "output_type": "stream",
     "text": [
      "Epoch 120, Loss: 34.5558, Recon: 21.9225, KL: 12.6333\n",
      "\n",
      "===== Epoch 121 =====\n"
     ]
    },
    {
     "name": "stderr",
     "output_type": "stream",
     "text": [
      "Epoch 121/500: 100%|██████████████████████████| 11/11 [00:00<00:00, 1116.07it/s]\n"
     ]
    },
    {
     "name": "stdout",
     "output_type": "stream",
     "text": [
      "Epoch 121, Loss: 34.4497, Recon: 21.8597, KL: 12.5900\n",
      "\n",
      "===== Epoch 122 =====\n"
     ]
    },
    {
     "name": "stderr",
     "output_type": "stream",
     "text": [
      "Epoch 122/500: 100%|██████████████████████████| 11/11 [00:00<00:00, 1463.93it/s]\n"
     ]
    },
    {
     "name": "stdout",
     "output_type": "stream",
     "text": [
      "Epoch 122, Loss: 34.2746, Recon: 21.6905, KL: 12.5842\n",
      "\n",
      "===== Epoch 123 =====\n"
     ]
    },
    {
     "name": "stderr",
     "output_type": "stream",
     "text": [
      "Epoch 123/500: 100%|██████████████████████████| 11/11 [00:00<00:00, 1306.90it/s]\n"
     ]
    },
    {
     "name": "stdout",
     "output_type": "stream",
     "text": [
      "Epoch 123, Loss: 34.4253, Recon: 21.9432, KL: 12.4821\n",
      "\n",
      "===== Epoch 124 =====\n"
     ]
    },
    {
     "name": "stderr",
     "output_type": "stream",
     "text": [
      "Epoch 124/500: 100%|██████████████████████████| 11/11 [00:00<00:00, 1456.77it/s]\n"
     ]
    },
    {
     "name": "stdout",
     "output_type": "stream",
     "text": [
      "Epoch 124, Loss: 34.5283, Recon: 22.0473, KL: 12.4810\n",
      "\n",
      "===== Epoch 125 =====\n"
     ]
    },
    {
     "name": "stderr",
     "output_type": "stream",
     "text": [
      "Epoch 125/500: 100%|██████████████████████████| 11/11 [00:00<00:00, 1233.19it/s]\n"
     ]
    },
    {
     "name": "stdout",
     "output_type": "stream",
     "text": [
      "Epoch 125, Loss: 34.3050, Recon: 21.6903, KL: 12.6148\n",
      "\n",
      "===== Epoch 126 =====\n"
     ]
    },
    {
     "name": "stderr",
     "output_type": "stream",
     "text": [
      "Epoch 126/500: 100%|██████████████████████████| 11/11 [00:00<00:00, 1406.15it/s]\n"
     ]
    },
    {
     "name": "stdout",
     "output_type": "stream",
     "text": [
      "Epoch 126, Loss: 34.3080, Recon: 21.6467, KL: 12.6613\n",
      "\n",
      "===== Epoch 127 =====\n"
     ]
    },
    {
     "name": "stderr",
     "output_type": "stream",
     "text": [
      "Epoch 127/500: 100%|██████████████████████████| 11/11 [00:00<00:00, 1287.03it/s]\n"
     ]
    },
    {
     "name": "stdout",
     "output_type": "stream",
     "text": [
      "Epoch 127, Loss: 34.2882, Recon: 21.7097, KL: 12.5785\n",
      "\n",
      "===== Epoch 128 =====\n"
     ]
    },
    {
     "name": "stderr",
     "output_type": "stream",
     "text": [
      "Epoch 128/500: 100%|██████████████████████████| 11/11 [00:00<00:00, 1398.95it/s]\n"
     ]
    },
    {
     "name": "stdout",
     "output_type": "stream",
     "text": [
      "Epoch 128, Loss: 34.0795, Recon: 21.4778, KL: 12.6016\n",
      "\n",
      "===== Epoch 129 =====\n"
     ]
    },
    {
     "name": "stderr",
     "output_type": "stream",
     "text": [
      "Epoch 129/500: 100%|██████████████████████████| 11/11 [00:00<00:00, 1328.34it/s]\n"
     ]
    },
    {
     "name": "stdout",
     "output_type": "stream",
     "text": [
      "Epoch 129, Loss: 33.9823, Recon: 21.3356, KL: 12.6467\n",
      "\n",
      "===== Epoch 130 =====\n"
     ]
    },
    {
     "name": "stderr",
     "output_type": "stream",
     "text": [
      "Epoch 130/500: 100%|██████████████████████████| 11/11 [00:00<00:00, 1278.61it/s]\n"
     ]
    },
    {
     "name": "stdout",
     "output_type": "stream",
     "text": [
      "Epoch 130, Loss: 34.0703, Recon: 21.5114, KL: 12.5589\n",
      "\n",
      "===== Epoch 131 =====\n"
     ]
    },
    {
     "name": "stderr",
     "output_type": "stream",
     "text": [
      "Epoch 131/500: 100%|██████████████████████████| 11/11 [00:00<00:00, 1362.59it/s]\n"
     ]
    },
    {
     "name": "stdout",
     "output_type": "stream",
     "text": [
      "Epoch 131, Loss: 34.3327, Recon: 21.8053, KL: 12.5273\n",
      "\n",
      "===== Epoch 132 =====\n"
     ]
    },
    {
     "name": "stderr",
     "output_type": "stream",
     "text": [
      "Epoch 132/500: 100%|██████████████████████████| 11/11 [00:00<00:00, 1388.68it/s]\n"
     ]
    },
    {
     "name": "stdout",
     "output_type": "stream",
     "text": [
      "Epoch 132, Loss: 34.3719, Recon: 21.7285, KL: 12.6434\n",
      "\n",
      "===== Epoch 133 =====\n"
     ]
    },
    {
     "name": "stderr",
     "output_type": "stream",
     "text": [
      "Epoch 133/500: 100%|██████████████████████████| 11/11 [00:00<00:00, 1471.36it/s]\n"
     ]
    },
    {
     "name": "stdout",
     "output_type": "stream",
     "text": [
      "Epoch 133, Loss: 34.0655, Recon: 21.1893, KL: 12.8762\n",
      "\n",
      "===== Epoch 134 =====\n"
     ]
    },
    {
     "name": "stderr",
     "output_type": "stream",
     "text": [
      "Epoch 134/500: 100%|██████████████████████████| 11/11 [00:00<00:00, 1420.09it/s]\n"
     ]
    },
    {
     "name": "stdout",
     "output_type": "stream",
     "text": [
      "Epoch 134, Loss: 33.9754, Recon: 21.2174, KL: 12.7579\n",
      "\n",
      "===== Epoch 135 =====\n"
     ]
    },
    {
     "name": "stderr",
     "output_type": "stream",
     "text": [
      "Epoch 135/500: 100%|██████████████████████████| 11/11 [00:00<00:00, 1254.72it/s]\n"
     ]
    },
    {
     "name": "stdout",
     "output_type": "stream",
     "text": [
      "Epoch 135, Loss: 34.0830, Recon: 21.4301, KL: 12.6529\n",
      "\n",
      "===== Epoch 136 =====\n"
     ]
    },
    {
     "name": "stderr",
     "output_type": "stream",
     "text": [
      "Epoch 136/500: 100%|██████████████████████████| 11/11 [00:00<00:00, 1054.76it/s]\n"
     ]
    },
    {
     "name": "stdout",
     "output_type": "stream",
     "text": [
      "Epoch 136, Loss: 34.0758, Recon: 21.3349, KL: 12.7410\n",
      "\n",
      "===== Epoch 137 =====\n"
     ]
    },
    {
     "name": "stderr",
     "output_type": "stream",
     "text": [
      "Epoch 137/500: 100%|██████████████████████████| 11/11 [00:00<00:00, 1364.45it/s]\n"
     ]
    },
    {
     "name": "stdout",
     "output_type": "stream",
     "text": [
      "Epoch 137, Loss: 33.9596, Recon: 21.2667, KL: 12.6929\n",
      "\n",
      "===== Epoch 138 =====\n"
     ]
    },
    {
     "name": "stderr",
     "output_type": "stream",
     "text": [
      "Epoch 138/500: 100%|██████████████████████████| 11/11 [00:00<00:00, 1335.42it/s]\n"
     ]
    },
    {
     "name": "stdout",
     "output_type": "stream",
     "text": [
      "Epoch 138, Loss: 34.1068, Recon: 21.3439, KL: 12.7629\n",
      "\n",
      "===== Epoch 139 =====\n"
     ]
    },
    {
     "name": "stderr",
     "output_type": "stream",
     "text": [
      "Epoch 139/500: 100%|██████████████████████████| 11/11 [00:00<00:00, 1419.74it/s]\n"
     ]
    },
    {
     "name": "stdout",
     "output_type": "stream",
     "text": [
      "Epoch 139, Loss: 33.8515, Recon: 21.0586, KL: 12.7929\n",
      "\n",
      "===== Epoch 140 =====\n"
     ]
    },
    {
     "name": "stderr",
     "output_type": "stream",
     "text": [
      "Epoch 140/500: 100%|██████████████████████████| 11/11 [00:00<00:00, 1325.79it/s]\n"
     ]
    },
    {
     "name": "stdout",
     "output_type": "stream",
     "text": [
      "Epoch 140, Loss: 34.0855, Recon: 21.2948, KL: 12.7907\n",
      "\n",
      "===== Epoch 141 =====\n"
     ]
    },
    {
     "name": "stderr",
     "output_type": "stream",
     "text": [
      "Epoch 141/500: 100%|██████████████████████████| 11/11 [00:00<00:00, 1407.91it/s]\n"
     ]
    },
    {
     "name": "stdout",
     "output_type": "stream",
     "text": [
      "Epoch 141, Loss: 33.6297, Recon: 20.8450, KL: 12.7847\n",
      "\n",
      "===== Epoch 142 =====\n"
     ]
    },
    {
     "name": "stderr",
     "output_type": "stream",
     "text": [
      "Epoch 142/500: 100%|██████████████████████████| 11/11 [00:00<00:00, 1347.71it/s]\n"
     ]
    },
    {
     "name": "stdout",
     "output_type": "stream",
     "text": [
      "Epoch 142, Loss: 33.9900, Recon: 21.2146, KL: 12.7754\n",
      "\n",
      "===== Epoch 143 =====\n"
     ]
    },
    {
     "name": "stderr",
     "output_type": "stream",
     "text": [
      "Epoch 143/500: 100%|██████████████████████████| 11/11 [00:00<00:00, 1400.39it/s]\n"
     ]
    },
    {
     "name": "stdout",
     "output_type": "stream",
     "text": [
      "Epoch 143, Loss: 33.6485, Recon: 20.9191, KL: 12.7294\n",
      "\n",
      "===== Epoch 144 =====\n"
     ]
    },
    {
     "name": "stderr",
     "output_type": "stream",
     "text": [
      "Epoch 144/500: 100%|██████████████████████████| 11/11 [00:00<00:00, 1240.55it/s]\n"
     ]
    },
    {
     "name": "stdout",
     "output_type": "stream",
     "text": [
      "Epoch 144, Loss: 33.5599, Recon: 20.8754, KL: 12.6845\n",
      "\n",
      "===== Epoch 145 =====\n"
     ]
    },
    {
     "name": "stderr",
     "output_type": "stream",
     "text": [
      "Epoch 145/500: 100%|██████████████████████████| 11/11 [00:00<00:00, 1331.03it/s]\n"
     ]
    },
    {
     "name": "stdout",
     "output_type": "stream",
     "text": [
      "Epoch 145, Loss: 33.9252, Recon: 21.2913, KL: 12.6339\n",
      "\n",
      "===== Epoch 146 =====\n"
     ]
    },
    {
     "name": "stderr",
     "output_type": "stream",
     "text": [
      "Epoch 146/500: 100%|██████████████████████████| 11/11 [00:00<00:00, 1308.60it/s]\n"
     ]
    },
    {
     "name": "stdout",
     "output_type": "stream",
     "text": [
      "Epoch 146, Loss: 33.9588, Recon: 21.1493, KL: 12.8094\n",
      "\n",
      "===== Epoch 147 =====\n"
     ]
    },
    {
     "name": "stderr",
     "output_type": "stream",
     "text": [
      "Epoch 147/500: 100%|██████████████████████████| 11/11 [00:00<00:00, 1305.97it/s]\n"
     ]
    },
    {
     "name": "stdout",
     "output_type": "stream",
     "text": [
      "Epoch 147, Loss: 33.6962, Recon: 20.8893, KL: 12.8069\n",
      "\n",
      "===== Epoch 148 =====\n"
     ]
    },
    {
     "name": "stderr",
     "output_type": "stream",
     "text": [
      "Epoch 148/500: 100%|██████████████████████████| 11/11 [00:00<00:00, 1439.23it/s]\n"
     ]
    },
    {
     "name": "stdout",
     "output_type": "stream",
     "text": [
      "Epoch 148, Loss: 33.7782, Recon: 20.9520, KL: 12.8262\n",
      "\n",
      "===== Epoch 149 =====\n"
     ]
    },
    {
     "name": "stderr",
     "output_type": "stream",
     "text": [
      "Epoch 149/500: 100%|██████████████████████████| 11/11 [00:00<00:00, 1461.99it/s]\n"
     ]
    },
    {
     "name": "stdout",
     "output_type": "stream",
     "text": [
      "Epoch 149, Loss: 33.6928, Recon: 20.8762, KL: 12.8167\n",
      "\n",
      "===== Epoch 150 =====\n"
     ]
    },
    {
     "name": "stderr",
     "output_type": "stream",
     "text": [
      "Epoch 150/500: 100%|██████████████████████████| 11/11 [00:00<00:00, 1311.24it/s]\n"
     ]
    },
    {
     "name": "stdout",
     "output_type": "stream",
     "text": [
      "Epoch 150, Loss: 33.7901, Recon: 20.8928, KL: 12.8973\n",
      "\n",
      "===== Epoch 151 =====\n"
     ]
    },
    {
     "name": "stderr",
     "output_type": "stream",
     "text": [
      "Epoch 151/500: 100%|██████████████████████████| 11/11 [00:00<00:00, 1407.14it/s]\n"
     ]
    },
    {
     "name": "stdout",
     "output_type": "stream",
     "text": [
      "Epoch 151, Loss: 33.9500, Recon: 21.0577, KL: 12.8924\n",
      "\n",
      "===== Epoch 152 =====\n"
     ]
    },
    {
     "name": "stderr",
     "output_type": "stream",
     "text": [
      "Epoch 152/500: 100%|██████████████████████████| 11/11 [00:00<00:00, 1478.90it/s]\n"
     ]
    },
    {
     "name": "stdout",
     "output_type": "stream",
     "text": [
      "Epoch 152, Loss: 33.4364, Recon: 20.4836, KL: 12.9528\n",
      "\n",
      "===== Epoch 153 =====\n"
     ]
    },
    {
     "name": "stderr",
     "output_type": "stream",
     "text": [
      "Epoch 153/500: 100%|██████████████████████████| 11/11 [00:00<00:00, 1487.49it/s]\n"
     ]
    },
    {
     "name": "stdout",
     "output_type": "stream",
     "text": [
      "Epoch 153, Loss: 33.5252, Recon: 20.6643, KL: 12.8610\n",
      "\n",
      "===== Epoch 154 =====\n"
     ]
    },
    {
     "name": "stderr",
     "output_type": "stream",
     "text": [
      "Epoch 154/500: 100%|██████████████████████████| 11/11 [00:00<00:00, 1413.91it/s]\n"
     ]
    },
    {
     "name": "stdout",
     "output_type": "stream",
     "text": [
      "Epoch 154, Loss: 33.3064, Recon: 20.5707, KL: 12.7357\n",
      "\n",
      "===== Epoch 155 =====\n"
     ]
    },
    {
     "name": "stderr",
     "output_type": "stream",
     "text": [
      "Epoch 155/500: 100%|██████████████████████████| 11/11 [00:00<00:00, 1441.66it/s]\n"
     ]
    },
    {
     "name": "stdout",
     "output_type": "stream",
     "text": [
      "Epoch 155, Loss: 33.3064, Recon: 20.6163, KL: 12.6901\n",
      "\n",
      "===== Epoch 156 =====\n"
     ]
    },
    {
     "name": "stderr",
     "output_type": "stream",
     "text": [
      "Epoch 156/500: 100%|██████████████████████████| 11/11 [00:00<00:00, 1470.79it/s]\n"
     ]
    },
    {
     "name": "stdout",
     "output_type": "stream",
     "text": [
      "Epoch 156, Loss: 33.3751, Recon: 20.7342, KL: 12.6409\n",
      "\n",
      "===== Epoch 157 =====\n"
     ]
    },
    {
     "name": "stderr",
     "output_type": "stream",
     "text": [
      "Epoch 157/500: 100%|██████████████████████████| 11/11 [00:00<00:00, 1453.05it/s]\n"
     ]
    },
    {
     "name": "stdout",
     "output_type": "stream",
     "text": [
      "Epoch 157, Loss: 33.5126, Recon: 20.9429, KL: 12.5697\n",
      "\n",
      "===== Epoch 158 =====\n"
     ]
    },
    {
     "name": "stderr",
     "output_type": "stream",
     "text": [
      "Epoch 158/500: 100%|██████████████████████████| 11/11 [00:00<00:00, 1395.78it/s]\n"
     ]
    },
    {
     "name": "stdout",
     "output_type": "stream",
     "text": [
      "Epoch 158, Loss: 33.4449, Recon: 20.7052, KL: 12.7396\n",
      "\n",
      "===== Epoch 159 =====\n"
     ]
    },
    {
     "name": "stderr",
     "output_type": "stream",
     "text": [
      "Epoch 159/500: 100%|██████████████████████████| 11/11 [00:00<00:00, 1421.18it/s]\n"
     ]
    },
    {
     "name": "stdout",
     "output_type": "stream",
     "text": [
      "Epoch 159, Loss: 33.4158, Recon: 20.5997, KL: 12.8161\n",
      "\n",
      "===== Epoch 160 =====\n"
     ]
    },
    {
     "name": "stderr",
     "output_type": "stream",
     "text": [
      "Epoch 160/500: 100%|██████████████████████████| 11/11 [00:00<00:00, 1489.55it/s]\n"
     ]
    },
    {
     "name": "stdout",
     "output_type": "stream",
     "text": [
      "Epoch 160, Loss: 33.2087, Recon: 20.3793, KL: 12.8294\n",
      "\n",
      "===== Epoch 161 =====\n"
     ]
    },
    {
     "name": "stderr",
     "output_type": "stream",
     "text": [
      "Epoch 161/500: 100%|██████████████████████████| 11/11 [00:00<00:00, 1145.25it/s]\n"
     ]
    },
    {
     "name": "stdout",
     "output_type": "stream",
     "text": [
      "Epoch 161, Loss: 33.4368, Recon: 20.6950, KL: 12.7418\n",
      "\n",
      "===== Epoch 162 =====\n"
     ]
    },
    {
     "name": "stderr",
     "output_type": "stream",
     "text": [
      "Epoch 162/500: 100%|██████████████████████████| 11/11 [00:00<00:00, 1414.04it/s]\n"
     ]
    },
    {
     "name": "stdout",
     "output_type": "stream",
     "text": [
      "Epoch 162, Loss: 33.2495, Recon: 20.4541, KL: 12.7954\n",
      "\n",
      "===== Epoch 163 =====\n"
     ]
    },
    {
     "name": "stderr",
     "output_type": "stream",
     "text": [
      "Epoch 163/500: 100%|██████████████████████████| 11/11 [00:00<00:00, 1425.62it/s]\n"
     ]
    },
    {
     "name": "stdout",
     "output_type": "stream",
     "text": [
      "Epoch 163, Loss: 33.3164, Recon: 20.5319, KL: 12.7845\n",
      "\n",
      "===== Epoch 164 =====\n"
     ]
    },
    {
     "name": "stderr",
     "output_type": "stream",
     "text": [
      "Epoch 164/500: 100%|██████████████████████████| 11/11 [00:00<00:00, 1273.60it/s]\n"
     ]
    },
    {
     "name": "stdout",
     "output_type": "stream",
     "text": [
      "Epoch 164, Loss: 33.5452, Recon: 20.7428, KL: 12.8024\n",
      "\n",
      "===== Epoch 165 =====\n"
     ]
    },
    {
     "name": "stderr",
     "output_type": "stream",
     "text": [
      "Epoch 165/500: 100%|██████████████████████████| 11/11 [00:00<00:00, 1439.18it/s]\n"
     ]
    },
    {
     "name": "stdout",
     "output_type": "stream",
     "text": [
      "Epoch 165, Loss: 33.3390, Recon: 20.4481, KL: 12.8908\n",
      "\n",
      "===== Epoch 166 =====\n"
     ]
    },
    {
     "name": "stderr",
     "output_type": "stream",
     "text": [
      "Epoch 166/500: 100%|██████████████████████████| 11/11 [00:00<00:00, 1449.86it/s]\n"
     ]
    },
    {
     "name": "stdout",
     "output_type": "stream",
     "text": [
      "Epoch 166, Loss: 33.2711, Recon: 20.4449, KL: 12.8262\n",
      "\n",
      "===== Epoch 167 =====\n"
     ]
    },
    {
     "name": "stderr",
     "output_type": "stream",
     "text": [
      "Epoch 167/500: 100%|██████████████████████████| 11/11 [00:00<00:00, 1441.88it/s]\n"
     ]
    },
    {
     "name": "stdout",
     "output_type": "stream",
     "text": [
      "Epoch 167, Loss: 33.4368, Recon: 20.5240, KL: 12.9129\n",
      "\n",
      "===== Epoch 168 =====\n"
     ]
    },
    {
     "name": "stderr",
     "output_type": "stream",
     "text": [
      "Epoch 168/500: 100%|██████████████████████████| 11/11 [00:00<00:00, 1427.30it/s]\n"
     ]
    },
    {
     "name": "stdout",
     "output_type": "stream",
     "text": [
      "Epoch 168, Loss: 33.2333, Recon: 20.3289, KL: 12.9044\n",
      "\n",
      "===== Epoch 169 =====\n"
     ]
    },
    {
     "name": "stderr",
     "output_type": "stream",
     "text": [
      "Epoch 169/500: 100%|██████████████████████████| 11/11 [00:00<00:00, 1240.85it/s]\n"
     ]
    },
    {
     "name": "stdout",
     "output_type": "stream",
     "text": [
      "Epoch 169, Loss: 33.0871, Recon: 20.2143, KL: 12.8728\n",
      "\n",
      "===== Epoch 170 =====\n"
     ]
    },
    {
     "name": "stderr",
     "output_type": "stream",
     "text": [
      "Epoch 170/500: 100%|███████████████████████████| 11/11 [00:00<00:00, 411.05it/s]\n"
     ]
    },
    {
     "name": "stdout",
     "output_type": "stream",
     "text": [
      "Epoch 170, Loss: 33.2900, Recon: 20.3395, KL: 12.9506\n",
      "\n",
      "===== Epoch 171 =====\n"
     ]
    },
    {
     "name": "stderr",
     "output_type": "stream",
     "text": [
      "Epoch 171/500: 100%|███████████████████████████| 11/11 [00:00<00:00, 901.77it/s]\n"
     ]
    },
    {
     "name": "stdout",
     "output_type": "stream",
     "text": [
      "Epoch 171, Loss: 33.3934, Recon: 20.4359, KL: 12.9575\n",
      "\n",
      "===== Epoch 172 =====\n"
     ]
    },
    {
     "name": "stderr",
     "output_type": "stream",
     "text": [
      "Epoch 172/500: 100%|██████████████████████████| 11/11 [00:00<00:00, 1308.27it/s]\n"
     ]
    },
    {
     "name": "stdout",
     "output_type": "stream",
     "text": [
      "Epoch 172, Loss: 33.1866, Recon: 20.2422, KL: 12.9444\n",
      "\n",
      "===== Epoch 173 =====\n"
     ]
    },
    {
     "name": "stderr",
     "output_type": "stream",
     "text": [
      "Epoch 173/500: 100%|██████████████████████████| 11/11 [00:00<00:00, 1316.07it/s]\n"
     ]
    },
    {
     "name": "stdout",
     "output_type": "stream",
     "text": [
      "Epoch 173, Loss: 33.0516, Recon: 20.1947, KL: 12.8569\n",
      "\n",
      "===== Epoch 174 =====\n"
     ]
    },
    {
     "name": "stderr",
     "output_type": "stream",
     "text": [
      "Epoch 174/500: 100%|██████████████████████████| 11/11 [00:00<00:00, 1296.83it/s]\n"
     ]
    },
    {
     "name": "stdout",
     "output_type": "stream",
     "text": [
      "Epoch 174, Loss: 32.8520, Recon: 20.0458, KL: 12.8061\n",
      "\n",
      "===== Epoch 175 =====\n"
     ]
    },
    {
     "name": "stderr",
     "output_type": "stream",
     "text": [
      "Epoch 175/500: 100%|██████████████████████████| 11/11 [00:00<00:00, 1387.34it/s]\n"
     ]
    },
    {
     "name": "stdout",
     "output_type": "stream",
     "text": [
      "Epoch 175, Loss: 32.9304, Recon: 20.2005, KL: 12.7299\n",
      "\n",
      "===== Epoch 176 =====\n"
     ]
    },
    {
     "name": "stderr",
     "output_type": "stream",
     "text": [
      "Epoch 176/500: 100%|██████████████████████████| 11/11 [00:00<00:00, 1290.30it/s]\n"
     ]
    },
    {
     "name": "stdout",
     "output_type": "stream",
     "text": [
      "Epoch 176, Loss: 33.0619, Recon: 20.3364, KL: 12.7255\n",
      "\n",
      "===== Epoch 177 =====\n"
     ]
    },
    {
     "name": "stderr",
     "output_type": "stream",
     "text": [
      "Epoch 177/500: 100%|██████████████████████████| 11/11 [00:00<00:00, 1282.20it/s]\n"
     ]
    },
    {
     "name": "stdout",
     "output_type": "stream",
     "text": [
      "Epoch 177, Loss: 32.8090, Recon: 20.0673, KL: 12.7417\n",
      "\n",
      "===== Epoch 178 =====\n"
     ]
    },
    {
     "name": "stderr",
     "output_type": "stream",
     "text": [
      "Epoch 178/500: 100%|██████████████████████████| 11/11 [00:00<00:00, 1343.58it/s]\n"
     ]
    },
    {
     "name": "stdout",
     "output_type": "stream",
     "text": [
      "Epoch 178, Loss: 33.0524, Recon: 20.3183, KL: 12.7341\n",
      "\n",
      "===== Epoch 179 =====\n"
     ]
    },
    {
     "name": "stderr",
     "output_type": "stream",
     "text": [
      "Epoch 179/500: 100%|██████████████████████████| 11/11 [00:00<00:00, 1312.51it/s]\n"
     ]
    },
    {
     "name": "stdout",
     "output_type": "stream",
     "text": [
      "Epoch 179, Loss: 32.9309, Recon: 20.1416, KL: 12.7893\n",
      "\n",
      "===== Epoch 180 =====\n"
     ]
    },
    {
     "name": "stderr",
     "output_type": "stream",
     "text": [
      "Epoch 180/500: 100%|██████████████████████████| 11/11 [00:00<00:00, 1349.68it/s]\n"
     ]
    },
    {
     "name": "stdout",
     "output_type": "stream",
     "text": [
      "Epoch 180, Loss: 32.6474, Recon: 19.8566, KL: 12.7908\n",
      "\n",
      "===== Epoch 181 =====\n"
     ]
    },
    {
     "name": "stderr",
     "output_type": "stream",
     "text": [
      "Epoch 181/500: 100%|██████████████████████████| 11/11 [00:00<00:00, 1312.32it/s]\n"
     ]
    },
    {
     "name": "stdout",
     "output_type": "stream",
     "text": [
      "Epoch 181, Loss: 33.0358, Recon: 20.3346, KL: 12.7011\n",
      "\n",
      "===== Epoch 182 =====\n"
     ]
    },
    {
     "name": "stderr",
     "output_type": "stream",
     "text": [
      "Epoch 182/500: 100%|██████████████████████████| 11/11 [00:00<00:00, 1348.37it/s]\n"
     ]
    },
    {
     "name": "stdout",
     "output_type": "stream",
     "text": [
      "Epoch 182, Loss: 32.6932, Recon: 19.8818, KL: 12.8114\n",
      "\n",
      "===== Epoch 183 =====\n"
     ]
    },
    {
     "name": "stderr",
     "output_type": "stream",
     "text": [
      "Epoch 183/500: 100%|██████████████████████████| 11/11 [00:00<00:00, 1295.34it/s]\n"
     ]
    },
    {
     "name": "stdout",
     "output_type": "stream",
     "text": [
      "Epoch 183, Loss: 32.7090, Recon: 19.9134, KL: 12.7957\n",
      "\n",
      "===== Epoch 184 =====\n"
     ]
    },
    {
     "name": "stderr",
     "output_type": "stream",
     "text": [
      "Epoch 184/500: 100%|██████████████████████████| 11/11 [00:00<00:00, 1317.38it/s]\n"
     ]
    },
    {
     "name": "stdout",
     "output_type": "stream",
     "text": [
      "Epoch 184, Loss: 32.4883, Recon: 19.7812, KL: 12.7071\n",
      "\n",
      "===== Epoch 185 =====\n"
     ]
    },
    {
     "name": "stderr",
     "output_type": "stream",
     "text": [
      "Epoch 185/500: 100%|██████████████████████████| 11/11 [00:00<00:00, 1391.52it/s]\n"
     ]
    },
    {
     "name": "stdout",
     "output_type": "stream",
     "text": [
      "Epoch 185, Loss: 32.8488, Recon: 20.1554, KL: 12.6934\n",
      "\n",
      "===== Epoch 186 =====\n"
     ]
    },
    {
     "name": "stderr",
     "output_type": "stream",
     "text": [
      "Epoch 186/500: 100%|██████████████████████████| 11/11 [00:00<00:00, 1394.34it/s]\n"
     ]
    },
    {
     "name": "stdout",
     "output_type": "stream",
     "text": [
      "Epoch 186, Loss: 32.8728, Recon: 20.0780, KL: 12.7949\n",
      "\n",
      "===== Epoch 187 =====\n"
     ]
    },
    {
     "name": "stderr",
     "output_type": "stream",
     "text": [
      "Epoch 187/500: 100%|██████████████████████████| 11/11 [00:00<00:00, 1379.99it/s]\n"
     ]
    },
    {
     "name": "stdout",
     "output_type": "stream",
     "text": [
      "Epoch 187, Loss: 32.7770, Recon: 19.8798, KL: 12.8972\n",
      "\n",
      "===== Epoch 188 =====\n"
     ]
    },
    {
     "name": "stderr",
     "output_type": "stream",
     "text": [
      "Epoch 188/500: 100%|██████████████████████████| 11/11 [00:00<00:00, 1462.22it/s]\n"
     ]
    },
    {
     "name": "stdout",
     "output_type": "stream",
     "text": [
      "Epoch 188, Loss: 32.8527, Recon: 19.9844, KL: 12.8683\n",
      "\n",
      "===== Epoch 189 =====\n"
     ]
    },
    {
     "name": "stderr",
     "output_type": "stream",
     "text": [
      "Epoch 189/500: 100%|██████████████████████████| 11/11 [00:00<00:00, 1404.66it/s]\n"
     ]
    },
    {
     "name": "stdout",
     "output_type": "stream",
     "text": [
      "Epoch 189, Loss: 32.3980, Recon: 19.4857, KL: 12.9123\n",
      "\n",
      "===== Epoch 190 =====\n"
     ]
    },
    {
     "name": "stderr",
     "output_type": "stream",
     "text": [
      "Epoch 190/500: 100%|██████████████████████████| 11/11 [00:00<00:00, 1477.10it/s]\n"
     ]
    },
    {
     "name": "stdout",
     "output_type": "stream",
     "text": [
      "Epoch 190, Loss: 32.8075, Recon: 20.0411, KL: 12.7664\n",
      "\n",
      "===== Epoch 191 =====\n"
     ]
    },
    {
     "name": "stderr",
     "output_type": "stream",
     "text": [
      "Epoch 191/500: 100%|██████████████████████████| 11/11 [00:00<00:00, 1455.80it/s]\n"
     ]
    },
    {
     "name": "stdout",
     "output_type": "stream",
     "text": [
      "Epoch 191, Loss: 32.9383, Recon: 20.0858, KL: 12.8524\n",
      "\n",
      "===== Epoch 192 =====\n"
     ]
    },
    {
     "name": "stderr",
     "output_type": "stream",
     "text": [
      "Epoch 192/500: 100%|██████████████████████████| 11/11 [00:00<00:00, 1428.00it/s]\n"
     ]
    },
    {
     "name": "stdout",
     "output_type": "stream",
     "text": [
      "Epoch 192, Loss: 32.9593, Recon: 19.9644, KL: 12.9949\n",
      "\n",
      "===== Epoch 193 =====\n"
     ]
    },
    {
     "name": "stderr",
     "output_type": "stream",
     "text": [
      "Epoch 193/500: 100%|██████████████████████████| 11/11 [00:00<00:00, 1481.28it/s]\n"
     ]
    },
    {
     "name": "stdout",
     "output_type": "stream",
     "text": [
      "Epoch 193, Loss: 33.0182, Recon: 19.7614, KL: 13.2568\n",
      "\n",
      "===== Epoch 194 =====\n"
     ]
    },
    {
     "name": "stderr",
     "output_type": "stream",
     "text": [
      "Epoch 194/500: 100%|██████████████████████████| 11/11 [00:00<00:00, 1437.12it/s]\n"
     ]
    },
    {
     "name": "stdout",
     "output_type": "stream",
     "text": [
      "Epoch 194, Loss: 32.9383, Recon: 19.7074, KL: 13.2310\n",
      "\n",
      "===== Epoch 195 =====\n"
     ]
    },
    {
     "name": "stderr",
     "output_type": "stream",
     "text": [
      "Epoch 195/500: 100%|██████████████████████████| 11/11 [00:00<00:00, 1456.95it/s]\n"
     ]
    },
    {
     "name": "stdout",
     "output_type": "stream",
     "text": [
      "Epoch 195, Loss: 32.5115, Recon: 19.4192, KL: 13.0923\n",
      "\n",
      "===== Epoch 196 =====\n"
     ]
    },
    {
     "name": "stderr",
     "output_type": "stream",
     "text": [
      "Epoch 196/500: 100%|██████████████████████████| 11/11 [00:00<00:00, 1421.23it/s]\n"
     ]
    },
    {
     "name": "stdout",
     "output_type": "stream",
     "text": [
      "Epoch 196, Loss: 32.5317, Recon: 19.6177, KL: 12.9141\n",
      "\n",
      "===== Epoch 197 =====\n"
     ]
    },
    {
     "name": "stderr",
     "output_type": "stream",
     "text": [
      "Epoch 197/500: 100%|██████████████████████████| 11/11 [00:00<00:00, 1403.80it/s]\n"
     ]
    },
    {
     "name": "stdout",
     "output_type": "stream",
     "text": [
      "Epoch 197, Loss: 32.5772, Recon: 19.7747, KL: 12.8025\n",
      "\n",
      "===== Epoch 198 =====\n"
     ]
    },
    {
     "name": "stderr",
     "output_type": "stream",
     "text": [
      "Epoch 198/500: 100%|██████████████████████████| 11/11 [00:00<00:00, 1465.65it/s]\n"
     ]
    },
    {
     "name": "stdout",
     "output_type": "stream",
     "text": [
      "Epoch 198, Loss: 32.6349, Recon: 19.7624, KL: 12.8725\n",
      "\n",
      "===== Epoch 199 =====\n"
     ]
    },
    {
     "name": "stderr",
     "output_type": "stream",
     "text": [
      "Epoch 199/500: 100%|██████████████████████████| 11/11 [00:00<00:00, 1431.19it/s]\n"
     ]
    },
    {
     "name": "stdout",
     "output_type": "stream",
     "text": [
      "Epoch 199, Loss: 32.7230, Recon: 19.8812, KL: 12.8418\n",
      "\n",
      "===== Epoch 200 =====\n"
     ]
    },
    {
     "name": "stderr",
     "output_type": "stream",
     "text": [
      "Epoch 200/500: 100%|██████████████████████████| 11/11 [00:00<00:00, 1408.64it/s]\n"
     ]
    },
    {
     "name": "stdout",
     "output_type": "stream",
     "text": [
      "Epoch 200, Loss: 32.4166, Recon: 19.4482, KL: 12.9684\n",
      "\n",
      "===== Epoch 201 =====\n"
     ]
    },
    {
     "name": "stderr",
     "output_type": "stream",
     "text": [
      "Epoch 201/500: 100%|██████████████████████████| 11/11 [00:00<00:00, 1429.86it/s]\n"
     ]
    },
    {
     "name": "stdout",
     "output_type": "stream",
     "text": [
      "Epoch 201, Loss: 32.5582, Recon: 19.6804, KL: 12.8777\n",
      "\n",
      "===== Epoch 202 =====\n"
     ]
    },
    {
     "name": "stderr",
     "output_type": "stream",
     "text": [
      "Epoch 202/500: 100%|██████████████████████████| 11/11 [00:00<00:00, 1431.77it/s]\n"
     ]
    },
    {
     "name": "stdout",
     "output_type": "stream",
     "text": [
      "Epoch 202, Loss: 32.6203, Recon: 19.6786, KL: 12.9417\n",
      "\n",
      "===== Epoch 203 =====\n"
     ]
    },
    {
     "name": "stderr",
     "output_type": "stream",
     "text": [
      "Epoch 203/500: 100%|██████████████████████████| 11/11 [00:00<00:00, 1436.00it/s]\n"
     ]
    },
    {
     "name": "stdout",
     "output_type": "stream",
     "text": [
      "Epoch 203, Loss: 32.4060, Recon: 19.4588, KL: 12.9473\n",
      "\n",
      "===== Epoch 204 =====\n"
     ]
    },
    {
     "name": "stderr",
     "output_type": "stream",
     "text": [
      "Epoch 204/500: 100%|██████████████████████████| 11/11 [00:00<00:00, 1227.68it/s]\n"
     ]
    },
    {
     "name": "stdout",
     "output_type": "stream",
     "text": [
      "Epoch 204, Loss: 32.5756, Recon: 19.6832, KL: 12.8924\n",
      "\n",
      "===== Epoch 205 =====\n"
     ]
    },
    {
     "name": "stderr",
     "output_type": "stream",
     "text": [
      "Epoch 205/500: 100%|██████████████████████████| 11/11 [00:00<00:00, 1451.73it/s]\n"
     ]
    },
    {
     "name": "stdout",
     "output_type": "stream",
     "text": [
      "Epoch 205, Loss: 32.5387, Recon: 19.5523, KL: 12.9865\n",
      "\n",
      "===== Epoch 206 =====\n"
     ]
    },
    {
     "name": "stderr",
     "output_type": "stream",
     "text": [
      "Epoch 206/500: 100%|██████████████████████████| 11/11 [00:00<00:00, 1438.47it/s]\n"
     ]
    },
    {
     "name": "stdout",
     "output_type": "stream",
     "text": [
      "Epoch 206, Loss: 32.5680, Recon: 19.5586, KL: 13.0094\n",
      "\n",
      "===== Epoch 207 =====\n"
     ]
    },
    {
     "name": "stderr",
     "output_type": "stream",
     "text": [
      "Epoch 207/500: 100%|██████████████████████████| 11/11 [00:00<00:00, 1453.10it/s]\n"
     ]
    },
    {
     "name": "stdout",
     "output_type": "stream",
     "text": [
      "Epoch 207, Loss: 32.2948, Recon: 19.3310, KL: 12.9638\n",
      "\n",
      "===== Epoch 208 =====\n"
     ]
    },
    {
     "name": "stderr",
     "output_type": "stream",
     "text": [
      "Epoch 208/500: 100%|██████████████████████████| 11/11 [00:00<00:00, 1469.81it/s]\n"
     ]
    },
    {
     "name": "stdout",
     "output_type": "stream",
     "text": [
      "Epoch 208, Loss: 32.2801, Recon: 19.3675, KL: 12.9127\n",
      "\n",
      "===== Epoch 209 =====\n"
     ]
    },
    {
     "name": "stderr",
     "output_type": "stream",
     "text": [
      "Epoch 209/500: 100%|██████████████████████████| 11/11 [00:00<00:00, 1235.83it/s]\n"
     ]
    },
    {
     "name": "stdout",
     "output_type": "stream",
     "text": [
      "Epoch 209, Loss: 32.3730, Recon: 19.5240, KL: 12.8490\n",
      "\n",
      "===== Epoch 210 =====\n"
     ]
    },
    {
     "name": "stderr",
     "output_type": "stream",
     "text": [
      "Epoch 210/500: 100%|██████████████████████████| 11/11 [00:00<00:00, 1449.22it/s]\n"
     ]
    },
    {
     "name": "stdout",
     "output_type": "stream",
     "text": [
      "Epoch 210, Loss: 32.6033, Recon: 19.6487, KL: 12.9546\n",
      "\n",
      "===== Epoch 211 =====\n"
     ]
    },
    {
     "name": "stderr",
     "output_type": "stream",
     "text": [
      "Epoch 211/500: 100%|██████████████████████████| 11/11 [00:00<00:00, 1255.03it/s]\n"
     ]
    },
    {
     "name": "stdout",
     "output_type": "stream",
     "text": [
      "Epoch 211, Loss: 32.5860, Recon: 19.3871, KL: 13.1989\n",
      "\n",
      "===== Epoch 212 =====\n"
     ]
    },
    {
     "name": "stderr",
     "output_type": "stream",
     "text": [
      "Epoch 212/500: 100%|██████████████████████████| 11/11 [00:00<00:00, 1428.58it/s]\n"
     ]
    },
    {
     "name": "stdout",
     "output_type": "stream",
     "text": [
      "Epoch 212, Loss: 32.1197, Recon: 19.0017, KL: 13.1180\n",
      "\n",
      "===== Epoch 213 =====\n"
     ]
    },
    {
     "name": "stderr",
     "output_type": "stream",
     "text": [
      "Epoch 213/500: 100%|██████████████████████████| 11/11 [00:00<00:00, 1402.52it/s]\n"
     ]
    },
    {
     "name": "stdout",
     "output_type": "stream",
     "text": [
      "Epoch 213, Loss: 32.0240, Recon: 19.0706, KL: 12.9534\n",
      "\n",
      "===== Epoch 214 =====\n"
     ]
    },
    {
     "name": "stderr",
     "output_type": "stream",
     "text": [
      "Epoch 214/500: 100%|██████████████████████████| 11/11 [00:00<00:00, 1271.53it/s]\n"
     ]
    },
    {
     "name": "stdout",
     "output_type": "stream",
     "text": [
      "Epoch 214, Loss: 32.4393, Recon: 19.6228, KL: 12.8165\n",
      "\n",
      "===== Epoch 215 =====\n"
     ]
    },
    {
     "name": "stderr",
     "output_type": "stream",
     "text": [
      "Epoch 215/500: 100%|██████████████████████████| 11/11 [00:00<00:00, 1385.05it/s]\n"
     ]
    },
    {
     "name": "stdout",
     "output_type": "stream",
     "text": [
      "Epoch 215, Loss: 32.2331, Recon: 19.3715, KL: 12.8617\n",
      "\n",
      "===== Epoch 216 =====\n"
     ]
    },
    {
     "name": "stderr",
     "output_type": "stream",
     "text": [
      "Epoch 216/500: 100%|██████████████████████████| 11/11 [00:00<00:00, 1265.56it/s]\n"
     ]
    },
    {
     "name": "stdout",
     "output_type": "stream",
     "text": [
      "Epoch 216, Loss: 32.1860, Recon: 19.2292, KL: 12.9568\n",
      "\n",
      "===== Epoch 217 =====\n"
     ]
    },
    {
     "name": "stderr",
     "output_type": "stream",
     "text": [
      "Epoch 217/500: 100%|██████████████████████████| 11/11 [00:00<00:00, 1238.19it/s]\n"
     ]
    },
    {
     "name": "stdout",
     "output_type": "stream",
     "text": [
      "Epoch 217, Loss: 31.9347, Recon: 19.0255, KL: 12.9092\n",
      "\n",
      "===== Epoch 218 =====\n"
     ]
    },
    {
     "name": "stderr",
     "output_type": "stream",
     "text": [
      "Epoch 218/500: 100%|██████████████████████████| 11/11 [00:00<00:00, 1164.14it/s]\n"
     ]
    },
    {
     "name": "stdout",
     "output_type": "stream",
     "text": [
      "Epoch 218, Loss: 32.2331, Recon: 19.3494, KL: 12.8837\n",
      "\n",
      "===== Epoch 219 =====\n"
     ]
    },
    {
     "name": "stderr",
     "output_type": "stream",
     "text": [
      "Epoch 219/500: 100%|██████████████████████████| 11/11 [00:00<00:00, 1298.88it/s]\n"
     ]
    },
    {
     "name": "stdout",
     "output_type": "stream",
     "text": [
      "Epoch 219, Loss: 32.2027, Recon: 19.2586, KL: 12.9441\n",
      "\n",
      "===== Epoch 220 =====\n"
     ]
    },
    {
     "name": "stderr",
     "output_type": "stream",
     "text": [
      "Epoch 220/500: 100%|██████████████████████████| 11/11 [00:00<00:00, 1409.94it/s]\n"
     ]
    },
    {
     "name": "stdout",
     "output_type": "stream",
     "text": [
      "Epoch 220, Loss: 32.3396, Recon: 19.3717, KL: 12.9679\n",
      "\n",
      "===== Epoch 221 =====\n"
     ]
    },
    {
     "name": "stderr",
     "output_type": "stream",
     "text": [
      "Epoch 221/500: 100%|██████████████████████████| 11/11 [00:00<00:00, 1460.97it/s]\n"
     ]
    },
    {
     "name": "stdout",
     "output_type": "stream",
     "text": [
      "Epoch 221, Loss: 32.0759, Recon: 19.0585, KL: 13.0174\n",
      "\n",
      "===== Epoch 222 =====\n"
     ]
    },
    {
     "name": "stderr",
     "output_type": "stream",
     "text": [
      "Epoch 222/500: 100%|██████████████████████████| 11/11 [00:00<00:00, 1382.43it/s]\n"
     ]
    },
    {
     "name": "stdout",
     "output_type": "stream",
     "text": [
      "Epoch 222, Loss: 32.0734, Recon: 19.1118, KL: 12.9617\n",
      "\n",
      "===== Epoch 223 =====\n"
     ]
    },
    {
     "name": "stderr",
     "output_type": "stream",
     "text": [
      "Epoch 223/500: 100%|██████████████████████████| 11/11 [00:00<00:00, 1454.24it/s]\n"
     ]
    },
    {
     "name": "stdout",
     "output_type": "stream",
     "text": [
      "Epoch 223, Loss: 32.2932, Recon: 19.3732, KL: 12.9200\n",
      "\n",
      "===== Epoch 224 =====\n"
     ]
    },
    {
     "name": "stderr",
     "output_type": "stream",
     "text": [
      "Epoch 224/500: 100%|██████████████████████████| 11/11 [00:00<00:00, 1435.11it/s]\n"
     ]
    },
    {
     "name": "stdout",
     "output_type": "stream",
     "text": [
      "Epoch 224, Loss: 32.0009, Recon: 18.9792, KL: 13.0217\n",
      "\n",
      "===== Epoch 225 =====\n"
     ]
    },
    {
     "name": "stderr",
     "output_type": "stream",
     "text": [
      "Epoch 225/500: 100%|██████████████████████████| 11/11 [00:00<00:00, 1435.47it/s]\n"
     ]
    },
    {
     "name": "stdout",
     "output_type": "stream",
     "text": [
      "Epoch 225, Loss: 32.1306, Recon: 19.1663, KL: 12.9643\n",
      "\n",
      "===== Epoch 226 =====\n"
     ]
    },
    {
     "name": "stderr",
     "output_type": "stream",
     "text": [
      "Epoch 226/500: 100%|██████████████████████████| 11/11 [00:00<00:00, 1474.51it/s]\n"
     ]
    },
    {
     "name": "stdout",
     "output_type": "stream",
     "text": [
      "Epoch 226, Loss: 32.1527, Recon: 19.1870, KL: 12.9657\n",
      "\n",
      "===== Epoch 227 =====\n"
     ]
    },
    {
     "name": "stderr",
     "output_type": "stream",
     "text": [
      "Epoch 227/500: 100%|██████████████████████████| 11/11 [00:00<00:00, 1378.96it/s]\n"
     ]
    },
    {
     "name": "stdout",
     "output_type": "stream",
     "text": [
      "Epoch 227, Loss: 32.1742, Recon: 19.1645, KL: 13.0098\n",
      "\n",
      "===== Epoch 228 =====\n"
     ]
    },
    {
     "name": "stderr",
     "output_type": "stream",
     "text": [
      "Epoch 228/500: 100%|██████████████████████████| 11/11 [00:00<00:00, 1397.68it/s]\n"
     ]
    },
    {
     "name": "stdout",
     "output_type": "stream",
     "text": [
      "Epoch 228, Loss: 32.2044, Recon: 19.2559, KL: 12.9485\n",
      "\n",
      "===== Epoch 229 =====\n"
     ]
    },
    {
     "name": "stderr",
     "output_type": "stream",
     "text": [
      "Epoch 229/500: 100%|██████████████████████████| 11/11 [00:00<00:00, 1439.23it/s]\n"
     ]
    },
    {
     "name": "stdout",
     "output_type": "stream",
     "text": [
      "Epoch 229, Loss: 32.1027, Recon: 19.0637, KL: 13.0390\n",
      "\n",
      "===== Epoch 230 =====\n"
     ]
    },
    {
     "name": "stderr",
     "output_type": "stream",
     "text": [
      "Epoch 230/500: 100%|██████████████████████████| 11/11 [00:00<00:00, 1124.62it/s]\n"
     ]
    },
    {
     "name": "stdout",
     "output_type": "stream",
     "text": [
      "Epoch 230, Loss: 31.8759, Recon: 18.8770, KL: 12.9989\n",
      "\n",
      "===== Epoch 231 =====\n"
     ]
    },
    {
     "name": "stderr",
     "output_type": "stream",
     "text": [
      "Epoch 231/500: 100%|██████████████████████████| 11/11 [00:00<00:00, 1478.86it/s]\n"
     ]
    },
    {
     "name": "stdout",
     "output_type": "stream",
     "text": [
      "Epoch 231, Loss: 31.9135, Recon: 18.9465, KL: 12.9670\n",
      "\n",
      "===== Epoch 232 =====\n"
     ]
    },
    {
     "name": "stderr",
     "output_type": "stream",
     "text": [
      "Epoch 232/500: 100%|██████████████████████████| 11/11 [00:00<00:00, 1436.23it/s]\n"
     ]
    },
    {
     "name": "stdout",
     "output_type": "stream",
     "text": [
      "Epoch 232, Loss: 31.8040, Recon: 18.8409, KL: 12.9632\n",
      "\n",
      "===== Epoch 233 =====\n"
     ]
    },
    {
     "name": "stderr",
     "output_type": "stream",
     "text": [
      "Epoch 233/500: 100%|██████████████████████████| 11/11 [00:00<00:00, 1419.92it/s]\n"
     ]
    },
    {
     "name": "stdout",
     "output_type": "stream",
     "text": [
      "Epoch 233, Loss: 31.8201, Recon: 18.9074, KL: 12.9127\n",
      "\n",
      "===== Epoch 234 =====\n"
     ]
    },
    {
     "name": "stderr",
     "output_type": "stream",
     "text": [
      "Epoch 234/500: 100%|██████████████████████████| 11/11 [00:00<00:00, 1437.39it/s]\n"
     ]
    },
    {
     "name": "stdout",
     "output_type": "stream",
     "text": [
      "Epoch 234, Loss: 32.1511, Recon: 19.2544, KL: 12.8967\n",
      "\n",
      "===== Epoch 235 =====\n"
     ]
    },
    {
     "name": "stderr",
     "output_type": "stream",
     "text": [
      "Epoch 235/500: 100%|██████████████████████████| 11/11 [00:00<00:00, 1374.65it/s]\n"
     ]
    },
    {
     "name": "stdout",
     "output_type": "stream",
     "text": [
      "Epoch 235, Loss: 32.1509, Recon: 19.2299, KL: 12.9210\n",
      "\n",
      "===== Epoch 236 =====\n"
     ]
    },
    {
     "name": "stderr",
     "output_type": "stream",
     "text": [
      "Epoch 236/500: 100%|██████████████████████████| 11/11 [00:00<00:00, 1398.27it/s]\n"
     ]
    },
    {
     "name": "stdout",
     "output_type": "stream",
     "text": [
      "Epoch 236, Loss: 32.0058, Recon: 18.8495, KL: 13.1562\n",
      "\n",
      "===== Epoch 237 =====\n"
     ]
    },
    {
     "name": "stderr",
     "output_type": "stream",
     "text": [
      "Epoch 237/500: 100%|██████████████████████████| 11/11 [00:00<00:00, 1449.13it/s]\n"
     ]
    },
    {
     "name": "stdout",
     "output_type": "stream",
     "text": [
      "Epoch 237, Loss: 31.7912, Recon: 18.7309, KL: 13.0603\n",
      "\n",
      "===== Epoch 238 =====\n"
     ]
    },
    {
     "name": "stderr",
     "output_type": "stream",
     "text": [
      "Epoch 238/500: 100%|██████████████████████████| 11/11 [00:00<00:00, 1412.79it/s]\n"
     ]
    },
    {
     "name": "stdout",
     "output_type": "stream",
     "text": [
      "Epoch 238, Loss: 31.9476, Recon: 18.9398, KL: 13.0078\n",
      "\n",
      "===== Epoch 239 =====\n"
     ]
    },
    {
     "name": "stderr",
     "output_type": "stream",
     "text": [
      "Epoch 239/500: 100%|██████████████████████████| 11/11 [00:00<00:00, 1427.47it/s]\n"
     ]
    },
    {
     "name": "stdout",
     "output_type": "stream",
     "text": [
      "Epoch 239, Loss: 31.8319, Recon: 18.8258, KL: 13.0060\n",
      "\n",
      "===== Epoch 240 =====\n"
     ]
    },
    {
     "name": "stderr",
     "output_type": "stream",
     "text": [
      "Epoch 240/500: 100%|██████████████████████████| 11/11 [00:00<00:00, 1470.18it/s]\n"
     ]
    },
    {
     "name": "stdout",
     "output_type": "stream",
     "text": [
      "Epoch 240, Loss: 31.9314, Recon: 18.9934, KL: 12.9380\n",
      "\n",
      "===== Epoch 241 =====\n"
     ]
    },
    {
     "name": "stderr",
     "output_type": "stream",
     "text": [
      "Epoch 241/500: 100%|██████████████████████████| 11/11 [00:00<00:00, 1232.24it/s]\n"
     ]
    },
    {
     "name": "stdout",
     "output_type": "stream",
     "text": [
      "Epoch 241, Loss: 31.8273, Recon: 18.9162, KL: 12.9111\n",
      "\n",
      "===== Epoch 242 =====\n"
     ]
    },
    {
     "name": "stderr",
     "output_type": "stream",
     "text": [
      "Epoch 242/500: 100%|██████████████████████████| 11/11 [00:00<00:00, 1475.50it/s]\n"
     ]
    },
    {
     "name": "stdout",
     "output_type": "stream",
     "text": [
      "Epoch 242, Loss: 31.8665, Recon: 18.8489, KL: 13.0176\n",
      "\n",
      "===== Epoch 243 =====\n"
     ]
    },
    {
     "name": "stderr",
     "output_type": "stream",
     "text": [
      "Epoch 243/500: 100%|██████████████████████████| 11/11 [00:00<00:00, 1517.63it/s]\n"
     ]
    },
    {
     "name": "stdout",
     "output_type": "stream",
     "text": [
      "Epoch 243, Loss: 32.0276, Recon: 18.9905, KL: 13.0371\n",
      "\n",
      "===== Epoch 244 =====\n"
     ]
    },
    {
     "name": "stderr",
     "output_type": "stream",
     "text": [
      "Epoch 244/500: 100%|██████████████████████████| 11/11 [00:00<00:00, 1506.82it/s]\n"
     ]
    },
    {
     "name": "stdout",
     "output_type": "stream",
     "text": [
      "Epoch 244, Loss: 31.9488, Recon: 18.9116, KL: 13.0372\n",
      "\n",
      "===== Epoch 245 =====\n"
     ]
    },
    {
     "name": "stderr",
     "output_type": "stream",
     "text": [
      "Epoch 245/500: 100%|██████████████████████████| 11/11 [00:00<00:00, 1475.88it/s]\n"
     ]
    },
    {
     "name": "stdout",
     "output_type": "stream",
     "text": [
      "Epoch 245, Loss: 31.9717, Recon: 18.8157, KL: 13.1560\n",
      "\n",
      "===== Epoch 246 =====\n"
     ]
    },
    {
     "name": "stderr",
     "output_type": "stream",
     "text": [
      "Epoch 246/500: 100%|██████████████████████████| 11/11 [00:00<00:00, 1412.83it/s]\n"
     ]
    },
    {
     "name": "stdout",
     "output_type": "stream",
     "text": [
      "Epoch 246, Loss: 31.9293, Recon: 18.7820, KL: 13.1474\n",
      "\n",
      "===== Epoch 247 =====\n"
     ]
    },
    {
     "name": "stderr",
     "output_type": "stream",
     "text": [
      "Epoch 247/500: 100%|██████████████████████████| 11/11 [00:00<00:00, 1387.84it/s]\n"
     ]
    },
    {
     "name": "stdout",
     "output_type": "stream",
     "text": [
      "Epoch 247, Loss: 31.6707, Recon: 18.6213, KL: 13.0494\n",
      "\n",
      "===== Epoch 248 =====\n"
     ]
    },
    {
     "name": "stderr",
     "output_type": "stream",
     "text": [
      "Epoch 248/500: 100%|██████████████████████████| 11/11 [00:00<00:00, 1286.99it/s]\n"
     ]
    },
    {
     "name": "stdout",
     "output_type": "stream",
     "text": [
      "Epoch 248, Loss: 32.0890, Recon: 19.1395, KL: 12.9495\n",
      "\n",
      "===== Epoch 249 =====\n"
     ]
    },
    {
     "name": "stderr",
     "output_type": "stream",
     "text": [
      "Epoch 249/500: 100%|██████████████████████████| 11/11 [00:00<00:00, 1478.52it/s]\n"
     ]
    },
    {
     "name": "stdout",
     "output_type": "stream",
     "text": [
      "Epoch 249, Loss: 31.7894, Recon: 18.6952, KL: 13.0942\n",
      "\n",
      "===== Epoch 250 =====\n"
     ]
    },
    {
     "name": "stderr",
     "output_type": "stream",
     "text": [
      "Epoch 250/500: 100%|██████████████████████████| 11/11 [00:00<00:00, 1415.73it/s]\n"
     ]
    },
    {
     "name": "stdout",
     "output_type": "stream",
     "text": [
      "Epoch 250, Loss: 32.0980, Recon: 19.0559, KL: 13.0421\n",
      "\n",
      "===== Epoch 251 =====\n"
     ]
    },
    {
     "name": "stderr",
     "output_type": "stream",
     "text": [
      "Epoch 251/500: 100%|██████████████████████████| 11/11 [00:00<00:00, 1420.97it/s]\n"
     ]
    },
    {
     "name": "stdout",
     "output_type": "stream",
     "text": [
      "Epoch 251, Loss: 31.7073, Recon: 18.5935, KL: 13.1139\n",
      "\n",
      "===== Epoch 252 =====\n"
     ]
    },
    {
     "name": "stderr",
     "output_type": "stream",
     "text": [
      "Epoch 252/500: 100%|██████████████████████████| 11/11 [00:00<00:00, 1449.45it/s]\n"
     ]
    },
    {
     "name": "stdout",
     "output_type": "stream",
     "text": [
      "Epoch 252, Loss: 31.8214, Recon: 18.7678, KL: 13.0536\n",
      "\n",
      "===== Epoch 253 =====\n"
     ]
    },
    {
     "name": "stderr",
     "output_type": "stream",
     "text": [
      "Epoch 253/500: 100%|██████████████████████████| 11/11 [00:00<00:00, 1453.88it/s]\n"
     ]
    },
    {
     "name": "stdout",
     "output_type": "stream",
     "text": [
      "Epoch 253, Loss: 31.7245, Recon: 18.5797, KL: 13.1448\n",
      "\n",
      "===== Epoch 254 =====\n"
     ]
    },
    {
     "name": "stderr",
     "output_type": "stream",
     "text": [
      "Epoch 254/500: 100%|██████████████████████████| 11/11 [00:00<00:00, 1461.01it/s]\n"
     ]
    },
    {
     "name": "stdout",
     "output_type": "stream",
     "text": [
      "Epoch 254, Loss: 31.6039, Recon: 18.5314, KL: 13.0725\n",
      "\n",
      "===== Epoch 255 =====\n"
     ]
    },
    {
     "name": "stderr",
     "output_type": "stream",
     "text": [
      "Epoch 255/500: 100%|██████████████████████████| 11/11 [00:00<00:00, 1280.24it/s]\n"
     ]
    },
    {
     "name": "stdout",
     "output_type": "stream",
     "text": [
      "Epoch 255, Loss: 31.3734, Recon: 18.4835, KL: 12.8899\n",
      "\n",
      "===== Epoch 256 =====\n"
     ]
    },
    {
     "name": "stderr",
     "output_type": "stream",
     "text": [
      "Epoch 256/500: 100%|██████████████████████████| 11/11 [00:00<00:00, 1293.34it/s]\n"
     ]
    },
    {
     "name": "stdout",
     "output_type": "stream",
     "text": [
      "Epoch 256, Loss: 31.7530, Recon: 18.9197, KL: 12.8333\n",
      "\n",
      "===== Epoch 257 =====\n"
     ]
    },
    {
     "name": "stderr",
     "output_type": "stream",
     "text": [
      "Epoch 257/500: 100%|██████████████████████████| 11/11 [00:00<00:00, 1421.80it/s]\n"
     ]
    },
    {
     "name": "stdout",
     "output_type": "stream",
     "text": [
      "Epoch 257, Loss: 31.6583, Recon: 18.7233, KL: 12.9350\n",
      "\n",
      "===== Epoch 258 =====\n"
     ]
    },
    {
     "name": "stderr",
     "output_type": "stream",
     "text": [
      "Epoch 258/500: 100%|██████████████████████████| 11/11 [00:00<00:00, 1120.19it/s]\n"
     ]
    },
    {
     "name": "stdout",
     "output_type": "stream",
     "text": [
      "Epoch 258, Loss: 31.6310, Recon: 18.5529, KL: 13.0782\n",
      "\n",
      "===== Epoch 259 =====\n"
     ]
    },
    {
     "name": "stderr",
     "output_type": "stream",
     "text": [
      "Epoch 259/500: 100%|██████████████████████████| 11/11 [00:00<00:00, 1328.80it/s]\n"
     ]
    },
    {
     "name": "stdout",
     "output_type": "stream",
     "text": [
      "Epoch 259, Loss: 31.7666, Recon: 18.6852, KL: 13.0814\n",
      "\n",
      "===== Epoch 260 =====\n"
     ]
    },
    {
     "name": "stderr",
     "output_type": "stream",
     "text": [
      "Epoch 260/500: 100%|██████████████████████████| 11/11 [00:00<00:00, 1468.78it/s]\n"
     ]
    },
    {
     "name": "stdout",
     "output_type": "stream",
     "text": [
      "Epoch 260, Loss: 31.9317, Recon: 18.8133, KL: 13.1184\n",
      "\n",
      "===== Epoch 261 =====\n"
     ]
    },
    {
     "name": "stderr",
     "output_type": "stream",
     "text": [
      "Epoch 261/500: 100%|██████████████████████████| 11/11 [00:00<00:00, 1343.43it/s]\n"
     ]
    },
    {
     "name": "stdout",
     "output_type": "stream",
     "text": [
      "Epoch 261, Loss: 31.5977, Recon: 18.2890, KL: 13.3087\n",
      "\n",
      "===== Epoch 262 =====\n"
     ]
    },
    {
     "name": "stderr",
     "output_type": "stream",
     "text": [
      "Epoch 262/500: 100%|██████████████████████████| 11/11 [00:00<00:00, 1498.84it/s]\n"
     ]
    },
    {
     "name": "stdout",
     "output_type": "stream",
     "text": [
      "Epoch 262, Loss: 31.7597, Recon: 18.6220, KL: 13.1377\n",
      "\n",
      "===== Epoch 263 =====\n"
     ]
    },
    {
     "name": "stderr",
     "output_type": "stream",
     "text": [
      "Epoch 263/500: 100%|██████████████████████████| 11/11 [00:00<00:00, 1453.33it/s]\n"
     ]
    },
    {
     "name": "stdout",
     "output_type": "stream",
     "text": [
      "Epoch 263, Loss: 31.6114, Recon: 18.5468, KL: 13.0646\n",
      "\n",
      "===== Epoch 264 =====\n"
     ]
    },
    {
     "name": "stderr",
     "output_type": "stream",
     "text": [
      "Epoch 264/500: 100%|██████████████████████████| 11/11 [00:00<00:00, 1478.05it/s]\n"
     ]
    },
    {
     "name": "stdout",
     "output_type": "stream",
     "text": [
      "Epoch 264, Loss: 31.6385, Recon: 18.5495, KL: 13.0890\n",
      "\n",
      "===== Epoch 265 =====\n"
     ]
    },
    {
     "name": "stderr",
     "output_type": "stream",
     "text": [
      "Epoch 265/500: 100%|██████████████████████████| 11/11 [00:00<00:00, 1436.41it/s]\n"
     ]
    },
    {
     "name": "stdout",
     "output_type": "stream",
     "text": [
      "Epoch 265, Loss: 31.5850, Recon: 18.4679, KL: 13.1171\n",
      "\n",
      "===== Epoch 266 =====\n"
     ]
    },
    {
     "name": "stderr",
     "output_type": "stream",
     "text": [
      "Epoch 266/500: 100%|██████████████████████████| 11/11 [00:00<00:00, 1489.50it/s]\n"
     ]
    },
    {
     "name": "stdout",
     "output_type": "stream",
     "text": [
      "Epoch 266, Loss: 31.2440, Recon: 18.1621, KL: 13.0820\n",
      "\n",
      "===== Epoch 267 =====\n"
     ]
    },
    {
     "name": "stderr",
     "output_type": "stream",
     "text": [
      "Epoch 267/500: 100%|██████████████████████████| 11/11 [00:00<00:00, 1466.45it/s]\n"
     ]
    },
    {
     "name": "stdout",
     "output_type": "stream",
     "text": [
      "Epoch 267, Loss: 31.6622, Recon: 18.7041, KL: 12.9580\n",
      "\n",
      "===== Epoch 268 =====\n"
     ]
    },
    {
     "name": "stderr",
     "output_type": "stream",
     "text": [
      "Epoch 268/500: 100%|██████████████████████████| 11/11 [00:00<00:00, 1464.72it/s]\n"
     ]
    },
    {
     "name": "stdout",
     "output_type": "stream",
     "text": [
      "Epoch 268, Loss: 31.4605, Recon: 18.4203, KL: 13.0402\n",
      "\n",
      "===== Epoch 269 =====\n"
     ]
    },
    {
     "name": "stderr",
     "output_type": "stream",
     "text": [
      "Epoch 269/500: 100%|██████████████████████████| 11/11 [00:00<00:00, 1247.60it/s]\n"
     ]
    },
    {
     "name": "stdout",
     "output_type": "stream",
     "text": [
      "Epoch 269, Loss: 31.5895, Recon: 18.5430, KL: 13.0464\n",
      "\n",
      "===== Epoch 270 =====\n"
     ]
    },
    {
     "name": "stderr",
     "output_type": "stream",
     "text": [
      "Epoch 270/500: 100%|██████████████████████████| 11/11 [00:00<00:00, 1475.69it/s]\n"
     ]
    },
    {
     "name": "stdout",
     "output_type": "stream",
     "text": [
      "Epoch 270, Loss: 31.4631, Recon: 18.4019, KL: 13.0612\n",
      "\n",
      "===== Epoch 271 =====\n"
     ]
    },
    {
     "name": "stderr",
     "output_type": "stream",
     "text": [
      "Epoch 271/500: 100%|██████████████████████████| 11/11 [00:00<00:00, 1173.59it/s]\n"
     ]
    },
    {
     "name": "stdout",
     "output_type": "stream",
     "text": [
      "Epoch 271, Loss: 31.5583, Recon: 18.4591, KL: 13.0991\n",
      "\n",
      "===== Epoch 272 =====\n"
     ]
    },
    {
     "name": "stderr",
     "output_type": "stream",
     "text": [
      "Epoch 272/500: 100%|██████████████████████████| 11/11 [00:00<00:00, 1213.76it/s]\n"
     ]
    },
    {
     "name": "stdout",
     "output_type": "stream",
     "text": [
      "Epoch 272, Loss: 31.5777, Recon: 18.4539, KL: 13.1238\n",
      "\n",
      "===== Epoch 273 =====\n"
     ]
    },
    {
     "name": "stderr",
     "output_type": "stream",
     "text": [
      "Epoch 273/500: 100%|██████████████████████████| 11/11 [00:00<00:00, 1263.97it/s]\n"
     ]
    },
    {
     "name": "stdout",
     "output_type": "stream",
     "text": [
      "Epoch 273, Loss: 31.5198, Recon: 18.3220, KL: 13.1978\n",
      "\n",
      "===== Epoch 274 =====\n"
     ]
    },
    {
     "name": "stderr",
     "output_type": "stream",
     "text": [
      "Epoch 274/500: 100%|██████████████████████████| 11/11 [00:00<00:00, 1224.81it/s]\n"
     ]
    },
    {
     "name": "stdout",
     "output_type": "stream",
     "text": [
      "Epoch 274, Loss: 31.3180, Recon: 18.1288, KL: 13.1892\n",
      "\n",
      "===== Epoch 275 =====\n"
     ]
    },
    {
     "name": "stderr",
     "output_type": "stream",
     "text": [
      "Epoch 275/500: 100%|██████████████████████████| 11/11 [00:00<00:00, 1395.06it/s]\n"
     ]
    },
    {
     "name": "stdout",
     "output_type": "stream",
     "text": [
      "Epoch 275, Loss: 31.1473, Recon: 18.0677, KL: 13.0796\n",
      "\n",
      "===== Epoch 276 =====\n"
     ]
    },
    {
     "name": "stderr",
     "output_type": "stream",
     "text": [
      "Epoch 276/500: 100%|██████████████████████████| 11/11 [00:00<00:00, 1335.96it/s]\n"
     ]
    },
    {
     "name": "stdout",
     "output_type": "stream",
     "text": [
      "Epoch 276, Loss: 31.2789, Recon: 18.3643, KL: 12.9146\n",
      "\n",
      "===== Epoch 277 =====\n"
     ]
    },
    {
     "name": "stderr",
     "output_type": "stream",
     "text": [
      "Epoch 277/500: 100%|██████████████████████████| 11/11 [00:00<00:00, 1148.98it/s]\n"
     ]
    },
    {
     "name": "stdout",
     "output_type": "stream",
     "text": [
      "Epoch 277, Loss: 31.6005, Recon: 18.7487, KL: 12.8517\n",
      "\n",
      "===== Epoch 278 =====\n"
     ]
    },
    {
     "name": "stderr",
     "output_type": "stream",
     "text": [
      "Epoch 278/500: 100%|██████████████████████████| 11/11 [00:00<00:00, 1433.59it/s]\n"
     ]
    },
    {
     "name": "stdout",
     "output_type": "stream",
     "text": [
      "Epoch 278, Loss: 31.2832, Recon: 18.1979, KL: 13.0853\n",
      "\n",
      "===== Epoch 279 =====\n"
     ]
    },
    {
     "name": "stderr",
     "output_type": "stream",
     "text": [
      "Epoch 279/500: 100%|██████████████████████████| 11/11 [00:00<00:00, 1452.32it/s]\n"
     ]
    },
    {
     "name": "stdout",
     "output_type": "stream",
     "text": [
      "Epoch 279, Loss: 31.3508, Recon: 18.3185, KL: 13.0323\n",
      "\n",
      "===== Epoch 280 =====\n"
     ]
    },
    {
     "name": "stderr",
     "output_type": "stream",
     "text": [
      "Epoch 280/500: 100%|██████████████████████████| 11/11 [00:00<00:00, 1431.19it/s]\n"
     ]
    },
    {
     "name": "stdout",
     "output_type": "stream",
     "text": [
      "Epoch 280, Loss: 31.3005, Recon: 18.2533, KL: 13.0471\n",
      "\n",
      "===== Epoch 281 =====\n"
     ]
    },
    {
     "name": "stderr",
     "output_type": "stream",
     "text": [
      "Epoch 281/500: 100%|██████████████████████████| 11/11 [00:00<00:00, 1465.10it/s]\n"
     ]
    },
    {
     "name": "stdout",
     "output_type": "stream",
     "text": [
      "Epoch 281, Loss: 31.4686, Recon: 18.4554, KL: 13.0132\n",
      "\n",
      "===== Epoch 282 =====\n"
     ]
    },
    {
     "name": "stderr",
     "output_type": "stream",
     "text": [
      "Epoch 282/500: 100%|██████████████████████████| 11/11 [00:00<00:00, 1471.17it/s]\n"
     ]
    },
    {
     "name": "stdout",
     "output_type": "stream",
     "text": [
      "Epoch 282, Loss: 31.1092, Recon: 18.0477, KL: 13.0615\n",
      "\n",
      "===== Epoch 283 =====\n"
     ]
    },
    {
     "name": "stderr",
     "output_type": "stream",
     "text": [
      "Epoch 283/500: 100%|██████████████████████████| 11/11 [00:00<00:00, 1480.47it/s]\n"
     ]
    },
    {
     "name": "stdout",
     "output_type": "stream",
     "text": [
      "Epoch 283, Loss: 31.2713, Recon: 18.2571, KL: 13.0143\n",
      "\n",
      "===== Epoch 284 =====\n"
     ]
    },
    {
     "name": "stderr",
     "output_type": "stream",
     "text": [
      "Epoch 284/500: 100%|██████████████████████████| 11/11 [00:00<00:00, 1445.63it/s]\n"
     ]
    },
    {
     "name": "stdout",
     "output_type": "stream",
     "text": [
      "Epoch 284, Loss: 31.4328, Recon: 18.4398, KL: 12.9930\n",
      "\n",
      "===== Epoch 285 =====\n"
     ]
    },
    {
     "name": "stderr",
     "output_type": "stream",
     "text": [
      "Epoch 285/500: 100%|██████████████████████████| 11/11 [00:00<00:00, 1462.59it/s]\n"
     ]
    },
    {
     "name": "stdout",
     "output_type": "stream",
     "text": [
      "Epoch 285, Loss: 31.3299, Recon: 18.2817, KL: 13.0482\n",
      "\n",
      "===== Epoch 286 =====\n"
     ]
    },
    {
     "name": "stderr",
     "output_type": "stream",
     "text": [
      "Epoch 286/500: 100%|██████████████████████████| 11/11 [00:00<00:00, 1504.61it/s]\n"
     ]
    },
    {
     "name": "stdout",
     "output_type": "stream",
     "text": [
      "Epoch 286, Loss: 31.2988, Recon: 18.2020, KL: 13.0968\n",
      "\n",
      "===== Epoch 287 =====\n"
     ]
    },
    {
     "name": "stderr",
     "output_type": "stream",
     "text": [
      "Epoch 287/500: 100%|██████████████████████████| 11/11 [00:00<00:00, 1491.91it/s]\n"
     ]
    },
    {
     "name": "stdout",
     "output_type": "stream",
     "text": [
      "Epoch 287, Loss: 31.3616, Recon: 18.2426, KL: 13.1190\n",
      "\n",
      "===== Epoch 288 =====\n"
     ]
    },
    {
     "name": "stderr",
     "output_type": "stream",
     "text": [
      "Epoch 288/500: 100%|██████████████████████████| 11/11 [00:00<00:00, 1489.89it/s]\n"
     ]
    },
    {
     "name": "stdout",
     "output_type": "stream",
     "text": [
      "Epoch 288, Loss: 31.2024, Recon: 18.1042, KL: 13.0982\n",
      "\n",
      "===== Epoch 289 =====\n"
     ]
    },
    {
     "name": "stderr",
     "output_type": "stream",
     "text": [
      "Epoch 289/500: 100%|██████████████████████████| 11/11 [00:00<00:00, 1470.18it/s]\n"
     ]
    },
    {
     "name": "stdout",
     "output_type": "stream",
     "text": [
      "Epoch 289, Loss: 31.3322, Recon: 18.2128, KL: 13.1194\n",
      "\n",
      "===== Epoch 290 =====\n"
     ]
    },
    {
     "name": "stderr",
     "output_type": "stream",
     "text": [
      "Epoch 290/500: 100%|██████████████████████████| 11/11 [00:00<00:00, 1522.43it/s]\n"
     ]
    },
    {
     "name": "stdout",
     "output_type": "stream",
     "text": [
      "Epoch 290, Loss: 31.2843, Recon: 18.2444, KL: 13.0399\n",
      "\n",
      "===== Epoch 291 =====\n"
     ]
    },
    {
     "name": "stderr",
     "output_type": "stream",
     "text": [
      "Epoch 291/500: 100%|██████████████████████████| 11/11 [00:00<00:00, 1416.99it/s]\n"
     ]
    },
    {
     "name": "stdout",
     "output_type": "stream",
     "text": [
      "Epoch 291, Loss: 31.5154, Recon: 18.3577, KL: 13.1578\n",
      "\n",
      "===== Epoch 292 =====\n"
     ]
    },
    {
     "name": "stderr",
     "output_type": "stream",
     "text": [
      "Epoch 292/500: 100%|██████████████████████████| 11/11 [00:00<00:00, 1459.67it/s]\n"
     ]
    },
    {
     "name": "stdout",
     "output_type": "stream",
     "text": [
      "Epoch 292, Loss: 31.1539, Recon: 17.9077, KL: 13.2463\n",
      "\n",
      "===== Epoch 293 =====\n"
     ]
    },
    {
     "name": "stderr",
     "output_type": "stream",
     "text": [
      "Epoch 293/500: 100%|██████████████████████████| 11/11 [00:00<00:00, 1453.05it/s]\n"
     ]
    },
    {
     "name": "stdout",
     "output_type": "stream",
     "text": [
      "Epoch 293, Loss: 31.2494, Recon: 18.1200, KL: 13.1294\n",
      "\n",
      "===== Epoch 294 =====\n"
     ]
    },
    {
     "name": "stderr",
     "output_type": "stream",
     "text": [
      "Epoch 294/500: 100%|██████████████████████████| 11/11 [00:00<00:00, 1460.04it/s]\n"
     ]
    },
    {
     "name": "stdout",
     "output_type": "stream",
     "text": [
      "Epoch 294, Loss: 31.1077, Recon: 17.9702, KL: 13.1376\n",
      "\n",
      "===== Epoch 295 =====\n"
     ]
    },
    {
     "name": "stderr",
     "output_type": "stream",
     "text": [
      "Epoch 295/500: 100%|██████████████████████████| 11/11 [00:00<00:00, 1421.80it/s]\n"
     ]
    },
    {
     "name": "stdout",
     "output_type": "stream",
     "text": [
      "Epoch 295, Loss: 31.4730, Recon: 18.4060, KL: 13.0670\n",
      "\n",
      "===== Epoch 296 =====\n"
     ]
    },
    {
     "name": "stderr",
     "output_type": "stream",
     "text": [
      "Epoch 296/500: 100%|██████████████████████████| 11/11 [00:00<00:00, 1436.41it/s]\n"
     ]
    },
    {
     "name": "stdout",
     "output_type": "stream",
     "text": [
      "Epoch 296, Loss: 31.3236, Recon: 18.1212, KL: 13.2024\n",
      "\n",
      "===== Epoch 297 =====\n"
     ]
    },
    {
     "name": "stderr",
     "output_type": "stream",
     "text": [
      "Epoch 297/500: 100%|██████████████████████████| 11/11 [00:00<00:00, 1226.83it/s]\n"
     ]
    },
    {
     "name": "stdout",
     "output_type": "stream",
     "text": [
      "Epoch 297, Loss: 31.1048, Recon: 17.9381, KL: 13.1667\n",
      "\n",
      "===== Epoch 298 =====\n"
     ]
    },
    {
     "name": "stderr",
     "output_type": "stream",
     "text": [
      "Epoch 298/500: 100%|██████████████████████████| 11/11 [00:00<00:00, 1432.61it/s]\n"
     ]
    },
    {
     "name": "stdout",
     "output_type": "stream",
     "text": [
      "Epoch 298, Loss: 30.9609, Recon: 17.8730, KL: 13.0879\n",
      "\n",
      "===== Epoch 299 =====\n"
     ]
    },
    {
     "name": "stderr",
     "output_type": "stream",
     "text": [
      "Epoch 299/500: 100%|██████████████████████████| 11/11 [00:00<00:00, 1423.95it/s]\n"
     ]
    },
    {
     "name": "stdout",
     "output_type": "stream",
     "text": [
      "Epoch 299, Loss: 31.3606, Recon: 18.2291, KL: 13.1315\n",
      "\n",
      "===== Epoch 300 =====\n"
     ]
    },
    {
     "name": "stderr",
     "output_type": "stream",
     "text": [
      "Epoch 300/500: 100%|██████████████████████████| 11/11 [00:00<00:00, 1433.06it/s]\n"
     ]
    },
    {
     "name": "stdout",
     "output_type": "stream",
     "text": [
      "Epoch 300, Loss: 31.3873, Recon: 18.1465, KL: 13.2408\n",
      "\n",
      "===== Epoch 301 =====\n"
     ]
    },
    {
     "name": "stderr",
     "output_type": "stream",
     "text": [
      "Epoch 301/500: 100%|██████████████████████████| 11/11 [00:00<00:00, 1437.12it/s]\n"
     ]
    },
    {
     "name": "stdout",
     "output_type": "stream",
     "text": [
      "Epoch 301, Loss: 31.4712, Recon: 18.2418, KL: 13.2293\n",
      "\n",
      "===== Epoch 302 =====\n"
     ]
    },
    {
     "name": "stderr",
     "output_type": "stream",
     "text": [
      "Epoch 302/500: 100%|██████████████████████████| 11/11 [00:00<00:00, 1460.23it/s]\n"
     ]
    },
    {
     "name": "stdout",
     "output_type": "stream",
     "text": [
      "Epoch 302, Loss: 31.0903, Recon: 17.7530, KL: 13.3372\n",
      "\n",
      "===== Epoch 303 =====\n"
     ]
    },
    {
     "name": "stderr",
     "output_type": "stream",
     "text": [
      "Epoch 303/500: 100%|██████████████████████████| 11/11 [00:00<00:00, 1502.70it/s]\n"
     ]
    },
    {
     "name": "stdout",
     "output_type": "stream",
     "text": [
      "Epoch 303, Loss: 31.4159, Recon: 18.1089, KL: 13.3070\n",
      "\n",
      "===== Epoch 304 =====\n"
     ]
    },
    {
     "name": "stderr",
     "output_type": "stream",
     "text": [
      "Epoch 304/500: 100%|██████████████████████████| 11/11 [00:00<00:00, 1454.79it/s]\n"
     ]
    },
    {
     "name": "stdout",
     "output_type": "stream",
     "text": [
      "Epoch 304, Loss: 31.1384, Recon: 17.8897, KL: 13.2487\n",
      "\n",
      "===== Epoch 305 =====\n"
     ]
    },
    {
     "name": "stderr",
     "output_type": "stream",
     "text": [
      "Epoch 305/500: 100%|██████████████████████████| 11/11 [00:00<00:00, 1436.99it/s]\n"
     ]
    },
    {
     "name": "stdout",
     "output_type": "stream",
     "text": [
      "Epoch 305, Loss: 31.2948, Recon: 18.0645, KL: 13.2303\n",
      "\n",
      "===== Epoch 306 =====\n"
     ]
    },
    {
     "name": "stderr",
     "output_type": "stream",
     "text": [
      "Epoch 306/500: 100%|██████████████████████████| 11/11 [00:00<00:00, 1457.00it/s]\n"
     ]
    },
    {
     "name": "stdout",
     "output_type": "stream",
     "text": [
      "Epoch 306, Loss: 30.9238, Recon: 17.7912, KL: 13.1326\n",
      "\n",
      "===== Epoch 307 =====\n"
     ]
    },
    {
     "name": "stderr",
     "output_type": "stream",
     "text": [
      "Epoch 307/500: 100%|██████████████████████████| 11/11 [00:00<00:00, 1464.31it/s]\n"
     ]
    },
    {
     "name": "stdout",
     "output_type": "stream",
     "text": [
      "Epoch 307, Loss: 30.9727, Recon: 17.9046, KL: 13.0681\n",
      "\n",
      "===== Epoch 308 =====\n"
     ]
    },
    {
     "name": "stderr",
     "output_type": "stream",
     "text": [
      "Epoch 308/500: 100%|██████████████████████████| 11/11 [00:00<00:00, 1449.26it/s]\n"
     ]
    },
    {
     "name": "stdout",
     "output_type": "stream",
     "text": [
      "Epoch 308, Loss: 31.0354, Recon: 17.9912, KL: 13.0442\n",
      "\n",
      "===== Epoch 309 =====\n"
     ]
    },
    {
     "name": "stderr",
     "output_type": "stream",
     "text": [
      "Epoch 309/500: 100%|██████████████████████████| 11/11 [00:00<00:00, 1202.06it/s]\n"
     ]
    },
    {
     "name": "stdout",
     "output_type": "stream",
     "text": [
      "Epoch 309, Loss: 31.1664, Recon: 18.0874, KL: 13.0790\n",
      "\n",
      "===== Epoch 310 =====\n"
     ]
    },
    {
     "name": "stderr",
     "output_type": "stream",
     "text": [
      "Epoch 310/500: 100%|██████████████████████████| 11/11 [00:00<00:00, 1444.91it/s]\n"
     ]
    },
    {
     "name": "stdout",
     "output_type": "stream",
     "text": [
      "Epoch 310, Loss: 31.1914, Recon: 18.1084, KL: 13.0829\n",
      "\n",
      "===== Epoch 311 =====\n"
     ]
    },
    {
     "name": "stderr",
     "output_type": "stream",
     "text": [
      "Epoch 311/500: 100%|██████████████████████████| 11/11 [00:00<00:00, 1408.95it/s]\n"
     ]
    },
    {
     "name": "stdout",
     "output_type": "stream",
     "text": [
      "Epoch 311, Loss: 31.0278, Recon: 17.8186, KL: 13.2092\n",
      "\n",
      "===== Epoch 312 =====\n"
     ]
    },
    {
     "name": "stderr",
     "output_type": "stream",
     "text": [
      "Epoch 312/500: 100%|██████████████████████████| 11/11 [00:00<00:00, 1432.70it/s]\n"
     ]
    },
    {
     "name": "stdout",
     "output_type": "stream",
     "text": [
      "Epoch 312, Loss: 31.2504, Recon: 18.0162, KL: 13.2342\n",
      "\n",
      "===== Epoch 313 =====\n"
     ]
    },
    {
     "name": "stderr",
     "output_type": "stream",
     "text": [
      "Epoch 313/500: 100%|██████████████████████████| 11/11 [00:00<00:00, 1447.72it/s]\n"
     ]
    },
    {
     "name": "stdout",
     "output_type": "stream",
     "text": [
      "Epoch 313, Loss: 30.9621, Recon: 17.5900, KL: 13.3720\n",
      "\n",
      "===== Epoch 314 =====\n"
     ]
    },
    {
     "name": "stderr",
     "output_type": "stream",
     "text": [
      "Epoch 314/500: 100%|██████████████████████████| 11/11 [00:00<00:00, 1324.72it/s]\n"
     ]
    },
    {
     "name": "stdout",
     "output_type": "stream",
     "text": [
      "Epoch 314, Loss: 31.0866, Recon: 17.7093, KL: 13.3773\n",
      "\n",
      "===== Epoch 315 =====\n"
     ]
    },
    {
     "name": "stderr",
     "output_type": "stream",
     "text": [
      "Epoch 315/500: 100%|██████████████████████████| 11/11 [00:00<00:00, 1048.50it/s]\n"
     ]
    },
    {
     "name": "stdout",
     "output_type": "stream",
     "text": [
      "Epoch 315, Loss: 30.9386, Recon: 17.7224, KL: 13.2162\n",
      "\n",
      "===== Epoch 316 =====\n"
     ]
    },
    {
     "name": "stderr",
     "output_type": "stream",
     "text": [
      "Epoch 316/500: 100%|██████████████████████████| 11/11 [00:00<00:00, 1424.70it/s]\n"
     ]
    },
    {
     "name": "stdout",
     "output_type": "stream",
     "text": [
      "Epoch 316, Loss: 31.0449, Recon: 17.9163, KL: 13.1286\n",
      "\n",
      "===== Epoch 317 =====\n"
     ]
    },
    {
     "name": "stderr",
     "output_type": "stream",
     "text": [
      "Epoch 317/500: 100%|██████████████████████████| 11/11 [00:00<00:00, 1479.85it/s]\n"
     ]
    },
    {
     "name": "stdout",
     "output_type": "stream",
     "text": [
      "Epoch 317, Loss: 30.8062, Recon: 17.6271, KL: 13.1791\n",
      "\n",
      "===== Epoch 318 =====\n"
     ]
    },
    {
     "name": "stderr",
     "output_type": "stream",
     "text": [
      "Epoch 318/500: 100%|██████████████████████████| 11/11 [00:00<00:00, 1472.34it/s]\n"
     ]
    },
    {
     "name": "stdout",
     "output_type": "stream",
     "text": [
      "Epoch 318, Loss: 30.8919, Recon: 17.7889, KL: 13.1031\n",
      "\n",
      "===== Epoch 319 =====\n"
     ]
    },
    {
     "name": "stderr",
     "output_type": "stream",
     "text": [
      "Epoch 319/500: 100%|██████████████████████████| 11/11 [00:00<00:00, 1451.82it/s]\n"
     ]
    },
    {
     "name": "stdout",
     "output_type": "stream",
     "text": [
      "Epoch 319, Loss: 30.7863, Recon: 17.7152, KL: 13.0710\n",
      "\n",
      "===== Epoch 320 =====\n"
     ]
    },
    {
     "name": "stderr",
     "output_type": "stream",
     "text": [
      "Epoch 320/500: 100%|██████████████████████████| 11/11 [00:00<00:00, 1432.48it/s]\n"
     ]
    },
    {
     "name": "stdout",
     "output_type": "stream",
     "text": [
      "Epoch 320, Loss: 31.0612, Recon: 17.9997, KL: 13.0616\n",
      "\n",
      "===== Epoch 321 =====\n"
     ]
    },
    {
     "name": "stderr",
     "output_type": "stream",
     "text": [
      "Epoch 321/500: 100%|██████████████████████████| 11/11 [00:00<00:00, 1465.47it/s]\n"
     ]
    },
    {
     "name": "stdout",
     "output_type": "stream",
     "text": [
      "Epoch 321, Loss: 30.8472, Recon: 17.7182, KL: 13.1289\n",
      "\n",
      "===== Epoch 322 =====\n"
     ]
    },
    {
     "name": "stderr",
     "output_type": "stream",
     "text": [
      "Epoch 322/500: 100%|██████████████████████████| 11/11 [00:00<00:00, 1442.24it/s]\n"
     ]
    },
    {
     "name": "stdout",
     "output_type": "stream",
     "text": [
      "Epoch 322, Loss: 30.8536, Recon: 17.7142, KL: 13.1395\n",
      "\n",
      "===== Epoch 323 =====\n"
     ]
    },
    {
     "name": "stderr",
     "output_type": "stream",
     "text": [
      "Epoch 323/500: 100%|██████████████████████████| 11/11 [00:00<00:00, 1215.32it/s]\n"
     ]
    },
    {
     "name": "stdout",
     "output_type": "stream",
     "text": [
      "Epoch 323, Loss: 30.7818, Recon: 17.7426, KL: 13.0392\n",
      "\n",
      "===== Epoch 324 =====\n"
     ]
    },
    {
     "name": "stderr",
     "output_type": "stream",
     "text": [
      "Epoch 324/500: 100%|██████████████████████████| 11/11 [00:00<00:00, 1312.36it/s]\n"
     ]
    },
    {
     "name": "stdout",
     "output_type": "stream",
     "text": [
      "Epoch 324, Loss: 31.2081, Recon: 18.1765, KL: 13.0316\n",
      "\n",
      "===== Epoch 325 =====\n"
     ]
    },
    {
     "name": "stderr",
     "output_type": "stream",
     "text": [
      "Epoch 325/500: 100%|██████████████████████████| 11/11 [00:00<00:00, 1208.67it/s]\n"
     ]
    },
    {
     "name": "stdout",
     "output_type": "stream",
     "text": [
      "Epoch 325, Loss: 30.8972, Recon: 17.7108, KL: 13.1865\n",
      "\n",
      "===== Epoch 326 =====\n"
     ]
    },
    {
     "name": "stderr",
     "output_type": "stream",
     "text": [
      "Epoch 326/500: 100%|██████████████████████████| 11/11 [00:00<00:00, 1439.41it/s]\n"
     ]
    },
    {
     "name": "stdout",
     "output_type": "stream",
     "text": [
      "Epoch 326, Loss: 30.9374, Recon: 17.7236, KL: 13.2139\n",
      "\n",
      "===== Epoch 327 =====\n"
     ]
    },
    {
     "name": "stderr",
     "output_type": "stream",
     "text": [
      "Epoch 327/500: 100%|██████████████████████████| 11/11 [00:00<00:00, 1455.07it/s]\n"
     ]
    },
    {
     "name": "stdout",
     "output_type": "stream",
     "text": [
      "Epoch 327, Loss: 30.9124, Recon: 17.6556, KL: 13.2568\n",
      "\n",
      "===== Epoch 328 =====\n"
     ]
    },
    {
     "name": "stderr",
     "output_type": "stream",
     "text": [
      "Epoch 328/500: 100%|██████████████████████████| 11/11 [00:00<00:00, 1408.60it/s]\n"
     ]
    },
    {
     "name": "stdout",
     "output_type": "stream",
     "text": [
      "Epoch 328, Loss: 30.7525, Recon: 17.4741, KL: 13.2784\n",
      "\n",
      "===== Epoch 329 =====\n"
     ]
    },
    {
     "name": "stderr",
     "output_type": "stream",
     "text": [
      "Epoch 329/500: 100%|██████████████████████████| 11/11 [00:00<00:00, 1422.28it/s]\n"
     ]
    },
    {
     "name": "stdout",
     "output_type": "stream",
     "text": [
      "Epoch 329, Loss: 30.8766, Recon: 17.6958, KL: 13.1809\n",
      "\n",
      "===== Epoch 330 =====\n"
     ]
    },
    {
     "name": "stderr",
     "output_type": "stream",
     "text": [
      "Epoch 330/500: 100%|██████████████████████████| 11/11 [00:00<00:00, 1010.28it/s]\n"
     ]
    },
    {
     "name": "stdout",
     "output_type": "stream",
     "text": [
      "Epoch 330, Loss: 30.9181, Recon: 17.7092, KL: 13.2089\n",
      "\n",
      "===== Epoch 331 =====\n"
     ]
    },
    {
     "name": "stderr",
     "output_type": "stream",
     "text": [
      "Epoch 331/500: 100%|██████████████████████████| 11/11 [00:00<00:00, 1016.91it/s]\n"
     ]
    },
    {
     "name": "stdout",
     "output_type": "stream",
     "text": [
      "Epoch 331, Loss: 30.8023, Recon: 17.5575, KL: 13.2447\n",
      "\n",
      "===== Epoch 332 =====\n"
     ]
    },
    {
     "name": "stderr",
     "output_type": "stream",
     "text": [
      "Epoch 332/500: 100%|██████████████████████████| 11/11 [00:00<00:00, 1443.01it/s]\n"
     ]
    },
    {
     "name": "stdout",
     "output_type": "stream",
     "text": [
      "Epoch 332, Loss: 30.9106, Recon: 17.6947, KL: 13.2159\n",
      "\n",
      "===== Epoch 333 =====\n"
     ]
    },
    {
     "name": "stderr",
     "output_type": "stream",
     "text": [
      "Epoch 333/500: 100%|██████████████████████████| 11/11 [00:00<00:00, 1446.63it/s]\n"
     ]
    },
    {
     "name": "stdout",
     "output_type": "stream",
     "text": [
      "Epoch 333, Loss: 30.7169, Recon: 17.5512, KL: 13.1657\n",
      "\n",
      "===== Epoch 334 =====\n"
     ]
    },
    {
     "name": "stderr",
     "output_type": "stream",
     "text": [
      "Epoch 334/500: 100%|██████████████████████████| 11/11 [00:00<00:00, 1441.25it/s]\n"
     ]
    },
    {
     "name": "stdout",
     "output_type": "stream",
     "text": [
      "Epoch 334, Loss: 30.8043, Recon: 17.6287, KL: 13.1756\n",
      "\n",
      "===== Epoch 335 =====\n"
     ]
    },
    {
     "name": "stderr",
     "output_type": "stream",
     "text": [
      "Epoch 335/500: 100%|██████████████████████████| 11/11 [00:00<00:00, 1455.85it/s]\n"
     ]
    },
    {
     "name": "stdout",
     "output_type": "stream",
     "text": [
      "Epoch 335, Loss: 30.6812, Recon: 17.4513, KL: 13.2298\n",
      "\n",
      "===== Epoch 336 =====\n"
     ]
    },
    {
     "name": "stderr",
     "output_type": "stream",
     "text": [
      "Epoch 336/500: 100%|██████████████████████████| 11/11 [00:00<00:00, 1503.73it/s]\n"
     ]
    },
    {
     "name": "stdout",
     "output_type": "stream",
     "text": [
      "Epoch 336, Loss: 30.7902, Recon: 17.6475, KL: 13.1427\n",
      "\n",
      "===== Epoch 337 =====\n"
     ]
    },
    {
     "name": "stderr",
     "output_type": "stream",
     "text": [
      "Epoch 337/500: 100%|██████████████████████████| 11/11 [00:00<00:00, 1432.48it/s]\n"
     ]
    },
    {
     "name": "stdout",
     "output_type": "stream",
     "text": [
      "Epoch 337, Loss: 31.0523, Recon: 17.9496, KL: 13.1027\n",
      "\n",
      "===== Epoch 338 =====\n"
     ]
    },
    {
     "name": "stderr",
     "output_type": "stream",
     "text": [
      "Epoch 338/500: 100%|██████████████████████████| 11/11 [00:00<00:00, 1464.31it/s]\n"
     ]
    },
    {
     "name": "stdout",
     "output_type": "stream",
     "text": [
      "Epoch 338, Loss: 30.9035, Recon: 17.6588, KL: 13.2447\n",
      "\n",
      "===== Epoch 339 =====\n"
     ]
    },
    {
     "name": "stderr",
     "output_type": "stream",
     "text": [
      "Epoch 339/500: 100%|██████████████████████████| 11/11 [00:00<00:00, 1228.53it/s]\n"
     ]
    },
    {
     "name": "stdout",
     "output_type": "stream",
     "text": [
      "Epoch 339, Loss: 30.6199, Recon: 17.2802, KL: 13.3397\n",
      "\n",
      "===== Epoch 340 =====\n"
     ]
    },
    {
     "name": "stderr",
     "output_type": "stream",
     "text": [
      "Epoch 340/500: 100%|███████████████████████████| 11/11 [00:00<00:00, 957.86it/s]\n"
     ]
    },
    {
     "name": "stdout",
     "output_type": "stream",
     "text": [
      "Epoch 340, Loss: 30.5648, Recon: 17.2361, KL: 13.3287\n",
      "\n",
      "===== Epoch 341 =====\n"
     ]
    },
    {
     "name": "stderr",
     "output_type": "stream",
     "text": [
      "Epoch 341/500: 100%|██████████████████████████| 11/11 [00:00<00:00, 1250.81it/s]\n"
     ]
    },
    {
     "name": "stdout",
     "output_type": "stream",
     "text": [
      "Epoch 341, Loss: 30.8708, Recon: 17.6806, KL: 13.1902\n",
      "\n",
      "===== Epoch 342 =====\n"
     ]
    },
    {
     "name": "stderr",
     "output_type": "stream",
     "text": [
      "Epoch 342/500: 100%|██████████████████████████| 11/11 [00:00<00:00, 1285.09it/s]\n"
     ]
    },
    {
     "name": "stdout",
     "output_type": "stream",
     "text": [
      "Epoch 342, Loss: 30.7212, Recon: 17.5117, KL: 13.2095\n",
      "\n",
      "===== Epoch 343 =====\n"
     ]
    },
    {
     "name": "stderr",
     "output_type": "stream",
     "text": [
      "Epoch 343/500: 100%|██████████████████████████| 11/11 [00:00<00:00, 1365.29it/s]\n"
     ]
    },
    {
     "name": "stdout",
     "output_type": "stream",
     "text": [
      "Epoch 343, Loss: 30.8903, Recon: 17.6912, KL: 13.1991\n",
      "\n",
      "===== Epoch 344 =====\n"
     ]
    },
    {
     "name": "stderr",
     "output_type": "stream",
     "text": [
      "Epoch 344/500: 100%|██████████████████████████| 11/11 [00:00<00:00, 1491.91it/s]\n"
     ]
    },
    {
     "name": "stdout",
     "output_type": "stream",
     "text": [
      "Epoch 344, Loss: 30.8242, Recon: 17.4814, KL: 13.3428\n",
      "\n",
      "===== Epoch 345 =====\n"
     ]
    },
    {
     "name": "stderr",
     "output_type": "stream",
     "text": [
      "Epoch 345/500: 100%|██████████████████████████| 11/11 [00:00<00:00, 1361.71it/s]\n"
     ]
    },
    {
     "name": "stdout",
     "output_type": "stream",
     "text": [
      "Epoch 345, Loss: 30.7180, Recon: 17.4422, KL: 13.2758\n",
      "\n",
      "===== Epoch 346 =====\n"
     ]
    },
    {
     "name": "stderr",
     "output_type": "stream",
     "text": [
      "Epoch 346/500: 100%|██████████████████████████| 11/11 [00:00<00:00, 1409.72it/s]\n"
     ]
    },
    {
     "name": "stdout",
     "output_type": "stream",
     "text": [
      "Epoch 346, Loss: 30.6561, Recon: 17.3889, KL: 13.2672\n",
      "\n",
      "===== Epoch 347 =====\n"
     ]
    },
    {
     "name": "stderr",
     "output_type": "stream",
     "text": [
      "Epoch 347/500: 100%|██████████████████████████| 11/11 [00:00<00:00, 1427.47it/s]\n"
     ]
    },
    {
     "name": "stdout",
     "output_type": "stream",
     "text": [
      "Epoch 347, Loss: 30.6816, Recon: 17.4200, KL: 13.2615\n",
      "\n",
      "===== Epoch 348 =====\n"
     ]
    },
    {
     "name": "stderr",
     "output_type": "stream",
     "text": [
      "Epoch 348/500: 100%|██████████████████████████| 11/11 [00:00<00:00, 1488.69it/s]\n"
     ]
    },
    {
     "name": "stdout",
     "output_type": "stream",
     "text": [
      "Epoch 348, Loss: 30.7070, Recon: 17.5075, KL: 13.1995\n",
      "\n",
      "===== Epoch 349 =====\n"
     ]
    },
    {
     "name": "stderr",
     "output_type": "stream",
     "text": [
      "Epoch 349/500: 100%|██████████████████████████| 11/11 [00:00<00:00, 1385.80it/s]\n"
     ]
    },
    {
     "name": "stdout",
     "output_type": "stream",
     "text": [
      "Epoch 349, Loss: 30.6006, Recon: 17.3403, KL: 13.2603\n",
      "\n",
      "===== Epoch 350 =====\n"
     ]
    },
    {
     "name": "stderr",
     "output_type": "stream",
     "text": [
      "Epoch 350/500: 100%|██████████████████████████| 11/11 [00:00<00:00, 1436.41it/s]\n"
     ]
    },
    {
     "name": "stdout",
     "output_type": "stream",
     "text": [
      "Epoch 350, Loss: 30.6034, Recon: 17.3187, KL: 13.2847\n",
      "\n",
      "===== Epoch 351 =====\n"
     ]
    },
    {
     "name": "stderr",
     "output_type": "stream",
     "text": [
      "Epoch 351/500: 100%|██████████████████████████| 11/11 [00:00<00:00, 1437.57it/s]\n"
     ]
    },
    {
     "name": "stdout",
     "output_type": "stream",
     "text": [
      "Epoch 351, Loss: 30.7282, Recon: 17.4182, KL: 13.3100\n",
      "\n",
      "===== Epoch 352 =====\n"
     ]
    },
    {
     "name": "stderr",
     "output_type": "stream",
     "text": [
      "Epoch 352/500: 100%|██████████████████████████| 11/11 [00:00<00:00, 1253.87it/s]\n"
     ]
    },
    {
     "name": "stdout",
     "output_type": "stream",
     "text": [
      "Epoch 352, Loss: 30.5503, Recon: 17.3119, KL: 13.2383\n",
      "\n",
      "===== Epoch 353 =====\n"
     ]
    },
    {
     "name": "stderr",
     "output_type": "stream",
     "text": [
      "Epoch 353/500: 100%|██████████████████████████| 11/11 [00:00<00:00, 1159.84it/s]\n"
     ]
    },
    {
     "name": "stdout",
     "output_type": "stream",
     "text": [
      "Epoch 353, Loss: 30.7909, Recon: 17.5913, KL: 13.1996\n",
      "\n",
      "===== Epoch 354 =====\n"
     ]
    },
    {
     "name": "stderr",
     "output_type": "stream",
     "text": [
      "Epoch 354/500: 100%|██████████████████████████| 11/11 [00:00<00:00, 1313.41it/s]\n"
     ]
    },
    {
     "name": "stdout",
     "output_type": "stream",
     "text": [
      "Epoch 354, Loss: 30.5708, Recon: 17.3185, KL: 13.2524\n",
      "\n",
      "===== Epoch 355 =====\n"
     ]
    },
    {
     "name": "stderr",
     "output_type": "stream",
     "text": [
      "Epoch 355/500: 100%|██████████████████████████| 11/11 [00:00<00:00, 1332.33it/s]\n"
     ]
    },
    {
     "name": "stdout",
     "output_type": "stream",
     "text": [
      "Epoch 355, Loss: 30.6279, Recon: 17.3487, KL: 13.2792\n",
      "\n",
      "===== Epoch 356 =====\n"
     ]
    },
    {
     "name": "stderr",
     "output_type": "stream",
     "text": [
      "Epoch 356/500: 100%|██████████████████████████| 11/11 [00:00<00:00, 1339.18it/s]\n"
     ]
    },
    {
     "name": "stdout",
     "output_type": "stream",
     "text": [
      "Epoch 356, Loss: 30.5292, Recon: 17.2481, KL: 13.2810\n",
      "\n",
      "===== Epoch 357 =====\n"
     ]
    },
    {
     "name": "stderr",
     "output_type": "stream",
     "text": [
      "Epoch 357/500: 100%|██████████████████████████| 11/11 [00:00<00:00, 1455.99it/s]\n"
     ]
    },
    {
     "name": "stdout",
     "output_type": "stream",
     "text": [
      "Epoch 357, Loss: 30.5202, Recon: 17.3510, KL: 13.1692\n",
      "\n",
      "===== Epoch 358 =====\n"
     ]
    },
    {
     "name": "stderr",
     "output_type": "stream",
     "text": [
      "Epoch 358/500: 100%|██████████████████████████| 11/11 [00:00<00:00, 1412.96it/s]\n"
     ]
    },
    {
     "name": "stdout",
     "output_type": "stream",
     "text": [
      "Epoch 358, Loss: 30.8174, Recon: 17.6827, KL: 13.1347\n",
      "\n",
      "===== Epoch 359 =====\n"
     ]
    },
    {
     "name": "stderr",
     "output_type": "stream",
     "text": [
      "Epoch 359/500: 100%|██████████████████████████| 11/11 [00:00<00:00, 1461.62it/s]\n"
     ]
    },
    {
     "name": "stdout",
     "output_type": "stream",
     "text": [
      "Epoch 359, Loss: 30.7727, Recon: 17.4338, KL: 13.3389\n",
      "\n",
      "===== Epoch 360 =====\n"
     ]
    },
    {
     "name": "stderr",
     "output_type": "stream",
     "text": [
      "Epoch 360/500: 100%|██████████████████████████| 11/11 [00:00<00:00, 1450.95it/s]\n"
     ]
    },
    {
     "name": "stdout",
     "output_type": "stream",
     "text": [
      "Epoch 360, Loss: 30.5562, Recon: 17.1950, KL: 13.3611\n",
      "\n",
      "===== Epoch 361 =====\n"
     ]
    },
    {
     "name": "stderr",
     "output_type": "stream",
     "text": [
      "Epoch 361/500: 100%|██████████████████████████| 11/11 [00:00<00:00, 1372.40it/s]\n"
     ]
    },
    {
     "name": "stdout",
     "output_type": "stream",
     "text": [
      "Epoch 361, Loss: 30.5057, Recon: 17.1834, KL: 13.3224\n",
      "\n",
      "===== Epoch 362 =====\n"
     ]
    },
    {
     "name": "stderr",
     "output_type": "stream",
     "text": [
      "Epoch 362/500: 100%|██████████████████████████| 11/11 [00:00<00:00, 1260.14it/s]\n"
     ]
    },
    {
     "name": "stdout",
     "output_type": "stream",
     "text": [
      "Epoch 362, Loss: 30.5016, Recon: 17.3027, KL: 13.1988\n",
      "\n",
      "===== Epoch 363 =====\n"
     ]
    },
    {
     "name": "stderr",
     "output_type": "stream",
     "text": [
      "Epoch 363/500: 100%|██████████████████████████| 11/11 [00:00<00:00, 1420.83it/s]\n"
     ]
    },
    {
     "name": "stdout",
     "output_type": "stream",
     "text": [
      "Epoch 363, Loss: 30.7430, Recon: 17.4708, KL: 13.2722\n",
      "\n",
      "===== Epoch 364 =====\n"
     ]
    },
    {
     "name": "stderr",
     "output_type": "stream",
     "text": [
      "Epoch 364/500: 100%|██████████████████████████| 11/11 [00:00<00:00, 1435.65it/s]\n"
     ]
    },
    {
     "name": "stdout",
     "output_type": "stream",
     "text": [
      "Epoch 364, Loss: 30.3938, Recon: 17.0495, KL: 13.3444\n",
      "\n",
      "===== Epoch 365 =====\n"
     ]
    },
    {
     "name": "stderr",
     "output_type": "stream",
     "text": [
      "Epoch 365/500: 100%|██████████████████████████| 11/11 [00:00<00:00, 1351.97it/s]\n"
     ]
    },
    {
     "name": "stdout",
     "output_type": "stream",
     "text": [
      "Epoch 365, Loss: 30.6455, Recon: 17.3639, KL: 13.2816\n",
      "\n",
      "===== Epoch 366 =====\n"
     ]
    },
    {
     "name": "stderr",
     "output_type": "stream",
     "text": [
      "Epoch 366/500: 100%|██████████████████████████| 11/11 [00:00<00:00, 1484.90it/s]\n"
     ]
    },
    {
     "name": "stdout",
     "output_type": "stream",
     "text": [
      "Epoch 366, Loss: 30.5612, Recon: 17.2839, KL: 13.2773\n",
      "\n",
      "===== Epoch 367 =====\n"
     ]
    },
    {
     "name": "stderr",
     "output_type": "stream",
     "text": [
      "Epoch 367/500: 100%|██████████████████████████| 11/11 [00:00<00:00, 1435.82it/s]\n"
     ]
    },
    {
     "name": "stdout",
     "output_type": "stream",
     "text": [
      "Epoch 367, Loss: 30.6249, Recon: 17.3010, KL: 13.3239\n",
      "\n",
      "===== Epoch 368 =====\n"
     ]
    },
    {
     "name": "stderr",
     "output_type": "stream",
     "text": [
      "Epoch 368/500: 100%|██████████████████████████| 11/11 [00:00<00:00, 1446.63it/s]\n"
     ]
    },
    {
     "name": "stdout",
     "output_type": "stream",
     "text": [
      "Epoch 368, Loss: 30.4280, Recon: 17.1620, KL: 13.2660\n",
      "\n",
      "===== Epoch 369 =====\n"
     ]
    },
    {
     "name": "stderr",
     "output_type": "stream",
     "text": [
      "Epoch 369/500: 100%|██████████████████████████| 11/11 [00:00<00:00, 1465.89it/s]\n"
     ]
    },
    {
     "name": "stdout",
     "output_type": "stream",
     "text": [
      "Epoch 369, Loss: 30.7415, Recon: 17.4666, KL: 13.2749\n",
      "\n",
      "===== Epoch 370 =====\n"
     ]
    },
    {
     "name": "stderr",
     "output_type": "stream",
     "text": [
      "Epoch 370/500: 100%|██████████████████████████| 11/11 [00:00<00:00, 1474.32it/s]\n"
     ]
    },
    {
     "name": "stdout",
     "output_type": "stream",
     "text": [
      "Epoch 370, Loss: 30.4336, Recon: 17.0083, KL: 13.4253\n",
      "\n",
      "===== Epoch 371 =====\n"
     ]
    },
    {
     "name": "stderr",
     "output_type": "stream",
     "text": [
      "Epoch 371/500: 100%|██████████████████████████| 11/11 [00:00<00:00, 1434.17it/s]\n"
     ]
    },
    {
     "name": "stdout",
     "output_type": "stream",
     "text": [
      "Epoch 371, Loss: 30.3768, Recon: 17.0592, KL: 13.3176\n",
      "\n",
      "===== Epoch 372 =====\n"
     ]
    },
    {
     "name": "stderr",
     "output_type": "stream",
     "text": [
      "Epoch 372/500: 100%|██████████████████████████| 11/11 [00:00<00:00, 1458.89it/s]\n"
     ]
    },
    {
     "name": "stdout",
     "output_type": "stream",
     "text": [
      "Epoch 372, Loss: 30.6175, Recon: 17.4128, KL: 13.2047\n",
      "\n",
      "===== Epoch 373 =====\n"
     ]
    },
    {
     "name": "stderr",
     "output_type": "stream",
     "text": [
      "Epoch 373/500: 100%|██████████████████████████| 11/11 [00:00<00:00, 1439.45it/s]\n"
     ]
    },
    {
     "name": "stdout",
     "output_type": "stream",
     "text": [
      "Epoch 373, Loss: 30.5663, Recon: 17.1594, KL: 13.4068\n",
      "\n",
      "===== Epoch 374 =====\n"
     ]
    },
    {
     "name": "stderr",
     "output_type": "stream",
     "text": [
      "Epoch 374/500: 100%|██████████████████████████| 11/11 [00:00<00:00, 1350.03it/s]\n"
     ]
    },
    {
     "name": "stdout",
     "output_type": "stream",
     "text": [
      "Epoch 374, Loss: 30.3362, Recon: 17.0166, KL: 13.3196\n",
      "\n",
      "===== Epoch 375 =====\n"
     ]
    },
    {
     "name": "stderr",
     "output_type": "stream",
     "text": [
      "Epoch 375/500: 100%|██████████████████████████| 11/11 [00:00<00:00, 1296.43it/s]\n"
     ]
    },
    {
     "name": "stdout",
     "output_type": "stream",
     "text": [
      "Epoch 375, Loss: 30.5444, Recon: 17.2556, KL: 13.2888\n",
      "\n",
      "===== Epoch 376 =====\n"
     ]
    },
    {
     "name": "stderr",
     "output_type": "stream",
     "text": [
      "Epoch 376/500: 100%|██████████████████████████| 11/11 [00:00<00:00, 1303.35it/s]\n"
     ]
    },
    {
     "name": "stdout",
     "output_type": "stream",
     "text": [
      "Epoch 376, Loss: 30.4258, Recon: 17.1365, KL: 13.2893\n",
      "\n",
      "===== Epoch 377 =====\n"
     ]
    },
    {
     "name": "stderr",
     "output_type": "stream",
     "text": [
      "Epoch 377/500: 100%|██████████████████████████| 11/11 [00:00<00:00, 1198.00it/s]\n"
     ]
    },
    {
     "name": "stdout",
     "output_type": "stream",
     "text": [
      "Epoch 377, Loss: 30.4101, Recon: 17.1720, KL: 13.2382\n",
      "\n",
      "===== Epoch 378 =====\n"
     ]
    },
    {
     "name": "stderr",
     "output_type": "stream",
     "text": [
      "Epoch 378/500: 100%|██████████████████████████| 11/11 [00:00<00:00, 1407.74it/s]\n"
     ]
    },
    {
     "name": "stdout",
     "output_type": "stream",
     "text": [
      "Epoch 378, Loss: 30.3590, Recon: 17.0828, KL: 13.2763\n",
      "\n",
      "===== Epoch 379 =====\n"
     ]
    },
    {
     "name": "stderr",
     "output_type": "stream",
     "text": [
      "Epoch 379/500: 100%|██████████████████████████| 11/11 [00:00<00:00, 1444.73it/s]\n"
     ]
    },
    {
     "name": "stdout",
     "output_type": "stream",
     "text": [
      "Epoch 379, Loss: 30.4807, Recon: 17.2180, KL: 13.2627\n",
      "\n",
      "===== Epoch 380 =====\n"
     ]
    },
    {
     "name": "stderr",
     "output_type": "stream",
     "text": [
      "Epoch 380/500: 100%|██████████████████████████| 11/11 [00:00<00:00, 1421.97it/s]\n"
     ]
    },
    {
     "name": "stdout",
     "output_type": "stream",
     "text": [
      "Epoch 380, Loss: 30.2339, Recon: 16.9619, KL: 13.2720\n",
      "\n",
      "===== Epoch 381 =====\n"
     ]
    },
    {
     "name": "stderr",
     "output_type": "stream",
     "text": [
      "Epoch 381/500: 100%|██████████████████████████| 11/11 [00:00<00:00, 1239.29it/s]\n"
     ]
    },
    {
     "name": "stdout",
     "output_type": "stream",
     "text": [
      "Epoch 381, Loss: 30.2781, Recon: 17.1080, KL: 13.1701\n",
      "\n",
      "===== Epoch 382 =====\n"
     ]
    },
    {
     "name": "stderr",
     "output_type": "stream",
     "text": [
      "Epoch 382/500: 100%|██████████████████████████| 11/11 [00:00<00:00, 1405.21it/s]\n"
     ]
    },
    {
     "name": "stdout",
     "output_type": "stream",
     "text": [
      "Epoch 382, Loss: 30.2785, Recon: 17.1554, KL: 13.1231\n",
      "\n",
      "===== Epoch 383 =====\n"
     ]
    },
    {
     "name": "stderr",
     "output_type": "stream",
     "text": [
      "Epoch 383/500: 100%|██████████████████████████| 11/11 [00:00<00:00, 1443.78it/s]\n"
     ]
    },
    {
     "name": "stdout",
     "output_type": "stream",
     "text": [
      "Epoch 383, Loss: 30.2883, Recon: 17.1016, KL: 13.1868\n",
      "\n",
      "===== Epoch 384 =====\n"
     ]
    },
    {
     "name": "stderr",
     "output_type": "stream",
     "text": [
      "Epoch 384/500: 100%|██████████████████████████| 11/11 [00:00<00:00, 1427.87it/s]\n"
     ]
    },
    {
     "name": "stdout",
     "output_type": "stream",
     "text": [
      "Epoch 384, Loss: 30.6023, Recon: 17.3568, KL: 13.2455\n",
      "\n",
      "===== Epoch 385 =====\n"
     ]
    },
    {
     "name": "stderr",
     "output_type": "stream",
     "text": [
      "Epoch 385/500: 100%|██████████████████████████| 11/11 [00:00<00:00, 1436.23it/s]\n"
     ]
    },
    {
     "name": "stdout",
     "output_type": "stream",
     "text": [
      "Epoch 385, Loss: 30.1994, Recon: 16.9008, KL: 13.2985\n",
      "\n",
      "===== Epoch 386 =====\n"
     ]
    },
    {
     "name": "stderr",
     "output_type": "stream",
     "text": [
      "Epoch 386/500: 100%|██████████████████████████| 11/11 [00:00<00:00, 1460.83it/s]\n"
     ]
    },
    {
     "name": "stdout",
     "output_type": "stream",
     "text": [
      "Epoch 386, Loss: 30.4093, Recon: 17.0748, KL: 13.3344\n",
      "\n",
      "===== Epoch 387 =====\n"
     ]
    },
    {
     "name": "stderr",
     "output_type": "stream",
     "text": [
      "Epoch 387/500: 100%|██████████████████████████| 11/11 [00:00<00:00, 1446.77it/s]\n"
     ]
    },
    {
     "name": "stdout",
     "output_type": "stream",
     "text": [
      "Epoch 387, Loss: 30.5782, Recon: 17.2096, KL: 13.3686\n",
      "\n",
      "===== Epoch 388 =====\n"
     ]
    },
    {
     "name": "stderr",
     "output_type": "stream",
     "text": [
      "Epoch 388/500: 100%|██████████████████████████| 11/11 [00:00<00:00, 1462.59it/s]\n"
     ]
    },
    {
     "name": "stdout",
     "output_type": "stream",
     "text": [
      "Epoch 388, Loss: 30.1868, Recon: 16.7794, KL: 13.4074\n",
      "\n",
      "===== Epoch 389 =====\n"
     ]
    },
    {
     "name": "stderr",
     "output_type": "stream",
     "text": [
      "Epoch 389/500: 100%|██████████████████████████| 11/11 [00:00<00:00, 1469.01it/s]\n"
     ]
    },
    {
     "name": "stdout",
     "output_type": "stream",
     "text": [
      "Epoch 389, Loss: 30.1568, Recon: 16.8822, KL: 13.2746\n",
      "\n",
      "===== Epoch 390 =====\n"
     ]
    },
    {
     "name": "stderr",
     "output_type": "stream",
     "text": [
      "Epoch 390/500: 100%|██████████████████████████| 11/11 [00:00<00:00, 1452.14it/s]\n"
     ]
    },
    {
     "name": "stdout",
     "output_type": "stream",
     "text": [
      "Epoch 390, Loss: 30.4185, Recon: 17.1851, KL: 13.2335\n",
      "\n",
      "===== Epoch 391 =====\n"
     ]
    },
    {
     "name": "stderr",
     "output_type": "stream",
     "text": [
      "Epoch 391/500: 100%|██████████████████████████| 11/11 [00:00<00:00, 1298.07it/s]\n"
     ]
    },
    {
     "name": "stdout",
     "output_type": "stream",
     "text": [
      "Epoch 391, Loss: 30.1953, Recon: 16.9059, KL: 13.2894\n",
      "\n",
      "===== Epoch 392 =====\n"
     ]
    },
    {
     "name": "stderr",
     "output_type": "stream",
     "text": [
      "Epoch 392/500: 100%|██████████████████████████| 11/11 [00:00<00:00, 1340.15it/s]\n"
     ]
    },
    {
     "name": "stdout",
     "output_type": "stream",
     "text": [
      "Epoch 392, Loss: 30.2089, Recon: 16.9255, KL: 13.2834\n",
      "\n",
      "===== Epoch 393 =====\n"
     ]
    },
    {
     "name": "stderr",
     "output_type": "stream",
     "text": [
      "Epoch 393/500: 100%|██████████████████████████| 11/11 [00:00<00:00, 1330.95it/s]\n"
     ]
    },
    {
     "name": "stdout",
     "output_type": "stream",
     "text": [
      "Epoch 393, Loss: 30.1952, Recon: 16.9350, KL: 13.2603\n",
      "\n",
      "===== Epoch 394 =====\n"
     ]
    },
    {
     "name": "stderr",
     "output_type": "stream",
     "text": [
      "Epoch 394/500: 100%|██████████████████████████| 11/11 [00:00<00:00, 1263.07it/s]\n"
     ]
    },
    {
     "name": "stdout",
     "output_type": "stream",
     "text": [
      "Epoch 394, Loss: 30.3730, Recon: 17.0373, KL: 13.3357\n",
      "\n",
      "===== Epoch 395 =====\n"
     ]
    },
    {
     "name": "stderr",
     "output_type": "stream",
     "text": [
      "Epoch 395/500: 100%|██████████████████████████| 11/11 [00:00<00:00, 1189.05it/s]\n"
     ]
    },
    {
     "name": "stdout",
     "output_type": "stream",
     "text": [
      "Epoch 395, Loss: 30.2093, Recon: 16.8186, KL: 13.3907\n",
      "\n",
      "===== Epoch 396 =====\n"
     ]
    },
    {
     "name": "stderr",
     "output_type": "stream",
     "text": [
      "Epoch 396/500: 100%|██████████████████████████| 11/11 [00:00<00:00, 1448.35it/s]\n"
     ]
    },
    {
     "name": "stdout",
     "output_type": "stream",
     "text": [
      "Epoch 396, Loss: 30.2319, Recon: 16.8842, KL: 13.3477\n",
      "\n",
      "===== Epoch 397 =====\n"
     ]
    },
    {
     "name": "stderr",
     "output_type": "stream",
     "text": [
      "Epoch 397/500: 100%|██████████████████████████| 11/11 [00:00<00:00, 1423.95it/s]\n"
     ]
    },
    {
     "name": "stdout",
     "output_type": "stream",
     "text": [
      "Epoch 397, Loss: 30.3872, Recon: 17.0675, KL: 13.3197\n",
      "\n",
      "===== Epoch 398 =====\n"
     ]
    },
    {
     "name": "stderr",
     "output_type": "stream",
     "text": [
      "Epoch 398/500: 100%|██████████████████████████| 11/11 [00:00<00:00, 1368.17it/s]\n"
     ]
    },
    {
     "name": "stdout",
     "output_type": "stream",
     "text": [
      "Epoch 398, Loss: 30.2436, Recon: 16.9900, KL: 13.2535\n",
      "\n",
      "===== Epoch 399 =====\n"
     ]
    },
    {
     "name": "stderr",
     "output_type": "stream",
     "text": [
      "Epoch 399/500: 100%|██████████████████████████| 11/11 [00:00<00:00, 1495.83it/s]\n"
     ]
    },
    {
     "name": "stdout",
     "output_type": "stream",
     "text": [
      "Epoch 399, Loss: 30.3408, Recon: 17.1178, KL: 13.2230\n",
      "\n",
      "===== Epoch 400 =====\n"
     ]
    },
    {
     "name": "stderr",
     "output_type": "stream",
     "text": [
      "Epoch 400/500: 100%|██████████████████████████| 11/11 [00:00<00:00, 1495.59it/s]\n"
     ]
    },
    {
     "name": "stdout",
     "output_type": "stream",
     "text": [
      "Epoch 400, Loss: 30.3677, Recon: 16.8986, KL: 13.4691\n",
      "\n",
      "===== Epoch 401 =====\n"
     ]
    },
    {
     "name": "stderr",
     "output_type": "stream",
     "text": [
      "Epoch 401/500: 100%|██████████████████████████| 11/11 [00:00<00:00, 1458.47it/s]\n"
     ]
    },
    {
     "name": "stdout",
     "output_type": "stream",
     "text": [
      "Epoch 401, Loss: 30.2511, Recon: 16.7537, KL: 13.4974\n",
      "\n",
      "===== Epoch 402 =====\n"
     ]
    },
    {
     "name": "stderr",
     "output_type": "stream",
     "text": [
      "Epoch 402/500: 100%|██████████████████████████| 11/11 [00:00<00:00, 1376.17it/s]\n"
     ]
    },
    {
     "name": "stdout",
     "output_type": "stream",
     "text": [
      "Epoch 402, Loss: 30.3564, Recon: 16.9862, KL: 13.3703\n",
      "\n",
      "===== Epoch 403 =====\n"
     ]
    },
    {
     "name": "stderr",
     "output_type": "stream",
     "text": [
      "Epoch 403/500: 100%|██████████████████████████| 11/11 [00:00<00:00, 1166.76it/s]\n"
     ]
    },
    {
     "name": "stdout",
     "output_type": "stream",
     "text": [
      "Epoch 403, Loss: 30.2449, Recon: 16.7341, KL: 13.5108\n",
      "\n",
      "===== Epoch 404 =====\n"
     ]
    },
    {
     "name": "stderr",
     "output_type": "stream",
     "text": [
      "Epoch 404/500: 100%|██████████████████████████| 11/11 [00:00<00:00, 1447.17it/s]\n"
     ]
    },
    {
     "name": "stdout",
     "output_type": "stream",
     "text": [
      "Epoch 404, Loss: 29.9476, Recon: 16.5594, KL: 13.3882\n",
      "\n",
      "===== Epoch 405 =====\n"
     ]
    },
    {
     "name": "stderr",
     "output_type": "stream",
     "text": [
      "Epoch 405/500: 100%|██████████████████████████| 11/11 [00:00<00:00, 1420.09it/s]\n"
     ]
    },
    {
     "name": "stdout",
     "output_type": "stream",
     "text": [
      "Epoch 405, Loss: 30.1440, Recon: 16.8961, KL: 13.2480\n",
      "\n",
      "===== Epoch 406 =====\n"
     ]
    },
    {
     "name": "stderr",
     "output_type": "stream",
     "text": [
      "Epoch 406/500: 100%|██████████████████████████| 11/11 [00:00<00:00, 1438.47it/s]\n"
     ]
    },
    {
     "name": "stdout",
     "output_type": "stream",
     "text": [
      "Epoch 406, Loss: 29.8475, Recon: 16.5895, KL: 13.2580\n",
      "\n",
      "===== Epoch 407 =====\n"
     ]
    },
    {
     "name": "stderr",
     "output_type": "stream",
     "text": [
      "Epoch 407/500: 100%|██████████████████████████| 11/11 [00:00<00:00, 1481.66it/s]\n"
     ]
    },
    {
     "name": "stdout",
     "output_type": "stream",
     "text": [
      "Epoch 407, Loss: 30.0047, Recon: 16.8250, KL: 13.1797\n",
      "\n",
      "===== Epoch 408 =====\n"
     ]
    },
    {
     "name": "stderr",
     "output_type": "stream",
     "text": [
      "Epoch 408/500: 100%|██████████████████████████| 11/11 [00:00<00:00, 1475.69it/s]\n"
     ]
    },
    {
     "name": "stdout",
     "output_type": "stream",
     "text": [
      "Epoch 408, Loss: 30.2282, Recon: 17.0266, KL: 13.2016\n",
      "\n",
      "===== Epoch 409 =====\n"
     ]
    },
    {
     "name": "stderr",
     "output_type": "stream",
     "text": [
      "Epoch 409/500: 100%|██████████████████████████| 11/11 [00:00<00:00, 1475.92it/s]\n"
     ]
    },
    {
     "name": "stdout",
     "output_type": "stream",
     "text": [
      "Epoch 409, Loss: 30.1477, Recon: 16.8645, KL: 13.2832\n",
      "\n",
      "===== Epoch 410 =====\n"
     ]
    },
    {
     "name": "stderr",
     "output_type": "stream",
     "text": [
      "Epoch 410/500: 100%|██████████████████████████| 11/11 [00:00<00:00, 1423.20it/s]\n"
     ]
    },
    {
     "name": "stdout",
     "output_type": "stream",
     "text": [
      "Epoch 410, Loss: 30.3348, Recon: 16.9344, KL: 13.4005\n",
      "\n",
      "===== Epoch 411 =====\n"
     ]
    },
    {
     "name": "stderr",
     "output_type": "stream",
     "text": [
      "Epoch 411/500: 100%|██████████████████████████| 11/11 [00:00<00:00, 1448.13it/s]\n"
     ]
    },
    {
     "name": "stdout",
     "output_type": "stream",
     "text": [
      "Epoch 411, Loss: 30.0434, Recon: 16.5677, KL: 13.4757\n",
      "\n",
      "===== Epoch 412 =====\n"
     ]
    },
    {
     "name": "stderr",
     "output_type": "stream",
     "text": [
      "Epoch 412/500: 100%|██████████████████████████| 11/11 [00:00<00:00, 1403.42it/s]\n"
     ]
    },
    {
     "name": "stdout",
     "output_type": "stream",
     "text": [
      "Epoch 412, Loss: 29.9597, Recon: 16.5909, KL: 13.3688\n",
      "\n",
      "===== Epoch 413 =====\n"
     ]
    },
    {
     "name": "stderr",
     "output_type": "stream",
     "text": [
      "Epoch 413/500: 100%|██████████████████████████| 11/11 [00:00<00:00, 1420.44it/s]\n"
     ]
    },
    {
     "name": "stdout",
     "output_type": "stream",
     "text": [
      "Epoch 413, Loss: 30.1934, Recon: 16.8574, KL: 13.3360\n",
      "\n",
      "===== Epoch 414 =====\n"
     ]
    },
    {
     "name": "stderr",
     "output_type": "stream",
     "text": [
      "Epoch 414/500: 100%|██████████████████████████| 11/11 [00:00<00:00, 1471.59it/s]\n"
     ]
    },
    {
     "name": "stdout",
     "output_type": "stream",
     "text": [
      "Epoch 414, Loss: 30.0895, Recon: 16.8210, KL: 13.2684\n",
      "\n",
      "===== Epoch 415 =====\n"
     ]
    },
    {
     "name": "stderr",
     "output_type": "stream",
     "text": [
      "Epoch 415/500: 100%|██████████████████████████| 11/11 [00:00<00:00, 1476.87it/s]\n"
     ]
    },
    {
     "name": "stdout",
     "output_type": "stream",
     "text": [
      "Epoch 415, Loss: 29.9416, Recon: 16.6675, KL: 13.2740\n",
      "\n",
      "===== Epoch 416 =====\n"
     ]
    },
    {
     "name": "stderr",
     "output_type": "stream",
     "text": [
      "Epoch 416/500: 100%|██████████████████████████| 11/11 [00:00<00:00, 1376.17it/s]\n"
     ]
    },
    {
     "name": "stdout",
     "output_type": "stream",
     "text": [
      "Epoch 416, Loss: 30.2758, Recon: 16.9714, KL: 13.3043\n",
      "\n",
      "===== Epoch 417 =====\n"
     ]
    },
    {
     "name": "stderr",
     "output_type": "stream",
     "text": [
      "Epoch 417/500: 100%|██████████████████████████| 11/11 [00:00<00:00, 1266.26it/s]\n"
     ]
    },
    {
     "name": "stdout",
     "output_type": "stream",
     "text": [
      "Epoch 417, Loss: 30.3479, Recon: 16.9597, KL: 13.3882\n",
      "\n",
      "===== Epoch 418 =====\n"
     ]
    },
    {
     "name": "stderr",
     "output_type": "stream",
     "text": [
      "Epoch 418/500: 100%|██████████████████████████| 11/11 [00:00<00:00, 1428.58it/s]\n"
     ]
    },
    {
     "name": "stdout",
     "output_type": "stream",
     "text": [
      "Epoch 418, Loss: 30.2665, Recon: 16.7812, KL: 13.4853\n",
      "\n",
      "===== Epoch 419 =====\n"
     ]
    },
    {
     "name": "stderr",
     "output_type": "stream",
     "text": [
      "Epoch 419/500: 100%|██████████████████████████| 11/11 [00:00<00:00, 1456.95it/s]\n"
     ]
    },
    {
     "name": "stdout",
     "output_type": "stream",
     "text": [
      "Epoch 419, Loss: 30.1090, Recon: 16.6169, KL: 13.4921\n",
      "\n",
      "===== Epoch 420 =====\n"
     ]
    },
    {
     "name": "stderr",
     "output_type": "stream",
     "text": [
      "Epoch 420/500: 100%|██████████████████████████| 11/11 [00:00<00:00, 1446.77it/s]\n"
     ]
    },
    {
     "name": "stdout",
     "output_type": "stream",
     "text": [
      "Epoch 420, Loss: 30.2651, Recon: 16.7792, KL: 13.4859\n",
      "\n",
      "===== Epoch 421 =====\n"
     ]
    },
    {
     "name": "stderr",
     "output_type": "stream",
     "text": [
      "Epoch 421/500: 100%|██████████████████████████| 11/11 [00:00<00:00, 1415.56it/s]\n"
     ]
    },
    {
     "name": "stdout",
     "output_type": "stream",
     "text": [
      "Epoch 421, Loss: 30.0425, Recon: 16.5998, KL: 13.4427\n",
      "\n",
      "===== Epoch 422 =====\n"
     ]
    },
    {
     "name": "stderr",
     "output_type": "stream",
     "text": [
      "Epoch 422/500: 100%|██████████████████████████| 11/11 [00:00<00:00, 1245.78it/s]\n"
     ]
    },
    {
     "name": "stdout",
     "output_type": "stream",
     "text": [
      "Epoch 422, Loss: 29.9072, Recon: 16.4578, KL: 13.4494\n",
      "\n",
      "===== Epoch 423 =====\n"
     ]
    },
    {
     "name": "stderr",
     "output_type": "stream",
     "text": [
      "Epoch 423/500: 100%|██████████████████████████| 11/11 [00:00<00:00, 1340.97it/s]\n"
     ]
    },
    {
     "name": "stdout",
     "output_type": "stream",
     "text": [
      "Epoch 423, Loss: 30.3361, Recon: 16.9660, KL: 13.3702\n",
      "\n",
      "===== Epoch 424 =====\n"
     ]
    },
    {
     "name": "stderr",
     "output_type": "stream",
     "text": [
      "Epoch 424/500: 100%|██████████████████████████| 11/11 [00:00<00:00, 1408.47it/s]\n"
     ]
    },
    {
     "name": "stdout",
     "output_type": "stream",
     "text": [
      "Epoch 424, Loss: 30.1505, Recon: 16.7460, KL: 13.4045\n",
      "\n",
      "===== Epoch 425 =====\n"
     ]
    },
    {
     "name": "stderr",
     "output_type": "stream",
     "text": [
      "Epoch 425/500: 100%|██████████████████████████| 11/11 [00:00<00:00, 1389.80it/s]\n"
     ]
    },
    {
     "name": "stdout",
     "output_type": "stream",
     "text": [
      "Epoch 425, Loss: 29.9131, Recon: 16.3854, KL: 13.5276\n",
      "\n",
      "===== Epoch 426 =====\n"
     ]
    },
    {
     "name": "stderr",
     "output_type": "stream",
     "text": [
      "Epoch 426/500: 100%|██████████████████████████| 11/11 [00:00<00:00, 1307.67it/s]\n"
     ]
    },
    {
     "name": "stdout",
     "output_type": "stream",
     "text": [
      "Epoch 426, Loss: 29.9727, Recon: 16.6130, KL: 13.3597\n",
      "\n",
      "===== Epoch 427 =====\n"
     ]
    },
    {
     "name": "stderr",
     "output_type": "stream",
     "text": [
      "Epoch 427/500: 100%|██████████████████████████| 11/11 [00:00<00:00, 1480.66it/s]\n"
     ]
    },
    {
     "name": "stdout",
     "output_type": "stream",
     "text": [
      "Epoch 427, Loss: 30.1981, Recon: 16.8517, KL: 13.3465\n",
      "\n",
      "===== Epoch 428 =====\n"
     ]
    },
    {
     "name": "stderr",
     "output_type": "stream",
     "text": [
      "Epoch 428/500: 100%|██████████████████████████| 11/11 [00:00<00:00, 1063.49it/s]\n"
     ]
    },
    {
     "name": "stdout",
     "output_type": "stream",
     "text": [
      "Epoch 428, Loss: 30.1840, Recon: 16.6773, KL: 13.5067\n",
      "\n",
      "===== Epoch 429 =====\n"
     ]
    },
    {
     "name": "stderr",
     "output_type": "stream",
     "text": [
      "Epoch 429/500: 100%|██████████████████████████| 11/11 [00:00<00:00, 1194.87it/s]\n"
     ]
    },
    {
     "name": "stdout",
     "output_type": "stream",
     "text": [
      "Epoch 429, Loss: 30.0468, Recon: 16.5435, KL: 13.5033\n",
      "\n",
      "===== Epoch 430 =====\n"
     ]
    },
    {
     "name": "stderr",
     "output_type": "stream",
     "text": [
      "Epoch 430/500: 100%|██████████████████████████| 11/11 [00:00<00:00, 1113.92it/s]\n"
     ]
    },
    {
     "name": "stdout",
     "output_type": "stream",
     "text": [
      "Epoch 430, Loss: 29.8474, Recon: 16.3342, KL: 13.5132\n",
      "\n",
      "===== Epoch 431 =====\n"
     ]
    },
    {
     "name": "stderr",
     "output_type": "stream",
     "text": [
      "Epoch 431/500: 100%|██████████████████████████| 11/11 [00:00<00:00, 1245.07it/s]\n"
     ]
    },
    {
     "name": "stdout",
     "output_type": "stream",
     "text": [
      "Epoch 431, Loss: 30.2686, Recon: 16.8825, KL: 13.3861\n",
      "\n",
      "===== Epoch 432 =====\n"
     ]
    },
    {
     "name": "stderr",
     "output_type": "stream",
     "text": [
      "Epoch 432/500: 100%|██████████████████████████| 11/11 [00:00<00:00, 1327.04it/s]\n"
     ]
    },
    {
     "name": "stdout",
     "output_type": "stream",
     "text": [
      "Epoch 432, Loss: 29.9691, Recon: 16.4975, KL: 13.4717\n",
      "\n",
      "===== Epoch 433 =====\n"
     ]
    },
    {
     "name": "stderr",
     "output_type": "stream",
     "text": [
      "Epoch 433/500: 100%|██████████████████████████| 11/11 [00:00<00:00, 1193.94it/s]\n"
     ]
    },
    {
     "name": "stdout",
     "output_type": "stream",
     "text": [
      "Epoch 433, Loss: 29.8082, Recon: 16.3066, KL: 13.5016\n",
      "\n",
      "===== Epoch 434 =====\n"
     ]
    },
    {
     "name": "stderr",
     "output_type": "stream",
     "text": [
      "Epoch 434/500: 100%|██████████████████████████| 11/11 [00:00<00:00, 1254.55it/s]\n"
     ]
    },
    {
     "name": "stdout",
     "output_type": "stream",
     "text": [
      "Epoch 434, Loss: 30.2484, Recon: 16.8464, KL: 13.4020\n",
      "\n",
      "===== Epoch 435 =====\n"
     ]
    },
    {
     "name": "stderr",
     "output_type": "stream",
     "text": [
      "Epoch 435/500: 100%|██████████████████████████| 11/11 [00:00<00:00, 1149.67it/s]\n"
     ]
    },
    {
     "name": "stdout",
     "output_type": "stream",
     "text": [
      "Epoch 435, Loss: 29.9700, Recon: 16.4319, KL: 13.5381\n",
      "\n",
      "===== Epoch 436 =====\n"
     ]
    },
    {
     "name": "stderr",
     "output_type": "stream",
     "text": [
      "Epoch 436/500: 100%|██████████████████████████| 11/11 [00:00<00:00, 1381.73it/s]\n"
     ]
    },
    {
     "name": "stdout",
     "output_type": "stream",
     "text": [
      "Epoch 436, Loss: 30.0273, Recon: 16.5201, KL: 13.5072\n",
      "\n",
      "===== Epoch 437 =====\n"
     ]
    },
    {
     "name": "stderr",
     "output_type": "stream",
     "text": [
      "Epoch 437/500: 100%|██████████████████████████| 11/11 [00:00<00:00, 1254.14it/s]\n"
     ]
    },
    {
     "name": "stdout",
     "output_type": "stream",
     "text": [
      "Epoch 437, Loss: 29.9989, Recon: 16.5267, KL: 13.4722\n",
      "\n",
      "===== Epoch 438 =====\n"
     ]
    },
    {
     "name": "stderr",
     "output_type": "stream",
     "text": [
      "Epoch 438/500: 100%|██████████████████████████| 11/11 [00:00<00:00, 1354.67it/s]\n"
     ]
    },
    {
     "name": "stdout",
     "output_type": "stream",
     "text": [
      "Epoch 438, Loss: 29.8353, Recon: 16.3784, KL: 13.4568\n",
      "\n",
      "===== Epoch 439 =====\n"
     ]
    },
    {
     "name": "stderr",
     "output_type": "stream",
     "text": [
      "Epoch 439/500: 100%|██████████████████████████| 11/11 [00:00<00:00, 1447.22it/s]\n"
     ]
    },
    {
     "name": "stdout",
     "output_type": "stream",
     "text": [
      "Epoch 439, Loss: 29.7207, Recon: 16.3821, KL: 13.3386\n",
      "\n",
      "===== Epoch 440 =====\n"
     ]
    },
    {
     "name": "stderr",
     "output_type": "stream",
     "text": [
      "Epoch 440/500: 100%|██████████████████████████| 11/11 [00:00<00:00, 1325.33it/s]\n"
     ]
    },
    {
     "name": "stdout",
     "output_type": "stream",
     "text": [
      "Epoch 440, Loss: 29.9388, Recon: 16.6496, KL: 13.2892\n",
      "\n",
      "===== Epoch 441 =====\n"
     ]
    },
    {
     "name": "stderr",
     "output_type": "stream",
     "text": [
      "Epoch 441/500: 100%|██████████████████████████| 11/11 [00:00<00:00, 1472.63it/s]\n"
     ]
    },
    {
     "name": "stdout",
     "output_type": "stream",
     "text": [
      "Epoch 441, Loss: 29.9834, Recon: 16.6316, KL: 13.3518\n",
      "\n",
      "===== Epoch 442 =====\n"
     ]
    },
    {
     "name": "stderr",
     "output_type": "stream",
     "text": [
      "Epoch 442/500: 100%|██████████████████████████| 11/11 [00:00<00:00, 1383.80it/s]\n"
     ]
    },
    {
     "name": "stdout",
     "output_type": "stream",
     "text": [
      "Epoch 442, Loss: 30.0017, Recon: 16.5275, KL: 13.4743\n",
      "\n",
      "===== Epoch 443 =====\n"
     ]
    },
    {
     "name": "stderr",
     "output_type": "stream",
     "text": [
      "Epoch 443/500: 100%|██████████████████████████| 11/11 [00:00<00:00, 1296.43it/s]\n"
     ]
    },
    {
     "name": "stdout",
     "output_type": "stream",
     "text": [
      "Epoch 443, Loss: 29.8332, Recon: 16.3395, KL: 13.4937\n",
      "\n",
      "===== Epoch 444 =====\n"
     ]
    },
    {
     "name": "stderr",
     "output_type": "stream",
     "text": [
      "Epoch 444/500: 100%|██████████████████████████| 11/11 [00:00<00:00, 1466.26it/s]\n"
     ]
    },
    {
     "name": "stdout",
     "output_type": "stream",
     "text": [
      "Epoch 444, Loss: 29.8673, Recon: 16.4995, KL: 13.3678\n",
      "\n",
      "===== Epoch 445 =====\n"
     ]
    },
    {
     "name": "stderr",
     "output_type": "stream",
     "text": [
      "Epoch 445/500: 100%|██████████████████████████| 11/11 [00:00<00:00, 1397.51it/s]\n"
     ]
    },
    {
     "name": "stdout",
     "output_type": "stream",
     "text": [
      "Epoch 445, Loss: 29.9661, Recon: 16.5557, KL: 13.4104\n",
      "\n",
      "===== Epoch 446 =====\n"
     ]
    },
    {
     "name": "stderr",
     "output_type": "stream",
     "text": [
      "Epoch 446/500: 100%|██████████████████████████| 11/11 [00:00<00:00, 1361.06it/s]\n"
     ]
    },
    {
     "name": "stdout",
     "output_type": "stream",
     "text": [
      "Epoch 446, Loss: 29.7655, Recon: 16.3684, KL: 13.3971\n",
      "\n",
      "===== Epoch 447 =====\n"
     ]
    },
    {
     "name": "stderr",
     "output_type": "stream",
     "text": [
      "Epoch 447/500: 100%|██████████████████████████| 11/11 [00:00<00:00, 1405.43it/s]\n"
     ]
    },
    {
     "name": "stdout",
     "output_type": "stream",
     "text": [
      "Epoch 447, Loss: 29.7131, Recon: 16.3920, KL: 13.3211\n",
      "\n",
      "===== Epoch 448 =====\n"
     ]
    },
    {
     "name": "stderr",
     "output_type": "stream",
     "text": [
      "Epoch 448/500: 100%|██████████████████████████| 11/11 [00:00<00:00, 1446.45it/s]\n"
     ]
    },
    {
     "name": "stdout",
     "output_type": "stream",
     "text": [
      "Epoch 448, Loss: 30.0257, Recon: 16.6952, KL: 13.3305\n",
      "\n",
      "===== Epoch 449 =====\n"
     ]
    },
    {
     "name": "stderr",
     "output_type": "stream",
     "text": [
      "Epoch 449/500: 100%|██████████████████████████| 11/11 [00:00<00:00, 1123.03it/s]\n"
     ]
    },
    {
     "name": "stdout",
     "output_type": "stream",
     "text": [
      "Epoch 449, Loss: 29.5248, Recon: 16.0650, KL: 13.4598\n",
      "\n",
      "===== Epoch 450 =====\n"
     ]
    },
    {
     "name": "stderr",
     "output_type": "stream",
     "text": [
      "Epoch 450/500: 100%|██████████████████████████| 11/11 [00:00<00:00, 1377.44it/s]\n"
     ]
    },
    {
     "name": "stdout",
     "output_type": "stream",
     "text": [
      "Epoch 450, Loss: 29.7282, Recon: 16.3638, KL: 13.3644\n",
      "\n",
      "===== Epoch 451 =====\n"
     ]
    },
    {
     "name": "stderr",
     "output_type": "stream",
     "text": [
      "Epoch 451/500: 100%|██████████████████████████| 11/11 [00:00<00:00, 1299.35it/s]\n"
     ]
    },
    {
     "name": "stdout",
     "output_type": "stream",
     "text": [
      "Epoch 451, Loss: 29.7013, Recon: 16.4082, KL: 13.2931\n",
      "\n",
      "===== Epoch 452 =====\n"
     ]
    },
    {
     "name": "stderr",
     "output_type": "stream",
     "text": [
      "Epoch 452/500: 100%|██████████████████████████| 11/11 [00:00<00:00, 1426.15it/s]\n"
     ]
    },
    {
     "name": "stdout",
     "output_type": "stream",
     "text": [
      "Epoch 452, Loss: 30.0385, Recon: 16.6759, KL: 13.3626\n",
      "\n",
      "===== Epoch 453 =====\n"
     ]
    },
    {
     "name": "stderr",
     "output_type": "stream",
     "text": [
      "Epoch 453/500: 100%|██████████████████████████| 11/11 [00:00<00:00, 1385.59it/s]\n"
     ]
    },
    {
     "name": "stdout",
     "output_type": "stream",
     "text": [
      "Epoch 453, Loss: 30.1910, Recon: 16.7239, KL: 13.4670\n",
      "\n",
      "===== Epoch 454 =====\n"
     ]
    },
    {
     "name": "stderr",
     "output_type": "stream",
     "text": [
      "Epoch 454/500: 100%|██████████████████████████| 11/11 [00:00<00:00, 1393.62it/s]\n"
     ]
    },
    {
     "name": "stdout",
     "output_type": "stream",
     "text": [
      "Epoch 454, Loss: 29.8073, Recon: 16.2146, KL: 13.5927\n",
      "\n",
      "===== Epoch 455 =====\n"
     ]
    },
    {
     "name": "stderr",
     "output_type": "stream",
     "text": [
      "Epoch 455/500: 100%|██████████████████████████| 11/11 [00:00<00:00, 1371.05it/s]\n"
     ]
    },
    {
     "name": "stdout",
     "output_type": "stream",
     "text": [
      "Epoch 455, Loss: 29.6441, Recon: 16.0727, KL: 13.5714\n",
      "\n",
      "===== Epoch 456 =====\n"
     ]
    },
    {
     "name": "stderr",
     "output_type": "stream",
     "text": [
      "Epoch 456/500: 100%|██████████████████████████| 11/11 [00:00<00:00, 1446.22it/s]\n"
     ]
    },
    {
     "name": "stdout",
     "output_type": "stream",
     "text": [
      "Epoch 456, Loss: 29.7679, Recon: 16.2806, KL: 13.4873\n",
      "\n",
      "===== Epoch 457 =====\n"
     ]
    },
    {
     "name": "stderr",
     "output_type": "stream",
     "text": [
      "Epoch 457/500: 100%|██████████████████████████| 11/11 [00:00<00:00, 1353.36it/s]\n"
     ]
    },
    {
     "name": "stdout",
     "output_type": "stream",
     "text": [
      "Epoch 457, Loss: 29.8247, Recon: 16.4902, KL: 13.3345\n",
      "\n",
      "===== Epoch 458 =====\n"
     ]
    },
    {
     "name": "stderr",
     "output_type": "stream",
     "text": [
      "Epoch 458/500: 100%|███████████████████████████| 11/11 [00:00<00:00, 976.06it/s]\n"
     ]
    },
    {
     "name": "stdout",
     "output_type": "stream",
     "text": [
      "Epoch 458, Loss: 29.8680, Recon: 16.5592, KL: 13.3088\n",
      "\n",
      "===== Epoch 459 =====\n"
     ]
    },
    {
     "name": "stderr",
     "output_type": "stream",
     "text": [
      "Epoch 459/500: 100%|██████████████████████████| 11/11 [00:00<00:00, 1365.09it/s]\n"
     ]
    },
    {
     "name": "stdout",
     "output_type": "stream",
     "text": [
      "Epoch 459, Loss: 29.6087, Recon: 16.1747, KL: 13.4340\n",
      "\n",
      "===== Epoch 460 =====\n"
     ]
    },
    {
     "name": "stderr",
     "output_type": "stream",
     "text": [
      "Epoch 460/500: 100%|██████████████████████████| 11/11 [00:00<00:00, 1306.56it/s]\n"
     ]
    },
    {
     "name": "stdout",
     "output_type": "stream",
     "text": [
      "Epoch 460, Loss: 29.6784, Recon: 16.2940, KL: 13.3844\n",
      "\n",
      "===== Epoch 461 =====\n"
     ]
    },
    {
     "name": "stderr",
     "output_type": "stream",
     "text": [
      "Epoch 461/500: 100%|██████████████████████████| 11/11 [00:00<00:00, 1360.54it/s]\n"
     ]
    },
    {
     "name": "stdout",
     "output_type": "stream",
     "text": [
      "Epoch 461, Loss: 29.6609, Recon: 16.3159, KL: 13.3451\n",
      "\n",
      "===== Epoch 462 =====\n"
     ]
    },
    {
     "name": "stderr",
     "output_type": "stream",
     "text": [
      "Epoch 462/500: 100%|██████████████████████████| 11/11 [00:00<00:00, 1248.00it/s]\n"
     ]
    },
    {
     "name": "stdout",
     "output_type": "stream",
     "text": [
      "Epoch 462, Loss: 29.8282, Recon: 16.3883, KL: 13.4399\n",
      "\n",
      "===== Epoch 463 =====\n"
     ]
    },
    {
     "name": "stderr",
     "output_type": "stream",
     "text": [
      "Epoch 463/500: 100%|██████████████████████████| 11/11 [00:00<00:00, 1135.66it/s]\n"
     ]
    },
    {
     "name": "stdout",
     "output_type": "stream",
     "text": [
      "Epoch 463, Loss: 29.7177, Recon: 16.2728, KL: 13.4450\n",
      "\n",
      "===== Epoch 464 =====\n"
     ]
    },
    {
     "name": "stderr",
     "output_type": "stream",
     "text": [
      "Epoch 464/500: 100%|██████████████████████████| 11/11 [00:00<00:00, 1348.02it/s]\n"
     ]
    },
    {
     "name": "stdout",
     "output_type": "stream",
     "text": [
      "Epoch 464, Loss: 29.9240, Recon: 16.4322, KL: 13.4918\n",
      "\n",
      "===== Epoch 465 =====\n"
     ]
    },
    {
     "name": "stderr",
     "output_type": "stream",
     "text": [
      "Epoch 465/500: 100%|██████████████████████████| 11/11 [00:00<00:00, 1251.01it/s]\n"
     ]
    },
    {
     "name": "stdout",
     "output_type": "stream",
     "text": [
      "Epoch 465, Loss: 29.7291, Recon: 16.0859, KL: 13.6433\n",
      "\n",
      "===== Epoch 466 =====\n"
     ]
    },
    {
     "name": "stderr",
     "output_type": "stream",
     "text": [
      "Epoch 466/500: 100%|██████████████████████████| 11/11 [00:00<00:00, 1090.41it/s]\n"
     ]
    },
    {
     "name": "stdout",
     "output_type": "stream",
     "text": [
      "Epoch 466, Loss: 29.7697, Recon: 16.2585, KL: 13.5111\n",
      "\n",
      "===== Epoch 467 =====\n"
     ]
    },
    {
     "name": "stderr",
     "output_type": "stream",
     "text": [
      "Epoch 467/500: 100%|██████████████████████████| 11/11 [00:00<00:00, 1443.24it/s]\n"
     ]
    },
    {
     "name": "stdout",
     "output_type": "stream",
     "text": [
      "Epoch 467, Loss: 29.7673, Recon: 16.2673, KL: 13.5000\n",
      "\n",
      "===== Epoch 468 =====\n"
     ]
    },
    {
     "name": "stderr",
     "output_type": "stream",
     "text": [
      "Epoch 468/500: 100%|███████████████████████████| 11/11 [00:00<00:00, 958.70it/s]\n"
     ]
    },
    {
     "name": "stdout",
     "output_type": "stream",
     "text": [
      "Epoch 468, Loss: 29.8387, Recon: 16.4031, KL: 13.4356\n",
      "\n",
      "===== Epoch 469 =====\n"
     ]
    },
    {
     "name": "stderr",
     "output_type": "stream",
     "text": [
      "Epoch 469/500: 100%|███████████████████████████| 11/11 [00:00<00:00, 950.15it/s]\n"
     ]
    },
    {
     "name": "stdout",
     "output_type": "stream",
     "text": [
      "Epoch 469, Loss: 29.6990, Recon: 16.2233, KL: 13.4757\n",
      "\n",
      "===== Epoch 470 =====\n"
     ]
    },
    {
     "name": "stderr",
     "output_type": "stream",
     "text": [
      "Epoch 470/500: 100%|██████████████████████████| 11/11 [00:00<00:00, 1402.35it/s]\n"
     ]
    },
    {
     "name": "stdout",
     "output_type": "stream",
     "text": [
      "Epoch 470, Loss: 29.7442, Recon: 16.2224, KL: 13.5218\n",
      "\n",
      "===== Epoch 471 =====\n"
     ]
    },
    {
     "name": "stderr",
     "output_type": "stream",
     "text": [
      "Epoch 471/500: 100%|██████████████████████████| 11/11 [00:00<00:00, 1306.12it/s]\n"
     ]
    },
    {
     "name": "stdout",
     "output_type": "stream",
     "text": [
      "Epoch 471, Loss: 29.9096, Recon: 16.2841, KL: 13.6254\n",
      "\n",
      "===== Epoch 472 =====\n"
     ]
    },
    {
     "name": "stderr",
     "output_type": "stream",
     "text": [
      "Epoch 472/500: 100%|██████████████████████████| 11/11 [00:00<00:00, 1437.48it/s]\n"
     ]
    },
    {
     "name": "stdout",
     "output_type": "stream",
     "text": [
      "Epoch 472, Loss: 29.7247, Recon: 16.1189, KL: 13.6058\n",
      "\n",
      "===== Epoch 473 =====\n"
     ]
    },
    {
     "name": "stderr",
     "output_type": "stream",
     "text": [
      "Epoch 473/500: 100%|██████████████████████████| 11/11 [00:00<00:00, 1440.76it/s]\n"
     ]
    },
    {
     "name": "stdout",
     "output_type": "stream",
     "text": [
      "Epoch 473, Loss: 29.6768, Recon: 16.1247, KL: 13.5521\n",
      "\n",
      "===== Epoch 474 =====\n"
     ]
    },
    {
     "name": "stderr",
     "output_type": "stream",
     "text": [
      "Epoch 474/500: 100%|██████████████████████████| 11/11 [00:00<00:00, 1216.41it/s]\n"
     ]
    },
    {
     "name": "stdout",
     "output_type": "stream",
     "text": [
      "Epoch 474, Loss: 29.6836, Recon: 16.1093, KL: 13.5743\n",
      "\n",
      "===== Epoch 475 =====\n"
     ]
    },
    {
     "name": "stderr",
     "output_type": "stream",
     "text": [
      "Epoch 475/500: 100%|██████████████████████████| 11/11 [00:00<00:00, 1371.05it/s]\n"
     ]
    },
    {
     "name": "stdout",
     "output_type": "stream",
     "text": [
      "Epoch 475, Loss: 29.6312, Recon: 16.0931, KL: 13.5382\n",
      "\n",
      "===== Epoch 476 =====\n"
     ]
    },
    {
     "name": "stderr",
     "output_type": "stream",
     "text": [
      "Epoch 476/500: 100%|██████████████████████████| 11/11 [00:00<00:00, 1183.31it/s]\n"
     ]
    },
    {
     "name": "stdout",
     "output_type": "stream",
     "text": [
      "Epoch 476, Loss: 29.6467, Recon: 16.1260, KL: 13.5207\n",
      "\n",
      "===== Epoch 477 =====\n"
     ]
    },
    {
     "name": "stderr",
     "output_type": "stream",
     "text": [
      "Epoch 477/500: 100%|██████████████████████████| 11/11 [00:00<00:00, 1289.26it/s]\n"
     ]
    },
    {
     "name": "stdout",
     "output_type": "stream",
     "text": [
      "Epoch 477, Loss: 29.5396, Recon: 16.0558, KL: 13.4838\n",
      "\n",
      "===== Epoch 478 =====\n"
     ]
    },
    {
     "name": "stderr",
     "output_type": "stream",
     "text": [
      "Epoch 478/500: 100%|██████████████████████████| 11/11 [00:00<00:00, 1407.18it/s]\n"
     ]
    },
    {
     "name": "stdout",
     "output_type": "stream",
     "text": [
      "Epoch 478, Loss: 29.7171, Recon: 16.2443, KL: 13.4728\n",
      "\n",
      "===== Epoch 479 =====\n"
     ]
    },
    {
     "name": "stderr",
     "output_type": "stream",
     "text": [
      "Epoch 479/500: 100%|██████████████████████████| 11/11 [00:00<00:00, 1242.09it/s]\n"
     ]
    },
    {
     "name": "stdout",
     "output_type": "stream",
     "text": [
      "Epoch 479, Loss: 29.5646, Recon: 16.0063, KL: 13.5582\n",
      "\n",
      "===== Epoch 480 =====\n"
     ]
    },
    {
     "name": "stderr",
     "output_type": "stream",
     "text": [
      "Epoch 480/500: 100%|██████████████████████████| 11/11 [00:00<00:00, 1352.84it/s]\n"
     ]
    },
    {
     "name": "stdout",
     "output_type": "stream",
     "text": [
      "Epoch 480, Loss: 29.8336, Recon: 16.3300, KL: 13.5036\n",
      "\n",
      "===== Epoch 481 =====\n"
     ]
    },
    {
     "name": "stderr",
     "output_type": "stream",
     "text": [
      "Epoch 481/500: 100%|██████████████████████████| 11/11 [00:00<00:00, 1329.80it/s]\n"
     ]
    },
    {
     "name": "stdout",
     "output_type": "stream",
     "text": [
      "Epoch 481, Loss: 29.6438, Recon: 16.1847, KL: 13.4591\n",
      "\n",
      "===== Epoch 482 =====\n"
     ]
    },
    {
     "name": "stderr",
     "output_type": "stream",
     "text": [
      "Epoch 482/500: 100%|██████████████████████████| 11/11 [00:00<00:00, 1259.41it/s]\n"
     ]
    },
    {
     "name": "stdout",
     "output_type": "stream",
     "text": [
      "Epoch 482, Loss: 29.8443, Recon: 16.3250, KL: 13.5193\n",
      "\n",
      "===== Epoch 483 =====\n"
     ]
    },
    {
     "name": "stderr",
     "output_type": "stream",
     "text": [
      "Epoch 483/500: 100%|██████████████████████████| 11/11 [00:00<00:00, 1359.06it/s]\n"
     ]
    },
    {
     "name": "stdout",
     "output_type": "stream",
     "text": [
      "Epoch 483, Loss: 29.9239, Recon: 16.3044, KL: 13.6195\n",
      "\n",
      "===== Epoch 484 =====\n"
     ]
    },
    {
     "name": "stderr",
     "output_type": "stream",
     "text": [
      "Epoch 484/500: 100%|██████████████████████████| 11/11 [00:00<00:00, 1229.31it/s]\n"
     ]
    },
    {
     "name": "stdout",
     "output_type": "stream",
     "text": [
      "Epoch 484, Loss: 29.5537, Recon: 15.9052, KL: 13.6485\n",
      "\n",
      "===== Epoch 485 =====\n"
     ]
    },
    {
     "name": "stderr",
     "output_type": "stream",
     "text": [
      "Epoch 485/500: 100%|██████████████████████████| 11/11 [00:00<00:00, 1206.30it/s]\n"
     ]
    },
    {
     "name": "stdout",
     "output_type": "stream",
     "text": [
      "Epoch 485, Loss: 29.6848, Recon: 16.0866, KL: 13.5982\n",
      "\n",
      "===== Epoch 486 =====\n"
     ]
    },
    {
     "name": "stderr",
     "output_type": "stream",
     "text": [
      "Epoch 486/500: 100%|██████████████████████████| 11/11 [00:00<00:00, 1211.05it/s]\n"
     ]
    },
    {
     "name": "stdout",
     "output_type": "stream",
     "text": [
      "Epoch 486, Loss: 29.4689, Recon: 15.8755, KL: 13.5934\n",
      "\n",
      "===== Epoch 487 =====\n"
     ]
    },
    {
     "name": "stderr",
     "output_type": "stream",
     "text": [
      "Epoch 487/500: 100%|██████████████████████████| 11/11 [00:00<00:00, 1301.29it/s]\n"
     ]
    },
    {
     "name": "stdout",
     "output_type": "stream",
     "text": [
      "Epoch 487, Loss: 29.2509, Recon: 15.8479, KL: 13.4030\n",
      "\n",
      "===== Epoch 488 =====\n"
     ]
    },
    {
     "name": "stderr",
     "output_type": "stream",
     "text": [
      "Epoch 488/500: 100%|██████████████████████████| 11/11 [00:00<00:00, 1415.86it/s]\n"
     ]
    },
    {
     "name": "stdout",
     "output_type": "stream",
     "text": [
      "Epoch 488, Loss: 29.6603, Recon: 16.3748, KL: 13.2854\n",
      "\n",
      "===== Epoch 489 =====\n"
     ]
    },
    {
     "name": "stderr",
     "output_type": "stream",
     "text": [
      "Epoch 489/500: 100%|███████████████████████████| 11/11 [00:00<00:00, 780.53it/s]\n"
     ]
    },
    {
     "name": "stdout",
     "output_type": "stream",
     "text": [
      "Epoch 489, Loss: 29.9269, Recon: 16.4751, KL: 13.4518\n",
      "\n",
      "===== Epoch 490 =====\n"
     ]
    },
    {
     "name": "stderr",
     "output_type": "stream",
     "text": [
      "Epoch 490/500: 100%|██████████████████████████| 11/11 [00:00<00:00, 1352.68it/s]\n"
     ]
    },
    {
     "name": "stdout",
     "output_type": "stream",
     "text": [
      "Epoch 490, Loss: 29.5142, Recon: 15.8511, KL: 13.6631\n",
      "\n",
      "===== Epoch 491 =====\n"
     ]
    },
    {
     "name": "stderr",
     "output_type": "stream",
     "text": [
      "Epoch 491/500: 100%|██████████████████████████| 11/11 [00:00<00:00, 1321.31it/s]\n"
     ]
    },
    {
     "name": "stdout",
     "output_type": "stream",
     "text": [
      "Epoch 491, Loss: 29.5225, Recon: 15.8822, KL: 13.6403\n",
      "\n",
      "===== Epoch 492 =====\n"
     ]
    },
    {
     "name": "stderr",
     "output_type": "stream",
     "text": [
      "Epoch 492/500: 100%|██████████████████████████| 11/11 [00:00<00:00, 1158.62it/s]\n"
     ]
    },
    {
     "name": "stdout",
     "output_type": "stream",
     "text": [
      "Epoch 492, Loss: 29.1250, Recon: 15.6090, KL: 13.5160\n",
      "\n",
      "===== Epoch 493 =====\n"
     ]
    },
    {
     "name": "stderr",
     "output_type": "stream",
     "text": [
      "Epoch 493/500: 100%|██████████████████████████| 11/11 [00:00<00:00, 1271.42it/s]\n"
     ]
    },
    {
     "name": "stdout",
     "output_type": "stream",
     "text": [
      "Epoch 493, Loss: 29.6692, Recon: 16.2557, KL: 13.4135\n",
      "\n",
      "===== Epoch 494 =====\n"
     ]
    },
    {
     "name": "stderr",
     "output_type": "stream",
     "text": [
      "Epoch 494/500: 100%|██████████████████████████| 11/11 [00:00<00:00, 1412.92it/s]\n"
     ]
    },
    {
     "name": "stdout",
     "output_type": "stream",
     "text": [
      "Epoch 494, Loss: 29.5928, Recon: 16.0830, KL: 13.5097\n",
      "\n",
      "===== Epoch 495 =====\n"
     ]
    },
    {
     "name": "stderr",
     "output_type": "stream",
     "text": [
      "Epoch 495/500: 100%|██████████████████████████| 11/11 [00:00<00:00, 1363.92it/s]\n"
     ]
    },
    {
     "name": "stdout",
     "output_type": "stream",
     "text": [
      "Epoch 495, Loss: 29.6453, Recon: 16.0687, KL: 13.5765\n",
      "\n",
      "===== Epoch 496 =====\n"
     ]
    },
    {
     "name": "stderr",
     "output_type": "stream",
     "text": [
      "Epoch 496/500: 100%|██████████████████████████| 11/11 [00:00<00:00, 1251.01it/s]\n"
     ]
    },
    {
     "name": "stdout",
     "output_type": "stream",
     "text": [
      "Epoch 496, Loss: 29.5750, Recon: 15.9260, KL: 13.6490\n",
      "\n",
      "===== Epoch 497 =====\n"
     ]
    },
    {
     "name": "stderr",
     "output_type": "stream",
     "text": [
      "Epoch 497/500: 100%|███████████████████████████| 11/11 [00:00<00:00, 238.57it/s]\n"
     ]
    },
    {
     "name": "stdout",
     "output_type": "stream",
     "text": [
      "Epoch 497, Loss: 29.5538, Recon: 15.9501, KL: 13.6037\n",
      "\n",
      "===== Epoch 498 =====\n"
     ]
    },
    {
     "name": "stderr",
     "output_type": "stream",
     "text": [
      "Epoch 498/500: 100%|██████████████████████████| 11/11 [00:00<00:00, 1159.70it/s]\n"
     ]
    },
    {
     "name": "stdout",
     "output_type": "stream",
     "text": [
      "Epoch 498, Loss: 29.3457, Recon: 15.7401, KL: 13.6057\n",
      "\n",
      "===== Epoch 499 =====\n"
     ]
    },
    {
     "name": "stderr",
     "output_type": "stream",
     "text": [
      "Epoch 499/500: 100%|██████████████████████████| 11/11 [00:00<00:00, 1342.80it/s]\n"
     ]
    },
    {
     "name": "stdout",
     "output_type": "stream",
     "text": [
      "Epoch 499, Loss: 29.4743, Recon: 15.9807, KL: 13.4937\n",
      "\n",
      "===== Epoch 500 =====\n"
     ]
    },
    {
     "name": "stderr",
     "output_type": "stream",
     "text": [
      "Epoch 500/500: 100%|██████████████████████████| 11/11 [00:00<00:00, 1389.55it/s]"
     ]
    },
    {
     "name": "stdout",
     "output_type": "stream",
     "text": [
      "Epoch 500, Loss: 29.5299, Recon: 15.9556, KL: 13.5743\n"
     ]
    },
    {
     "name": "stderr",
     "output_type": "stream",
     "text": [
      "\n"
     ]
    }
   ],
   "source": [
    "# Set up model, optimizer, and device\n",
    "input_dim = X_tensor.shape[1]\n",
    "latent_dim = 10\n",
    "NUM_EPOCH = 500\n",
    "LR = 3e-4\n",
    "model = VAE(input_dim=input_dim, latent_dim=latent_dim)\n",
    "optimizer = torch.optim.Adam(model.parameters(), lr=LR)\n",
    "total_loss_hist, recon_loss_hist, kld_loss_hist = train_vae(model, dataloader, optimizer, device=DEVICE, epochs=NUM_EPOCH)"
   ]
  },
  {
   "cell_type": "code",
   "execution_count": 8,
   "id": "f6dcdde0-7d83-457e-901f-c243eb756d48",
   "metadata": {},
   "outputs": [
    {
     "data": {
      "image/png": "[encoded data removed]",
      "text/plain": [
       "<Figure size 1000x600 with 1 Axes>"
      ]
     },
     "metadata": {},
     "output_type": "display_data"
    }
   ],
   "source": [
    "plot_vae_losses(total_loss_hist, recon_loss_hist, kld_loss_hist)"
   ]
  },
  {
   "cell_type": "code",
   "execution_count": 9,
   "id": "0604b710-ebdc-4385-a292-f984174e93b3",
   "metadata": {},
   "outputs": [
    {
     "name": "stdout",
     "output_type": "stream",
     "text": [
      "dim of latent mu: (331, 10)\n"
     ]
    },
    {
     "data": {
      "image/png": "[encoded data removed]",
      "text/plain": [
       "<Figure size 800x800 with 1 Axes>"
      ]
     },
     "metadata": {},
     "output_type": "display_data"
    }
   ],
   "source": [
    "mu_all = get_latent_mu(model, X_tensor, device=DEVICE)\n",
    "# 2d-TSNE\n",
    "z_2d = TSNE(n_components=2, perplexity=8).fit_transform(mu_all)\n",
    "plot_latent_embedding_by_condition_and_subject(z_2d, all_tms_type, all_subject_id)"
   ]
  },
  {
   "cell_type": "code",
   "execution_count": 10,
   "id": "ecbb910b-eb38-47b1-8e3a-9ffbc7e22fcb",
   "metadata": {},
   "outputs": [
    {
     "name": "stdout",
     "output_type": "stream",
     "text": [
      "Paired t-test: t = -2.326, p = 0.0246\n"
     ]
    },
    {
     "data": {
      "image/png": "[encoded data removed]",
      "text/plain": [
       "<Figure size 800x500 with 1 Axes>"
      ]
     },
     "metadata": {},
     "output_type": "display_data"
    }
   ],
   "source": [
    "df = compute_condition_distances(mu_all, all_tms_type, all_subject_id, condition_map)\n",
    "\n",
    "# Paired t-test\n",
    "t_stat, p_val_t = ttest_rel(df[\"d_null_sham\"], df[\"d_null_real\"])\n",
    "print(f\"Paired t-test: t = {t_stat:.3f}, p = {p_val_t:.4f}\")\n",
    "plot_subject_distance_comparison(df)"
   ]
  },
  {
   "cell_type": "code",
   "execution_count": null,
   "id": "b8cb99a9-b235-4b09-bcd2-78bbbbd5da0a",
   "metadata": {},
   "outputs": [],
   "source": []
  },
  {
   "cell_type": "code",
   "execution_count": null,
   "id": "1191dbc5-2f07-4e7e-9210-0eede750062b",
   "metadata": {},
   "outputs": [],
   "source": []
  }
 ],
 "metadata": {
  "kernelspec": {
   "display_name": "Python 3 (ipykernel)",
   "language": "python",
   "name": "python3"
  },
  "language_info": {
   "codemirror_mode": {
    "name": "ipython",
    "version": 3
   },
   "file_extension": ".py",
   "mimetype": "text/x-python",
   "name": "python",
   "nbconvert_exporter": "python",
   "pygments_lexer": "ipython3",
   "version": "3.13.5"
  }
 },
 "nbformat": 4,
 "nbformat_minor": 5
}
