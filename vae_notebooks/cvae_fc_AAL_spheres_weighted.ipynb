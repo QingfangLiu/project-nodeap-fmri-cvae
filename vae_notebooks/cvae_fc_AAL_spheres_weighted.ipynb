{
 "cells": [
  {
   "cell_type": "code",
   "execution_count": 8,
   "id": "05ca6874-650f-47b0-a44f-97f86c5f8e9e",
   "metadata": {},
   "outputs": [
    {
     "name": "stdout",
     "output_type": "stream",
     "text": [
      "The autoreload extension is already loaded. To reload it, use:\n",
      "  %reload_ext autoreload\n"
     ]
    }
   ],
   "source": [
    "# Auto-Reload for Fast Iteration\n",
    "%load_ext autoreload\n",
    "%autoreload 2"
   ]
  },
  {
   "cell_type": "code",
   "execution_count": 9,
   "id": "8004c283-162a-43f1-ae97-3d7c5dadcdb9",
   "metadata": {},
   "outputs": [],
   "source": [
    "import numpy as np\n",
    "import nibabel as nib\n",
    "import pandas as pd\n",
    "import os\n",
    "from pathlib import Path\n",
    "import matplotlib.pyplot as plt\n",
    "import seaborn as sns\n",
    "\n",
    "from scipy.io import loadmat\n",
    "from scipy.spatial.distance import euclidean\n",
    "from scipy.stats import ttest_rel, wilcoxon"
   ]
  },
  {
   "cell_type": "code",
   "execution_count": 10,
   "id": "e63bf29d-56a8-4165-bccd-de3d8d15a8f1",
   "metadata": {},
   "outputs": [],
   "source": [
    "import torch\n",
    "import torch.nn as nn\n",
    "import torch.nn.functional as F\n",
    "from torch.utils.data import TensorDataset, DataLoader, WeightedRandomSampler\n",
    "from tqdm import tqdm # progress bar"
   ]
  },
  {
   "cell_type": "code",
   "execution_count": 11,
   "id": "1256298c-0369-425a-9f31-792cb4db50da",
   "metadata": {},
   "outputs": [],
   "source": [
    "from sklearn.feature_selection import SelectPercentile, f_classif\n",
    "from sklearn.pipeline import Pipeline\n",
    "from sklearn.metrics import accuracy_score, classification_report\n",
    "from sklearn.metrics import confusion_matrix, ConfusionMatrixDisplay\n",
    "from sklearn.model_selection import cross_val_score\n",
    "from sklearn.model_selection import GroupKFold\n",
    "from sklearn.preprocessing import OneHotEncoder\n",
    "from sklearn.manifold import TSNE\n",
    "import umap.umap_ as umap\n",
    "\n",
    "from collections import Counter"
   ]
  },
  {
   "cell_type": "code",
   "execution_count": 12,
   "id": "2cce3b35-1477-4ea8-8e6b-2bd02c6b0afd",
   "metadata": {},
   "outputs": [],
   "source": [
    "# import custom functions from .py scripts\n",
    "from models import VAE, CVAE \n",
    "from train_utils import train_vae, loss_function, get_latent_mu, compute_condition_distances, get_latent_mu_cvae\n",
    "from data_utils import load_all_fc_data, preprocess_for_torch\n",
    "from utils_plotting import plot_vae_losses, plot_latent_embedding_by_condition_and_subject, plot_subject_distance_comparison"
   ]
  },
  {
   "cell_type": "code",
   "execution_count": 13,
   "id": "8997caba-1575-4e03-b460-3ee50ee4831a",
   "metadata": {},
   "outputs": [],
   "source": [
    "sub_cond_path = '/Users/liuq13/NODEAP_scripts/data_input/SubConds.xlsx'\n",
    "base_nifti_folder = '/Volumes/X9Pro/NODEAP/FuncConn_AAL'\n",
    "condition_map = {'N': 0, 'S': 1, 'C': 2}"
   ]
  },
  {
   "cell_type": "code",
   "execution_count": 14,
   "id": "e5236906-7c32-4668-9295-903eec0c9b39",
   "metadata": {},
   "outputs": [
    {
     "name": "stdout",
     "output_type": "stream",
     "text": [
      "[WARN] File not found: /Volumes/X9Pro/NODEAP/FuncConn_AAL/NODEAP_30/S3D2/conn_matrix_w_sphere.mat\n",
      "[WARN] File not found: /Volumes/X9Pro/NODEAP/FuncConn_AAL/NODEAP_44/S1D1/conn_matrix_w_sphere.mat\n",
      "[WARN] File not found: /Volumes/X9Pro/NODEAP/FuncConn_AAL/NODEAP_83/S3D1/conn_matrix_w_sphere.mat\n",
      "[WARN] File not found: /Volumes/X9Pro/NODEAP/FuncConn_AAL/NODEAP_87/D0/conn_matrix_w_sphere.mat\n",
      "[WARN] File not found: /Volumes/X9Pro/NODEAP/FuncConn_AAL/NODEAP_88/D0/conn_matrix_w_sphere.mat\n"
     ]
    }
   ],
   "source": [
    "# Load and preprocess\n",
    "use_roi = 0\n",
    "all_corr_data, all_tms_type, all_subject_id, all_stimloc, all_session = load_all_fc_data(sub_cond_path, \n",
    "                                                               base_nifti_folder, \n",
    "                                                               mat_filename='conn_matrix_w_sphere.mat',\n",
    "                                                               key_name='correlation_matrix',row_idx=use_roi)\n",
    "# One-hot encode subject ID as condition\n",
    "subject_arr = np.array(all_subject_id).reshape(-1, 1)\n",
    "subject_encoder = OneHotEncoder(sparse_output=False, drop=None)\n",
    "subject_ohe = subject_encoder.fit_transform(subject_arr)  # shape: [n_samples, n_subjects]\n",
    "\n",
    "# Encode condition just for sampling\n",
    "condition_list = np.array([condition_map[t] for t in all_tms_type])  # e.g., 'C' → 0, etc.\n",
    "\n",
    "# Create combo keys for subject × TMS condition\n",
    "combo_keys = np.array([f\"{s}_{c}\" for s, c in zip(all_subject_id, condition_list)])\n",
    "combo_counts = Counter(combo_keys)\n",
    "\n",
    "# Compute inverse weights for sampling\n",
    "weights = np.array([1.0 / combo_counts[k] for k in combo_keys])\n",
    "weights_tensor = torch.DoubleTensor(weights)"
   ]
  },
  {
   "cell_type": "code",
   "execution_count": 15,
   "id": "f9faf730-3981-4952-b615-1ef0cf1d4687",
   "metadata": {},
   "outputs": [
    {
     "name": "stdout",
     "output_type": "stream",
     "text": [
      "Columns with NaN: 14 / 116\n",
      "Tensor shape after preprocessing: torch.Size([331, 102])\n"
     ]
    }
   ],
   "source": [
    "# Convert to torch tensors\n",
    "X_tensor = preprocess_for_torch(all_corr_data)  \n",
    "subject_cond_tensor = torch.tensor(subject_ohe, dtype=torch.float32)\n",
    "dataset = TensorDataset(X_tensor, subject_cond_tensor)\n",
    "\n",
    "sampler = WeightedRandomSampler(weights_tensor, num_samples=len(weights_tensor), replacement=True)\n",
    "\n",
    "dataloader = DataLoader(dataset, batch_size=32, sampler=sampler)"
   ]
  },
  {
   "cell_type": "code",
   "execution_count": 16,
   "id": "b2e2a3d8-7779-4f1a-b1c9-ba00f36719a0",
   "metadata": {},
   "outputs": [
    {
     "name": "stdout",
     "output_type": "stream",
     "text": [
      "\n",
      "===== Epoch 1 =====\n"
     ]
    },
    {
     "name": "stderr",
     "output_type": "stream",
     "text": [
      "Epoch 1/500: 100%|█████████████████████████████| 11/11 [00:00<00:00, 207.46it/s]\n"
     ]
    },
    {
     "name": "stdout",
     "output_type": "stream",
     "text": [
      "Epoch 1, Loss: 109.9817, Recon: 109.7309, KL: 0.2509\n",
      "\n",
      "===== Epoch 2 =====\n"
     ]
    },
    {
     "name": "stderr",
     "output_type": "stream",
     "text": [
      "Epoch 2/500: 100%|█████████████████████████████| 11/11 [00:00<00:00, 745.30it/s]\n"
     ]
    },
    {
     "name": "stdout",
     "output_type": "stream",
     "text": [
      "Epoch 2, Loss: 110.2953, Recon: 110.0841, KL: 0.2112\n",
      "\n",
      "===== Epoch 3 =====\n"
     ]
    },
    {
     "name": "stderr",
     "output_type": "stream",
     "text": [
      "Epoch 3/500: 100%|████████████████████████████| 11/11 [00:00<00:00, 1184.47it/s]\n"
     ]
    },
    {
     "name": "stdout",
     "output_type": "stream",
     "text": [
      "Epoch 3, Loss: 107.1035, Recon: 106.9022, KL: 0.2013\n",
      "\n",
      "===== Epoch 4 =====\n"
     ]
    },
    {
     "name": "stderr",
     "output_type": "stream",
     "text": [
      "Epoch 4/500: 100%|████████████████████████████| 11/11 [00:00<00:00, 1379.50it/s]\n"
     ]
    },
    {
     "name": "stdout",
     "output_type": "stream",
     "text": [
      "Epoch 4, Loss: 101.0229, Recon: 100.7989, KL: 0.2241\n",
      "\n",
      "===== Epoch 5 =====\n"
     ]
    },
    {
     "name": "stderr",
     "output_type": "stream",
     "text": [
      "Epoch 5/500: 100%|████████████████████████████| 11/11 [00:00<00:00, 1352.64it/s]\n"
     ]
    },
    {
     "name": "stdout",
     "output_type": "stream",
     "text": [
      "Epoch 5, Loss: 106.2335, Recon: 105.9509, KL: 0.2826\n",
      "\n",
      "===== Epoch 6 =====\n"
     ]
    },
    {
     "name": "stderr",
     "output_type": "stream",
     "text": [
      "Epoch 6/500: 100%|████████████████████████████| 11/11 [00:00<00:00, 1005.70it/s]\n"
     ]
    },
    {
     "name": "stdout",
     "output_type": "stream",
     "text": [
      "Epoch 6, Loss: 100.1384, Recon: 99.7891, KL: 0.3493\n",
      "\n",
      "===== Epoch 7 =====\n"
     ]
    },
    {
     "name": "stderr",
     "output_type": "stream",
     "text": [
      "Epoch 7/500: 100%|████████████████████████████| 11/11 [00:00<00:00, 1167.00it/s]\n"
     ]
    },
    {
     "name": "stdout",
     "output_type": "stream",
     "text": [
      "Epoch 7, Loss: 100.8956, Recon: 100.4448, KL: 0.4508\n",
      "\n",
      "===== Epoch 8 =====\n"
     ]
    },
    {
     "name": "stderr",
     "output_type": "stream",
     "text": [
      "Epoch 8/500: 100%|████████████████████████████| 11/11 [00:00<00:00, 1413.00it/s]\n"
     ]
    },
    {
     "name": "stdout",
     "output_type": "stream",
     "text": [
      "Epoch 8, Loss: 99.9089, Recon: 99.2343, KL: 0.6746\n",
      "\n",
      "===== Epoch 9 =====\n"
     ]
    },
    {
     "name": "stderr",
     "output_type": "stream",
     "text": [
      "Epoch 9/500: 100%|████████████████████████████| 11/11 [00:00<00:00, 1050.03it/s]\n"
     ]
    },
    {
     "name": "stdout",
     "output_type": "stream",
     "text": [
      "Epoch 9, Loss: 99.9176, Recon: 98.9134, KL: 1.0041\n",
      "\n",
      "===== Epoch 10 =====\n"
     ]
    },
    {
     "name": "stderr",
     "output_type": "stream",
     "text": [
      "Epoch 10/500: 100%|███████████████████████████| 11/11 [00:00<00:00, 1269.92it/s]\n"
     ]
    },
    {
     "name": "stdout",
     "output_type": "stream",
     "text": [
      "Epoch 10, Loss: 94.9493, Recon: 93.5099, KL: 1.4394\n",
      "\n",
      "===== Epoch 11 =====\n"
     ]
    },
    {
     "name": "stderr",
     "output_type": "stream",
     "text": [
      "Epoch 11/500: 100%|███████████████████████████| 11/11 [00:00<00:00, 1271.53it/s]\n"
     ]
    },
    {
     "name": "stdout",
     "output_type": "stream",
     "text": [
      "Epoch 11, Loss: 97.4628, Recon: 95.2602, KL: 2.2025\n",
      "\n",
      "===== Epoch 12 =====\n"
     ]
    },
    {
     "name": "stderr",
     "output_type": "stream",
     "text": [
      "Epoch 12/500: 100%|███████████████████████████| 11/11 [00:00<00:00, 1265.39it/s]\n"
     ]
    },
    {
     "name": "stdout",
     "output_type": "stream",
     "text": [
      "Epoch 12, Loss: 95.1243, Recon: 91.7444, KL: 3.3800\n",
      "\n",
      "===== Epoch 13 =====\n"
     ]
    },
    {
     "name": "stderr",
     "output_type": "stream",
     "text": [
      "Epoch 13/500: 100%|███████████████████████████| 11/11 [00:00<00:00, 1344.21it/s]\n"
     ]
    },
    {
     "name": "stdout",
     "output_type": "stream",
     "text": [
      "Epoch 13, Loss: 87.8276, Recon: 83.0339, KL: 4.7937\n",
      "\n",
      "===== Epoch 14 =====\n"
     ]
    },
    {
     "name": "stderr",
     "output_type": "stream",
     "text": [
      "Epoch 14/500: 100%|████████████████████████████| 11/11 [00:00<00:00, 832.43it/s]\n"
     ]
    },
    {
     "name": "stdout",
     "output_type": "stream",
     "text": [
      "Epoch 14, Loss: 89.0554, Recon: 83.0801, KL: 5.9754\n",
      "\n",
      "===== Epoch 15 =====\n"
     ]
    },
    {
     "name": "stderr",
     "output_type": "stream",
     "text": [
      "Epoch 15/500: 100%|███████████████████████████| 11/11 [00:00<00:00, 1125.52it/s]\n"
     ]
    },
    {
     "name": "stdout",
     "output_type": "stream",
     "text": [
      "Epoch 15, Loss: 84.6536, Recon: 77.3978, KL: 7.2558\n",
      "\n",
      "===== Epoch 16 =====\n"
     ]
    },
    {
     "name": "stderr",
     "output_type": "stream",
     "text": [
      "Epoch 16/500: 100%|███████████████████████████| 11/11 [00:00<00:00, 1059.31it/s]\n"
     ]
    },
    {
     "name": "stdout",
     "output_type": "stream",
     "text": [
      "Epoch 16, Loss: 81.8777, Recon: 75.5334, KL: 6.3443\n",
      "\n",
      "===== Epoch 17 =====\n"
     ]
    },
    {
     "name": "stderr",
     "output_type": "stream",
     "text": [
      "Epoch 17/500: 100%|███████████████████████████| 11/11 [00:00<00:00, 1342.61it/s]\n"
     ]
    },
    {
     "name": "stdout",
     "output_type": "stream",
     "text": [
      "Epoch 17, Loss: 83.3167, Recon: 75.4835, KL: 7.8332\n",
      "\n",
      "===== Epoch 18 =====\n"
     ]
    },
    {
     "name": "stderr",
     "output_type": "stream",
     "text": [
      "Epoch 18/500: 100%|███████████████████████████| 11/11 [00:00<00:00, 1329.91it/s]\n"
     ]
    },
    {
     "name": "stdout",
     "output_type": "stream",
     "text": [
      "Epoch 18, Loss: 77.6174, Recon: 70.4835, KL: 7.1340\n",
      "\n",
      "===== Epoch 19 =====\n"
     ]
    },
    {
     "name": "stderr",
     "output_type": "stream",
     "text": [
      "Epoch 19/500: 100%|████████████████████████████| 11/11 [00:00<00:00, 995.20it/s]\n"
     ]
    },
    {
     "name": "stdout",
     "output_type": "stream",
     "text": [
      "Epoch 19, Loss: 75.8838, Recon: 69.1185, KL: 6.7652\n",
      "\n",
      "===== Epoch 20 =====\n"
     ]
    },
    {
     "name": "stderr",
     "output_type": "stream",
     "text": [
      "Epoch 20/500: 100%|███████████████████████████| 11/11 [00:00<00:00, 1107.98it/s]\n"
     ]
    },
    {
     "name": "stdout",
     "output_type": "stream",
     "text": [
      "Epoch 20, Loss: 73.3417, Recon: 65.9148, KL: 7.4269\n",
      "\n",
      "===== Epoch 21 =====\n"
     ]
    },
    {
     "name": "stderr",
     "output_type": "stream",
     "text": [
      "Epoch 21/500: 100%|███████████████████████████| 11/11 [00:00<00:00, 1217.09it/s]\n"
     ]
    },
    {
     "name": "stdout",
     "output_type": "stream",
     "text": [
      "Epoch 21, Loss: 70.9752, Recon: 62.7402, KL: 8.2350\n",
      "\n",
      "===== Epoch 22 =====\n"
     ]
    },
    {
     "name": "stderr",
     "output_type": "stream",
     "text": [
      "Epoch 22/500: 100%|███████████████████████████| 11/11 [00:00<00:00, 1291.64it/s]\n"
     ]
    },
    {
     "name": "stdout",
     "output_type": "stream",
     "text": [
      "Epoch 22, Loss: 73.4091, Recon: 65.0111, KL: 8.3980\n",
      "\n",
      "===== Epoch 23 =====\n"
     ]
    },
    {
     "name": "stderr",
     "output_type": "stream",
     "text": [
      "Epoch 23/500: 100%|████████████████████████████| 11/11 [00:00<00:00, 995.05it/s]\n"
     ]
    },
    {
     "name": "stdout",
     "output_type": "stream",
     "text": [
      "Epoch 23, Loss: 65.6963, Recon: 56.8050, KL: 8.8913\n",
      "\n",
      "===== Epoch 24 =====\n"
     ]
    },
    {
     "name": "stderr",
     "output_type": "stream",
     "text": [
      "Epoch 24/500: 100%|████████████████████████████| 11/11 [00:00<00:00, 990.90it/s]\n"
     ]
    },
    {
     "name": "stdout",
     "output_type": "stream",
     "text": [
      "Epoch 24, Loss: 65.2200, Recon: 55.6802, KL: 9.5397\n",
      "\n",
      "===== Epoch 25 =====\n"
     ]
    },
    {
     "name": "stderr",
     "output_type": "stream",
     "text": [
      "Epoch 25/500: 100%|███████████████████████████| 11/11 [00:00<00:00, 1232.63it/s]\n"
     ]
    },
    {
     "name": "stdout",
     "output_type": "stream",
     "text": [
      "Epoch 25, Loss: 65.3531, Recon: 55.5763, KL: 9.7768\n",
      "\n",
      "===== Epoch 26 =====\n"
     ]
    },
    {
     "name": "stderr",
     "output_type": "stream",
     "text": [
      "Epoch 26/500: 100%|███████████████████████████| 11/11 [00:00<00:00, 1255.85it/s]\n"
     ]
    },
    {
     "name": "stdout",
     "output_type": "stream",
     "text": [
      "Epoch 26, Loss: 61.5297, Recon: 51.6070, KL: 9.9228\n",
      "\n",
      "===== Epoch 27 =====\n"
     ]
    },
    {
     "name": "stderr",
     "output_type": "stream",
     "text": [
      "Epoch 27/500: 100%|███████████████████████████| 11/11 [00:00<00:00, 1326.62it/s]\n"
     ]
    },
    {
     "name": "stdout",
     "output_type": "stream",
     "text": [
      "Epoch 27, Loss: 60.8306, Recon: 51.6093, KL: 9.2213\n",
      "\n",
      "===== Epoch 28 =====\n"
     ]
    },
    {
     "name": "stderr",
     "output_type": "stream",
     "text": [
      "Epoch 28/500: 100%|███████████████████████████| 11/11 [00:00<00:00, 1051.04it/s]\n"
     ]
    },
    {
     "name": "stdout",
     "output_type": "stream",
     "text": [
      "Epoch 28, Loss: 59.6758, Recon: 50.3064, KL: 9.3694\n",
      "\n",
      "===== Epoch 29 =====\n"
     ]
    },
    {
     "name": "stderr",
     "output_type": "stream",
     "text": [
      "Epoch 29/500: 100%|███████████████████████████| 11/11 [00:00<00:00, 1167.12it/s]\n"
     ]
    },
    {
     "name": "stdout",
     "output_type": "stream",
     "text": [
      "Epoch 29, Loss: 60.6608, Recon: 51.9948, KL: 8.6660\n",
      "\n",
      "===== Epoch 30 =====\n"
     ]
    },
    {
     "name": "stderr",
     "output_type": "stream",
     "text": [
      "Epoch 30/500: 100%|███████████████████████████| 11/11 [00:00<00:00, 1199.31it/s]\n"
     ]
    },
    {
     "name": "stdout",
     "output_type": "stream",
     "text": [
      "Epoch 30, Loss: 60.3143, Recon: 51.1948, KL: 9.1195\n",
      "\n",
      "===== Epoch 31 =====\n"
     ]
    },
    {
     "name": "stderr",
     "output_type": "stream",
     "text": [
      "Epoch 31/500: 100%|███████████████████████████| 11/11 [00:00<00:00, 1326.47it/s]\n"
     ]
    },
    {
     "name": "stdout",
     "output_type": "stream",
     "text": [
      "Epoch 31, Loss: 59.1933, Recon: 49.8317, KL: 9.3617\n",
      "\n",
      "===== Epoch 32 =====\n"
     ]
    },
    {
     "name": "stderr",
     "output_type": "stream",
     "text": [
      "Epoch 32/500: 100%|███████████████████████████| 11/11 [00:00<00:00, 1400.73it/s]\n"
     ]
    },
    {
     "name": "stdout",
     "output_type": "stream",
     "text": [
      "Epoch 32, Loss: 57.0446, Recon: 47.5150, KL: 9.5296\n",
      "\n",
      "===== Epoch 33 =====\n"
     ]
    },
    {
     "name": "stderr",
     "output_type": "stream",
     "text": [
      "Epoch 33/500: 100%|███████████████████████████| 11/11 [00:00<00:00, 1394.30it/s]\n"
     ]
    },
    {
     "name": "stdout",
     "output_type": "stream",
     "text": [
      "Epoch 33, Loss: 56.6749, Recon: 47.5096, KL: 9.1652\n",
      "\n",
      "===== Epoch 34 =====\n"
     ]
    },
    {
     "name": "stderr",
     "output_type": "stream",
     "text": [
      "Epoch 34/500: 100%|███████████████████████████| 11/11 [00:00<00:00, 1507.71it/s]\n"
     ]
    },
    {
     "name": "stdout",
     "output_type": "stream",
     "text": [
      "Epoch 34, Loss: 55.5314, Recon: 47.1418, KL: 8.3897\n",
      "\n",
      "===== Epoch 35 =====\n"
     ]
    },
    {
     "name": "stderr",
     "output_type": "stream",
     "text": [
      "Epoch 35/500: 100%|███████████████████████████| 11/11 [00:00<00:00, 1496.65it/s]\n"
     ]
    },
    {
     "name": "stdout",
     "output_type": "stream",
     "text": [
      "Epoch 35, Loss: 55.6439, Recon: 46.8486, KL: 8.7952\n",
      "\n",
      "===== Epoch 36 =====\n"
     ]
    },
    {
     "name": "stderr",
     "output_type": "stream",
     "text": [
      "Epoch 36/500: 100%|███████████████████████████| 11/11 [00:00<00:00, 1416.21it/s]\n"
     ]
    },
    {
     "name": "stdout",
     "output_type": "stream",
     "text": [
      "Epoch 36, Loss: 55.2237, Recon: 46.9884, KL: 8.2353\n",
      "\n",
      "===== Epoch 37 =====\n"
     ]
    },
    {
     "name": "stderr",
     "output_type": "stream",
     "text": [
      "Epoch 37/500: 100%|███████████████████████████| 11/11 [00:00<00:00, 1052.64it/s]\n"
     ]
    },
    {
     "name": "stdout",
     "output_type": "stream",
     "text": [
      "Epoch 37, Loss: 56.6220, Recon: 47.7858, KL: 8.8362\n",
      "\n",
      "===== Epoch 38 =====\n"
     ]
    },
    {
     "name": "stderr",
     "output_type": "stream",
     "text": [
      "Epoch 38/500: 100%|███████████████████████████| 11/11 [00:00<00:00, 1437.57it/s]\n"
     ]
    },
    {
     "name": "stdout",
     "output_type": "stream",
     "text": [
      "Epoch 38, Loss: 53.6129, Recon: 45.3932, KL: 8.2197\n",
      "\n",
      "===== Epoch 39 =====\n"
     ]
    },
    {
     "name": "stderr",
     "output_type": "stream",
     "text": [
      "Epoch 39/500: 100%|███████████████████████████| 11/11 [00:00<00:00, 1452.55it/s]\n"
     ]
    },
    {
     "name": "stdout",
     "output_type": "stream",
     "text": [
      "Epoch 39, Loss: 53.7633, Recon: 46.0084, KL: 7.7548\n",
      "\n",
      "===== Epoch 40 =====\n"
     ]
    },
    {
     "name": "stderr",
     "output_type": "stream",
     "text": [
      "Epoch 40/500: 100%|███████████████████████████| 11/11 [00:00<00:00, 1463.75it/s]\n"
     ]
    },
    {
     "name": "stdout",
     "output_type": "stream",
     "text": [
      "Epoch 40, Loss: 52.4217, Recon: 44.5861, KL: 7.8356\n",
      "\n",
      "===== Epoch 41 =====\n"
     ]
    },
    {
     "name": "stderr",
     "output_type": "stream",
     "text": [
      "Epoch 41/500: 100%|███████████████████████████| 11/11 [00:00<00:00, 1426.55it/s]\n"
     ]
    },
    {
     "name": "stdout",
     "output_type": "stream",
     "text": [
      "Epoch 41, Loss: 55.4936, Recon: 47.0251, KL: 8.4684\n",
      "\n",
      "===== Epoch 42 =====\n"
     ]
    },
    {
     "name": "stderr",
     "output_type": "stream",
     "text": [
      "Epoch 42/500: 100%|███████████████████████████| 11/11 [00:00<00:00, 1541.71it/s]\n"
     ]
    },
    {
     "name": "stdout",
     "output_type": "stream",
     "text": [
      "Epoch 42, Loss: 53.8053, Recon: 45.8673, KL: 7.9380\n",
      "\n",
      "===== Epoch 43 =====\n"
     ]
    },
    {
     "name": "stderr",
     "output_type": "stream",
     "text": [
      "Epoch 43/500: 100%|███████████████████████████| 11/11 [00:00<00:00, 1518.72it/s]\n"
     ]
    },
    {
     "name": "stdout",
     "output_type": "stream",
     "text": [
      "Epoch 43, Loss: 55.2132, Recon: 46.7348, KL: 8.4784\n",
      "\n",
      "===== Epoch 44 =====\n"
     ]
    },
    {
     "name": "stderr",
     "output_type": "stream",
     "text": [
      "Epoch 44/500: 100%|███████████████████████████| 11/11 [00:00<00:00, 1495.20it/s]\n"
     ]
    },
    {
     "name": "stdout",
     "output_type": "stream",
     "text": [
      "Epoch 44, Loss: 53.6661, Recon: 45.4806, KL: 8.1856\n",
      "\n",
      "===== Epoch 45 =====\n"
     ]
    },
    {
     "name": "stderr",
     "output_type": "stream",
     "text": [
      "Epoch 45/500: 100%|███████████████████████████| 11/11 [00:00<00:00, 1519.98it/s]\n"
     ]
    },
    {
     "name": "stdout",
     "output_type": "stream",
     "text": [
      "Epoch 45, Loss: 53.1390, Recon: 45.0893, KL: 8.0497\n",
      "\n",
      "===== Epoch 46 =====\n"
     ]
    },
    {
     "name": "stderr",
     "output_type": "stream",
     "text": [
      "Epoch 46/500: 100%|███████████████████████████| 11/11 [00:00<00:00, 1513.30it/s]\n"
     ]
    },
    {
     "name": "stdout",
     "output_type": "stream",
     "text": [
      "Epoch 46, Loss: 52.0132, Recon: 43.5113, KL: 8.5019\n",
      "\n",
      "===== Epoch 47 =====\n"
     ]
    },
    {
     "name": "stderr",
     "output_type": "stream",
     "text": [
      "Epoch 47/500: 100%|███████████████████████████| 11/11 [00:00<00:00, 1536.58it/s]\n"
     ]
    },
    {
     "name": "stdout",
     "output_type": "stream",
     "text": [
      "Epoch 47, Loss: 53.1794, Recon: 45.0319, KL: 8.1476\n",
      "\n",
      "===== Epoch 48 =====\n"
     ]
    },
    {
     "name": "stderr",
     "output_type": "stream",
     "text": [
      "Epoch 48/500: 100%|███████████████████████████| 11/11 [00:00<00:00, 1496.41it/s]\n"
     ]
    },
    {
     "name": "stdout",
     "output_type": "stream",
     "text": [
      "Epoch 48, Loss: 52.0133, Recon: 43.9930, KL: 8.0203\n",
      "\n",
      "===== Epoch 49 =====\n"
     ]
    },
    {
     "name": "stderr",
     "output_type": "stream",
     "text": [
      "Epoch 49/500: 100%|███████████████████████████| 11/11 [00:00<00:00, 1476.35it/s]\n"
     ]
    },
    {
     "name": "stdout",
     "output_type": "stream",
     "text": [
      "Epoch 49, Loss: 54.2228, Recon: 45.7599, KL: 8.4629\n",
      "\n",
      "===== Epoch 50 =====\n"
     ]
    },
    {
     "name": "stderr",
     "output_type": "stream",
     "text": [
      "Epoch 50/500: 100%|████████████████████████████| 11/11 [00:00<00:00, 931.95it/s]\n"
     ]
    },
    {
     "name": "stdout",
     "output_type": "stream",
     "text": [
      "Epoch 50, Loss: 53.5094, Recon: 44.9594, KL: 8.5500\n",
      "\n",
      "===== Epoch 51 =====\n"
     ]
    },
    {
     "name": "stderr",
     "output_type": "stream",
     "text": [
      "Epoch 51/500: 100%|███████████████████████████| 11/11 [00:00<00:00, 1395.56it/s]\n"
     ]
    },
    {
     "name": "stdout",
     "output_type": "stream",
     "text": [
      "Epoch 51, Loss: 49.9074, Recon: 41.8325, KL: 8.0749\n",
      "\n",
      "===== Epoch 52 =====\n"
     ]
    },
    {
     "name": "stderr",
     "output_type": "stream",
     "text": [
      "Epoch 52/500: 100%|███████████████████████████| 11/11 [00:00<00:00, 1498.70it/s]\n"
     ]
    },
    {
     "name": "stdout",
     "output_type": "stream",
     "text": [
      "Epoch 52, Loss: 51.1372, Recon: 42.3993, KL: 8.7379\n",
      "\n",
      "===== Epoch 53 =====\n"
     ]
    },
    {
     "name": "stderr",
     "output_type": "stream",
     "text": [
      "Epoch 53/500: 100%|███████████████████████████| 11/11 [00:00<00:00, 1474.13it/s]\n"
     ]
    },
    {
     "name": "stdout",
     "output_type": "stream",
     "text": [
      "Epoch 53, Loss: 50.4739, Recon: 41.8827, KL: 8.5912\n",
      "\n",
      "===== Epoch 54 =====\n"
     ]
    },
    {
     "name": "stderr",
     "output_type": "stream",
     "text": [
      "Epoch 54/500: 100%|███████████████████████████| 11/11 [00:00<00:00, 1427.69it/s]\n"
     ]
    },
    {
     "name": "stdout",
     "output_type": "stream",
     "text": [
      "Epoch 54, Loss: 49.9883, Recon: 41.3032, KL: 8.6851\n",
      "\n",
      "===== Epoch 55 =====\n"
     ]
    },
    {
     "name": "stderr",
     "output_type": "stream",
     "text": [
      "Epoch 55/500: 100%|███████████████████████████| 11/11 [00:00<00:00, 1533.57it/s]\n"
     ]
    },
    {
     "name": "stdout",
     "output_type": "stream",
     "text": [
      "Epoch 55, Loss: 49.5091, Recon: 41.0614, KL: 8.4478\n",
      "\n",
      "===== Epoch 56 =====\n"
     ]
    },
    {
     "name": "stderr",
     "output_type": "stream",
     "text": [
      "Epoch 56/500: 100%|███████████████████████████| 11/11 [00:00<00:00, 1474.13it/s]\n"
     ]
    },
    {
     "name": "stdout",
     "output_type": "stream",
     "text": [
      "Epoch 56, Loss: 48.7704, Recon: 40.5704, KL: 8.2000\n",
      "\n",
      "===== Epoch 57 =====\n"
     ]
    },
    {
     "name": "stderr",
     "output_type": "stream",
     "text": [
      "Epoch 57/500: 100%|███████████████████████████| 11/11 [00:00<00:00, 1537.96it/s]\n"
     ]
    },
    {
     "name": "stdout",
     "output_type": "stream",
     "text": [
      "Epoch 57, Loss: 49.3985, Recon: 40.4619, KL: 8.9366\n",
      "\n",
      "===== Epoch 58 =====\n"
     ]
    },
    {
     "name": "stderr",
     "output_type": "stream",
     "text": [
      "Epoch 58/500: 100%|███████████████████████████| 11/11 [00:00<00:00, 1502.50it/s]\n"
     ]
    },
    {
     "name": "stdout",
     "output_type": "stream",
     "text": [
      "Epoch 58, Loss: 46.2505, Recon: 37.7157, KL: 8.5348\n",
      "\n",
      "===== Epoch 59 =====\n"
     ]
    },
    {
     "name": "stderr",
     "output_type": "stream",
     "text": [
      "Epoch 59/500: 100%|███████████████████████████| 11/11 [00:00<00:00, 1487.77it/s]\n"
     ]
    },
    {
     "name": "stdout",
     "output_type": "stream",
     "text": [
      "Epoch 59, Loss: 48.9314, Recon: 40.7876, KL: 8.1438\n",
      "\n",
      "===== Epoch 60 =====\n"
     ]
    },
    {
     "name": "stderr",
     "output_type": "stream",
     "text": [
      "Epoch 60/500: 100%|███████████████████████████| 11/11 [00:00<00:00, 1380.86it/s]\n"
     ]
    },
    {
     "name": "stdout",
     "output_type": "stream",
     "text": [
      "Epoch 60, Loss: 49.1104, Recon: 40.8311, KL: 8.2793\n",
      "\n",
      "===== Epoch 61 =====\n"
     ]
    },
    {
     "name": "stderr",
     "output_type": "stream",
     "text": [
      "Epoch 61/500: 100%|███████████████████████████| 11/11 [00:00<00:00, 1498.84it/s]\n"
     ]
    },
    {
     "name": "stdout",
     "output_type": "stream",
     "text": [
      "Epoch 61, Loss: 48.3993, Recon: 39.4151, KL: 8.9841\n",
      "\n",
      "===== Epoch 62 =====\n"
     ]
    },
    {
     "name": "stderr",
     "output_type": "stream",
     "text": [
      "Epoch 62/500: 100%|███████████████████████████| 11/11 [00:00<00:00, 1523.14it/s]\n"
     ]
    },
    {
     "name": "stdout",
     "output_type": "stream",
     "text": [
      "Epoch 62, Loss: 48.4478, Recon: 38.9337, KL: 9.5141\n",
      "\n",
      "===== Epoch 63 =====\n"
     ]
    },
    {
     "name": "stderr",
     "output_type": "stream",
     "text": [
      "Epoch 63/500: 100%|███████████████████████████| 11/11 [00:00<00:00, 1479.66it/s]\n"
     ]
    },
    {
     "name": "stdout",
     "output_type": "stream",
     "text": [
      "Epoch 63, Loss: 46.4178, Recon: 38.0291, KL: 8.3887\n",
      "\n",
      "===== Epoch 64 =====\n"
     ]
    },
    {
     "name": "stderr",
     "output_type": "stream",
     "text": [
      "Epoch 64/500: 100%|███████████████████████████| 11/11 [00:00<00:00, 1508.89it/s]\n"
     ]
    },
    {
     "name": "stdout",
     "output_type": "stream",
     "text": [
      "Epoch 64, Loss: 46.7066, Recon: 37.5755, KL: 9.1310\n",
      "\n",
      "===== Epoch 65 =====\n"
     ]
    },
    {
     "name": "stderr",
     "output_type": "stream",
     "text": [
      "Epoch 65/500: 100%|███████████████████████████| 11/11 [00:00<00:00, 1347.67it/s]\n"
     ]
    },
    {
     "name": "stdout",
     "output_type": "stream",
     "text": [
      "Epoch 65, Loss: 47.9845, Recon: 39.0621, KL: 8.9224\n",
      "\n",
      "===== Epoch 66 =====\n"
     ]
    },
    {
     "name": "stderr",
     "output_type": "stream",
     "text": [
      "Epoch 66/500: 100%|███████████████████████████| 11/11 [00:00<00:00, 1429.46it/s]\n"
     ]
    },
    {
     "name": "stdout",
     "output_type": "stream",
     "text": [
      "Epoch 66, Loss: 48.2140, Recon: 39.1627, KL: 9.0513\n",
      "\n",
      "===== Epoch 67 =====\n"
     ]
    },
    {
     "name": "stderr",
     "output_type": "stream",
     "text": [
      "Epoch 67/500: 100%|███████████████████████████| 11/11 [00:00<00:00, 1385.01it/s]\n"
     ]
    },
    {
     "name": "stdout",
     "output_type": "stream",
     "text": [
      "Epoch 67, Loss: 47.6422, Recon: 38.4797, KL: 9.1625\n",
      "\n",
      "===== Epoch 68 =====\n"
     ]
    },
    {
     "name": "stderr",
     "output_type": "stream",
     "text": [
      "Epoch 68/500: 100%|███████████████████████████| 11/11 [00:00<00:00, 1489.12it/s]\n"
     ]
    },
    {
     "name": "stdout",
     "output_type": "stream",
     "text": [
      "Epoch 68, Loss: 44.8699, Recon: 36.5966, KL: 8.2733\n",
      "\n",
      "===== Epoch 69 =====\n"
     ]
    },
    {
     "name": "stderr",
     "output_type": "stream",
     "text": [
      "Epoch 69/500: 100%|███████████████████████████| 11/11 [00:00<00:00, 1548.65it/s]\n"
     ]
    },
    {
     "name": "stdout",
     "output_type": "stream",
     "text": [
      "Epoch 69, Loss: 45.8265, Recon: 36.7200, KL: 9.1065\n",
      "\n",
      "===== Epoch 70 =====\n"
     ]
    },
    {
     "name": "stderr",
     "output_type": "stream",
     "text": [
      "Epoch 70/500: 100%|███████████████████████████| 11/11 [00:00<00:00, 1506.43it/s]\n"
     ]
    },
    {
     "name": "stdout",
     "output_type": "stream",
     "text": [
      "Epoch 70, Loss: 46.3601, Recon: 36.6438, KL: 9.7163\n",
      "\n",
      "===== Epoch 71 =====\n"
     ]
    },
    {
     "name": "stderr",
     "output_type": "stream",
     "text": [
      "Epoch 71/500: 100%|███████████████████████████| 11/11 [00:00<00:00, 1495.97it/s]\n"
     ]
    },
    {
     "name": "stdout",
     "output_type": "stream",
     "text": [
      "Epoch 71, Loss: 46.7294, Recon: 37.6639, KL: 9.0655\n",
      "\n",
      "===== Epoch 72 =====\n"
     ]
    },
    {
     "name": "stderr",
     "output_type": "stream",
     "text": [
      "Epoch 72/500: 100%|███████████████████████████| 11/11 [00:00<00:00, 1451.18it/s]\n"
     ]
    },
    {
     "name": "stdout",
     "output_type": "stream",
     "text": [
      "Epoch 72, Loss: 45.1706, Recon: 36.1405, KL: 9.0301\n",
      "\n",
      "===== Epoch 73 =====\n"
     ]
    },
    {
     "name": "stderr",
     "output_type": "stream",
     "text": [
      "Epoch 73/500: 100%|███████████████████████████| 11/11 [00:00<00:00, 1473.14it/s]\n"
     ]
    },
    {
     "name": "stdout",
     "output_type": "stream",
     "text": [
      "Epoch 73, Loss: 45.2164, Recon: 36.1665, KL: 9.0500\n",
      "\n",
      "===== Epoch 74 =====\n"
     ]
    },
    {
     "name": "stderr",
     "output_type": "stream",
     "text": [
      "Epoch 74/500: 100%|███████████████████████████| 11/11 [00:00<00:00, 1537.76it/s]\n"
     ]
    },
    {
     "name": "stdout",
     "output_type": "stream",
     "text": [
      "Epoch 74, Loss: 45.5034, Recon: 36.7416, KL: 8.7618\n",
      "\n",
      "===== Epoch 75 =====\n"
     ]
    },
    {
     "name": "stderr",
     "output_type": "stream",
     "text": [
      "Epoch 75/500: 100%|███████████████████████████| 11/11 [00:00<00:00, 1557.48it/s]\n"
     ]
    },
    {
     "name": "stdout",
     "output_type": "stream",
     "text": [
      "Epoch 75, Loss: 45.1929, Recon: 36.1912, KL: 9.0016\n",
      "\n",
      "===== Epoch 76 =====\n"
     ]
    },
    {
     "name": "stderr",
     "output_type": "stream",
     "text": [
      "Epoch 76/500: 100%|███████████████████████████| 11/11 [00:00<00:00, 1556.75it/s]\n"
     ]
    },
    {
     "name": "stdout",
     "output_type": "stream",
     "text": [
      "Epoch 76, Loss: 44.7545, Recon: 35.5900, KL: 9.1645\n",
      "\n",
      "===== Epoch 77 =====\n"
     ]
    },
    {
     "name": "stderr",
     "output_type": "stream",
     "text": [
      "Epoch 77/500: 100%|███████████████████████████| 11/11 [00:00<00:00, 1322.78it/s]\n"
     ]
    },
    {
     "name": "stdout",
     "output_type": "stream",
     "text": [
      "Epoch 77, Loss: 45.1556, Recon: 36.2962, KL: 8.8594\n",
      "\n",
      "===== Epoch 78 =====\n"
     ]
    },
    {
     "name": "stderr",
     "output_type": "stream",
     "text": [
      "Epoch 78/500: 100%|███████████████████████████| 11/11 [00:00<00:00, 1406.11it/s]\n"
     ]
    },
    {
     "name": "stdout",
     "output_type": "stream",
     "text": [
      "Epoch 78, Loss: 43.8400, Recon: 35.0468, KL: 8.7932\n",
      "\n",
      "===== Epoch 79 =====\n"
     ]
    },
    {
     "name": "stderr",
     "output_type": "stream",
     "text": [
      "Epoch 79/500: 100%|███████████████████████████| 11/11 [00:00<00:00, 1407.74it/s]\n"
     ]
    },
    {
     "name": "stdout",
     "output_type": "stream",
     "text": [
      "Epoch 79, Loss: 43.9012, Recon: 34.7562, KL: 9.1450\n",
      "\n",
      "===== Epoch 80 =====\n"
     ]
    },
    {
     "name": "stderr",
     "output_type": "stream",
     "text": [
      "Epoch 80/500: 100%|███████████████████████████| 11/11 [00:00<00:00, 1551.51it/s]\n"
     ]
    },
    {
     "name": "stdout",
     "output_type": "stream",
     "text": [
      "Epoch 80, Loss: 45.2375, Recon: 35.9203, KL: 9.3172\n",
      "\n",
      "===== Epoch 81 =====\n"
     ]
    },
    {
     "name": "stderr",
     "output_type": "stream",
     "text": [
      "Epoch 81/500: 100%|███████████████████████████| 11/11 [00:00<00:00, 1566.10it/s]\n"
     ]
    },
    {
     "name": "stdout",
     "output_type": "stream",
     "text": [
      "Epoch 81, Loss: 43.1410, Recon: 34.5504, KL: 8.5906\n",
      "\n",
      "===== Epoch 82 =====\n"
     ]
    },
    {
     "name": "stderr",
     "output_type": "stream",
     "text": [
      "Epoch 82/500: 100%|███████████████████████████| 11/11 [00:00<00:00, 1530.16it/s]\n"
     ]
    },
    {
     "name": "stdout",
     "output_type": "stream",
     "text": [
      "Epoch 82, Loss: 44.5788, Recon: 35.2132, KL: 9.3656\n",
      "\n",
      "===== Epoch 83 =====\n"
     ]
    },
    {
     "name": "stderr",
     "output_type": "stream",
     "text": [
      "Epoch 83/500: 100%|███████████████████████████| 11/11 [00:00<00:00, 1537.55it/s]\n"
     ]
    },
    {
     "name": "stdout",
     "output_type": "stream",
     "text": [
      "Epoch 83, Loss: 43.9633, Recon: 34.9391, KL: 9.0242\n",
      "\n",
      "===== Epoch 84 =====\n"
     ]
    },
    {
     "name": "stderr",
     "output_type": "stream",
     "text": [
      "Epoch 84/500: 100%|███████████████████████████| 11/11 [00:00<00:00, 1489.45it/s]\n"
     ]
    },
    {
     "name": "stdout",
     "output_type": "stream",
     "text": [
      "Epoch 84, Loss: 42.1951, Recon: 33.3637, KL: 8.8314\n",
      "\n",
      "===== Epoch 85 =====\n"
     ]
    },
    {
     "name": "stderr",
     "output_type": "stream",
     "text": [
      "Epoch 85/500: 100%|███████████████████████████| 11/11 [00:00<00:00, 1554.07it/s]\n"
     ]
    },
    {
     "name": "stdout",
     "output_type": "stream",
     "text": [
      "Epoch 85, Loss: 42.7782, Recon: 34.0422, KL: 8.7360\n",
      "\n",
      "===== Epoch 86 =====\n"
     ]
    },
    {
     "name": "stderr",
     "output_type": "stream",
     "text": [
      "Epoch 86/500: 100%|███████████████████████████| 11/11 [00:00<00:00, 1489.31it/s]\n"
     ]
    },
    {
     "name": "stdout",
     "output_type": "stream",
     "text": [
      "Epoch 86, Loss: 44.0304, Recon: 34.8099, KL: 9.2205\n",
      "\n",
      "===== Epoch 87 =====\n"
     ]
    },
    {
     "name": "stderr",
     "output_type": "stream",
     "text": [
      "Epoch 87/500: 100%|███████████████████████████| 11/11 [00:00<00:00, 1559.59it/s]\n"
     ]
    },
    {
     "name": "stdout",
     "output_type": "stream",
     "text": [
      "Epoch 87, Loss: 43.6685, Recon: 34.4302, KL: 9.2383\n",
      "\n",
      "===== Epoch 88 =====\n"
     ]
    },
    {
     "name": "stderr",
     "output_type": "stream",
     "text": [
      "Epoch 88/500: 100%|███████████████████████████| 11/11 [00:00<00:00, 1562.71it/s]\n"
     ]
    },
    {
     "name": "stdout",
     "output_type": "stream",
     "text": [
      "Epoch 88, Loss: 43.2868, Recon: 34.0230, KL: 9.2638\n",
      "\n",
      "===== Epoch 89 =====\n"
     ]
    },
    {
     "name": "stderr",
     "output_type": "stream",
     "text": [
      "Epoch 89/500: 100%|███████████████████████████| 11/11 [00:00<00:00, 1502.70it/s]\n"
     ]
    },
    {
     "name": "stdout",
     "output_type": "stream",
     "text": [
      "Epoch 89, Loss: 42.4192, Recon: 33.3640, KL: 9.0553\n",
      "\n",
      "===== Epoch 90 =====\n"
     ]
    },
    {
     "name": "stderr",
     "output_type": "stream",
     "text": [
      "Epoch 90/500: 100%|███████████████████████████| 11/11 [00:00<00:00, 1534.38it/s]\n"
     ]
    },
    {
     "name": "stdout",
     "output_type": "stream",
     "text": [
      "Epoch 90, Loss: 42.4203, Recon: 33.5516, KL: 8.8687\n",
      "\n",
      "===== Epoch 91 =====\n"
     ]
    },
    {
     "name": "stderr",
     "output_type": "stream",
     "text": [
      "Epoch 91/500: 100%|███████████████████████████| 11/11 [00:00<00:00, 1353.87it/s]\n"
     ]
    },
    {
     "name": "stdout",
     "output_type": "stream",
     "text": [
      "Epoch 91, Loss: 43.1535, Recon: 34.0223, KL: 9.1312\n",
      "\n",
      "===== Epoch 92 =====\n"
     ]
    },
    {
     "name": "stderr",
     "output_type": "stream",
     "text": [
      "Epoch 92/500: 100%|███████████████████████████| 11/11 [00:00<00:00, 1463.52it/s]\n"
     ]
    },
    {
     "name": "stdout",
     "output_type": "stream",
     "text": [
      "Epoch 92, Loss: 42.4923, Recon: 33.1290, KL: 9.3632\n",
      "\n",
      "===== Epoch 93 =====\n"
     ]
    },
    {
     "name": "stderr",
     "output_type": "stream",
     "text": [
      "Epoch 93/500: 100%|███████████████████████████| 11/11 [00:00<00:00, 1542.33it/s]\n"
     ]
    },
    {
     "name": "stdout",
     "output_type": "stream",
     "text": [
      "Epoch 93, Loss: 41.9439, Recon: 32.9764, KL: 8.9675\n",
      "\n",
      "===== Epoch 94 =====\n"
     ]
    },
    {
     "name": "stderr",
     "output_type": "stream",
     "text": [
      "Epoch 94/500: 100%|███████████████████████████| 11/11 [00:00<00:00, 1524.80it/s]\n"
     ]
    },
    {
     "name": "stdout",
     "output_type": "stream",
     "text": [
      "Epoch 94, Loss: 44.3062, Recon: 35.1358, KL: 9.1704\n",
      "\n",
      "===== Epoch 95 =====\n"
     ]
    },
    {
     "name": "stderr",
     "output_type": "stream",
     "text": [
      "Epoch 95/500: 100%|███████████████████████████| 11/11 [00:00<00:00, 1517.08it/s]\n"
     ]
    },
    {
     "name": "stdout",
     "output_type": "stream",
     "text": [
      "Epoch 95, Loss: 40.5640, Recon: 31.5535, KL: 9.0105\n",
      "\n",
      "===== Epoch 96 =====\n"
     ]
    },
    {
     "name": "stderr",
     "output_type": "stream",
     "text": [
      "Epoch 96/500: 100%|███████████████████████████| 11/11 [00:00<00:00, 1502.80it/s]\n"
     ]
    },
    {
     "name": "stdout",
     "output_type": "stream",
     "text": [
      "Epoch 96, Loss: 42.8710, Recon: 33.9410, KL: 8.9299\n",
      "\n",
      "===== Epoch 97 =====\n"
     ]
    },
    {
     "name": "stderr",
     "output_type": "stream",
     "text": [
      "Epoch 97/500: 100%|███████████████████████████| 11/11 [00:00<00:00, 1468.64it/s]\n"
     ]
    },
    {
     "name": "stdout",
     "output_type": "stream",
     "text": [
      "Epoch 97, Loss: 42.8469, Recon: 33.5747, KL: 9.2722\n",
      "\n",
      "===== Epoch 98 =====\n"
     ]
    },
    {
     "name": "stderr",
     "output_type": "stream",
     "text": [
      "Epoch 98/500: 100%|███████████████████████████| 11/11 [00:00<00:00, 1525.05it/s]\n"
     ]
    },
    {
     "name": "stdout",
     "output_type": "stream",
     "text": [
      "Epoch 98, Loss: 41.7985, Recon: 32.6548, KL: 9.1436\n",
      "\n",
      "===== Epoch 99 =====\n"
     ]
    },
    {
     "name": "stderr",
     "output_type": "stream",
     "text": [
      "Epoch 99/500: 100%|███████████████████████████| 11/11 [00:00<00:00, 1507.90it/s]\n"
     ]
    },
    {
     "name": "stdout",
     "output_type": "stream",
     "text": [
      "Epoch 99, Loss: 42.0444, Recon: 32.5222, KL: 9.5222\n",
      "\n",
      "===== Epoch 100 =====\n"
     ]
    },
    {
     "name": "stderr",
     "output_type": "stream",
     "text": [
      "Epoch 100/500: 100%|██████████████████████████| 11/11 [00:00<00:00, 1534.59it/s]\n"
     ]
    },
    {
     "name": "stdout",
     "output_type": "stream",
     "text": [
      "Epoch 100, Loss: 42.1146, Recon: 32.5521, KL: 9.5625\n",
      "\n",
      "===== Epoch 101 =====\n"
     ]
    },
    {
     "name": "stderr",
     "output_type": "stream",
     "text": [
      "Epoch 101/500: 100%|██████████████████████████| 11/11 [00:00<00:00, 1420.83it/s]\n"
     ]
    },
    {
     "name": "stdout",
     "output_type": "stream",
     "text": [
      "Epoch 101, Loss: 40.5590, Recon: 31.7115, KL: 8.8474\n",
      "\n",
      "===== Epoch 102 =====\n"
     ]
    },
    {
     "name": "stderr",
     "output_type": "stream",
     "text": [
      "Epoch 102/500: 100%|██████████████████████████| 11/11 [00:00<00:00, 1471.54it/s]\n"
     ]
    },
    {
     "name": "stdout",
     "output_type": "stream",
     "text": [
      "Epoch 102, Loss: 42.0598, Recon: 32.8095, KL: 9.2503\n",
      "\n",
      "===== Epoch 103 =====\n"
     ]
    },
    {
     "name": "stderr",
     "output_type": "stream",
     "text": [
      "Epoch 103/500: 100%|██████████████████████████| 11/11 [00:00<00:00, 1321.61it/s]\n"
     ]
    },
    {
     "name": "stdout",
     "output_type": "stream",
     "text": [
      "Epoch 103, Loss: 42.3545, Recon: 32.9710, KL: 9.3834\n",
      "\n",
      "===== Epoch 104 =====\n"
     ]
    },
    {
     "name": "stderr",
     "output_type": "stream",
     "text": [
      "Epoch 104/500: 100%|██████████████████████████| 11/11 [00:00<00:00, 1367.32it/s]\n"
     ]
    },
    {
     "name": "stdout",
     "output_type": "stream",
     "text": [
      "Epoch 104, Loss: 43.2928, Recon: 33.7837, KL: 9.5091\n",
      "\n",
      "===== Epoch 105 =====\n"
     ]
    },
    {
     "name": "stderr",
     "output_type": "stream",
     "text": [
      "Epoch 105/500: 100%|██████████████████████████| 11/11 [00:00<00:00, 1324.19it/s]\n"
     ]
    },
    {
     "name": "stdout",
     "output_type": "stream",
     "text": [
      "Epoch 105, Loss: 39.7476, Recon: 31.3149, KL: 8.4326\n",
      "\n",
      "===== Epoch 106 =====\n"
     ]
    },
    {
     "name": "stderr",
     "output_type": "stream",
     "text": [
      "Epoch 106/500: 100%|██████████████████████████| 11/11 [00:00<00:00, 1524.65it/s]\n"
     ]
    },
    {
     "name": "stdout",
     "output_type": "stream",
     "text": [
      "Epoch 106, Loss: 42.2592, Recon: 32.7787, KL: 9.4806\n",
      "\n",
      "===== Epoch 107 =====\n"
     ]
    },
    {
     "name": "stderr",
     "output_type": "stream",
     "text": [
      "Epoch 107/500: 100%|██████████████████████████| 11/11 [00:00<00:00, 1433.24it/s]\n"
     ]
    },
    {
     "name": "stdout",
     "output_type": "stream",
     "text": [
      "Epoch 107, Loss: 40.2516, Recon: 30.9850, KL: 9.2666\n",
      "\n",
      "===== Epoch 108 =====\n"
     ]
    },
    {
     "name": "stderr",
     "output_type": "stream",
     "text": [
      "Epoch 108/500: 100%|██████████████████████████| 11/11 [00:00<00:00, 1514.69it/s]\n"
     ]
    },
    {
     "name": "stdout",
     "output_type": "stream",
     "text": [
      "Epoch 108, Loss: 39.9040, Recon: 30.6420, KL: 9.2619\n",
      "\n",
      "===== Epoch 109 =====\n"
     ]
    },
    {
     "name": "stderr",
     "output_type": "stream",
     "text": [
      "Epoch 109/500: 100%|██████████████████████████| 11/11 [00:00<00:00, 1432.44it/s]\n"
     ]
    },
    {
     "name": "stdout",
     "output_type": "stream",
     "text": [
      "Epoch 109, Loss: 40.1692, Recon: 31.0985, KL: 9.0707\n",
      "\n",
      "===== Epoch 110 =====\n"
     ]
    },
    {
     "name": "stderr",
     "output_type": "stream",
     "text": [
      "Epoch 110/500: 100%|██████████████████████████| 11/11 [00:00<00:00, 1414.95it/s]\n"
     ]
    },
    {
     "name": "stdout",
     "output_type": "stream",
     "text": [
      "Epoch 110, Loss: 41.3448, Recon: 32.2290, KL: 9.1158\n",
      "\n",
      "===== Epoch 111 =====\n"
     ]
    },
    {
     "name": "stderr",
     "output_type": "stream",
     "text": [
      "Epoch 111/500: 100%|██████████████████████████| 11/11 [00:00<00:00, 1604.89it/s]\n"
     ]
    },
    {
     "name": "stdout",
     "output_type": "stream",
     "text": [
      "Epoch 111, Loss: 41.9842, Recon: 32.5717, KL: 9.4125\n",
      "\n",
      "===== Epoch 112 =====\n"
     ]
    },
    {
     "name": "stderr",
     "output_type": "stream",
     "text": [
      "Epoch 112/500: 100%|██████████████████████████| 11/11 [00:00<00:00, 1559.85it/s]\n"
     ]
    },
    {
     "name": "stdout",
     "output_type": "stream",
     "text": [
      "Epoch 112, Loss: 41.3218, Recon: 31.9770, KL: 9.3448\n",
      "\n",
      "===== Epoch 113 =====\n"
     ]
    },
    {
     "name": "stderr",
     "output_type": "stream",
     "text": [
      "Epoch 113/500: 100%|██████████████████████████| 11/11 [00:00<00:00, 1575.94it/s]\n"
     ]
    },
    {
     "name": "stdout",
     "output_type": "stream",
     "text": [
      "Epoch 113, Loss: 40.8458, Recon: 31.7865, KL: 9.0593\n",
      "\n",
      "===== Epoch 114 =====\n"
     ]
    },
    {
     "name": "stderr",
     "output_type": "stream",
     "text": [
      "Epoch 114/500: 100%|██████████████████████████| 11/11 [00:00<00:00, 1570.53it/s]\n"
     ]
    },
    {
     "name": "stdout",
     "output_type": "stream",
     "text": [
      "Epoch 114, Loss: 41.6674, Recon: 32.2626, KL: 9.4048\n",
      "\n",
      "===== Epoch 115 =====\n"
     ]
    },
    {
     "name": "stderr",
     "output_type": "stream",
     "text": [
      "Epoch 115/500: 100%|██████████████████████████| 11/11 [00:00<00:00, 1283.98it/s]\n"
     ]
    },
    {
     "name": "stdout",
     "output_type": "stream",
     "text": [
      "Epoch 115, Loss: 40.9124, Recon: 31.5044, KL: 9.4081\n",
      "\n",
      "===== Epoch 116 =====\n"
     ]
    },
    {
     "name": "stderr",
     "output_type": "stream",
     "text": [
      "Epoch 116/500: 100%|██████████████████████████| 11/11 [00:00<00:00, 1544.09it/s]\n"
     ]
    },
    {
     "name": "stdout",
     "output_type": "stream",
     "text": [
      "Epoch 116, Loss: 39.6477, Recon: 30.5221, KL: 9.1255\n",
      "\n",
      "===== Epoch 117 =====\n"
     ]
    },
    {
     "name": "stderr",
     "output_type": "stream",
     "text": [
      "Epoch 117/500: 100%|██████████████████████████| 11/11 [00:00<00:00, 1536.73it/s]\n"
     ]
    },
    {
     "name": "stdout",
     "output_type": "stream",
     "text": [
      "Epoch 117, Loss: 38.9636, Recon: 29.6121, KL: 9.3515\n",
      "\n",
      "===== Epoch 118 =====\n"
     ]
    },
    {
     "name": "stderr",
     "output_type": "stream",
     "text": [
      "Epoch 118/500: 100%|██████████████████████████| 11/11 [00:00<00:00, 1504.61it/s]\n"
     ]
    },
    {
     "name": "stdout",
     "output_type": "stream",
     "text": [
      "Epoch 118, Loss: 39.1947, Recon: 29.9108, KL: 9.2839\n",
      "\n",
      "===== Epoch 119 =====\n"
     ]
    },
    {
     "name": "stderr",
     "output_type": "stream",
     "text": [
      "Epoch 119/500: 100%|██████████████████████████| 11/11 [00:00<00:00, 1448.72it/s]\n"
     ]
    },
    {
     "name": "stdout",
     "output_type": "stream",
     "text": [
      "Epoch 119, Loss: 41.3643, Recon: 32.1608, KL: 9.2034\n",
      "\n",
      "===== Epoch 120 =====\n"
     ]
    },
    {
     "name": "stderr",
     "output_type": "stream",
     "text": [
      "Epoch 120/500: 100%|██████████████████████████| 11/11 [00:00<00:00, 1500.01it/s]\n"
     ]
    },
    {
     "name": "stdout",
     "output_type": "stream",
     "text": [
      "Epoch 120, Loss: 40.2547, Recon: 30.8711, KL: 9.3836\n",
      "\n",
      "===== Epoch 121 =====\n"
     ]
    },
    {
     "name": "stderr",
     "output_type": "stream",
     "text": [
      "Epoch 121/500: 100%|██████████████████████████| 11/11 [00:00<00:00, 1486.48it/s]\n"
     ]
    },
    {
     "name": "stdout",
     "output_type": "stream",
     "text": [
      "Epoch 121, Loss: 39.7439, Recon: 30.3869, KL: 9.3570\n",
      "\n",
      "===== Epoch 122 =====\n"
     ]
    },
    {
     "name": "stderr",
     "output_type": "stream",
     "text": [
      "Epoch 122/500: 100%|██████████████████████████| 11/11 [00:00<00:00, 1587.22it/s]\n"
     ]
    },
    {
     "name": "stdout",
     "output_type": "stream",
     "text": [
      "Epoch 122, Loss: 39.2692, Recon: 30.4685, KL: 8.8007\n",
      "\n",
      "===== Epoch 123 =====\n"
     ]
    },
    {
     "name": "stderr",
     "output_type": "stream",
     "text": [
      "Epoch 123/500: 100%|██████████████████████████| 11/11 [00:00<00:00, 1599.94it/s]\n"
     ]
    },
    {
     "name": "stdout",
     "output_type": "stream",
     "text": [
      "Epoch 123, Loss: 40.0772, Recon: 31.0357, KL: 9.0415\n",
      "\n",
      "===== Epoch 124 =====\n"
     ]
    },
    {
     "name": "stderr",
     "output_type": "stream",
     "text": [
      "Epoch 124/500: 100%|██████████████████████████| 11/11 [00:00<00:00, 1547.35it/s]\n"
     ]
    },
    {
     "name": "stdout",
     "output_type": "stream",
     "text": [
      "Epoch 124, Loss: 39.1053, Recon: 29.8226, KL: 9.2827\n",
      "\n",
      "===== Epoch 125 =====\n"
     ]
    },
    {
     "name": "stderr",
     "output_type": "stream",
     "text": [
      "Epoch 125/500: 100%|██████████████████████████| 11/11 [00:00<00:00, 1562.55it/s]\n"
     ]
    },
    {
     "name": "stdout",
     "output_type": "stream",
     "text": [
      "Epoch 125, Loss: 38.0999, Recon: 28.9486, KL: 9.1513\n",
      "\n",
      "===== Epoch 126 =====\n"
     ]
    },
    {
     "name": "stderr",
     "output_type": "stream",
     "text": [
      "Epoch 126/500: 100%|██████████████████████████| 11/11 [00:00<00:00, 1436.23it/s]\n"
     ]
    },
    {
     "name": "stdout",
     "output_type": "stream",
     "text": [
      "Epoch 126, Loss: 39.0816, Recon: 29.5653, KL: 9.5163\n",
      "\n",
      "===== Epoch 127 =====\n"
     ]
    },
    {
     "name": "stderr",
     "output_type": "stream",
     "text": [
      "Epoch 127/500: 100%|██████████████████████████| 11/11 [00:00<00:00, 1356.66it/s]\n"
     ]
    },
    {
     "name": "stdout",
     "output_type": "stream",
     "text": [
      "Epoch 127, Loss: 38.7274, Recon: 29.6175, KL: 9.1100\n",
      "\n",
      "===== Epoch 128 =====\n"
     ]
    },
    {
     "name": "stderr",
     "output_type": "stream",
     "text": [
      "Epoch 128/500: 100%|██████████████████████████| 11/11 [00:00<00:00, 1541.04it/s]\n"
     ]
    },
    {
     "name": "stdout",
     "output_type": "stream",
     "text": [
      "Epoch 128, Loss: 38.0816, Recon: 28.9876, KL: 9.0940\n",
      "\n",
      "===== Epoch 129 =====\n"
     ]
    },
    {
     "name": "stderr",
     "output_type": "stream",
     "text": [
      "Epoch 129/500: 100%|██████████████████████████| 11/11 [00:00<00:00, 1484.66it/s]\n"
     ]
    },
    {
     "name": "stdout",
     "output_type": "stream",
     "text": [
      "Epoch 129, Loss: 38.7980, Recon: 29.5415, KL: 9.2565\n",
      "\n",
      "===== Epoch 130 =====\n"
     ]
    },
    {
     "name": "stderr",
     "output_type": "stream",
     "text": [
      "Epoch 130/500: 100%|██████████████████████████| 11/11 [00:00<00:00, 1524.65it/s]\n"
     ]
    },
    {
     "name": "stdout",
     "output_type": "stream",
     "text": [
      "Epoch 130, Loss: 37.9994, Recon: 29.0302, KL: 8.9693\n",
      "\n",
      "===== Epoch 131 =====\n"
     ]
    },
    {
     "name": "stderr",
     "output_type": "stream",
     "text": [
      "Epoch 131/500: 100%|██████████████████████████| 11/11 [00:00<00:00, 1520.83it/s]\n"
     ]
    },
    {
     "name": "stdout",
     "output_type": "stream",
     "text": [
      "Epoch 131, Loss: 38.5511, Recon: 29.2153, KL: 9.3359\n",
      "\n",
      "===== Epoch 132 =====\n"
     ]
    },
    {
     "name": "stderr",
     "output_type": "stream",
     "text": [
      "Epoch 132/500: 100%|██████████████████████████| 11/11 [00:00<00:00, 1501.28it/s]\n"
     ]
    },
    {
     "name": "stdout",
     "output_type": "stream",
     "text": [
      "Epoch 132, Loss: 38.7698, Recon: 29.4518, KL: 9.3180\n",
      "\n",
      "===== Epoch 133 =====\n"
     ]
    },
    {
     "name": "stderr",
     "output_type": "stream",
     "text": [
      "Epoch 133/500: 100%|██████████████████████████| 11/11 [00:00<00:00, 1532.45it/s]\n"
     ]
    },
    {
     "name": "stdout",
     "output_type": "stream",
     "text": [
      "Epoch 133, Loss: 40.3494, Recon: 30.5090, KL: 9.8404\n",
      "\n",
      "===== Epoch 134 =====\n"
     ]
    },
    {
     "name": "stderr",
     "output_type": "stream",
     "text": [
      "Epoch 134/500: 100%|██████████████████████████| 11/11 [00:00<00:00, 1542.59it/s]\n"
     ]
    },
    {
     "name": "stdout",
     "output_type": "stream",
     "text": [
      "Epoch 134, Loss: 38.4606, Recon: 28.9395, KL: 9.5212\n",
      "\n",
      "===== Epoch 135 =====\n"
     ]
    },
    {
     "name": "stderr",
     "output_type": "stream",
     "text": [
      "Epoch 135/500: 100%|██████████████████████████| 11/11 [00:00<00:00, 1429.46it/s]\n"
     ]
    },
    {
     "name": "stdout",
     "output_type": "stream",
     "text": [
      "Epoch 135, Loss: 38.6212, Recon: 29.3348, KL: 9.2864\n",
      "\n",
      "===== Epoch 136 =====\n"
     ]
    },
    {
     "name": "stderr",
     "output_type": "stream",
     "text": [
      "Epoch 136/500: 100%|██████████████████████████| 11/11 [00:00<00:00, 1532.90it/s]\n"
     ]
    },
    {
     "name": "stdout",
     "output_type": "stream",
     "text": [
      "Epoch 136, Loss: 37.4882, Recon: 27.7732, KL: 9.7151\n",
      "\n",
      "===== Epoch 137 =====\n"
     ]
    },
    {
     "name": "stderr",
     "output_type": "stream",
     "text": [
      "Epoch 137/500: 100%|██████████████████████████| 11/11 [00:00<00:00, 1481.47it/s]\n"
     ]
    },
    {
     "name": "stdout",
     "output_type": "stream",
     "text": [
      "Epoch 137, Loss: 38.3783, Recon: 29.0169, KL: 9.3614\n",
      "\n",
      "===== Epoch 138 =====\n"
     ]
    },
    {
     "name": "stderr",
     "output_type": "stream",
     "text": [
      "Epoch 138/500: 100%|██████████████████████████| 11/11 [00:00<00:00, 1302.25it/s]\n"
     ]
    },
    {
     "name": "stdout",
     "output_type": "stream",
     "text": [
      "Epoch 138, Loss: 38.6378, Recon: 29.4292, KL: 9.2086\n",
      "\n",
      "===== Epoch 139 =====\n"
     ]
    },
    {
     "name": "stderr",
     "output_type": "stream",
     "text": [
      "Epoch 139/500: 100%|██████████████████████████| 11/11 [00:00<00:00, 1108.99it/s]\n"
     ]
    },
    {
     "name": "stdout",
     "output_type": "stream",
     "text": [
      "Epoch 139, Loss: 38.6084, Recon: 29.1926, KL: 9.4158\n",
      "\n",
      "===== Epoch 140 =====\n"
     ]
    },
    {
     "name": "stderr",
     "output_type": "stream",
     "text": [
      "Epoch 140/500: 100%|██████████████████████████| 11/11 [00:00<00:00, 1389.76it/s]\n"
     ]
    },
    {
     "name": "stdout",
     "output_type": "stream",
     "text": [
      "Epoch 140, Loss: 37.4417, Recon: 28.3850, KL: 9.0567\n",
      "\n",
      "===== Epoch 141 =====\n"
     ]
    },
    {
     "name": "stderr",
     "output_type": "stream",
     "text": [
      "Epoch 141/500: 100%|██████████████████████████| 11/11 [00:00<00:00, 1254.86it/s]\n"
     ]
    },
    {
     "name": "stdout",
     "output_type": "stream",
     "text": [
      "Epoch 141, Loss: 37.5686, Recon: 28.6379, KL: 8.9307\n",
      "\n",
      "===== Epoch 142 =====\n"
     ]
    },
    {
     "name": "stderr",
     "output_type": "stream",
     "text": [
      "Epoch 142/500: 100%|██████████████████████████| 11/11 [00:00<00:00, 1490.32it/s]\n"
     ]
    },
    {
     "name": "stdout",
     "output_type": "stream",
     "text": [
      "Epoch 142, Loss: 38.8388, Recon: 29.7332, KL: 9.1057\n",
      "\n",
      "===== Epoch 143 =====\n"
     ]
    },
    {
     "name": "stderr",
     "output_type": "stream",
     "text": [
      "Epoch 143/500: 100%|██████████████████████████| 11/11 [00:00<00:00, 1566.95it/s]\n"
     ]
    },
    {
     "name": "stdout",
     "output_type": "stream",
     "text": [
      "Epoch 143, Loss: 37.4356, Recon: 28.1242, KL: 9.3114\n",
      "\n",
      "===== Epoch 144 =====\n"
     ]
    },
    {
     "name": "stderr",
     "output_type": "stream",
     "text": [
      "Epoch 144/500: 100%|██████████████████████████| 11/11 [00:00<00:00, 1343.47it/s]\n"
     ]
    },
    {
     "name": "stdout",
     "output_type": "stream",
     "text": [
      "Epoch 144, Loss: 36.8073, Recon: 27.9804, KL: 8.8269\n",
      "\n",
      "===== Epoch 145 =====\n"
     ]
    },
    {
     "name": "stderr",
     "output_type": "stream",
     "text": [
      "Epoch 145/500: 100%|██████████████████████████| 11/11 [00:00<00:00, 1456.36it/s]\n"
     ]
    },
    {
     "name": "stdout",
     "output_type": "stream",
     "text": [
      "Epoch 145, Loss: 37.5706, Recon: 28.3693, KL: 9.2014\n",
      "\n",
      "===== Epoch 146 =====\n"
     ]
    },
    {
     "name": "stderr",
     "output_type": "stream",
     "text": [
      "Epoch 146/500: 100%|██████████████████████████| 11/11 [00:00<00:00, 1507.07it/s]\n"
     ]
    },
    {
     "name": "stdout",
     "output_type": "stream",
     "text": [
      "Epoch 146, Loss: 37.5289, Recon: 28.2400, KL: 9.2889\n",
      "\n",
      "===== Epoch 147 =====\n"
     ]
    },
    {
     "name": "stderr",
     "output_type": "stream",
     "text": [
      "Epoch 147/500: 100%|██████████████████████████| 11/11 [00:00<00:00, 1533.11it/s]\n"
     ]
    },
    {
     "name": "stdout",
     "output_type": "stream",
     "text": [
      "Epoch 147, Loss: 37.5445, Recon: 27.8505, KL: 9.6940\n",
      "\n",
      "===== Epoch 148 =====\n"
     ]
    },
    {
     "name": "stderr",
     "output_type": "stream",
     "text": [
      "Epoch 148/500: 100%|██████████████████████████| 11/11 [00:00<00:00, 1521.43it/s]\n"
     ]
    },
    {
     "name": "stdout",
     "output_type": "stream",
     "text": [
      "Epoch 148, Loss: 37.5073, Recon: 28.2311, KL: 9.2762\n",
      "\n",
      "===== Epoch 149 =====\n"
     ]
    },
    {
     "name": "stderr",
     "output_type": "stream",
     "text": [
      "Epoch 149/500: 100%|██████████████████████████| 11/11 [00:00<00:00, 1371.75it/s]\n"
     ]
    },
    {
     "name": "stdout",
     "output_type": "stream",
     "text": [
      "Epoch 149, Loss: 36.5329, Recon: 27.7439, KL: 8.7890\n",
      "\n",
      "===== Epoch 150 =====\n"
     ]
    },
    {
     "name": "stderr",
     "output_type": "stream",
     "text": [
      "Epoch 150/500: 100%|██████████████████████████| 11/11 [00:00<00:00, 1380.37it/s]\n"
     ]
    },
    {
     "name": "stdout",
     "output_type": "stream",
     "text": [
      "Epoch 150, Loss: 37.9771, Recon: 28.4809, KL: 9.4962\n",
      "\n",
      "===== Epoch 151 =====\n"
     ]
    },
    {
     "name": "stderr",
     "output_type": "stream",
     "text": [
      "Epoch 151/500: 100%|██████████████████████████| 11/11 [00:00<00:00, 1527.52it/s]\n"
     ]
    },
    {
     "name": "stdout",
     "output_type": "stream",
     "text": [
      "Epoch 151, Loss: 35.5526, Recon: 26.5264, KL: 9.0262\n",
      "\n",
      "===== Epoch 152 =====\n"
     ]
    },
    {
     "name": "stderr",
     "output_type": "stream",
     "text": [
      "Epoch 152/500: 100%|██████████████████████████| 11/11 [00:00<00:00, 1536.73it/s]\n"
     ]
    },
    {
     "name": "stdout",
     "output_type": "stream",
     "text": [
      "Epoch 152, Loss: 37.4836, Recon: 28.6847, KL: 8.7990\n",
      "\n",
      "===== Epoch 153 =====\n"
     ]
    },
    {
     "name": "stderr",
     "output_type": "stream",
     "text": [
      "Epoch 153/500: 100%|██████████████████████████| 11/11 [00:00<00:00, 1286.52it/s]\n"
     ]
    },
    {
     "name": "stdout",
     "output_type": "stream",
     "text": [
      "Epoch 153, Loss: 36.9540, Recon: 27.5559, KL: 9.3980\n",
      "\n",
      "===== Epoch 154 =====\n"
     ]
    },
    {
     "name": "stderr",
     "output_type": "stream",
     "text": [
      "Epoch 154/500: 100%|██████████████████████████| 11/11 [00:00<00:00, 1544.71it/s]\n"
     ]
    },
    {
     "name": "stdout",
     "output_type": "stream",
     "text": [
      "Epoch 154, Loss: 36.6739, Recon: 27.4432, KL: 9.2308\n",
      "\n",
      "===== Epoch 155 =====\n"
     ]
    },
    {
     "name": "stderr",
     "output_type": "stream",
     "text": [
      "Epoch 155/500: 100%|██████████████████████████| 11/11 [00:00<00:00, 1410.07it/s]\n"
     ]
    },
    {
     "name": "stdout",
     "output_type": "stream",
     "text": [
      "Epoch 155, Loss: 36.9752, Recon: 27.8229, KL: 9.1523\n",
      "\n",
      "===== Epoch 156 =====\n"
     ]
    },
    {
     "name": "stderr",
     "output_type": "stream",
     "text": [
      "Epoch 156/500: 100%|██████████████████████████| 11/11 [00:00<00:00, 1423.55it/s]\n"
     ]
    },
    {
     "name": "stdout",
     "output_type": "stream",
     "text": [
      "Epoch 156, Loss: 36.1640, Recon: 26.6442, KL: 9.5198\n",
      "\n",
      "===== Epoch 157 =====\n"
     ]
    },
    {
     "name": "stderr",
     "output_type": "stream",
     "text": [
      "Epoch 157/500: 100%|██████████████████████████| 11/11 [00:00<00:00, 1542.80it/s]\n"
     ]
    },
    {
     "name": "stdout",
     "output_type": "stream",
     "text": [
      "Epoch 157, Loss: 35.3043, Recon: 26.2277, KL: 9.0767\n",
      "\n",
      "===== Epoch 158 =====\n"
     ]
    },
    {
     "name": "stderr",
     "output_type": "stream",
     "text": [
      "Epoch 158/500: 100%|██████████████████████████| 11/11 [00:00<00:00, 1480.71it/s]\n"
     ]
    },
    {
     "name": "stdout",
     "output_type": "stream",
     "text": [
      "Epoch 158, Loss: 36.6951, Recon: 27.1992, KL: 9.4959\n",
      "\n",
      "===== Epoch 159 =====\n"
     ]
    },
    {
     "name": "stderr",
     "output_type": "stream",
     "text": [
      "Epoch 159/500: 100%|██████████████████████████| 11/11 [00:00<00:00, 1541.04it/s]\n"
     ]
    },
    {
     "name": "stdout",
     "output_type": "stream",
     "text": [
      "Epoch 159, Loss: 36.5558, Recon: 27.3979, KL: 9.1579\n",
      "\n",
      "===== Epoch 160 =====\n"
     ]
    },
    {
     "name": "stderr",
     "output_type": "stream",
     "text": [
      "Epoch 160/500: 100%|██████████████████████████| 11/11 [00:00<00:00, 1517.08it/s]\n"
     ]
    },
    {
     "name": "stdout",
     "output_type": "stream",
     "text": [
      "Epoch 160, Loss: 37.0393, Recon: 27.7610, KL: 9.2782\n",
      "\n",
      "===== Epoch 161 =====\n"
     ]
    },
    {
     "name": "stderr",
     "output_type": "stream",
     "text": [
      "Epoch 161/500: 100%|██████████████████████████| 11/11 [00:00<00:00, 1528.84it/s]\n"
     ]
    },
    {
     "name": "stdout",
     "output_type": "stream",
     "text": [
      "Epoch 161, Loss: 37.3278, Recon: 27.7426, KL: 9.5852\n",
      "\n",
      "===== Epoch 162 =====\n"
     ]
    },
    {
     "name": "stderr",
     "output_type": "stream",
     "text": [
      "Epoch 162/500: 100%|██████████████████████████| 11/11 [00:00<00:00, 1311.24it/s]\n"
     ]
    },
    {
     "name": "stdout",
     "output_type": "stream",
     "text": [
      "Epoch 162, Loss: 35.7778, Recon: 26.3125, KL: 9.4653\n",
      "\n",
      "===== Epoch 163 =====\n"
     ]
    },
    {
     "name": "stderr",
     "output_type": "stream",
     "text": [
      "Epoch 163/500: 100%|██████████████████████████| 11/11 [00:00<00:00, 1525.00it/s]\n"
     ]
    },
    {
     "name": "stdout",
     "output_type": "stream",
     "text": [
      "Epoch 163, Loss: 36.2931, Recon: 27.2793, KL: 9.0138\n",
      "\n",
      "===== Epoch 164 =====\n"
     ]
    },
    {
     "name": "stderr",
     "output_type": "stream",
     "text": [
      "Epoch 164/500: 100%|██████████████████████████| 11/11 [00:00<00:00, 1567.64it/s]\n"
     ]
    },
    {
     "name": "stdout",
     "output_type": "stream",
     "text": [
      "Epoch 164, Loss: 36.5314, Recon: 27.2990, KL: 9.2325\n",
      "\n",
      "===== Epoch 165 =====\n"
     ]
    },
    {
     "name": "stderr",
     "output_type": "stream",
     "text": [
      "Epoch 165/500: 100%|██████████████████████████| 11/11 [00:00<00:00, 1522.33it/s]\n"
     ]
    },
    {
     "name": "stdout",
     "output_type": "stream",
     "text": [
      "Epoch 165, Loss: 35.5672, Recon: 26.1957, KL: 9.3715\n",
      "\n",
      "===== Epoch 166 =====\n"
     ]
    },
    {
     "name": "stderr",
     "output_type": "stream",
     "text": [
      "Epoch 166/500: 100%|██████████████████████████| 11/11 [00:00<00:00, 1531.12it/s]\n"
     ]
    },
    {
     "name": "stdout",
     "output_type": "stream",
     "text": [
      "Epoch 166, Loss: 35.5827, Recon: 26.0223, KL: 9.5604\n",
      "\n",
      "===== Epoch 167 =====\n"
     ]
    },
    {
     "name": "stderr",
     "output_type": "stream",
     "text": [
      "Epoch 167/500: 100%|██████████████████████████| 11/11 [00:00<00:00, 1544.71it/s]\n"
     ]
    },
    {
     "name": "stdout",
     "output_type": "stream",
     "text": [
      "Epoch 167, Loss: 37.0397, Recon: 27.7778, KL: 9.2619\n",
      "\n",
      "===== Epoch 168 =====\n"
     ]
    },
    {
     "name": "stderr",
     "output_type": "stream",
     "text": [
      "Epoch 168/500: 100%|██████████████████████████| 11/11 [00:00<00:00, 1534.79it/s]\n"
     ]
    },
    {
     "name": "stdout",
     "output_type": "stream",
     "text": [
      "Epoch 168, Loss: 35.2194, Recon: 26.0955, KL: 9.1240\n",
      "\n",
      "===== Epoch 169 =====\n"
     ]
    },
    {
     "name": "stderr",
     "output_type": "stream",
     "text": [
      "Epoch 169/500: 100%|██████████████████████████| 11/11 [00:00<00:00, 1544.92it/s]\n"
     ]
    },
    {
     "name": "stdout",
     "output_type": "stream",
     "text": [
      "Epoch 169, Loss: 36.8971, Recon: 27.3839, KL: 9.5132\n",
      "\n",
      "===== Epoch 170 =====\n"
     ]
    },
    {
     "name": "stderr",
     "output_type": "stream",
     "text": [
      "Epoch 170/500: 100%|██████████████████████████| 11/11 [00:00<00:00, 1552.87it/s]\n"
     ]
    },
    {
     "name": "stdout",
     "output_type": "stream",
     "text": [
      "Epoch 170, Loss: 35.3686, Recon: 25.9709, KL: 9.3977\n",
      "\n",
      "===== Epoch 171 =====\n"
     ]
    },
    {
     "name": "stderr",
     "output_type": "stream",
     "text": [
      "Epoch 171/500: 100%|██████████████████████████| 11/11 [00:00<00:00, 1522.53it/s]\n"
     ]
    },
    {
     "name": "stdout",
     "output_type": "stream",
     "text": [
      "Epoch 171, Loss: 35.0484, Recon: 25.9775, KL: 9.0709\n",
      "\n",
      "===== Epoch 172 =====\n"
     ]
    },
    {
     "name": "stderr",
     "output_type": "stream",
     "text": [
      "Epoch 172/500: 100%|██████████████████████████| 11/11 [00:00<00:00, 1506.43it/s]\n"
     ]
    },
    {
     "name": "stdout",
     "output_type": "stream",
     "text": [
      "Epoch 172, Loss: 34.8701, Recon: 25.4659, KL: 9.4042\n",
      "\n",
      "===== Epoch 173 =====\n"
     ]
    },
    {
     "name": "stderr",
     "output_type": "stream",
     "text": [
      "Epoch 173/500: 100%|██████████████████████████| 11/11 [00:00<00:00, 1397.17it/s]\n"
     ]
    },
    {
     "name": "stdout",
     "output_type": "stream",
     "text": [
      "Epoch 173, Loss: 36.2101, Recon: 26.5099, KL: 9.7002\n",
      "\n",
      "===== Epoch 174 =====\n"
     ]
    },
    {
     "name": "stderr",
     "output_type": "stream",
     "text": [
      "Epoch 174/500: 100%|██████████████████████████| 11/11 [00:00<00:00, 1473.57it/s]\n"
     ]
    },
    {
     "name": "stdout",
     "output_type": "stream",
     "text": [
      "Epoch 174, Loss: 34.8644, Recon: 25.5286, KL: 9.3358\n",
      "\n",
      "===== Epoch 175 =====\n"
     ]
    },
    {
     "name": "stderr",
     "output_type": "stream",
     "text": [
      "Epoch 175/500: 100%|██████████████████████████| 11/11 [00:00<00:00, 1508.69it/s]\n"
     ]
    },
    {
     "name": "stdout",
     "output_type": "stream",
     "text": [
      "Epoch 175, Loss: 34.4451, Recon: 24.9583, KL: 9.4869\n",
      "\n",
      "===== Epoch 176 =====\n"
     ]
    },
    {
     "name": "stderr",
     "output_type": "stream",
     "text": [
      "Epoch 176/500: 100%|██████████████████████████| 11/11 [00:00<00:00, 1177.36it/s]\n"
     ]
    },
    {
     "name": "stdout",
     "output_type": "stream",
     "text": [
      "Epoch 176, Loss: 36.0049, Recon: 26.2473, KL: 9.7576\n",
      "\n",
      "===== Epoch 177 =====\n"
     ]
    },
    {
     "name": "stderr",
     "output_type": "stream",
     "text": [
      "Epoch 177/500: 100%|███████████████████████████| 11/11 [00:00<00:00, 514.77it/s]\n"
     ]
    },
    {
     "name": "stdout",
     "output_type": "stream",
     "text": [
      "Epoch 177, Loss: 34.9008, Recon: 25.5718, KL: 9.3290\n",
      "\n",
      "===== Epoch 178 =====\n"
     ]
    },
    {
     "name": "stderr",
     "output_type": "stream",
     "text": [
      "Epoch 178/500: 100%|██████████████████████████| 11/11 [00:00<00:00, 1410.45it/s]\n"
     ]
    },
    {
     "name": "stdout",
     "output_type": "stream",
     "text": [
      "Epoch 178, Loss: 34.8858, Recon: 25.0893, KL: 9.7965\n",
      "\n",
      "===== Epoch 179 =====\n"
     ]
    },
    {
     "name": "stderr",
     "output_type": "stream",
     "text": [
      "Epoch 179/500: 100%|██████████████████████████| 11/11 [00:00<00:00, 1344.25it/s]\n"
     ]
    },
    {
     "name": "stdout",
     "output_type": "stream",
     "text": [
      "Epoch 179, Loss: 33.4132, Recon: 24.4946, KL: 8.9186\n",
      "\n",
      "===== Epoch 180 =====\n"
     ]
    },
    {
     "name": "stderr",
     "output_type": "stream",
     "text": [
      "Epoch 180/500: 100%|███████████████████████████| 11/11 [00:00<00:00, 293.25it/s]\n"
     ]
    },
    {
     "name": "stdout",
     "output_type": "stream",
     "text": [
      "Epoch 180, Loss: 35.0964, Recon: 25.8543, KL: 9.2421\n",
      "\n",
      "===== Epoch 181 =====\n"
     ]
    },
    {
     "name": "stderr",
     "output_type": "stream",
     "text": [
      "Epoch 181/500: 100%|██████████████████████████| 11/11 [00:00<00:00, 1271.98it/s]\n"
     ]
    },
    {
     "name": "stdout",
     "output_type": "stream",
     "text": [
      "Epoch 181, Loss: 34.6546, Recon: 25.0509, KL: 9.6037\n",
      "\n",
      "===== Epoch 182 =====\n"
     ]
    },
    {
     "name": "stderr",
     "output_type": "stream",
     "text": [
      "Epoch 182/500: 100%|██████████████████████████| 11/11 [00:00<00:00, 1393.16it/s]\n"
     ]
    },
    {
     "name": "stdout",
     "output_type": "stream",
     "text": [
      "Epoch 182, Loss: 35.7200, Recon: 26.1301, KL: 9.5899\n",
      "\n",
      "===== Epoch 183 =====\n"
     ]
    },
    {
     "name": "stderr",
     "output_type": "stream",
     "text": [
      "Epoch 183/500: 100%|██████████████████████████| 11/11 [00:00<00:00, 1400.05it/s]\n"
     ]
    },
    {
     "name": "stdout",
     "output_type": "stream",
     "text": [
      "Epoch 183, Loss: 33.1632, Recon: 23.7538, KL: 9.4094\n",
      "\n",
      "===== Epoch 184 =====\n"
     ]
    },
    {
     "name": "stderr",
     "output_type": "stream",
     "text": [
      "Epoch 184/500: 100%|██████████████████████████| 11/11 [00:00<00:00, 1407.18it/s]\n"
     ]
    },
    {
     "name": "stdout",
     "output_type": "stream",
     "text": [
      "Epoch 184, Loss: 33.1756, Recon: 24.0962, KL: 9.0794\n",
      "\n",
      "===== Epoch 185 =====\n"
     ]
    },
    {
     "name": "stderr",
     "output_type": "stream",
     "text": [
      "Epoch 185/500: 100%|██████████████████████████| 11/11 [00:00<00:00, 1407.01it/s]\n"
     ]
    },
    {
     "name": "stdout",
     "output_type": "stream",
     "text": [
      "Epoch 185, Loss: 34.1834, Recon: 24.6785, KL: 9.5049\n",
      "\n",
      "===== Epoch 186 =====\n"
     ]
    },
    {
     "name": "stderr",
     "output_type": "stream",
     "text": [
      "Epoch 186/500: 100%|██████████████████████████| 11/11 [00:00<00:00, 1432.30it/s]\n"
     ]
    },
    {
     "name": "stdout",
     "output_type": "stream",
     "text": [
      "Epoch 186, Loss: 34.4649, Recon: 25.4439, KL: 9.0210\n",
      "\n",
      "===== Epoch 187 =====\n"
     ]
    },
    {
     "name": "stderr",
     "output_type": "stream",
     "text": [
      "Epoch 187/500: 100%|██████████████████████████| 11/11 [00:00<00:00, 1210.38it/s]\n"
     ]
    },
    {
     "name": "stdout",
     "output_type": "stream",
     "text": [
      "Epoch 187, Loss: 34.3717, Recon: 24.9807, KL: 9.3910\n",
      "\n",
      "===== Epoch 188 =====\n"
     ]
    },
    {
     "name": "stderr",
     "output_type": "stream",
     "text": [
      "Epoch 188/500: 100%|██████████████████████████| 11/11 [00:00<00:00, 1483.13it/s]\n"
     ]
    },
    {
     "name": "stdout",
     "output_type": "stream",
     "text": [
      "Epoch 188, Loss: 34.7269, Recon: 25.2037, KL: 9.5232\n",
      "\n",
      "===== Epoch 189 =====\n"
     ]
    },
    {
     "name": "stderr",
     "output_type": "stream",
     "text": [
      "Epoch 189/500: 100%|██████████████████████████| 11/11 [00:00<00:00, 1389.26it/s]\n"
     ]
    },
    {
     "name": "stdout",
     "output_type": "stream",
     "text": [
      "Epoch 189, Loss: 35.2623, Recon: 25.6656, KL: 9.5968\n",
      "\n",
      "===== Epoch 190 =====\n"
     ]
    },
    {
     "name": "stderr",
     "output_type": "stream",
     "text": [
      "Epoch 190/500: 100%|██████████████████████████| 11/11 [00:00<00:00, 1460.83it/s]\n"
     ]
    },
    {
     "name": "stdout",
     "output_type": "stream",
     "text": [
      "Epoch 190, Loss: 34.4036, Recon: 24.8797, KL: 9.5238\n",
      "\n",
      "===== Epoch 191 =====\n"
     ]
    },
    {
     "name": "stderr",
     "output_type": "stream",
     "text": [
      "Epoch 191/500: 100%|██████████████████████████| 11/11 [00:00<00:00, 1480.52it/s]\n"
     ]
    },
    {
     "name": "stdout",
     "output_type": "stream",
     "text": [
      "Epoch 191, Loss: 35.0902, Recon: 25.5433, KL: 9.5468\n",
      "\n",
      "===== Epoch 192 =====\n"
     ]
    },
    {
     "name": "stderr",
     "output_type": "stream",
     "text": [
      "Epoch 192/500: 100%|██████████████████████████| 11/11 [00:00<00:00, 1462.03it/s]\n"
     ]
    },
    {
     "name": "stdout",
     "output_type": "stream",
     "text": [
      "Epoch 192, Loss: 33.7914, Recon: 24.3113, KL: 9.4802\n",
      "\n",
      "===== Epoch 193 =====\n"
     ]
    },
    {
     "name": "stderr",
     "output_type": "stream",
     "text": [
      "Epoch 193/500: 100%|██████████████████████████| 11/11 [00:00<00:00, 1211.56it/s]\n"
     ]
    },
    {
     "name": "stdout",
     "output_type": "stream",
     "text": [
      "Epoch 193, Loss: 34.4786, Recon: 25.0872, KL: 9.3914\n",
      "\n",
      "===== Epoch 194 =====\n"
     ]
    },
    {
     "name": "stderr",
     "output_type": "stream",
     "text": [
      "Epoch 194/500: 100%|███████████████████████████| 11/11 [00:00<00:00, 821.45it/s]\n"
     ]
    },
    {
     "name": "stdout",
     "output_type": "stream",
     "text": [
      "Epoch 194, Loss: 34.5142, Recon: 24.9376, KL: 9.5766\n",
      "\n",
      "===== Epoch 195 =====\n"
     ]
    },
    {
     "name": "stderr",
     "output_type": "stream",
     "text": [
      "Epoch 195/500: 100%|███████████████████████████| 11/11 [00:00<00:00, 964.75it/s]\n"
     ]
    },
    {
     "name": "stdout",
     "output_type": "stream",
     "text": [
      "Epoch 195, Loss: 33.2156, Recon: 24.0591, KL: 9.1565\n",
      "\n",
      "===== Epoch 196 =====\n"
     ]
    },
    {
     "name": "stderr",
     "output_type": "stream",
     "text": [
      "Epoch 196/500: 100%|███████████████████████████| 11/11 [00:00<00:00, 537.01it/s]\n"
     ]
    },
    {
     "name": "stdout",
     "output_type": "stream",
     "text": [
      "Epoch 196, Loss: 34.3069, Recon: 24.8185, KL: 9.4884\n",
      "\n",
      "===== Epoch 197 =====\n"
     ]
    },
    {
     "name": "stderr",
     "output_type": "stream",
     "text": [
      "Epoch 197/500: 100%|██████████████████████████| 11/11 [00:00<00:00, 1270.51it/s]\n"
     ]
    },
    {
     "name": "stdout",
     "output_type": "stream",
     "text": [
      "Epoch 197, Loss: 33.8252, Recon: 24.6292, KL: 9.1960\n",
      "\n",
      "===== Epoch 198 =====\n"
     ]
    },
    {
     "name": "stderr",
     "output_type": "stream",
     "text": [
      "Epoch 198/500: 100%|██████████████████████████| 11/11 [00:00<00:00, 1380.53it/s]\n"
     ]
    },
    {
     "name": "stdout",
     "output_type": "stream",
     "text": [
      "Epoch 198, Loss: 33.8219, Recon: 24.1128, KL: 9.7091\n",
      "\n",
      "===== Epoch 199 =====\n"
     ]
    },
    {
     "name": "stderr",
     "output_type": "stream",
     "text": [
      "Epoch 199/500: 100%|██████████████████████████| 11/11 [00:00<00:00, 1361.43it/s]\n"
     ]
    },
    {
     "name": "stdout",
     "output_type": "stream",
     "text": [
      "Epoch 199, Loss: 34.7873, Recon: 25.1680, KL: 9.6193\n",
      "\n",
      "===== Epoch 200 =====\n"
     ]
    },
    {
     "name": "stderr",
     "output_type": "stream",
     "text": [
      "Epoch 200/500: 100%|██████████████████████████| 11/11 [00:00<00:00, 1236.66it/s]\n"
     ]
    },
    {
     "name": "stdout",
     "output_type": "stream",
     "text": [
      "Epoch 200, Loss: 34.1180, Recon: 24.7290, KL: 9.3890\n",
      "\n",
      "===== Epoch 201 =====\n"
     ]
    },
    {
     "name": "stderr",
     "output_type": "stream",
     "text": [
      "Epoch 201/500: 100%|██████████████████████████| 11/11 [00:00<00:00, 1224.13it/s]\n"
     ]
    },
    {
     "name": "stdout",
     "output_type": "stream",
     "text": [
      "Epoch 201, Loss: 33.3668, Recon: 24.1677, KL: 9.1991\n",
      "\n",
      "===== Epoch 202 =====\n"
     ]
    },
    {
     "name": "stderr",
     "output_type": "stream",
     "text": [
      "Epoch 202/500: 100%|██████████████████████████| 11/11 [00:00<00:00, 1560.75it/s]\n"
     ]
    },
    {
     "name": "stdout",
     "output_type": "stream",
     "text": [
      "Epoch 202, Loss: 33.2488, Recon: 24.1258, KL: 9.1231\n",
      "\n",
      "===== Epoch 203 =====\n"
     ]
    },
    {
     "name": "stderr",
     "output_type": "stream",
     "text": [
      "Epoch 203/500: 100%|██████████████████████████| 11/11 [00:00<00:00, 1520.18it/s]\n"
     ]
    },
    {
     "name": "stdout",
     "output_type": "stream",
     "text": [
      "Epoch 203, Loss: 32.9973, Recon: 23.7288, KL: 9.2685\n",
      "\n",
      "===== Epoch 204 =====\n"
     ]
    },
    {
     "name": "stderr",
     "output_type": "stream",
     "text": [
      "Epoch 204/500: 100%|██████████████████████████| 11/11 [00:00<00:00, 1530.77it/s]\n"
     ]
    },
    {
     "name": "stdout",
     "output_type": "stream",
     "text": [
      "Epoch 204, Loss: 33.3988, Recon: 24.3718, KL: 9.0270\n",
      "\n",
      "===== Epoch 205 =====\n"
     ]
    },
    {
     "name": "stderr",
     "output_type": "stream",
     "text": [
      "Epoch 205/500: 100%|██████████████████████████| 11/11 [00:00<00:00, 1399.29it/s]\n"
     ]
    },
    {
     "name": "stdout",
     "output_type": "stream",
     "text": [
      "Epoch 205, Loss: 33.7081, Recon: 24.3521, KL: 9.3560\n",
      "\n",
      "===== Epoch 206 =====\n"
     ]
    },
    {
     "name": "stderr",
     "output_type": "stream",
     "text": [
      "Epoch 206/500: 100%|██████████████████████████| 11/11 [00:00<00:00, 1408.64it/s]\n"
     ]
    },
    {
     "name": "stdout",
     "output_type": "stream",
     "text": [
      "Epoch 206, Loss: 33.0246, Recon: 23.4794, KL: 9.5452\n",
      "\n",
      "===== Epoch 207 =====\n"
     ]
    },
    {
     "name": "stderr",
     "output_type": "stream",
     "text": [
      "Epoch 207/500: 100%|██████████████████████████| 11/11 [00:00<00:00, 1489.94it/s]\n"
     ]
    },
    {
     "name": "stdout",
     "output_type": "stream",
     "text": [
      "Epoch 207, Loss: 33.8481, Recon: 24.4451, KL: 9.4030\n",
      "\n",
      "===== Epoch 208 =====\n"
     ]
    },
    {
     "name": "stderr",
     "output_type": "stream",
     "text": [
      "Epoch 208/500: 100%|██████████████████████████| 11/11 [00:00<00:00, 1388.88it/s]\n"
     ]
    },
    {
     "name": "stdout",
     "output_type": "stream",
     "text": [
      "Epoch 208, Loss: 33.7606, Recon: 24.3906, KL: 9.3699\n",
      "\n",
      "===== Epoch 209 =====\n"
     ]
    },
    {
     "name": "stderr",
     "output_type": "stream",
     "text": [
      "Epoch 209/500: 100%|██████████████████████████| 11/11 [00:00<00:00, 1458.89it/s]\n"
     ]
    },
    {
     "name": "stdout",
     "output_type": "stream",
     "text": [
      "Epoch 209, Loss: 33.6337, Recon: 23.9742, KL: 9.6596\n",
      "\n",
      "===== Epoch 210 =====\n"
     ]
    },
    {
     "name": "stderr",
     "output_type": "stream",
     "text": [
      "Epoch 210/500: 100%|██████████████████████████| 11/11 [00:00<00:00, 1445.90it/s]\n"
     ]
    },
    {
     "name": "stdout",
     "output_type": "stream",
     "text": [
      "Epoch 210, Loss: 31.7885, Recon: 22.4779, KL: 9.3105\n",
      "\n",
      "===== Epoch 211 =====\n"
     ]
    },
    {
     "name": "stderr",
     "output_type": "stream",
     "text": [
      "Epoch 211/500: 100%|██████████████████████████| 11/11 [00:00<00:00, 1481.90it/s]\n"
     ]
    },
    {
     "name": "stdout",
     "output_type": "stream",
     "text": [
      "Epoch 211, Loss: 33.3823, Recon: 24.0765, KL: 9.3058\n",
      "\n",
      "===== Epoch 212 =====\n"
     ]
    },
    {
     "name": "stderr",
     "output_type": "stream",
     "text": [
      "Epoch 212/500: 100%|██████████████████████████| 11/11 [00:00<00:00, 1484.66it/s]\n"
     ]
    },
    {
     "name": "stdout",
     "output_type": "stream",
     "text": [
      "Epoch 212, Loss: 32.4293, Recon: 23.4567, KL: 8.9726\n",
      "\n",
      "===== Epoch 213 =====\n"
     ]
    },
    {
     "name": "stderr",
     "output_type": "stream",
     "text": [
      "Epoch 213/500: 100%|██████████████████████████| 11/11 [00:00<00:00, 1343.62it/s]\n"
     ]
    },
    {
     "name": "stdout",
     "output_type": "stream",
     "text": [
      "Epoch 213, Loss: 33.9902, Recon: 24.4817, KL: 9.5085\n",
      "\n",
      "===== Epoch 214 =====\n"
     ]
    },
    {
     "name": "stderr",
     "output_type": "stream",
     "text": [
      "Epoch 214/500: 100%|██████████████████████████| 11/11 [00:00<00:00, 1341.16it/s]\n"
     ]
    },
    {
     "name": "stdout",
     "output_type": "stream",
     "text": [
      "Epoch 214, Loss: 32.4640, Recon: 23.0704, KL: 9.3936\n",
      "\n",
      "===== Epoch 215 =====\n"
     ]
    },
    {
     "name": "stderr",
     "output_type": "stream",
     "text": [
      "Epoch 215/500: 100%|██████████████████████████| 11/11 [00:00<00:00, 1431.01it/s]\n"
     ]
    },
    {
     "name": "stdout",
     "output_type": "stream",
     "text": [
      "Epoch 215, Loss: 32.6629, Recon: 23.4717, KL: 9.1912\n",
      "\n",
      "===== Epoch 216 =====\n"
     ]
    },
    {
     "name": "stderr",
     "output_type": "stream",
     "text": [
      "Epoch 216/500: 100%|██████████████████████████| 11/11 [00:00<00:00, 1509.93it/s]\n"
     ]
    },
    {
     "name": "stdout",
     "output_type": "stream",
     "text": [
      "Epoch 216, Loss: 32.9204, Recon: 23.6974, KL: 9.2230\n",
      "\n",
      "===== Epoch 217 =====\n"
     ]
    },
    {
     "name": "stderr",
     "output_type": "stream",
     "text": [
      "Epoch 217/500: 100%|██████████████████████████| 11/11 [00:00<00:00, 1451.73it/s]\n"
     ]
    },
    {
     "name": "stdout",
     "output_type": "stream",
     "text": [
      "Epoch 217, Loss: 33.4682, Recon: 23.9967, KL: 9.4715\n",
      "\n",
      "===== Epoch 218 =====\n"
     ]
    },
    {
     "name": "stderr",
     "output_type": "stream",
     "text": [
      "Epoch 218/500: 100%|██████████████████████████| 11/11 [00:00<00:00, 1304.27it/s]\n"
     ]
    },
    {
     "name": "stdout",
     "output_type": "stream",
     "text": [
      "Epoch 218, Loss: 32.7940, Recon: 23.6315, KL: 9.1626\n",
      "\n",
      "===== Epoch 219 =====\n"
     ]
    },
    {
     "name": "stderr",
     "output_type": "stream",
     "text": [
      "Epoch 219/500: 100%|██████████████████████████| 11/11 [00:00<00:00, 1235.53it/s]\n"
     ]
    },
    {
     "name": "stdout",
     "output_type": "stream",
     "text": [
      "Epoch 219, Loss: 32.7473, Recon: 23.2887, KL: 9.4586\n",
      "\n",
      "===== Epoch 220 =====\n"
     ]
    },
    {
     "name": "stderr",
     "output_type": "stream",
     "text": [
      "Epoch 220/500: 100%|██████████████████████████| 11/11 [00:00<00:00, 1173.83it/s]\n"
     ]
    },
    {
     "name": "stdout",
     "output_type": "stream",
     "text": [
      "Epoch 220, Loss: 33.3568, Recon: 23.7865, KL: 9.5703\n",
      "\n",
      "===== Epoch 221 =====\n"
     ]
    },
    {
     "name": "stderr",
     "output_type": "stream",
     "text": [
      "Epoch 221/500: 100%|███████████████████████████| 11/11 [00:00<00:00, 994.49it/s]\n"
     ]
    },
    {
     "name": "stdout",
     "output_type": "stream",
     "text": [
      "Epoch 221, Loss: 32.6554, Recon: 23.0826, KL: 9.5728\n",
      "\n",
      "===== Epoch 222 =====\n"
     ]
    },
    {
     "name": "stderr",
     "output_type": "stream",
     "text": [
      "Epoch 222/500: 100%|██████████████████████████| 11/11 [00:00<00:00, 1070.03it/s]\n"
     ]
    },
    {
     "name": "stdout",
     "output_type": "stream",
     "text": [
      "Epoch 222, Loss: 31.9725, Recon: 22.9145, KL: 9.0580\n",
      "\n",
      "===== Epoch 223 =====\n"
     ]
    },
    {
     "name": "stderr",
     "output_type": "stream",
     "text": [
      "Epoch 223/500: 100%|██████████████████████████| 11/11 [00:00<00:00, 1393.33it/s]\n"
     ]
    },
    {
     "name": "stdout",
     "output_type": "stream",
     "text": [
      "Epoch 223, Loss: 32.6113, Recon: 23.1171, KL: 9.4941\n",
      "\n",
      "===== Epoch 224 =====\n"
     ]
    },
    {
     "name": "stderr",
     "output_type": "stream",
     "text": [
      "Epoch 224/500: 100%|██████████████████████████| 11/11 [00:00<00:00, 1142.01it/s]\n"
     ]
    },
    {
     "name": "stdout",
     "output_type": "stream",
     "text": [
      "Epoch 224, Loss: 32.8222, Recon: 23.4754, KL: 9.3467\n",
      "\n",
      "===== Epoch 225 =====\n"
     ]
    },
    {
     "name": "stderr",
     "output_type": "stream",
     "text": [
      "Epoch 225/500: 100%|███████████████████████████| 11/11 [00:00<00:00, 736.34it/s]\n"
     ]
    },
    {
     "name": "stdout",
     "output_type": "stream",
     "text": [
      "Epoch 225, Loss: 32.7474, Recon: 23.3993, KL: 9.3481\n",
      "\n",
      "===== Epoch 226 =====\n"
     ]
    },
    {
     "name": "stderr",
     "output_type": "stream",
     "text": [
      "Epoch 226/500: 100%|███████████████████████████| 11/11 [00:00<00:00, 884.09it/s]\n"
     ]
    },
    {
     "name": "stdout",
     "output_type": "stream",
     "text": [
      "Epoch 226, Loss: 33.5801, Recon: 24.1585, KL: 9.4217\n",
      "\n",
      "===== Epoch 227 =====\n"
     ]
    },
    {
     "name": "stderr",
     "output_type": "stream",
     "text": [
      "Epoch 227/500: 100%|██████████████████████████| 11/11 [00:00<00:00, 1451.41it/s]\n"
     ]
    },
    {
     "name": "stdout",
     "output_type": "stream",
     "text": [
      "Epoch 227, Loss: 32.2374, Recon: 23.0410, KL: 9.1964\n",
      "\n",
      "===== Epoch 228 =====\n"
     ]
    },
    {
     "name": "stderr",
     "output_type": "stream",
     "text": [
      "Epoch 228/500: 100%|██████████████████████████| 11/11 [00:00<00:00, 1325.10it/s]\n"
     ]
    },
    {
     "name": "stdout",
     "output_type": "stream",
     "text": [
      "Epoch 228, Loss: 32.1352, Recon: 22.9399, KL: 9.1953\n",
      "\n",
      "===== Epoch 229 =====\n"
     ]
    },
    {
     "name": "stderr",
     "output_type": "stream",
     "text": [
      "Epoch 229/500: 100%|██████████████████████████| 11/11 [00:00<00:00, 1317.38it/s]\n"
     ]
    },
    {
     "name": "stdout",
     "output_type": "stream",
     "text": [
      "Epoch 229, Loss: 33.5475, Recon: 23.8001, KL: 9.7474\n",
      "\n",
      "===== Epoch 230 =====\n"
     ]
    },
    {
     "name": "stderr",
     "output_type": "stream",
     "text": [
      "Epoch 230/500: 100%|██████████████████████████| 11/11 [00:00<00:00, 1474.37it/s]\n"
     ]
    },
    {
     "name": "stdout",
     "output_type": "stream",
     "text": [
      "Epoch 230, Loss: 31.7697, Recon: 22.6409, KL: 9.1288\n",
      "\n",
      "===== Epoch 231 =====\n"
     ]
    },
    {
     "name": "stderr",
     "output_type": "stream",
     "text": [
      "Epoch 231/500: 100%|██████████████████████████| 11/11 [00:00<00:00, 1372.77it/s]\n"
     ]
    },
    {
     "name": "stdout",
     "output_type": "stream",
     "text": [
      "Epoch 231, Loss: 33.0970, Recon: 23.3094, KL: 9.7876\n",
      "\n",
      "===== Epoch 232 =====\n"
     ]
    },
    {
     "name": "stderr",
     "output_type": "stream",
     "text": [
      "Epoch 232/500: 100%|██████████████████████████| 11/11 [00:00<00:00, 1534.64it/s]\n"
     ]
    },
    {
     "name": "stdout",
     "output_type": "stream",
     "text": [
      "Epoch 232, Loss: 33.3017, Recon: 23.7072, KL: 9.5944\n",
      "\n",
      "===== Epoch 233 =====\n"
     ]
    },
    {
     "name": "stderr",
     "output_type": "stream",
     "text": [
      "Epoch 233/500: 100%|██████████████████████████| 11/11 [00:00<00:00, 1349.87it/s]\n"
     ]
    },
    {
     "name": "stdout",
     "output_type": "stream",
     "text": [
      "Epoch 233, Loss: 32.3409, Recon: 22.8367, KL: 9.5042\n",
      "\n",
      "===== Epoch 234 =====\n"
     ]
    },
    {
     "name": "stderr",
     "output_type": "stream",
     "text": [
      "Epoch 234/500: 100%|██████████████████████████| 11/11 [00:00<00:00, 1412.09it/s]\n"
     ]
    },
    {
     "name": "stdout",
     "output_type": "stream",
     "text": [
      "Epoch 234, Loss: 33.3771, Recon: 24.0739, KL: 9.3031\n",
      "\n",
      "===== Epoch 235 =====\n"
     ]
    },
    {
     "name": "stderr",
     "output_type": "stream",
     "text": [
      "Epoch 235/500: 100%|██████████████████████████| 11/11 [00:00<00:00, 1391.02it/s]\n"
     ]
    },
    {
     "name": "stdout",
     "output_type": "stream",
     "text": [
      "Epoch 235, Loss: 31.9920, Recon: 22.4842, KL: 9.5078\n",
      "\n",
      "===== Epoch 236 =====\n"
     ]
    },
    {
     "name": "stderr",
     "output_type": "stream",
     "text": [
      "Epoch 236/500: 100%|██████████████████████████| 11/11 [00:00<00:00, 1456.36it/s]\n"
     ]
    },
    {
     "name": "stdout",
     "output_type": "stream",
     "text": [
      "Epoch 236, Loss: 31.9479, Recon: 22.5975, KL: 9.3504\n",
      "\n",
      "===== Epoch 237 =====\n"
     ]
    },
    {
     "name": "stderr",
     "output_type": "stream",
     "text": [
      "Epoch 237/500: 100%|██████████████████████████| 11/11 [00:00<00:00, 1430.79it/s]\n"
     ]
    },
    {
     "name": "stdout",
     "output_type": "stream",
     "text": [
      "Epoch 237, Loss: 32.1399, Recon: 22.7247, KL: 9.4152\n",
      "\n",
      "===== Epoch 238 =====\n"
     ]
    },
    {
     "name": "stderr",
     "output_type": "stream",
     "text": [
      "Epoch 238/500: 100%|██████████████████████████| 11/11 [00:00<00:00, 1511.61it/s]\n"
     ]
    },
    {
     "name": "stdout",
     "output_type": "stream",
     "text": [
      "Epoch 238, Loss: 30.9173, Recon: 21.6022, KL: 9.3151\n",
      "\n",
      "===== Epoch 239 =====\n"
     ]
    },
    {
     "name": "stderr",
     "output_type": "stream",
     "text": [
      "Epoch 239/500: 100%|██████████████████████████| 11/11 [00:00<00:00, 1416.78it/s]\n"
     ]
    },
    {
     "name": "stdout",
     "output_type": "stream",
     "text": [
      "Epoch 239, Loss: 32.6128, Recon: 23.3345, KL: 9.2783\n",
      "\n",
      "===== Epoch 240 =====\n"
     ]
    },
    {
     "name": "stderr",
     "output_type": "stream",
     "text": [
      "Epoch 240/500: 100%|██████████████████████████| 11/11 [00:00<00:00, 1277.87it/s]\n"
     ]
    },
    {
     "name": "stdout",
     "output_type": "stream",
     "text": [
      "Epoch 240, Loss: 32.1102, Recon: 22.8535, KL: 9.2567\n",
      "\n",
      "===== Epoch 241 =====\n"
     ]
    },
    {
     "name": "stderr",
     "output_type": "stream",
     "text": [
      "Epoch 241/500: 100%|███████████████████████████| 11/11 [00:00<00:00, 946.97it/s]\n"
     ]
    },
    {
     "name": "stdout",
     "output_type": "stream",
     "text": [
      "Epoch 241, Loss: 32.0078, Recon: 22.5377, KL: 9.4701\n",
      "\n",
      "===== Epoch 242 =====\n"
     ]
    },
    {
     "name": "stderr",
     "output_type": "stream",
     "text": [
      "Epoch 242/500: 100%|██████████████████████████| 11/11 [00:00<00:00, 1412.79it/s]\n"
     ]
    },
    {
     "name": "stdout",
     "output_type": "stream",
     "text": [
      "Epoch 242, Loss: 31.8756, Recon: 22.2018, KL: 9.6738\n",
      "\n",
      "===== Epoch 243 =====\n"
     ]
    },
    {
     "name": "stderr",
     "output_type": "stream",
     "text": [
      "Epoch 243/500: 100%|██████████████████████████| 11/11 [00:00<00:00, 1298.58it/s]\n"
     ]
    },
    {
     "name": "stdout",
     "output_type": "stream",
     "text": [
      "Epoch 243, Loss: 31.4372, Recon: 22.0106, KL: 9.4266\n",
      "\n",
      "===== Epoch 244 =====\n"
     ]
    },
    {
     "name": "stderr",
     "output_type": "stream",
     "text": [
      "Epoch 244/500: 100%|██████████████████████████| 11/11 [00:00<00:00, 1555.23it/s]\n"
     ]
    },
    {
     "name": "stdout",
     "output_type": "stream",
     "text": [
      "Epoch 244, Loss: 31.6817, Recon: 22.4272, KL: 9.2545\n",
      "\n",
      "===== Epoch 245 =====\n"
     ]
    },
    {
     "name": "stderr",
     "output_type": "stream",
     "text": [
      "Epoch 245/500: 100%|██████████████████████████| 11/11 [00:00<00:00, 1548.65it/s]\n"
     ]
    },
    {
     "name": "stdout",
     "output_type": "stream",
     "text": [
      "Epoch 245, Loss: 30.9867, Recon: 21.7896, KL: 9.1971\n",
      "\n",
      "===== Epoch 246 =====\n"
     ]
    },
    {
     "name": "stderr",
     "output_type": "stream",
     "text": [
      "Epoch 246/500: 100%|██████████████████████████| 11/11 [00:00<00:00, 1382.64it/s]\n"
     ]
    },
    {
     "name": "stdout",
     "output_type": "stream",
     "text": [
      "Epoch 246, Loss: 31.4988, Recon: 21.9600, KL: 9.5388\n",
      "\n",
      "===== Epoch 247 =====\n"
     ]
    },
    {
     "name": "stderr",
     "output_type": "stream",
     "text": [
      "Epoch 247/500: 100%|██████████████████████████| 11/11 [00:00<00:00, 1408.09it/s]\n"
     ]
    },
    {
     "name": "stdout",
     "output_type": "stream",
     "text": [
      "Epoch 247, Loss: 32.2067, Recon: 22.9102, KL: 9.2965\n",
      "\n",
      "===== Epoch 248 =====\n"
     ]
    },
    {
     "name": "stderr",
     "output_type": "stream",
     "text": [
      "Epoch 248/500: 100%|██████████████████████████| 11/11 [00:00<00:00, 1236.53it/s]\n"
     ]
    },
    {
     "name": "stdout",
     "output_type": "stream",
     "text": [
      "Epoch 248, Loss: 30.6581, Recon: 21.7536, KL: 8.9045\n",
      "\n",
      "===== Epoch 249 =====\n"
     ]
    },
    {
     "name": "stderr",
     "output_type": "stream",
     "text": [
      "Epoch 249/500: 100%|██████████████████████████| 11/11 [00:00<00:00, 1482.66it/s]\n"
     ]
    },
    {
     "name": "stdout",
     "output_type": "stream",
     "text": [
      "Epoch 249, Loss: 31.0747, Recon: 21.8988, KL: 9.1759\n",
      "\n",
      "===== Epoch 250 =====\n"
     ]
    },
    {
     "name": "stderr",
     "output_type": "stream",
     "text": [
      "Epoch 250/500: 100%|██████████████████████████| 11/11 [00:00<00:00, 1505.00it/s]\n"
     ]
    },
    {
     "name": "stdout",
     "output_type": "stream",
     "text": [
      "Epoch 250, Loss: 30.1828, Recon: 20.9518, KL: 9.2310\n",
      "\n",
      "===== Epoch 251 =====\n"
     ]
    },
    {
     "name": "stderr",
     "output_type": "stream",
     "text": [
      "Epoch 251/500: 100%|██████████████████████████| 11/11 [00:00<00:00, 1546.52it/s]\n"
     ]
    },
    {
     "name": "stdout",
     "output_type": "stream",
     "text": [
      "Epoch 251, Loss: 30.8881, Recon: 21.5567, KL: 9.3315\n",
      "\n",
      "===== Epoch 252 =====\n"
     ]
    },
    {
     "name": "stderr",
     "output_type": "stream",
     "text": [
      "Epoch 252/500: 100%|██████████████████████████| 11/11 [00:00<00:00, 1549.69it/s]\n"
     ]
    },
    {
     "name": "stdout",
     "output_type": "stream",
     "text": [
      "Epoch 252, Loss: 31.1901, Recon: 21.8015, KL: 9.3886\n",
      "\n",
      "===== Epoch 253 =====\n"
     ]
    },
    {
     "name": "stderr",
     "output_type": "stream",
     "text": [
      "Epoch 253/500: 100%|██████████████████████████| 11/11 [00:00<00:00, 1563.82it/s]\n"
     ]
    },
    {
     "name": "stdout",
     "output_type": "stream",
     "text": [
      "Epoch 253, Loss: 32.2092, Recon: 22.6396, KL: 9.5696\n",
      "\n",
      "===== Epoch 254 =====\n"
     ]
    },
    {
     "name": "stderr",
     "output_type": "stream",
     "text": [
      "Epoch 254/500: 100%|██████████████████████████| 11/11 [00:00<00:00, 1544.97it/s]\n"
     ]
    },
    {
     "name": "stdout",
     "output_type": "stream",
     "text": [
      "Epoch 254, Loss: 30.9156, Recon: 21.5582, KL: 9.3574\n",
      "\n",
      "===== Epoch 255 =====\n"
     ]
    },
    {
     "name": "stderr",
     "output_type": "stream",
     "text": [
      "Epoch 255/500: 100%|██████████████████████████| 11/11 [00:00<00:00, 1465.42it/s]\n"
     ]
    },
    {
     "name": "stdout",
     "output_type": "stream",
     "text": [
      "Epoch 255, Loss: 31.8867, Recon: 22.7301, KL: 9.1566\n",
      "\n",
      "===== Epoch 256 =====\n"
     ]
    },
    {
     "name": "stderr",
     "output_type": "stream",
     "text": [
      "Epoch 256/500: 100%|██████████████████████████| 11/11 [00:00<00:00, 1416.43it/s]\n"
     ]
    },
    {
     "name": "stdout",
     "output_type": "stream",
     "text": [
      "Epoch 256, Loss: 30.5725, Recon: 21.5000, KL: 9.0725\n",
      "\n",
      "===== Epoch 257 =====\n"
     ]
    },
    {
     "name": "stderr",
     "output_type": "stream",
     "text": [
      "Epoch 257/500: 100%|██████████████████████████| 11/11 [00:00<00:00, 1004.75it/s]\n"
     ]
    },
    {
     "name": "stdout",
     "output_type": "stream",
     "text": [
      "Epoch 257, Loss: 30.5022, Recon: 21.1879, KL: 9.3143\n",
      "\n",
      "===== Epoch 258 =====\n"
     ]
    },
    {
     "name": "stderr",
     "output_type": "stream",
     "text": [
      "Epoch 258/500: 100%|███████████████████████████| 11/11 [00:00<00:00, 531.28it/s]\n"
     ]
    },
    {
     "name": "stdout",
     "output_type": "stream",
     "text": [
      "Epoch 258, Loss: 31.3823, Recon: 22.1581, KL: 9.2242\n",
      "\n",
      "===== Epoch 259 =====\n"
     ]
    },
    {
     "name": "stderr",
     "output_type": "stream",
     "text": [
      "Epoch 259/500: 100%|██████████████████████████| 11/11 [00:00<00:00, 1065.68it/s]\n"
     ]
    },
    {
     "name": "stdout",
     "output_type": "stream",
     "text": [
      "Epoch 259, Loss: 31.4921, Recon: 22.3390, KL: 9.1530\n",
      "\n",
      "===== Epoch 260 =====\n"
     ]
    },
    {
     "name": "stderr",
     "output_type": "stream",
     "text": [
      "Epoch 260/500: 100%|███████████████████████████| 11/11 [00:00<00:00, 757.63it/s]\n"
     ]
    },
    {
     "name": "stdout",
     "output_type": "stream",
     "text": [
      "Epoch 260, Loss: 31.2061, Recon: 21.9033, KL: 9.3028\n",
      "\n",
      "===== Epoch 261 =====\n"
     ]
    },
    {
     "name": "stderr",
     "output_type": "stream",
     "text": [
      "Epoch 261/500: 100%|██████████████████████████| 11/11 [00:00<00:00, 1141.11it/s]\n"
     ]
    },
    {
     "name": "stdout",
     "output_type": "stream",
     "text": [
      "Epoch 261, Loss: 31.2164, Recon: 21.9566, KL: 9.2597\n",
      "\n",
      "===== Epoch 262 =====\n"
     ]
    },
    {
     "name": "stderr",
     "output_type": "stream",
     "text": [
      "Epoch 262/500: 100%|██████████████████████████| 11/11 [00:00<00:00, 1467.24it/s]\n"
     ]
    },
    {
     "name": "stdout",
     "output_type": "stream",
     "text": [
      "Epoch 262, Loss: 30.8088, Recon: 21.4240, KL: 9.3848\n",
      "\n",
      "===== Epoch 263 =====\n"
     ]
    },
    {
     "name": "stderr",
     "output_type": "stream",
     "text": [
      "Epoch 263/500: 100%|██████████████████████████| 11/11 [00:00<00:00, 1449.31it/s]\n"
     ]
    },
    {
     "name": "stdout",
     "output_type": "stream",
     "text": [
      "Epoch 263, Loss: 31.0687, Recon: 21.9530, KL: 9.1157\n",
      "\n",
      "===== Epoch 264 =====\n"
     ]
    },
    {
     "name": "stderr",
     "output_type": "stream",
     "text": [
      "Epoch 264/500: 100%|██████████████████████████| 11/11 [00:00<00:00, 1395.23it/s]\n"
     ]
    },
    {
     "name": "stdout",
     "output_type": "stream",
     "text": [
      "Epoch 264, Loss: 31.7235, Recon: 22.4795, KL: 9.2440\n",
      "\n",
      "===== Epoch 265 =====\n"
     ]
    },
    {
     "name": "stderr",
     "output_type": "stream",
     "text": [
      "Epoch 265/500: 100%|██████████████████████████| 11/11 [00:00<00:00, 1476.77it/s]\n"
     ]
    },
    {
     "name": "stdout",
     "output_type": "stream",
     "text": [
      "Epoch 265, Loss: 30.4692, Recon: 21.1082, KL: 9.3610\n",
      "\n",
      "===== Epoch 266 =====\n"
     ]
    },
    {
     "name": "stderr",
     "output_type": "stream",
     "text": [
      "Epoch 266/500: 100%|██████████████████████████| 11/11 [00:00<00:00, 1524.60it/s]\n"
     ]
    },
    {
     "name": "stdout",
     "output_type": "stream",
     "text": [
      "Epoch 266, Loss: 31.4114, Recon: 22.1452, KL: 9.2663\n",
      "\n",
      "===== Epoch 267 =====\n"
     ]
    },
    {
     "name": "stderr",
     "output_type": "stream",
     "text": [
      "Epoch 267/500: 100%|██████████████████████████| 11/11 [00:00<00:00, 1529.90it/s]\n"
     ]
    },
    {
     "name": "stdout",
     "output_type": "stream",
     "text": [
      "Epoch 267, Loss: 31.3057, Recon: 21.7357, KL: 9.5700\n",
      "\n",
      "===== Epoch 268 =====\n"
     ]
    },
    {
     "name": "stderr",
     "output_type": "stream",
     "text": [
      "Epoch 268/500: 100%|██████████████████████████| 11/11 [00:00<00:00, 1505.79it/s]\n"
     ]
    },
    {
     "name": "stdout",
     "output_type": "stream",
     "text": [
      "Epoch 268, Loss: 30.6811, Recon: 21.6734, KL: 9.0076\n",
      "\n",
      "===== Epoch 269 =====\n"
     ]
    },
    {
     "name": "stderr",
     "output_type": "stream",
     "text": [
      "Epoch 269/500: 100%|██████████████████████████| 11/11 [00:00<00:00, 1455.80it/s]\n"
     ]
    },
    {
     "name": "stdout",
     "output_type": "stream",
     "text": [
      "Epoch 269, Loss: 31.5334, Recon: 22.0925, KL: 9.4409\n",
      "\n",
      "===== Epoch 270 =====\n"
     ]
    },
    {
     "name": "stderr",
     "output_type": "stream",
     "text": [
      "Epoch 270/500: 100%|██████████████████████████| 11/11 [00:00<00:00, 1502.26it/s]\n"
     ]
    },
    {
     "name": "stdout",
     "output_type": "stream",
     "text": [
      "Epoch 270, Loss: 30.3287, Recon: 20.9844, KL: 9.3443\n",
      "\n",
      "===== Epoch 271 =====\n"
     ]
    },
    {
     "name": "stderr",
     "output_type": "stream",
     "text": [
      "Epoch 271/500: 100%|██████████████████████████| 11/11 [00:00<00:00, 1532.04it/s]\n"
     ]
    },
    {
     "name": "stdout",
     "output_type": "stream",
     "text": [
      "Epoch 271, Loss: 31.1736, Recon: 21.7392, KL: 9.4344\n",
      "\n",
      "===== Epoch 272 =====\n"
     ]
    },
    {
     "name": "stderr",
     "output_type": "stream",
     "text": [
      "Epoch 272/500: 100%|██████████████████████████| 11/11 [00:00<00:00, 1489.12it/s]\n"
     ]
    },
    {
     "name": "stdout",
     "output_type": "stream",
     "text": [
      "Epoch 272, Loss: 31.3646, Recon: 22.0212, KL: 9.3434\n",
      "\n",
      "===== Epoch 273 =====\n"
     ]
    },
    {
     "name": "stderr",
     "output_type": "stream",
     "text": [
      "Epoch 273/500: 100%|███████████████████████████| 11/11 [00:00<00:00, 810.01it/s]\n"
     ]
    },
    {
     "name": "stdout",
     "output_type": "stream",
     "text": [
      "Epoch 273, Loss: 31.0665, Recon: 21.5868, KL: 9.4796\n",
      "\n",
      "===== Epoch 274 =====\n"
     ]
    },
    {
     "name": "stderr",
     "output_type": "stream",
     "text": [
      "Epoch 274/500: 100%|██████████████████████████| 11/11 [00:00<00:00, 1475.50it/s]\n"
     ]
    },
    {
     "name": "stdout",
     "output_type": "stream",
     "text": [
      "Epoch 274, Loss: 30.8439, Recon: 21.7538, KL: 9.0901\n",
      "\n",
      "===== Epoch 275 =====\n"
     ]
    },
    {
     "name": "stderr",
     "output_type": "stream",
     "text": [
      "Epoch 275/500: 100%|██████████████████████████| 11/11 [00:00<00:00, 1525.05it/s]\n"
     ]
    },
    {
     "name": "stdout",
     "output_type": "stream",
     "text": [
      "Epoch 275, Loss: 29.7491, Recon: 20.9084, KL: 8.8407\n",
      "\n",
      "===== Epoch 276 =====\n"
     ]
    },
    {
     "name": "stderr",
     "output_type": "stream",
     "text": [
      "Epoch 276/500: 100%|██████████████████████████| 11/11 [00:00<00:00, 1540.84it/s]\n"
     ]
    },
    {
     "name": "stdout",
     "output_type": "stream",
     "text": [
      "Epoch 276, Loss: 30.9825, Recon: 21.9401, KL: 9.0424\n",
      "\n",
      "===== Epoch 277 =====\n"
     ]
    },
    {
     "name": "stderr",
     "output_type": "stream",
     "text": [
      "Epoch 277/500: 100%|██████████████████████████| 11/11 [00:00<00:00, 1481.47it/s]\n"
     ]
    },
    {
     "name": "stdout",
     "output_type": "stream",
     "text": [
      "Epoch 277, Loss: 31.2250, Recon: 21.5892, KL: 9.6358\n",
      "\n",
      "===== Epoch 278 =====\n"
     ]
    },
    {
     "name": "stderr",
     "output_type": "stream",
     "text": [
      "Epoch 278/500: 100%|██████████████████████████| 11/11 [00:00<00:00, 1471.36it/s]\n"
     ]
    },
    {
     "name": "stdout",
     "output_type": "stream",
     "text": [
      "Epoch 278, Loss: 30.2608, Recon: 20.9320, KL: 9.3288\n",
      "\n",
      "===== Epoch 279 =====\n"
     ]
    },
    {
     "name": "stderr",
     "output_type": "stream",
     "text": [
      "Epoch 279/500: 100%|██████████████████████████| 11/11 [00:00<00:00, 1563.66it/s]\n"
     ]
    },
    {
     "name": "stdout",
     "output_type": "stream",
     "text": [
      "Epoch 279, Loss: 30.1317, Recon: 20.8788, KL: 9.2529\n",
      "\n",
      "===== Epoch 280 =====\n"
     ]
    },
    {
     "name": "stderr",
     "output_type": "stream",
     "text": [
      "Epoch 280/500: 100%|██████████████████████████| 11/11 [00:00<00:00, 1544.92it/s]\n"
     ]
    },
    {
     "name": "stdout",
     "output_type": "stream",
     "text": [
      "Epoch 280, Loss: 30.6376, Recon: 21.1241, KL: 9.5135\n",
      "\n",
      "===== Epoch 281 =====\n"
     ]
    },
    {
     "name": "stderr",
     "output_type": "stream",
     "text": [
      "Epoch 281/500: 100%|██████████████████████████| 11/11 [00:00<00:00, 1435.65it/s]\n"
     ]
    },
    {
     "name": "stdout",
     "output_type": "stream",
     "text": [
      "Epoch 281, Loss: 30.5811, Recon: 21.5576, KL: 9.0235\n",
      "\n",
      "===== Epoch 282 =====\n"
     ]
    },
    {
     "name": "stderr",
     "output_type": "stream",
     "text": [
      "Epoch 282/500: 100%|██████████████████████████| 11/11 [00:00<00:00, 1502.94it/s]\n"
     ]
    },
    {
     "name": "stdout",
     "output_type": "stream",
     "text": [
      "Epoch 282, Loss: 30.5941, Recon: 21.0335, KL: 9.5606\n",
      "\n",
      "===== Epoch 283 =====\n"
     ]
    },
    {
     "name": "stderr",
     "output_type": "stream",
     "text": [
      "Epoch 283/500: 100%|██████████████████████████| 11/11 [00:00<00:00, 1536.07it/s]\n"
     ]
    },
    {
     "name": "stdout",
     "output_type": "stream",
     "text": [
      "Epoch 283, Loss: 30.1370, Recon: 20.9880, KL: 9.1490\n",
      "\n",
      "===== Epoch 284 =====\n"
     ]
    },
    {
     "name": "stderr",
     "output_type": "stream",
     "text": [
      "Epoch 284/500: 100%|██████████████████████████| 11/11 [00:00<00:00, 1514.74it/s]\n"
     ]
    },
    {
     "name": "stdout",
     "output_type": "stream",
     "text": [
      "Epoch 284, Loss: 30.0607, Recon: 20.8883, KL: 9.1724\n",
      "\n",
      "===== Epoch 285 =====\n"
     ]
    },
    {
     "name": "stderr",
     "output_type": "stream",
     "text": [
      "Epoch 285/500: 100%|██████████████████████████| 11/11 [00:00<00:00, 1537.40it/s]\n"
     ]
    },
    {
     "name": "stdout",
     "output_type": "stream",
     "text": [
      "Epoch 285, Loss: 30.8387, Recon: 21.5661, KL: 9.2725\n",
      "\n",
      "===== Epoch 286 =====\n"
     ]
    },
    {
     "name": "stderr",
     "output_type": "stream",
     "text": [
      "Epoch 286/500: 100%|██████████████████████████| 11/11 [00:00<00:00, 1468.83it/s]\n"
     ]
    },
    {
     "name": "stdout",
     "output_type": "stream",
     "text": [
      "Epoch 286, Loss: 30.2276, Recon: 20.8289, KL: 9.3988\n",
      "\n",
      "===== Epoch 287 =====\n"
     ]
    },
    {
     "name": "stderr",
     "output_type": "stream",
     "text": [
      "Epoch 287/500: 100%|██████████████████████████| 11/11 [00:00<00:00, 1531.89it/s]\n"
     ]
    },
    {
     "name": "stdout",
     "output_type": "stream",
     "text": [
      "Epoch 287, Loss: 30.5419, Recon: 21.2711, KL: 9.2708\n",
      "\n",
      "===== Epoch 288 =====\n"
     ]
    },
    {
     "name": "stderr",
     "output_type": "stream",
     "text": [
      "Epoch 288/500: 100%|██████████████████████████| 11/11 [00:00<00:00, 1531.02it/s]\n"
     ]
    },
    {
     "name": "stdout",
     "output_type": "stream",
     "text": [
      "Epoch 288, Loss: 29.4044, Recon: 20.3140, KL: 9.0903\n",
      "\n",
      "===== Epoch 289 =====\n"
     ]
    },
    {
     "name": "stderr",
     "output_type": "stream",
     "text": [
      "Epoch 289/500: 100%|██████████████████████████| 11/11 [00:00<00:00, 1535.05it/s]\n"
     ]
    },
    {
     "name": "stdout",
     "output_type": "stream",
     "text": [
      "Epoch 289, Loss: 30.6331, Recon: 21.4519, KL: 9.1812\n",
      "\n",
      "===== Epoch 290 =====\n"
     ]
    },
    {
     "name": "stderr",
     "output_type": "stream",
     "text": [
      "Epoch 290/500: 100%|██████████████████████████| 11/11 [00:00<00:00, 1459.63it/s]\n"
     ]
    },
    {
     "name": "stdout",
     "output_type": "stream",
     "text": [
      "Epoch 290, Loss: 29.7985, Recon: 20.6658, KL: 9.1327\n",
      "\n",
      "===== Epoch 291 =====\n"
     ]
    },
    {
     "name": "stderr",
     "output_type": "stream",
     "text": [
      "Epoch 291/500: 100%|██████████████████████████| 11/11 [00:00<00:00, 1509.14it/s]\n"
     ]
    },
    {
     "name": "stdout",
     "output_type": "stream",
     "text": [
      "Epoch 291, Loss: 30.8701, Recon: 21.6249, KL: 9.2452\n",
      "\n",
      "===== Epoch 292 =====\n"
     ]
    },
    {
     "name": "stderr",
     "output_type": "stream",
     "text": [
      "Epoch 292/500: 100%|██████████████████████████| 11/11 [00:00<00:00, 1390.68it/s]\n"
     ]
    },
    {
     "name": "stdout",
     "output_type": "stream",
     "text": [
      "Epoch 292, Loss: 30.4099, Recon: 21.2382, KL: 9.1718\n",
      "\n",
      "===== Epoch 293 =====\n"
     ]
    },
    {
     "name": "stderr",
     "output_type": "stream",
     "text": [
      "Epoch 293/500: 100%|██████████████████████████| 11/11 [00:00<00:00, 1523.14it/s]\n"
     ]
    },
    {
     "name": "stdout",
     "output_type": "stream",
     "text": [
      "Epoch 293, Loss: 30.3553, Recon: 21.1366, KL: 9.2187\n",
      "\n",
      "===== Epoch 294 =====\n"
     ]
    },
    {
     "name": "stderr",
     "output_type": "stream",
     "text": [
      "Epoch 294/500: 100%|██████████████████████████| 11/11 [00:00<00:00, 1512.45it/s]\n"
     ]
    },
    {
     "name": "stdout",
     "output_type": "stream",
     "text": [
      "Epoch 294, Loss: 30.8029, Recon: 21.6725, KL: 9.1305\n",
      "\n",
      "===== Epoch 295 =====\n"
     ]
    },
    {
     "name": "stderr",
     "output_type": "stream",
     "text": [
      "Epoch 295/500: 100%|██████████████████████████| 11/11 [00:00<00:00, 1200.37it/s]\n"
     ]
    },
    {
     "name": "stdout",
     "output_type": "stream",
     "text": [
      "Epoch 295, Loss: 30.2486, Recon: 20.6424, KL: 9.6062\n",
      "\n",
      "===== Epoch 296 =====\n"
     ]
    },
    {
     "name": "stderr",
     "output_type": "stream",
     "text": [
      "Epoch 296/500: 100%|██████████████████████████| 11/11 [00:00<00:00, 1545.54it/s]\n"
     ]
    },
    {
     "name": "stdout",
     "output_type": "stream",
     "text": [
      "Epoch 296, Loss: 30.1005, Recon: 20.7215, KL: 9.3790\n",
      "\n",
      "===== Epoch 297 =====\n"
     ]
    },
    {
     "name": "stderr",
     "output_type": "stream",
     "text": [
      "Epoch 297/500: 100%|██████████████████████████| 11/11 [00:00<00:00, 1521.03it/s]\n"
     ]
    },
    {
     "name": "stdout",
     "output_type": "stream",
     "text": [
      "Epoch 297, Loss: 30.3457, Recon: 21.1959, KL: 9.1499\n",
      "\n",
      "===== Epoch 298 =====\n"
     ]
    },
    {
     "name": "stderr",
     "output_type": "stream",
     "text": [
      "Epoch 298/500: 100%|██████████████████████████| 11/11 [00:00<00:00, 1144.17it/s]\n"
     ]
    },
    {
     "name": "stdout",
     "output_type": "stream",
     "text": [
      "Epoch 298, Loss: 30.2905, Recon: 21.2660, KL: 9.0245\n",
      "\n",
      "===== Epoch 299 =====\n"
     ]
    },
    {
     "name": "stderr",
     "output_type": "stream",
     "text": [
      "Epoch 299/500: 100%|██████████████████████████| 11/11 [00:00<00:00, 1258.11it/s]\n"
     ]
    },
    {
     "name": "stdout",
     "output_type": "stream",
     "text": [
      "Epoch 299, Loss: 30.1575, Recon: 20.8963, KL: 9.2612\n",
      "\n",
      "===== Epoch 300 =====\n"
     ]
    },
    {
     "name": "stderr",
     "output_type": "stream",
     "text": [
      "Epoch 300/500: 100%|██████████████████████████| 11/11 [00:00<00:00, 1310.65it/s]\n"
     ]
    },
    {
     "name": "stdout",
     "output_type": "stream",
     "text": [
      "Epoch 300, Loss: 29.1592, Recon: 19.9117, KL: 9.2475\n",
      "\n",
      "===== Epoch 301 =====\n"
     ]
    },
    {
     "name": "stderr",
     "output_type": "stream",
     "text": [
      "Epoch 301/500: 100%|██████████████████████████| 11/11 [00:00<00:00, 1528.79it/s]\n"
     ]
    },
    {
     "name": "stdout",
     "output_type": "stream",
     "text": [
      "Epoch 301, Loss: 31.5031, Recon: 22.3882, KL: 9.1149\n",
      "\n",
      "===== Epoch 302 =====\n"
     ]
    },
    {
     "name": "stderr",
     "output_type": "stream",
     "text": [
      "Epoch 302/500: 100%|██████████████████████████| 11/11 [00:00<00:00, 1193.85it/s]\n"
     ]
    },
    {
     "name": "stdout",
     "output_type": "stream",
     "text": [
      "Epoch 302, Loss: 31.4573, Recon: 22.0109, KL: 9.4463\n",
      "\n",
      "===== Epoch 303 =====\n"
     ]
    },
    {
     "name": "stderr",
     "output_type": "stream",
     "text": [
      "Epoch 303/500: 100%|██████████████████████████| 11/11 [00:00<00:00, 1252.85it/s]\n"
     ]
    },
    {
     "name": "stdout",
     "output_type": "stream",
     "text": [
      "Epoch 303, Loss: 29.1156, Recon: 20.1955, KL: 8.9202\n",
      "\n",
      "===== Epoch 304 =====\n"
     ]
    },
    {
     "name": "stderr",
     "output_type": "stream",
     "text": [
      "Epoch 304/500: 100%|██████████████████████████| 11/11 [00:00<00:00, 1423.20it/s]\n"
     ]
    },
    {
     "name": "stdout",
     "output_type": "stream",
     "text": [
      "Epoch 304, Loss: 28.9151, Recon: 19.7831, KL: 9.1320\n",
      "\n",
      "===== Epoch 305 =====\n"
     ]
    },
    {
     "name": "stderr",
     "output_type": "stream",
     "text": [
      "Epoch 305/500: 100%|██████████████████████████| 11/11 [00:00<00:00, 1145.02it/s]\n"
     ]
    },
    {
     "name": "stdout",
     "output_type": "stream",
     "text": [
      "Epoch 305, Loss: 30.3107, Recon: 20.9297, KL: 9.3810\n",
      "\n",
      "===== Epoch 306 =====\n"
     ]
    },
    {
     "name": "stderr",
     "output_type": "stream",
     "text": [
      "Epoch 306/500: 100%|██████████████████████████| 11/11 [00:00<00:00, 1307.78it/s]\n"
     ]
    },
    {
     "name": "stdout",
     "output_type": "stream",
     "text": [
      "Epoch 306, Loss: 29.7700, Recon: 20.4778, KL: 9.2922\n",
      "\n",
      "===== Epoch 307 =====\n"
     ]
    },
    {
     "name": "stderr",
     "output_type": "stream",
     "text": [
      "Epoch 307/500: 100%|██████████████████████████| 11/11 [00:00<00:00, 1528.44it/s]\n"
     ]
    },
    {
     "name": "stdout",
     "output_type": "stream",
     "text": [
      "Epoch 307, Loss: 29.7787, Recon: 20.5800, KL: 9.1987\n",
      "\n",
      "===== Epoch 308 =====\n"
     ]
    },
    {
     "name": "stderr",
     "output_type": "stream",
     "text": [
      "Epoch 308/500: 100%|██████████████████████████| 11/11 [00:00<00:00, 1214.68it/s]\n"
     ]
    },
    {
     "name": "stdout",
     "output_type": "stream",
     "text": [
      "Epoch 308, Loss: 30.6623, Recon: 20.9483, KL: 9.7140\n",
      "\n",
      "===== Epoch 309 =====\n"
     ]
    },
    {
     "name": "stderr",
     "output_type": "stream",
     "text": [
      "Epoch 309/500: 100%|██████████████████████████| 11/11 [00:00<00:00, 1253.29it/s]\n"
     ]
    },
    {
     "name": "stdout",
     "output_type": "stream",
     "text": [
      "Epoch 309, Loss: 30.5153, Recon: 21.3284, KL: 9.1869\n",
      "\n",
      "===== Epoch 310 =====\n"
     ]
    },
    {
     "name": "stderr",
     "output_type": "stream",
     "text": [
      "Epoch 310/500: 100%|██████████████████████████| 11/11 [00:00<00:00, 1404.31it/s]\n"
     ]
    },
    {
     "name": "stdout",
     "output_type": "stream",
     "text": [
      "Epoch 310, Loss: 29.3763, Recon: 20.4448, KL: 8.9315\n",
      "\n",
      "===== Epoch 311 =====\n"
     ]
    },
    {
     "name": "stderr",
     "output_type": "stream",
     "text": [
      "Epoch 311/500: 100%|██████████████████████████| 11/11 [00:00<00:00, 1437.57it/s]\n"
     ]
    },
    {
     "name": "stdout",
     "output_type": "stream",
     "text": [
      "Epoch 311, Loss: 29.7118, Recon: 20.3809, KL: 9.3309\n",
      "\n",
      "===== Epoch 312 =====\n"
     ]
    },
    {
     "name": "stderr",
     "output_type": "stream",
     "text": [
      "Epoch 312/500: 100%|██████████████████████████| 11/11 [00:00<00:00, 1441.70it/s]\n"
     ]
    },
    {
     "name": "stdout",
     "output_type": "stream",
     "text": [
      "Epoch 312, Loss: 28.9568, Recon: 19.5870, KL: 9.3698\n",
      "\n",
      "===== Epoch 313 =====\n"
     ]
    },
    {
     "name": "stderr",
     "output_type": "stream",
     "text": [
      "Epoch 313/500: 100%|██████████████████████████| 11/11 [00:00<00:00, 1207.31it/s]\n"
     ]
    },
    {
     "name": "stdout",
     "output_type": "stream",
     "text": [
      "Epoch 313, Loss: 29.7786, Recon: 20.7314, KL: 9.0472\n",
      "\n",
      "===== Epoch 314 =====\n"
     ]
    },
    {
     "name": "stderr",
     "output_type": "stream",
     "text": [
      "Epoch 314/500: 100%|██████████████████████████| 11/11 [00:00<00:00, 1503.33it/s]\n"
     ]
    },
    {
     "name": "stdout",
     "output_type": "stream",
     "text": [
      "Epoch 314, Loss: 29.5917, Recon: 20.5076, KL: 9.0841\n",
      "\n",
      "===== Epoch 315 =====\n"
     ]
    },
    {
     "name": "stderr",
     "output_type": "stream",
     "text": [
      "Epoch 315/500: 100%|██████████████████████████| 11/11 [00:00<00:00, 1365.62it/s]\n"
     ]
    },
    {
     "name": "stdout",
     "output_type": "stream",
     "text": [
      "Epoch 315, Loss: 29.3019, Recon: 20.1778, KL: 9.1241\n",
      "\n",
      "===== Epoch 316 =====\n"
     ]
    },
    {
     "name": "stderr",
     "output_type": "stream",
     "text": [
      "Epoch 316/500: 100%|██████████████████████████| 11/11 [00:00<00:00, 1521.03it/s]\n"
     ]
    },
    {
     "name": "stdout",
     "output_type": "stream",
     "text": [
      "Epoch 316, Loss: 29.2292, Recon: 20.1554, KL: 9.0738\n",
      "\n",
      "===== Epoch 317 =====\n"
     ]
    },
    {
     "name": "stderr",
     "output_type": "stream",
     "text": [
      "Epoch 317/500: 100%|██████████████████████████| 11/11 [00:00<00:00, 1263.79it/s]\n"
     ]
    },
    {
     "name": "stdout",
     "output_type": "stream",
     "text": [
      "Epoch 317, Loss: 29.9465, Recon: 20.6912, KL: 9.2553\n",
      "\n",
      "===== Epoch 318 =====\n"
     ]
    },
    {
     "name": "stderr",
     "output_type": "stream",
     "text": [
      "Epoch 318/500: 100%|██████████████████████████| 11/11 [00:00<00:00, 1416.39it/s]\n"
     ]
    },
    {
     "name": "stdout",
     "output_type": "stream",
     "text": [
      "Epoch 318, Loss: 28.7239, Recon: 19.3997, KL: 9.3242\n",
      "\n",
      "===== Epoch 319 =====\n"
     ]
    },
    {
     "name": "stderr",
     "output_type": "stream",
     "text": [
      "Epoch 319/500: 100%|██████████████████████████| 11/11 [00:00<00:00, 1524.40it/s]\n"
     ]
    },
    {
     "name": "stdout",
     "output_type": "stream",
     "text": [
      "Epoch 319, Loss: 28.6468, Recon: 19.4520, KL: 9.1948\n",
      "\n",
      "===== Epoch 320 =====\n"
     ]
    },
    {
     "name": "stderr",
     "output_type": "stream",
     "text": [
      "Epoch 320/500: 100%|██████████████████████████| 11/11 [00:00<00:00, 1375.84it/s]\n"
     ]
    },
    {
     "name": "stdout",
     "output_type": "stream",
     "text": [
      "Epoch 320, Loss: 28.9717, Recon: 19.7892, KL: 9.1825\n",
      "\n",
      "===== Epoch 321 =====\n"
     ]
    },
    {
     "name": "stderr",
     "output_type": "stream",
     "text": [
      "Epoch 321/500: 100%|██████████████████████████| 11/11 [00:00<00:00, 1426.15it/s]\n"
     ]
    },
    {
     "name": "stdout",
     "output_type": "stream",
     "text": [
      "Epoch 321, Loss: 29.1985, Recon: 20.0665, KL: 9.1320\n",
      "\n",
      "===== Epoch 322 =====\n"
     ]
    },
    {
     "name": "stderr",
     "output_type": "stream",
     "text": [
      "Epoch 322/500: 100%|██████████████████████████| 11/11 [00:00<00:00, 1379.71it/s]\n"
     ]
    },
    {
     "name": "stdout",
     "output_type": "stream",
     "text": [
      "Epoch 322, Loss: 29.5587, Recon: 20.1707, KL: 9.3880\n",
      "\n",
      "===== Epoch 323 =====\n"
     ]
    },
    {
     "name": "stderr",
     "output_type": "stream",
     "text": [
      "Epoch 323/500: 100%|██████████████████████████| 11/11 [00:00<00:00, 1358.82it/s]\n"
     ]
    },
    {
     "name": "stdout",
     "output_type": "stream",
     "text": [
      "Epoch 323, Loss: 28.8694, Recon: 19.6238, KL: 9.2456\n",
      "\n",
      "===== Epoch 324 =====\n"
     ]
    },
    {
     "name": "stderr",
     "output_type": "stream",
     "text": [
      "Epoch 324/500: 100%|██████████████████████████| 11/11 [00:00<00:00, 1233.16it/s]\n"
     ]
    },
    {
     "name": "stdout",
     "output_type": "stream",
     "text": [
      "Epoch 324, Loss: 28.8506, Recon: 19.8725, KL: 8.9781\n",
      "\n",
      "===== Epoch 325 =====\n"
     ]
    },
    {
     "name": "stderr",
     "output_type": "stream",
     "text": [
      "Epoch 325/500: 100%|██████████████████████████| 11/11 [00:00<00:00, 1321.34it/s]\n"
     ]
    },
    {
     "name": "stdout",
     "output_type": "stream",
     "text": [
      "Epoch 325, Loss: 29.2487, Recon: 20.2087, KL: 9.0400\n",
      "\n",
      "===== Epoch 326 =====\n"
     ]
    },
    {
     "name": "stderr",
     "output_type": "stream",
     "text": [
      "Epoch 326/500: 100%|██████████████████████████| 11/11 [00:00<00:00, 1471.78it/s]\n"
     ]
    },
    {
     "name": "stdout",
     "output_type": "stream",
     "text": [
      "Epoch 326, Loss: 28.1710, Recon: 19.4199, KL: 8.7511\n",
      "\n",
      "===== Epoch 327 =====\n"
     ]
    },
    {
     "name": "stderr",
     "output_type": "stream",
     "text": [
      "Epoch 327/500: 100%|██████████████████████████| 11/11 [00:00<00:00, 1345.94it/s]\n"
     ]
    },
    {
     "name": "stdout",
     "output_type": "stream",
     "text": [
      "Epoch 327, Loss: 29.4630, Recon: 20.3473, KL: 9.1157\n",
      "\n",
      "===== Epoch 328 =====\n"
     ]
    },
    {
     "name": "stderr",
     "output_type": "stream",
     "text": [
      "Epoch 328/500: 100%|██████████████████████████| 11/11 [00:00<00:00, 1348.02it/s]\n"
     ]
    },
    {
     "name": "stdout",
     "output_type": "stream",
     "text": [
      "Epoch 328, Loss: 29.7783, Recon: 20.6569, KL: 9.1213\n",
      "\n",
      "===== Epoch 329 =====\n"
     ]
    },
    {
     "name": "stderr",
     "output_type": "stream",
     "text": [
      "Epoch 329/500: 100%|██████████████████████████| 11/11 [00:00<00:00, 1488.11it/s]\n"
     ]
    },
    {
     "name": "stdout",
     "output_type": "stream",
     "text": [
      "Epoch 329, Loss: 29.4617, Recon: 20.0675, KL: 9.3943\n",
      "\n",
      "===== Epoch 330 =====\n"
     ]
    },
    {
     "name": "stderr",
     "output_type": "stream",
     "text": [
      "Epoch 330/500: 100%|██████████████████████████| 11/11 [00:00<00:00, 1329.64it/s]\n"
     ]
    },
    {
     "name": "stdout",
     "output_type": "stream",
     "text": [
      "Epoch 330, Loss: 28.5858, Recon: 19.7987, KL: 8.7872\n",
      "\n",
      "===== Epoch 331 =====\n"
     ]
    },
    {
     "name": "stderr",
     "output_type": "stream",
     "text": [
      "Epoch 331/500: 100%|██████████████████████████| 11/11 [00:00<00:00, 1356.86it/s]\n"
     ]
    },
    {
     "name": "stdout",
     "output_type": "stream",
     "text": [
      "Epoch 331, Loss: 28.2942, Recon: 19.3351, KL: 8.9591\n",
      "\n",
      "===== Epoch 332 =====\n"
     ]
    },
    {
     "name": "stderr",
     "output_type": "stream",
     "text": [
      "Epoch 332/500: 100%|██████████████████████████| 11/11 [00:00<00:00, 1463.98it/s]\n"
     ]
    },
    {
     "name": "stdout",
     "output_type": "stream",
     "text": [
      "Epoch 332, Loss: 30.0007, Recon: 20.8774, KL: 9.1233\n",
      "\n",
      "===== Epoch 333 =====\n"
     ]
    },
    {
     "name": "stderr",
     "output_type": "stream",
     "text": [
      "Epoch 333/500: 100%|██████████████████████████| 11/11 [00:00<00:00, 1331.06it/s]\n"
     ]
    },
    {
     "name": "stdout",
     "output_type": "stream",
     "text": [
      "Epoch 333, Loss: 29.5343, Recon: 20.2084, KL: 9.3259\n",
      "\n",
      "===== Epoch 334 =====\n"
     ]
    },
    {
     "name": "stderr",
     "output_type": "stream",
     "text": [
      "Epoch 334/500: 100%|██████████████████████████| 11/11 [00:00<00:00, 1331.22it/s]\n"
     ]
    },
    {
     "name": "stdout",
     "output_type": "stream",
     "text": [
      "Epoch 334, Loss: 28.9724, Recon: 19.3698, KL: 9.6026\n",
      "\n",
      "===== Epoch 335 =====\n"
     ]
    },
    {
     "name": "stderr",
     "output_type": "stream",
     "text": [
      "Epoch 335/500: 100%|██████████████████████████| 11/11 [00:00<00:00, 1439.59it/s]\n"
     ]
    },
    {
     "name": "stdout",
     "output_type": "stream",
     "text": [
      "Epoch 335, Loss: 29.6186, Recon: 20.4552, KL: 9.1634\n",
      "\n",
      "===== Epoch 336 =====\n"
     ]
    },
    {
     "name": "stderr",
     "output_type": "stream",
     "text": [
      "Epoch 336/500: 100%|██████████████████████████| 11/11 [00:00<00:00, 1423.55it/s]\n"
     ]
    },
    {
     "name": "stdout",
     "output_type": "stream",
     "text": [
      "Epoch 336, Loss: 28.3106, Recon: 19.4261, KL: 8.8845\n",
      "\n",
      "===== Epoch 337 =====\n"
     ]
    },
    {
     "name": "stderr",
     "output_type": "stream",
     "text": [
      "Epoch 337/500: 100%|██████████████████████████| 11/11 [00:00<00:00, 1368.70it/s]\n"
     ]
    },
    {
     "name": "stdout",
     "output_type": "stream",
     "text": [
      "Epoch 337, Loss: 28.8722, Recon: 20.0917, KL: 8.7805\n",
      "\n",
      "===== Epoch 338 =====\n"
     ]
    },
    {
     "name": "stderr",
     "output_type": "stream",
     "text": [
      "Epoch 338/500: 100%|██████████████████████████| 11/11 [00:00<00:00, 1158.62it/s]\n"
     ]
    },
    {
     "name": "stdout",
     "output_type": "stream",
     "text": [
      "Epoch 338, Loss: 28.8909, Recon: 19.7658, KL: 9.1251\n",
      "\n",
      "===== Epoch 339 =====\n"
     ]
    },
    {
     "name": "stderr",
     "output_type": "stream",
     "text": [
      "Epoch 339/500: 100%|██████████████████████████| 11/11 [00:00<00:00, 1398.65it/s]\n"
     ]
    },
    {
     "name": "stdout",
     "output_type": "stream",
     "text": [
      "Epoch 339, Loss: 29.5858, Recon: 20.2855, KL: 9.3004\n",
      "\n",
      "===== Epoch 340 =====\n"
     ]
    },
    {
     "name": "stderr",
     "output_type": "stream",
     "text": [
      "Epoch 340/500: 100%|██████████████████████████| 11/11 [00:00<00:00, 1370.93it/s]\n"
     ]
    },
    {
     "name": "stdout",
     "output_type": "stream",
     "text": [
      "Epoch 340, Loss: 28.7411, Recon: 19.7038, KL: 9.0373\n",
      "\n",
      "===== Epoch 341 =====\n"
     ]
    },
    {
     "name": "stderr",
     "output_type": "stream",
     "text": [
      "Epoch 341/500: 100%|██████████████████████████| 11/11 [00:00<00:00, 1503.53it/s]\n"
     ]
    },
    {
     "name": "stdout",
     "output_type": "stream",
     "text": [
      "Epoch 341, Loss: 29.3157, Recon: 20.2757, KL: 9.0401\n",
      "\n",
      "===== Epoch 342 =====\n"
     ]
    },
    {
     "name": "stderr",
     "output_type": "stream",
     "text": [
      "Epoch 342/500: 100%|██████████████████████████| 11/11 [00:00<00:00, 1204.32it/s]\n"
     ]
    },
    {
     "name": "stdout",
     "output_type": "stream",
     "text": [
      "Epoch 342, Loss: 29.1066, Recon: 20.2059, KL: 8.9006\n",
      "\n",
      "===== Epoch 343 =====\n"
     ]
    },
    {
     "name": "stderr",
     "output_type": "stream",
     "text": [
      "Epoch 343/500: 100%|██████████████████████████| 11/11 [00:00<00:00, 1252.44it/s]\n"
     ]
    },
    {
     "name": "stdout",
     "output_type": "stream",
     "text": [
      "Epoch 343, Loss: 27.8494, Recon: 19.2181, KL: 8.6313\n",
      "\n",
      "===== Epoch 344 =====\n"
     ]
    },
    {
     "name": "stderr",
     "output_type": "stream",
     "text": [
      "Epoch 344/500: 100%|██████████████████████████| 11/11 [00:00<00:00, 1252.98it/s]\n"
     ]
    },
    {
     "name": "stdout",
     "output_type": "stream",
     "text": [
      "Epoch 344, Loss: 28.4522, Recon: 19.4902, KL: 8.9620\n",
      "\n",
      "===== Epoch 345 =====\n"
     ]
    },
    {
     "name": "stderr",
     "output_type": "stream",
     "text": [
      "Epoch 345/500: 100%|██████████████████████████| 11/11 [00:00<00:00, 1370.69it/s]\n"
     ]
    },
    {
     "name": "stdout",
     "output_type": "stream",
     "text": [
      "Epoch 345, Loss: 28.4960, Recon: 19.2997, KL: 9.1962\n",
      "\n",
      "===== Epoch 346 =====\n"
     ]
    },
    {
     "name": "stderr",
     "output_type": "stream",
     "text": [
      "Epoch 346/500: 100%|██████████████████████████| 11/11 [00:00<00:00, 1121.53it/s]\n"
     ]
    },
    {
     "name": "stdout",
     "output_type": "stream",
     "text": [
      "Epoch 346, Loss: 29.0837, Recon: 19.6761, KL: 9.4076\n",
      "\n",
      "===== Epoch 347 =====\n"
     ]
    },
    {
     "name": "stderr",
     "output_type": "stream",
     "text": [
      "Epoch 347/500: 100%|██████████████████████████| 11/11 [00:00<00:00, 1325.48it/s]\n"
     ]
    },
    {
     "name": "stdout",
     "output_type": "stream",
     "text": [
      "Epoch 347, Loss: 28.9448, Recon: 19.8358, KL: 9.1090\n",
      "\n",
      "===== Epoch 348 =====\n"
     ]
    },
    {
     "name": "stderr",
     "output_type": "stream",
     "text": [
      "Epoch 348/500: 100%|██████████████████████████| 11/11 [00:00<00:00, 1521.48it/s]\n"
     ]
    },
    {
     "name": "stdout",
     "output_type": "stream",
     "text": [
      "Epoch 348, Loss: 29.1416, Recon: 20.1788, KL: 8.9627\n",
      "\n",
      "===== Epoch 349 =====\n"
     ]
    },
    {
     "name": "stderr",
     "output_type": "stream",
     "text": [
      "Epoch 349/500: 100%|██████████████████████████| 11/11 [00:00<00:00, 1463.38it/s]\n"
     ]
    },
    {
     "name": "stdout",
     "output_type": "stream",
     "text": [
      "Epoch 349, Loss: 28.0539, Recon: 19.2013, KL: 8.8526\n",
      "\n",
      "===== Epoch 350 =====\n"
     ]
    },
    {
     "name": "stderr",
     "output_type": "stream",
     "text": [
      "Epoch 350/500: 100%|██████████████████████████| 11/11 [00:00<00:00, 1341.75it/s]\n"
     ]
    },
    {
     "name": "stdout",
     "output_type": "stream",
     "text": [
      "Epoch 350, Loss: 28.6995, Recon: 20.0312, KL: 8.6683\n",
      "\n",
      "===== Epoch 351 =====\n"
     ]
    },
    {
     "name": "stderr",
     "output_type": "stream",
     "text": [
      "Epoch 351/500: 100%|██████████████████████████| 11/11 [00:00<00:00, 1515.13it/s]\n"
     ]
    },
    {
     "name": "stdout",
     "output_type": "stream",
     "text": [
      "Epoch 351, Loss: 28.3563, Recon: 19.3061, KL: 9.0501\n",
      "\n",
      "===== Epoch 352 =====\n"
     ]
    },
    {
     "name": "stderr",
     "output_type": "stream",
     "text": [
      "Epoch 352/500: 100%|██████████████████████████| 11/11 [00:00<00:00, 1210.51it/s]\n"
     ]
    },
    {
     "name": "stdout",
     "output_type": "stream",
     "text": [
      "Epoch 352, Loss: 27.8195, Recon: 19.1913, KL: 8.6282\n",
      "\n",
      "===== Epoch 353 =====\n"
     ]
    },
    {
     "name": "stderr",
     "output_type": "stream",
     "text": [
      "Epoch 353/500: 100%|██████████████████████████| 11/11 [00:00<00:00, 1489.70it/s]\n"
     ]
    },
    {
     "name": "stdout",
     "output_type": "stream",
     "text": [
      "Epoch 353, Loss: 28.1993, Recon: 19.4735, KL: 8.7258\n",
      "\n",
      "===== Epoch 354 =====\n"
     ]
    },
    {
     "name": "stderr",
     "output_type": "stream",
     "text": [
      "Epoch 354/500: 100%|██████████████████████████| 11/11 [00:00<00:00, 1476.87it/s]\n"
     ]
    },
    {
     "name": "stdout",
     "output_type": "stream",
     "text": [
      "Epoch 354, Loss: 28.9918, Recon: 19.9334, KL: 9.0584\n",
      "\n",
      "===== Epoch 355 =====\n"
     ]
    },
    {
     "name": "stderr",
     "output_type": "stream",
     "text": [
      "Epoch 355/500: 100%|██████████████████████████| 11/11 [00:00<00:00, 1328.99it/s]\n"
     ]
    },
    {
     "name": "stdout",
     "output_type": "stream",
     "text": [
      "Epoch 355, Loss: 27.8912, Recon: 18.8419, KL: 9.0494\n",
      "\n",
      "===== Epoch 356 =====\n"
     ]
    },
    {
     "name": "stderr",
     "output_type": "stream",
     "text": [
      "Epoch 356/500: 100%|██████████████████████████| 11/11 [00:00<00:00, 1412.22it/s]\n"
     ]
    },
    {
     "name": "stdout",
     "output_type": "stream",
     "text": [
      "Epoch 356, Loss: 29.1273, Recon: 19.9196, KL: 9.2077\n",
      "\n",
      "===== Epoch 357 =====\n"
     ]
    },
    {
     "name": "stderr",
     "output_type": "stream",
     "text": [
      "Epoch 357/500: 100%|██████████████████████████| 11/11 [00:00<00:00, 1496.41it/s]\n"
     ]
    },
    {
     "name": "stdout",
     "output_type": "stream",
     "text": [
      "Epoch 357, Loss: 27.6122, Recon: 18.8278, KL: 8.7844\n",
      "\n",
      "===== Epoch 358 =====\n"
     ]
    },
    {
     "name": "stderr",
     "output_type": "stream",
     "text": [
      "Epoch 358/500: 100%|██████████████████████████| 11/11 [00:00<00:00, 1398.27it/s]\n"
     ]
    },
    {
     "name": "stdout",
     "output_type": "stream",
     "text": [
      "Epoch 358, Loss: 28.4611, Recon: 19.2513, KL: 9.2097\n",
      "\n",
      "===== Epoch 359 =====\n"
     ]
    },
    {
     "name": "stderr",
     "output_type": "stream",
     "text": [
      "Epoch 359/500: 100%|███████████████████████████| 11/11 [00:00<00:00, 963.14it/s]\n"
     ]
    },
    {
     "name": "stdout",
     "output_type": "stream",
     "text": [
      "Epoch 359, Loss: 27.7212, Recon: 18.9195, KL: 8.8017\n",
      "\n",
      "===== Epoch 360 =====\n"
     ]
    },
    {
     "name": "stderr",
     "output_type": "stream",
     "text": [
      "Epoch 360/500: 100%|██████████████████████████| 11/11 [00:00<00:00, 1337.86it/s]\n"
     ]
    },
    {
     "name": "stdout",
     "output_type": "stream",
     "text": [
      "Epoch 360, Loss: 28.7060, Recon: 19.6547, KL: 9.0513\n",
      "\n",
      "===== Epoch 361 =====\n"
     ]
    },
    {
     "name": "stderr",
     "output_type": "stream",
     "text": [
      "Epoch 361/500: 100%|██████████████████████████| 11/11 [00:00<00:00, 1189.05it/s]\n"
     ]
    },
    {
     "name": "stdout",
     "output_type": "stream",
     "text": [
      "Epoch 361, Loss: 28.5092, Recon: 19.4770, KL: 9.0322\n",
      "\n",
      "===== Epoch 362 =====\n"
     ]
    },
    {
     "name": "stderr",
     "output_type": "stream",
     "text": [
      "Epoch 362/500: 100%|██████████████████████████| 11/11 [00:00<00:00, 1302.65it/s]\n"
     ]
    },
    {
     "name": "stdout",
     "output_type": "stream",
     "text": [
      "Epoch 362, Loss: 28.4613, Recon: 19.2217, KL: 9.2396\n",
      "\n",
      "===== Epoch 363 =====\n"
     ]
    },
    {
     "name": "stderr",
     "output_type": "stream",
     "text": [
      "Epoch 363/500: 100%|██████████████████████████| 11/11 [00:00<00:00, 1518.47it/s]\n"
     ]
    },
    {
     "name": "stdout",
     "output_type": "stream",
     "text": [
      "Epoch 363, Loss: 29.1719, Recon: 20.0501, KL: 9.1219\n",
      "\n",
      "===== Epoch 364 =====\n"
     ]
    },
    {
     "name": "stderr",
     "output_type": "stream",
     "text": [
      "Epoch 364/500: 100%|██████████████████████████| 11/11 [00:00<00:00, 1352.17it/s]\n"
     ]
    },
    {
     "name": "stdout",
     "output_type": "stream",
     "text": [
      "Epoch 364, Loss: 28.7569, Recon: 19.5219, KL: 9.2351\n",
      "\n",
      "===== Epoch 365 =====\n"
     ]
    },
    {
     "name": "stderr",
     "output_type": "stream",
     "text": [
      "Epoch 365/500: 100%|██████████████████████████| 11/11 [00:00<00:00, 1351.57it/s]\n"
     ]
    },
    {
     "name": "stdout",
     "output_type": "stream",
     "text": [
      "Epoch 365, Loss: 27.9204, Recon: 18.9120, KL: 9.0083\n",
      "\n",
      "===== Epoch 366 =====\n"
     ]
    },
    {
     "name": "stderr",
     "output_type": "stream",
     "text": [
      "Epoch 366/500: 100%|██████████████████████████| 11/11 [00:00<00:00, 1399.29it/s]\n"
     ]
    },
    {
     "name": "stdout",
     "output_type": "stream",
     "text": [
      "Epoch 366, Loss: 28.3551, Recon: 19.5060, KL: 8.8491\n",
      "\n",
      "===== Epoch 367 =====\n"
     ]
    },
    {
     "name": "stderr",
     "output_type": "stream",
     "text": [
      "Epoch 367/500: 100%|██████████████████████████| 11/11 [00:00<00:00, 1282.63it/s]\n"
     ]
    },
    {
     "name": "stdout",
     "output_type": "stream",
     "text": [
      "Epoch 367, Loss: 27.5579, Recon: 18.5498, KL: 9.0082\n",
      "\n",
      "===== Epoch 368 =====\n"
     ]
    },
    {
     "name": "stderr",
     "output_type": "stream",
     "text": [
      "Epoch 368/500: 100%|██████████████████████████| 11/11 [00:00<00:00, 1327.54it/s]\n"
     ]
    },
    {
     "name": "stdout",
     "output_type": "stream",
     "text": [
      "Epoch 368, Loss: 27.9615, Recon: 18.7326, KL: 9.2290\n",
      "\n",
      "===== Epoch 369 =====\n"
     ]
    },
    {
     "name": "stderr",
     "output_type": "stream",
     "text": [
      "Epoch 369/500: 100%|██████████████████████████| 11/11 [00:00<00:00, 1145.84it/s]\n"
     ]
    },
    {
     "name": "stdout",
     "output_type": "stream",
     "text": [
      "Epoch 369, Loss: 27.5701, Recon: 18.7105, KL: 8.8595\n",
      "\n",
      "===== Epoch 370 =====\n"
     ]
    },
    {
     "name": "stderr",
     "output_type": "stream",
     "text": [
      "Epoch 370/500: 100%|██████████████████████████| 11/11 [00:00<00:00, 1545.85it/s]\n"
     ]
    },
    {
     "name": "stdout",
     "output_type": "stream",
     "text": [
      "Epoch 370, Loss: 27.4788, Recon: 18.7538, KL: 8.7250\n",
      "\n",
      "===== Epoch 371 =====\n"
     ]
    },
    {
     "name": "stderr",
     "output_type": "stream",
     "text": [
      "Epoch 371/500: 100%|██████████████████████████| 11/11 [00:00<00:00, 1236.50it/s]\n"
     ]
    },
    {
     "name": "stdout",
     "output_type": "stream",
     "text": [
      "Epoch 371, Loss: 28.3889, Recon: 19.6046, KL: 8.7842\n",
      "\n",
      "===== Epoch 372 =====\n"
     ]
    },
    {
     "name": "stderr",
     "output_type": "stream",
     "text": [
      "Epoch 372/500: 100%|██████████████████████████| 11/11 [00:00<00:00, 1068.27it/s]\n"
     ]
    },
    {
     "name": "stdout",
     "output_type": "stream",
     "text": [
      "Epoch 372, Loss: 27.9541, Recon: 18.8221, KL: 9.1320\n",
      "\n",
      "===== Epoch 373 =====\n"
     ]
    },
    {
     "name": "stderr",
     "output_type": "stream",
     "text": [
      "Epoch 373/500: 100%|██████████████████████████| 11/11 [00:00<00:00, 1420.83it/s]\n"
     ]
    },
    {
     "name": "stdout",
     "output_type": "stream",
     "text": [
      "Epoch 373, Loss: 28.5213, Recon: 19.5588, KL: 8.9625\n",
      "\n",
      "===== Epoch 374 =====\n"
     ]
    },
    {
     "name": "stderr",
     "output_type": "stream",
     "text": [
      "Epoch 374/500: 100%|███████████████████████████| 11/11 [00:00<00:00, 813.80it/s]\n"
     ]
    },
    {
     "name": "stdout",
     "output_type": "stream",
     "text": [
      "Epoch 374, Loss: 27.7607, Recon: 18.8386, KL: 8.9221\n",
      "\n",
      "===== Epoch 375 =====\n"
     ]
    },
    {
     "name": "stderr",
     "output_type": "stream",
     "text": [
      "Epoch 375/500: 100%|██████████████████████████| 11/11 [00:00<00:00, 1231.41it/s]\n"
     ]
    },
    {
     "name": "stdout",
     "output_type": "stream",
     "text": [
      "Epoch 375, Loss: 28.3612, Recon: 19.4692, KL: 8.8919\n",
      "\n",
      "===== Epoch 376 =====\n"
     ]
    },
    {
     "name": "stderr",
     "output_type": "stream",
     "text": [
      "Epoch 376/500: 100%|██████████████████████████| 11/11 [00:00<00:00, 1320.70it/s]\n"
     ]
    },
    {
     "name": "stdout",
     "output_type": "stream",
     "text": [
      "Epoch 376, Loss: 27.8511, Recon: 19.1786, KL: 8.6724\n",
      "\n",
      "===== Epoch 377 =====\n"
     ]
    },
    {
     "name": "stderr",
     "output_type": "stream",
     "text": [
      "Epoch 377/500: 100%|██████████████████████████| 11/11 [00:00<00:00, 1472.58it/s]\n"
     ]
    },
    {
     "name": "stdout",
     "output_type": "stream",
     "text": [
      "Epoch 377, Loss: 27.6439, Recon: 18.7081, KL: 8.9359\n",
      "\n",
      "===== Epoch 378 =====\n"
     ]
    },
    {
     "name": "stderr",
     "output_type": "stream",
     "text": [
      "Epoch 378/500: 100%|██████████████████████████| 11/11 [00:00<00:00, 1513.64it/s]\n"
     ]
    },
    {
     "name": "stdout",
     "output_type": "stream",
     "text": [
      "Epoch 378, Loss: 26.9686, Recon: 18.2101, KL: 8.7585\n",
      "\n",
      "===== Epoch 379 =====\n"
     ]
    },
    {
     "name": "stderr",
     "output_type": "stream",
     "text": [
      "Epoch 379/500: 100%|██████████████████████████| 11/11 [00:00<00:00, 1423.60it/s]\n"
     ]
    },
    {
     "name": "stdout",
     "output_type": "stream",
     "text": [
      "Epoch 379, Loss: 27.5429, Recon: 18.6846, KL: 8.8583\n",
      "\n",
      "===== Epoch 380 =====\n"
     ]
    },
    {
     "name": "stderr",
     "output_type": "stream",
     "text": [
      "Epoch 380/500: 100%|██████████████████████████| 11/11 [00:00<00:00, 1541.71it/s]\n"
     ]
    },
    {
     "name": "stdout",
     "output_type": "stream",
     "text": [
      "Epoch 380, Loss: 27.0501, Recon: 18.3436, KL: 8.7065\n",
      "\n",
      "===== Epoch 381 =====\n"
     ]
    },
    {
     "name": "stderr",
     "output_type": "stream",
     "text": [
      "Epoch 381/500: 100%|██████████████████████████| 11/11 [00:00<00:00, 1312.47it/s]\n"
     ]
    },
    {
     "name": "stdout",
     "output_type": "stream",
     "text": [
      "Epoch 381, Loss: 28.6117, Recon: 19.6518, KL: 8.9599\n",
      "\n",
      "===== Epoch 382 =====\n"
     ]
    },
    {
     "name": "stderr",
     "output_type": "stream",
     "text": [
      "Epoch 382/500: 100%|██████████████████████████| 11/11 [00:00<00:00, 1355.47it/s]\n"
     ]
    },
    {
     "name": "stdout",
     "output_type": "stream",
     "text": [
      "Epoch 382, Loss: 27.7738, Recon: 18.9189, KL: 8.8549\n",
      "\n",
      "===== Epoch 383 =====\n"
     ]
    },
    {
     "name": "stderr",
     "output_type": "stream",
     "text": [
      "Epoch 383/500: 100%|██████████████████████████| 11/11 [00:00<00:00, 1493.17it/s]\n"
     ]
    },
    {
     "name": "stdout",
     "output_type": "stream",
     "text": [
      "Epoch 383, Loss: 27.4480, Recon: 18.5207, KL: 8.9273\n",
      "\n",
      "===== Epoch 384 =====\n"
     ]
    },
    {
     "name": "stderr",
     "output_type": "stream",
     "text": [
      "Epoch 384/500: 100%|██████████████████████████| 11/11 [00:00<00:00, 1301.00it/s]\n"
     ]
    },
    {
     "name": "stdout",
     "output_type": "stream",
     "text": [
      "Epoch 384, Loss: 27.9602, Recon: 19.0243, KL: 8.9359\n",
      "\n",
      "===== Epoch 385 =====\n"
     ]
    },
    {
     "name": "stderr",
     "output_type": "stream",
     "text": [
      "Epoch 385/500: 100%|██████████████████████████| 11/11 [00:00<00:00, 1361.06it/s]\n"
     ]
    },
    {
     "name": "stdout",
     "output_type": "stream",
     "text": [
      "Epoch 385, Loss: 27.6297, Recon: 18.8662, KL: 8.7634\n",
      "\n",
      "===== Epoch 386 =====\n"
     ]
    },
    {
     "name": "stderr",
     "output_type": "stream",
     "text": [
      "Epoch 386/500: 100%|██████████████████████████| 11/11 [00:00<00:00, 1140.49it/s]\n"
     ]
    },
    {
     "name": "stdout",
     "output_type": "stream",
     "text": [
      "Epoch 386, Loss: 28.1377, Recon: 19.4443, KL: 8.6933\n",
      "\n",
      "===== Epoch 387 =====\n"
     ]
    },
    {
     "name": "stderr",
     "output_type": "stream",
     "text": [
      "Epoch 387/500: 100%|██████████████████████████| 11/11 [00:00<00:00, 1532.24it/s]\n"
     ]
    },
    {
     "name": "stdout",
     "output_type": "stream",
     "text": [
      "Epoch 387, Loss: 28.0993, Recon: 19.1316, KL: 8.9677\n",
      "\n",
      "===== Epoch 388 =====\n"
     ]
    },
    {
     "name": "stderr",
     "output_type": "stream",
     "text": [
      "Epoch 388/500: 100%|██████████████████████████| 11/11 [00:00<00:00, 1374.53it/s]\n"
     ]
    },
    {
     "name": "stdout",
     "output_type": "stream",
     "text": [
      "Epoch 388, Loss: 28.0295, Recon: 18.9668, KL: 9.0627\n",
      "\n",
      "===== Epoch 389 =====\n"
     ]
    },
    {
     "name": "stderr",
     "output_type": "stream",
     "text": [
      "Epoch 389/500: 100%|██████████████████████████| 11/11 [00:00<00:00, 1518.13it/s]\n"
     ]
    },
    {
     "name": "stdout",
     "output_type": "stream",
     "text": [
      "Epoch 389, Loss: 28.2318, Recon: 19.1266, KL: 9.1052\n",
      "\n",
      "===== Epoch 390 =====\n"
     ]
    },
    {
     "name": "stderr",
     "output_type": "stream",
     "text": [
      "Epoch 390/500: 100%|██████████████████████████| 11/11 [00:00<00:00, 1523.99it/s]\n"
     ]
    },
    {
     "name": "stdout",
     "output_type": "stream",
     "text": [
      "Epoch 390, Loss: 27.4919, Recon: 18.5361, KL: 8.9558\n",
      "\n",
      "===== Epoch 391 =====\n"
     ]
    },
    {
     "name": "stderr",
     "output_type": "stream",
     "text": [
      "Epoch 391/500: 100%|██████████████████████████| 11/11 [00:00<00:00, 1451.77it/s]\n"
     ]
    },
    {
     "name": "stdout",
     "output_type": "stream",
     "text": [
      "Epoch 391, Loss: 27.2460, Recon: 18.4666, KL: 8.7795\n",
      "\n",
      "===== Epoch 392 =====\n"
     ]
    },
    {
     "name": "stderr",
     "output_type": "stream",
     "text": [
      "Epoch 392/500: 100%|██████████████████████████| 11/11 [00:00<00:00, 1543.42it/s]\n"
     ]
    },
    {
     "name": "stdout",
     "output_type": "stream",
     "text": [
      "Epoch 392, Loss: 28.5212, Recon: 19.4762, KL: 9.0450\n",
      "\n",
      "===== Epoch 393 =====\n"
     ]
    },
    {
     "name": "stderr",
     "output_type": "stream",
     "text": [
      "Epoch 393/500: 100%|██████████████████████████| 11/11 [00:00<00:00, 1509.78it/s]\n"
     ]
    },
    {
     "name": "stdout",
     "output_type": "stream",
     "text": [
      "Epoch 393, Loss: 27.8556, Recon: 18.7057, KL: 9.1500\n",
      "\n",
      "===== Epoch 394 =====\n"
     ]
    },
    {
     "name": "stderr",
     "output_type": "stream",
     "text": [
      "Epoch 394/500: 100%|██████████████████████████| 11/11 [00:00<00:00, 1525.45it/s]\n"
     ]
    },
    {
     "name": "stdout",
     "output_type": "stream",
     "text": [
      "Epoch 394, Loss: 28.7083, Recon: 19.4650, KL: 9.2432\n",
      "\n",
      "===== Epoch 395 =====\n"
     ]
    },
    {
     "name": "stderr",
     "output_type": "stream",
     "text": [
      "Epoch 395/500: 100%|██████████████████████████| 11/11 [00:00<00:00, 1456.59it/s]\n"
     ]
    },
    {
     "name": "stdout",
     "output_type": "stream",
     "text": [
      "Epoch 395, Loss: 26.9214, Recon: 18.1308, KL: 8.7906\n",
      "\n",
      "===== Epoch 396 =====\n"
     ]
    },
    {
     "name": "stderr",
     "output_type": "stream",
     "text": [
      "Epoch 396/500: 100%|██████████████████████████| 11/11 [00:00<00:00, 1337.55it/s]\n"
     ]
    },
    {
     "name": "stdout",
     "output_type": "stream",
     "text": [
      "Epoch 396, Loss: 27.4630, Recon: 18.6143, KL: 8.8488\n",
      "\n",
      "===== Epoch 397 =====\n"
     ]
    },
    {
     "name": "stderr",
     "output_type": "stream",
     "text": [
      "Epoch 397/500: 100%|██████████████████████████| 11/11 [00:00<00:00, 1515.33it/s]\n"
     ]
    },
    {
     "name": "stdout",
     "output_type": "stream",
     "text": [
      "Epoch 397, Loss: 28.1762, Recon: 19.0621, KL: 9.1141\n",
      "\n",
      "===== Epoch 398 =====\n"
     ]
    },
    {
     "name": "stderr",
     "output_type": "stream",
     "text": [
      "Epoch 398/500: 100%|███████████████████████████| 11/11 [00:00<00:00, 959.18it/s]\n"
     ]
    },
    {
     "name": "stdout",
     "output_type": "stream",
     "text": [
      "Epoch 398, Loss: 27.7305, Recon: 18.8064, KL: 8.9241\n",
      "\n",
      "===== Epoch 399 =====\n"
     ]
    },
    {
     "name": "stderr",
     "output_type": "stream",
     "text": [
      "Epoch 399/500: 100%|███████████████████████████| 11/11 [00:00<00:00, 794.01it/s]\n"
     ]
    },
    {
     "name": "stdout",
     "output_type": "stream",
     "text": [
      "Epoch 399, Loss: 27.7947, Recon: 18.8646, KL: 8.9301\n",
      "\n",
      "===== Epoch 400 =====\n"
     ]
    },
    {
     "name": "stderr",
     "output_type": "stream",
     "text": [
      "Epoch 400/500: 100%|██████████████████████████| 11/11 [00:00<00:00, 1309.20it/s]\n"
     ]
    },
    {
     "name": "stdout",
     "output_type": "stream",
     "text": [
      "Epoch 400, Loss: 28.3074, Recon: 19.1804, KL: 9.1270\n",
      "\n",
      "===== Epoch 401 =====\n"
     ]
    },
    {
     "name": "stderr",
     "output_type": "stream",
     "text": [
      "Epoch 401/500: 100%|██████████████████████████| 11/11 [00:00<00:00, 1258.59it/s]\n"
     ]
    },
    {
     "name": "stdout",
     "output_type": "stream",
     "text": [
      "Epoch 401, Loss: 27.8422, Recon: 19.0135, KL: 8.8286\n",
      "\n",
      "===== Epoch 402 =====\n"
     ]
    },
    {
     "name": "stderr",
     "output_type": "stream",
     "text": [
      "Epoch 402/500: 100%|███████████████████████████| 11/11 [00:00<00:00, 798.54it/s]\n"
     ]
    },
    {
     "name": "stdout",
     "output_type": "stream",
     "text": [
      "Epoch 402, Loss: 27.9213, Recon: 19.0910, KL: 8.8303\n",
      "\n",
      "===== Epoch 403 =====\n"
     ]
    },
    {
     "name": "stderr",
     "output_type": "stream",
     "text": [
      "Epoch 403/500: 100%|███████████████████████████| 11/11 [00:00<00:00, 938.32it/s]\n"
     ]
    },
    {
     "name": "stdout",
     "output_type": "stream",
     "text": [
      "Epoch 403, Loss: 27.8063, Recon: 18.7247, KL: 9.0815\n",
      "\n",
      "===== Epoch 404 =====\n"
     ]
    },
    {
     "name": "stderr",
     "output_type": "stream",
     "text": [
      "Epoch 404/500: 100%|██████████████████████████| 11/11 [00:00<00:00, 1173.08it/s]\n"
     ]
    },
    {
     "name": "stdout",
     "output_type": "stream",
     "text": [
      "Epoch 404, Loss: 27.3599, Recon: 18.5229, KL: 8.8370\n",
      "\n",
      "===== Epoch 405 =====\n"
     ]
    },
    {
     "name": "stderr",
     "output_type": "stream",
     "text": [
      "Epoch 405/500: 100%|██████████████████████████| 11/11 [00:00<00:00, 1417.87it/s]\n"
     ]
    },
    {
     "name": "stdout",
     "output_type": "stream",
     "text": [
      "Epoch 405, Loss: 27.2040, Recon: 18.2851, KL: 8.9189\n",
      "\n",
      "===== Epoch 406 =====\n"
     ]
    },
    {
     "name": "stderr",
     "output_type": "stream",
     "text": [
      "Epoch 406/500: 100%|███████████████████████████| 11/11 [00:00<00:00, 959.12it/s]\n"
     ]
    },
    {
     "name": "stdout",
     "output_type": "stream",
     "text": [
      "Epoch 406, Loss: 27.1555, Recon: 18.2529, KL: 8.9026\n",
      "\n",
      "===== Epoch 407 =====\n"
     ]
    },
    {
     "name": "stderr",
     "output_type": "stream",
     "text": [
      "Epoch 407/500: 100%|██████████████████████████| 11/11 [00:00<00:00, 1268.45it/s]\n"
     ]
    },
    {
     "name": "stdout",
     "output_type": "stream",
     "text": [
      "Epoch 407, Loss: 27.0539, Recon: 18.1720, KL: 8.8819\n",
      "\n",
      "===== Epoch 408 =====\n"
     ]
    },
    {
     "name": "stderr",
     "output_type": "stream",
     "text": [
      "Epoch 408/500: 100%|██████████████████████████| 11/11 [00:00<00:00, 1356.74it/s]\n"
     ]
    },
    {
     "name": "stdout",
     "output_type": "stream",
     "text": [
      "Epoch 408, Loss: 27.7686, Recon: 18.7602, KL: 9.0084\n",
      "\n",
      "===== Epoch 409 =====\n"
     ]
    },
    {
     "name": "stderr",
     "output_type": "stream",
     "text": [
      "Epoch 409/500: 100%|██████████████████████████| 11/11 [00:00<00:00, 1392.24it/s]\n"
     ]
    },
    {
     "name": "stdout",
     "output_type": "stream",
     "text": [
      "Epoch 409, Loss: 27.3516, Recon: 18.7584, KL: 8.5931\n",
      "\n",
      "===== Epoch 410 =====\n"
     ]
    },
    {
     "name": "stderr",
     "output_type": "stream",
     "text": [
      "Epoch 410/500: 100%|██████████████████████████| 11/11 [00:00<00:00, 1580.97it/s]\n"
     ]
    },
    {
     "name": "stdout",
     "output_type": "stream",
     "text": [
      "Epoch 410, Loss: 27.1819, Recon: 18.4522, KL: 8.7297\n",
      "\n",
      "===== Epoch 411 =====\n"
     ]
    },
    {
     "name": "stderr",
     "output_type": "stream",
     "text": [
      "Epoch 411/500: 100%|██████████████████████████| 11/11 [00:00<00:00, 1417.17it/s]\n"
     ]
    },
    {
     "name": "stdout",
     "output_type": "stream",
     "text": [
      "Epoch 411, Loss: 26.7427, Recon: 17.8251, KL: 8.9176\n",
      "\n",
      "===== Epoch 412 =====\n"
     ]
    },
    {
     "name": "stderr",
     "output_type": "stream",
     "text": [
      "Epoch 412/500: 100%|██████████████████████████| 11/11 [00:00<00:00, 1474.51it/s]\n"
     ]
    },
    {
     "name": "stdout",
     "output_type": "stream",
     "text": [
      "Epoch 412, Loss: 27.8383, Recon: 19.0607, KL: 8.7776\n",
      "\n",
      "===== Epoch 413 =====\n"
     ]
    },
    {
     "name": "stderr",
     "output_type": "stream",
     "text": [
      "Epoch 413/500: 100%|██████████████████████████| 11/11 [00:00<00:00, 1557.38it/s]\n"
     ]
    },
    {
     "name": "stdout",
     "output_type": "stream",
     "text": [
      "Epoch 413, Loss: 27.9353, Recon: 19.0247, KL: 8.9106\n",
      "\n",
      "===== Epoch 414 =====\n"
     ]
    },
    {
     "name": "stderr",
     "output_type": "stream",
     "text": [
      "Epoch 414/500: 100%|██████████████████████████| 11/11 [00:00<00:00, 1468.59it/s]\n"
     ]
    },
    {
     "name": "stdout",
     "output_type": "stream",
     "text": [
      "Epoch 414, Loss: 27.3696, Recon: 18.7058, KL: 8.6638\n",
      "\n",
      "===== Epoch 415 =====\n"
     ]
    },
    {
     "name": "stderr",
     "output_type": "stream",
     "text": [
      "Epoch 415/500: 100%|██████████████████████████| 11/11 [00:00<00:00, 1530.51it/s]\n"
     ]
    },
    {
     "name": "stdout",
     "output_type": "stream",
     "text": [
      "Epoch 415, Loss: 27.0351, Recon: 18.1791, KL: 8.8561\n",
      "\n",
      "===== Epoch 416 =====\n"
     ]
    },
    {
     "name": "stderr",
     "output_type": "stream",
     "text": [
      "Epoch 416/500: 100%|██████████████████████████| 11/11 [00:00<00:00, 1428.18it/s]\n"
     ]
    },
    {
     "name": "stdout",
     "output_type": "stream",
     "text": [
      "Epoch 416, Loss: 27.0523, Recon: 18.2436, KL: 8.8086\n",
      "\n",
      "===== Epoch 417 =====\n"
     ]
    },
    {
     "name": "stderr",
     "output_type": "stream",
     "text": [
      "Epoch 417/500: 100%|██████████████████████████| 11/11 [00:00<00:00, 1522.28it/s]\n"
     ]
    },
    {
     "name": "stdout",
     "output_type": "stream",
     "text": [
      "Epoch 417, Loss: 26.0256, Recon: 17.4812, KL: 8.5444\n",
      "\n",
      "===== Epoch 418 =====\n"
     ]
    },
    {
     "name": "stderr",
     "output_type": "stream",
     "text": [
      "Epoch 418/500: 100%|██████████████████████████| 11/11 [00:00<00:00, 1511.81it/s]\n"
     ]
    },
    {
     "name": "stdout",
     "output_type": "stream",
     "text": [
      "Epoch 418, Loss: 27.7976, Recon: 18.8313, KL: 8.9663\n",
      "\n",
      "===== Epoch 419 =====\n"
     ]
    },
    {
     "name": "stderr",
     "output_type": "stream",
     "text": [
      "Epoch 419/500: 100%|██████████████████████████| 11/11 [00:00<00:00, 1500.45it/s]\n"
     ]
    },
    {
     "name": "stdout",
     "output_type": "stream",
     "text": [
      "Epoch 419, Loss: 26.8227, Recon: 18.0772, KL: 8.7455\n",
      "\n",
      "===== Epoch 420 =====\n"
     ]
    },
    {
     "name": "stderr",
     "output_type": "stream",
     "text": [
      "Epoch 420/500: 100%|██████████████████████████| 11/11 [00:00<00:00, 1601.66it/s]\n"
     ]
    },
    {
     "name": "stdout",
     "output_type": "stream",
     "text": [
      "Epoch 420, Loss: 27.7535, Recon: 18.7963, KL: 8.9572\n",
      "\n",
      "===== Epoch 421 =====\n"
     ]
    },
    {
     "name": "stderr",
     "output_type": "stream",
     "text": [
      "Epoch 421/500: 100%|██████████████████████████| 11/11 [00:00<00:00, 1523.59it/s]\n"
     ]
    },
    {
     "name": "stdout",
     "output_type": "stream",
     "text": [
      "Epoch 421, Loss: 27.2139, Recon: 18.6595, KL: 8.5545\n",
      "\n",
      "===== Epoch 422 =====\n"
     ]
    },
    {
     "name": "stderr",
     "output_type": "stream",
     "text": [
      "Epoch 422/500: 100%|██████████████████████████| 11/11 [00:00<00:00, 1539.96it/s]\n"
     ]
    },
    {
     "name": "stdout",
     "output_type": "stream",
     "text": [
      "Epoch 422, Loss: 27.0338, Recon: 18.5039, KL: 8.5299\n",
      "\n",
      "===== Epoch 423 =====\n"
     ]
    },
    {
     "name": "stderr",
     "output_type": "stream",
     "text": [
      "Epoch 423/500: 100%|██████████████████████████| 11/11 [00:00<00:00, 1523.49it/s]\n"
     ]
    },
    {
     "name": "stdout",
     "output_type": "stream",
     "text": [
      "Epoch 423, Loss: 26.9482, Recon: 18.4343, KL: 8.5139\n",
      "\n",
      "===== Epoch 424 =====\n"
     ]
    },
    {
     "name": "stderr",
     "output_type": "stream",
     "text": [
      "Epoch 424/500: 100%|██████████████████████████| 11/11 [00:00<00:00, 1561.60it/s]\n"
     ]
    },
    {
     "name": "stdout",
     "output_type": "stream",
     "text": [
      "Epoch 424, Loss: 27.2109, Recon: 18.3287, KL: 8.8822\n",
      "\n",
      "===== Epoch 425 =====\n"
     ]
    },
    {
     "name": "stderr",
     "output_type": "stream",
     "text": [
      "Epoch 425/500: 100%|██████████████████████████| 11/11 [00:00<00:00, 1557.43it/s]\n"
     ]
    },
    {
     "name": "stdout",
     "output_type": "stream",
     "text": [
      "Epoch 425, Loss: 27.7566, Recon: 18.8142, KL: 8.9424\n",
      "\n",
      "===== Epoch 426 =====\n"
     ]
    },
    {
     "name": "stderr",
     "output_type": "stream",
     "text": [
      "Epoch 426/500: 100%|██████████████████████████| 11/11 [00:00<00:00, 1491.57it/s]\n"
     ]
    },
    {
     "name": "stdout",
     "output_type": "stream",
     "text": [
      "Epoch 426, Loss: 27.6542, Recon: 18.8261, KL: 8.8281\n",
      "\n",
      "===== Epoch 427 =====\n"
     ]
    },
    {
     "name": "stderr",
     "output_type": "stream",
     "text": [
      "Epoch 427/500: 100%|██████████████████████████| 11/11 [00:00<00:00, 1467.05it/s]\n"
     ]
    },
    {
     "name": "stdout",
     "output_type": "stream",
     "text": [
      "Epoch 427, Loss: 27.3483, Recon: 18.5613, KL: 8.7870\n",
      "\n",
      "===== Epoch 428 =====\n"
     ]
    },
    {
     "name": "stderr",
     "output_type": "stream",
     "text": [
      "Epoch 428/500: 100%|██████████████████████████| 11/11 [00:00<00:00, 1484.71it/s]\n"
     ]
    },
    {
     "name": "stdout",
     "output_type": "stream",
     "text": [
      "Epoch 428, Loss: 27.2005, Recon: 18.4065, KL: 8.7940\n",
      "\n",
      "===== Epoch 429 =====\n"
     ]
    },
    {
     "name": "stderr",
     "output_type": "stream",
     "text": [
      "Epoch 429/500: 100%|██████████████████████████| 11/11 [00:00<00:00, 1517.68it/s]\n"
     ]
    },
    {
     "name": "stdout",
     "output_type": "stream",
     "text": [
      "Epoch 429, Loss: 27.1417, Recon: 18.2692, KL: 8.8725\n",
      "\n",
      "===== Epoch 430 =====\n"
     ]
    },
    {
     "name": "stderr",
     "output_type": "stream",
     "text": [
      "Epoch 430/500: 100%|██████████████████████████| 11/11 [00:00<00:00, 1094.21it/s]\n"
     ]
    },
    {
     "name": "stdout",
     "output_type": "stream",
     "text": [
      "Epoch 430, Loss: 27.3634, Recon: 18.3273, KL: 9.0360\n",
      "\n",
      "===== Epoch 431 =====\n"
     ]
    },
    {
     "name": "stderr",
     "output_type": "stream",
     "text": [
      "Epoch 431/500: 100%|██████████████████████████| 11/11 [00:00<00:00, 1542.80it/s]\n"
     ]
    },
    {
     "name": "stdout",
     "output_type": "stream",
     "text": [
      "Epoch 431, Loss: 27.3660, Recon: 18.4538, KL: 8.9122\n",
      "\n",
      "===== Epoch 432 =====\n"
     ]
    },
    {
     "name": "stderr",
     "output_type": "stream",
     "text": [
      "Epoch 432/500: 100%|██████████████████████████| 11/11 [00:00<00:00, 1349.68it/s]\n"
     ]
    },
    {
     "name": "stdout",
     "output_type": "stream",
     "text": [
      "Epoch 432, Loss: 26.7306, Recon: 18.1228, KL: 8.6077\n",
      "\n",
      "===== Epoch 433 =====\n"
     ]
    },
    {
     "name": "stderr",
     "output_type": "stream",
     "text": [
      "Epoch 433/500: 100%|██████████████████████████| 11/11 [00:00<00:00, 1557.85it/s]\n"
     ]
    },
    {
     "name": "stdout",
     "output_type": "stream",
     "text": [
      "Epoch 433, Loss: 27.1490, Recon: 18.3638, KL: 8.7852\n",
      "\n",
      "===== Epoch 434 =====\n"
     ]
    },
    {
     "name": "stderr",
     "output_type": "stream",
     "text": [
      "Epoch 434/500: 100%|██████████████████████████| 11/11 [00:00<00:00, 1511.61it/s]\n"
     ]
    },
    {
     "name": "stdout",
     "output_type": "stream",
     "text": [
      "Epoch 434, Loss: 27.6907, Recon: 18.6437, KL: 9.0470\n",
      "\n",
      "===== Epoch 435 =====\n"
     ]
    },
    {
     "name": "stderr",
     "output_type": "stream",
     "text": [
      "Epoch 435/500: 100%|██████████████████████████| 11/11 [00:00<00:00, 1067.97it/s]\n"
     ]
    },
    {
     "name": "stdout",
     "output_type": "stream",
     "text": [
      "Epoch 435, Loss: 26.2663, Recon: 17.5152, KL: 8.7511\n",
      "\n",
      "===== Epoch 436 =====\n"
     ]
    },
    {
     "name": "stderr",
     "output_type": "stream",
     "text": [
      "Epoch 436/500: 100%|██████████████████████████| 11/11 [00:00<00:00, 1195.64it/s]\n"
     ]
    },
    {
     "name": "stdout",
     "output_type": "stream",
     "text": [
      "Epoch 436, Loss: 27.3165, Recon: 18.4883, KL: 8.8282\n",
      "\n",
      "===== Epoch 437 =====\n"
     ]
    },
    {
     "name": "stderr",
     "output_type": "stream",
     "text": [
      "Epoch 437/500: 100%|███████████████████████████| 11/11 [00:00<00:00, 883.18it/s]\n"
     ]
    },
    {
     "name": "stdout",
     "output_type": "stream",
     "text": [
      "Epoch 437, Loss: 27.0930, Recon: 18.3342, KL: 8.7588\n",
      "\n",
      "===== Epoch 438 =====\n"
     ]
    },
    {
     "name": "stderr",
     "output_type": "stream",
     "text": [
      "Epoch 438/500: 100%|███████████████████████████| 11/11 [00:00<00:00, 991.97it/s]\n"
     ]
    },
    {
     "name": "stdout",
     "output_type": "stream",
     "text": [
      "Epoch 438, Loss: 26.7839, Recon: 18.0043, KL: 8.7796\n",
      "\n",
      "===== Epoch 439 =====\n"
     ]
    },
    {
     "name": "stderr",
     "output_type": "stream",
     "text": [
      "Epoch 439/500: 100%|███████████████████████████| 11/11 [00:00<00:00, 838.94it/s]\n"
     ]
    },
    {
     "name": "stdout",
     "output_type": "stream",
     "text": [
      "Epoch 439, Loss: 26.7221, Recon: 17.9000, KL: 8.8221\n",
      "\n",
      "===== Epoch 440 =====\n"
     ]
    },
    {
     "name": "stderr",
     "output_type": "stream",
     "text": [
      "Epoch 440/500: 100%|██████████████████████████| 11/11 [00:00<00:00, 1418.61it/s]\n"
     ]
    },
    {
     "name": "stdout",
     "output_type": "stream",
     "text": [
      "Epoch 440, Loss: 26.8705, Recon: 18.1815, KL: 8.6890\n",
      "\n",
      "===== Epoch 441 =====\n"
     ]
    },
    {
     "name": "stderr",
     "output_type": "stream",
     "text": [
      "Epoch 441/500: 100%|██████████████████████████| 11/11 [00:00<00:00, 1403.08it/s]\n"
     ]
    },
    {
     "name": "stdout",
     "output_type": "stream",
     "text": [
      "Epoch 441, Loss: 26.8481, Recon: 17.8111, KL: 9.0369\n",
      "\n",
      "===== Epoch 442 =====\n"
     ]
    },
    {
     "name": "stderr",
     "output_type": "stream",
     "text": [
      "Epoch 442/500: 100%|██████████████████████████| 11/11 [00:00<00:00, 1384.55it/s]\n"
     ]
    },
    {
     "name": "stdout",
     "output_type": "stream",
     "text": [
      "Epoch 442, Loss: 26.7122, Recon: 17.9238, KL: 8.7884\n",
      "\n",
      "===== Epoch 443 =====\n"
     ]
    },
    {
     "name": "stderr",
     "output_type": "stream",
     "text": [
      "Epoch 443/500: 100%|██████████████████████████| 11/11 [00:00<00:00, 1411.49it/s]\n"
     ]
    },
    {
     "name": "stdout",
     "output_type": "stream",
     "text": [
      "Epoch 443, Loss: 27.2159, Recon: 18.4185, KL: 8.7974\n",
      "\n",
      "===== Epoch 444 =====\n"
     ]
    },
    {
     "name": "stderr",
     "output_type": "stream",
     "text": [
      "Epoch 444/500: 100%|██████████████████████████| 11/11 [00:00<00:00, 1438.87it/s]\n"
     ]
    },
    {
     "name": "stdout",
     "output_type": "stream",
     "text": [
      "Epoch 444, Loss: 27.6672, Recon: 18.8485, KL: 8.8187\n",
      "\n",
      "===== Epoch 445 =====\n"
     ]
    },
    {
     "name": "stderr",
     "output_type": "stream",
     "text": [
      "Epoch 445/500: 100%|██████████████████████████| 11/11 [00:00<00:00, 1482.85it/s]\n"
     ]
    },
    {
     "name": "stdout",
     "output_type": "stream",
     "text": [
      "Epoch 445, Loss: 27.4681, Recon: 18.4405, KL: 9.0275\n",
      "\n",
      "===== Epoch 446 =====\n"
     ]
    },
    {
     "name": "stderr",
     "output_type": "stream",
     "text": [
      "Epoch 446/500: 100%|██████████████████████████| 11/11 [00:00<00:00, 1404.27it/s]\n"
     ]
    },
    {
     "name": "stdout",
     "output_type": "stream",
     "text": [
      "Epoch 446, Loss: 27.0020, Recon: 18.1945, KL: 8.8076\n",
      "\n",
      "===== Epoch 447 =====\n"
     ]
    },
    {
     "name": "stderr",
     "output_type": "stream",
     "text": [
      "Epoch 447/500: 100%|██████████████████████████| 11/11 [00:00<00:00, 1339.18it/s]\n"
     ]
    },
    {
     "name": "stdout",
     "output_type": "stream",
     "text": [
      "Epoch 447, Loss: 27.0648, Recon: 18.0792, KL: 8.9857\n",
      "\n",
      "===== Epoch 448 =====\n"
     ]
    },
    {
     "name": "stderr",
     "output_type": "stream",
     "text": [
      "Epoch 448/500: 100%|██████████████████████████| 11/11 [00:00<00:00, 1511.41it/s]\n"
     ]
    },
    {
     "name": "stdout",
     "output_type": "stream",
     "text": [
      "Epoch 448, Loss: 27.2269, Recon: 18.4866, KL: 8.7402\n",
      "\n",
      "===== Epoch 449 =====\n"
     ]
    },
    {
     "name": "stderr",
     "output_type": "stream",
     "text": [
      "Epoch 449/500: 100%|██████████████████████████| 11/11 [00:00<00:00, 1371.54it/s]\n"
     ]
    },
    {
     "name": "stdout",
     "output_type": "stream",
     "text": [
      "Epoch 449, Loss: 27.1941, Recon: 18.2016, KL: 8.9925\n",
      "\n",
      "===== Epoch 450 =====\n"
     ]
    },
    {
     "name": "stderr",
     "output_type": "stream",
     "text": [
      "Epoch 450/500: 100%|██████████████████████████| 11/11 [00:00<00:00, 1534.79it/s]\n"
     ]
    },
    {
     "name": "stdout",
     "output_type": "stream",
     "text": [
      "Epoch 450, Loss: 25.7387, Recon: 16.9444, KL: 8.7942\n",
      "\n",
      "===== Epoch 451 =====\n"
     ]
    },
    {
     "name": "stderr",
     "output_type": "stream",
     "text": [
      "Epoch 451/500: 100%|██████████████████████████| 11/11 [00:00<00:00, 1562.23it/s]\n"
     ]
    },
    {
     "name": "stdout",
     "output_type": "stream",
     "text": [
      "Epoch 451, Loss: 26.7041, Recon: 18.1653, KL: 8.5388\n",
      "\n",
      "===== Epoch 452 =====\n"
     ]
    },
    {
     "name": "stderr",
     "output_type": "stream",
     "text": [
      "Epoch 452/500: 100%|██████████████████████████| 11/11 [00:00<00:00, 1428.00it/s]\n"
     ]
    },
    {
     "name": "stdout",
     "output_type": "stream",
     "text": [
      "Epoch 452, Loss: 26.8938, Recon: 18.0914, KL: 8.8025\n",
      "\n",
      "===== Epoch 453 =====\n"
     ]
    },
    {
     "name": "stderr",
     "output_type": "stream",
     "text": [
      "Epoch 453/500: 100%|██████████████████████████| 11/11 [00:00<00:00, 1472.34it/s]\n"
     ]
    },
    {
     "name": "stdout",
     "output_type": "stream",
     "text": [
      "Epoch 453, Loss: 26.8768, Recon: 18.2056, KL: 8.6712\n",
      "\n",
      "===== Epoch 454 =====\n"
     ]
    },
    {
     "name": "stderr",
     "output_type": "stream",
     "text": [
      "Epoch 454/500: 100%|██████████████████████████| 11/11 [00:00<00:00, 1145.59it/s]\n"
     ]
    },
    {
     "name": "stdout",
     "output_type": "stream",
     "text": [
      "Epoch 454, Loss: 27.0872, Recon: 18.2306, KL: 8.8566\n",
      "\n",
      "===== Epoch 455 =====\n"
     ]
    },
    {
     "name": "stderr",
     "output_type": "stream",
     "text": [
      "Epoch 455/500: 100%|███████████████████████████| 11/11 [00:00<00:00, 852.30it/s]\n"
     ]
    },
    {
     "name": "stdout",
     "output_type": "stream",
     "text": [
      "Epoch 455, Loss: 27.0884, Recon: 18.3279, KL: 8.7605\n",
      "\n",
      "===== Epoch 456 =====\n"
     ]
    },
    {
     "name": "stderr",
     "output_type": "stream",
     "text": [
      "Epoch 456/500: 100%|██████████████████████████| 11/11 [00:00<00:00, 1197.07it/s]\n"
     ]
    },
    {
     "name": "stdout",
     "output_type": "stream",
     "text": [
      "Epoch 456, Loss: 26.8565, Recon: 18.2790, KL: 8.5775\n",
      "\n",
      "===== Epoch 457 =====\n"
     ]
    },
    {
     "name": "stderr",
     "output_type": "stream",
     "text": [
      "Epoch 457/500: 100%|██████████████████████████| 11/11 [00:00<00:00, 1233.59it/s]\n"
     ]
    },
    {
     "name": "stdout",
     "output_type": "stream",
     "text": [
      "Epoch 457, Loss: 26.3490, Recon: 17.5750, KL: 8.7740\n",
      "\n",
      "===== Epoch 458 =====\n"
     ]
    },
    {
     "name": "stderr",
     "output_type": "stream",
     "text": [
      "Epoch 458/500: 100%|██████████████████████████| 11/11 [00:00<00:00, 1564.93it/s]\n"
     ]
    },
    {
     "name": "stdout",
     "output_type": "stream",
     "text": [
      "Epoch 458, Loss: 26.4832, Recon: 17.6009, KL: 8.8823\n",
      "\n",
      "===== Epoch 459 =====\n"
     ]
    },
    {
     "name": "stderr",
     "output_type": "stream",
     "text": [
      "Epoch 459/500: 100%|██████████████████████████| 11/11 [00:00<00:00, 1508.30it/s]\n"
     ]
    },
    {
     "name": "stdout",
     "output_type": "stream",
     "text": [
      "Epoch 459, Loss: 27.2550, Recon: 18.4048, KL: 8.8502\n",
      "\n",
      "===== Epoch 460 =====\n"
     ]
    },
    {
     "name": "stderr",
     "output_type": "stream",
     "text": [
      "Epoch 460/500: 100%|██████████████████████████| 11/11 [00:00<00:00, 1501.67it/s]\n"
     ]
    },
    {
     "name": "stdout",
     "output_type": "stream",
     "text": [
      "Epoch 460, Loss: 27.0579, Recon: 18.2427, KL: 8.8152\n",
      "\n",
      "===== Epoch 461 =====\n"
     ]
    },
    {
     "name": "stderr",
     "output_type": "stream",
     "text": [
      "Epoch 461/500: 100%|██████████████████████████| 11/11 [00:00<00:00, 1247.16it/s]\n"
     ]
    },
    {
     "name": "stdout",
     "output_type": "stream",
     "text": [
      "Epoch 461, Loss: 26.4719, Recon: 17.5504, KL: 8.9215\n",
      "\n",
      "===== Epoch 462 =====\n"
     ]
    },
    {
     "name": "stderr",
     "output_type": "stream",
     "text": [
      "Epoch 462/500: 100%|██████████████████████████| 11/11 [00:00<00:00, 1264.38it/s]\n"
     ]
    },
    {
     "name": "stdout",
     "output_type": "stream",
     "text": [
      "Epoch 462, Loss: 26.8374, Recon: 18.1039, KL: 8.7335\n",
      "\n",
      "===== Epoch 463 =====\n"
     ]
    },
    {
     "name": "stderr",
     "output_type": "stream",
     "text": [
      "Epoch 463/500: 100%|██████████████████████████| 11/11 [00:00<00:00, 1477.91it/s]\n"
     ]
    },
    {
     "name": "stdout",
     "output_type": "stream",
     "text": [
      "Epoch 463, Loss: 27.5197, Recon: 18.6255, KL: 8.8942\n",
      "\n",
      "===== Epoch 464 =====\n"
     ]
    },
    {
     "name": "stderr",
     "output_type": "stream",
     "text": [
      "Epoch 464/500: 100%|██████████████████████████| 11/11 [00:00<00:00, 1451.54it/s]\n"
     ]
    },
    {
     "name": "stdout",
     "output_type": "stream",
     "text": [
      "Epoch 464, Loss: 26.6319, Recon: 17.8776, KL: 8.7543\n",
      "\n",
      "===== Epoch 465 =====\n"
     ]
    },
    {
     "name": "stderr",
     "output_type": "stream",
     "text": [
      "Epoch 465/500: 100%|██████████████████████████| 11/11 [00:00<00:00, 1159.11it/s]\n"
     ]
    },
    {
     "name": "stdout",
     "output_type": "stream",
     "text": [
      "Epoch 465, Loss: 26.6840, Recon: 17.8095, KL: 8.8745\n",
      "\n",
      "===== Epoch 466 =====\n"
     ]
    },
    {
     "name": "stderr",
     "output_type": "stream",
     "text": [
      "Epoch 466/500: 100%|██████████████████████████| 11/11 [00:00<00:00, 1323.05it/s]\n"
     ]
    },
    {
     "name": "stdout",
     "output_type": "stream",
     "text": [
      "Epoch 466, Loss: 26.1017, Recon: 17.2231, KL: 8.8786\n",
      "\n",
      "===== Epoch 467 =====\n"
     ]
    },
    {
     "name": "stderr",
     "output_type": "stream",
     "text": [
      "Epoch 467/500: 100%|██████████████████████████| 11/11 [00:00<00:00, 1579.29it/s]\n"
     ]
    },
    {
     "name": "stdout",
     "output_type": "stream",
     "text": [
      "Epoch 467, Loss: 25.7039, Recon: 17.3108, KL: 8.3931\n",
      "\n",
      "===== Epoch 468 =====\n"
     ]
    },
    {
     "name": "stderr",
     "output_type": "stream",
     "text": [
      "Epoch 468/500: 100%|██████████████████████████| 11/11 [00:00<00:00, 1367.11it/s]\n"
     ]
    },
    {
     "name": "stdout",
     "output_type": "stream",
     "text": [
      "Epoch 468, Loss: 25.8061, Recon: 17.0707, KL: 8.7354\n",
      "\n",
      "===== Epoch 469 =====\n"
     ]
    },
    {
     "name": "stderr",
     "output_type": "stream",
     "text": [
      "Epoch 469/500: 100%|██████████████████████████| 11/11 [00:00<00:00, 1534.38it/s]\n"
     ]
    },
    {
     "name": "stdout",
     "output_type": "stream",
     "text": [
      "Epoch 469, Loss: 26.5554, Recon: 17.7277, KL: 8.8277\n",
      "\n",
      "===== Epoch 470 =====\n"
     ]
    },
    {
     "name": "stderr",
     "output_type": "stream",
     "text": [
      "Epoch 470/500: 100%|██████████████████████████| 11/11 [00:00<00:00, 1434.35it/s]\n"
     ]
    },
    {
     "name": "stdout",
     "output_type": "stream",
     "text": [
      "Epoch 470, Loss: 26.9101, Recon: 18.1243, KL: 8.7858\n",
      "\n",
      "===== Epoch 471 =====\n"
     ]
    },
    {
     "name": "stderr",
     "output_type": "stream",
     "text": [
      "Epoch 471/500: 100%|██████████████████████████| 11/11 [00:00<00:00, 1233.72it/s]\n"
     ]
    },
    {
     "name": "stdout",
     "output_type": "stream",
     "text": [
      "Epoch 471, Loss: 27.0960, Recon: 18.1144, KL: 8.9816\n",
      "\n",
      "===== Epoch 472 =====\n"
     ]
    },
    {
     "name": "stderr",
     "output_type": "stream",
     "text": [
      "Epoch 472/500: 100%|██████████████████████████| 11/11 [00:00<00:00, 1527.98it/s]\n"
     ]
    },
    {
     "name": "stdout",
     "output_type": "stream",
     "text": [
      "Epoch 472, Loss: 27.1523, Recon: 18.1341, KL: 9.0181\n",
      "\n",
      "===== Epoch 473 =====\n"
     ]
    },
    {
     "name": "stderr",
     "output_type": "stream",
     "text": [
      "Epoch 473/500: 100%|██████████████████████████| 11/11 [00:00<00:00, 1261.44it/s]\n"
     ]
    },
    {
     "name": "stdout",
     "output_type": "stream",
     "text": [
      "Epoch 473, Loss: 27.1267, Recon: 18.3133, KL: 8.8134\n",
      "\n",
      "===== Epoch 474 =====\n"
     ]
    },
    {
     "name": "stderr",
     "output_type": "stream",
     "text": [
      "Epoch 474/500: 100%|██████████████████████████| 11/11 [00:00<00:00, 1501.48it/s]\n"
     ]
    },
    {
     "name": "stdout",
     "output_type": "stream",
     "text": [
      "Epoch 474, Loss: 26.5185, Recon: 17.3853, KL: 9.1332\n",
      "\n",
      "===== Epoch 475 =====\n"
     ]
    },
    {
     "name": "stderr",
     "output_type": "stream",
     "text": [
      "Epoch 475/500: 100%|██████████████████████████| 11/11 [00:00<00:00, 1488.49it/s]\n"
     ]
    },
    {
     "name": "stdout",
     "output_type": "stream",
     "text": [
      "Epoch 475, Loss: 25.6487, Recon: 16.8116, KL: 8.8371\n",
      "\n",
      "===== Epoch 476 =====\n"
     ]
    },
    {
     "name": "stderr",
     "output_type": "stream",
     "text": [
      "Epoch 476/500: 100%|██████████████████████████| 11/11 [00:00<00:00, 1475.97it/s]\n"
     ]
    },
    {
     "name": "stdout",
     "output_type": "stream",
     "text": [
      "Epoch 476, Loss: 26.7817, Recon: 17.9736, KL: 8.8081\n",
      "\n",
      "===== Epoch 477 =====\n"
     ]
    },
    {
     "name": "stderr",
     "output_type": "stream",
     "text": [
      "Epoch 477/500: 100%|██████████████████████████| 11/11 [00:00<00:00, 1464.58it/s]\n"
     ]
    },
    {
     "name": "stdout",
     "output_type": "stream",
     "text": [
      "Epoch 477, Loss: 25.7368, Recon: 17.1070, KL: 8.6298\n",
      "\n",
      "===== Epoch 478 =====\n"
     ]
    },
    {
     "name": "stderr",
     "output_type": "stream",
     "text": [
      "Epoch 478/500: 100%|██████████████████████████| 11/11 [00:00<00:00, 1455.44it/s]\n"
     ]
    },
    {
     "name": "stdout",
     "output_type": "stream",
     "text": [
      "Epoch 478, Loss: 26.3541, Recon: 17.6354, KL: 8.7187\n",
      "\n",
      "===== Epoch 479 =====\n"
     ]
    },
    {
     "name": "stderr",
     "output_type": "stream",
     "text": [
      "Epoch 479/500: 100%|██████████████████████████| 11/11 [00:00<00:00, 1465.28it/s]\n"
     ]
    },
    {
     "name": "stdout",
     "output_type": "stream",
     "text": [
      "Epoch 479, Loss: 26.1609, Recon: 17.5832, KL: 8.5778\n",
      "\n",
      "===== Epoch 480 =====\n"
     ]
    },
    {
     "name": "stderr",
     "output_type": "stream",
     "text": [
      "Epoch 480/500: 100%|██████████████████████████| 11/11 [00:00<00:00, 1487.68it/s]\n"
     ]
    },
    {
     "name": "stdout",
     "output_type": "stream",
     "text": [
      "Epoch 480, Loss: 26.5799, Recon: 17.6563, KL: 8.9237\n",
      "\n",
      "===== Epoch 481 =====\n"
     ]
    },
    {
     "name": "stderr",
     "output_type": "stream",
     "text": [
      "Epoch 481/500: 100%|██████████████████████████| 11/11 [00:00<00:00, 1372.97it/s]\n"
     ]
    },
    {
     "name": "stdout",
     "output_type": "stream",
     "text": [
      "Epoch 481, Loss: 26.4172, Recon: 17.5239, KL: 8.8934\n",
      "\n",
      "===== Epoch 482 =====\n"
     ]
    },
    {
     "name": "stderr",
     "output_type": "stream",
     "text": [
      "Epoch 482/500: 100%|██████████████████████████| 11/11 [00:00<00:00, 1421.18it/s]\n"
     ]
    },
    {
     "name": "stdout",
     "output_type": "stream",
     "text": [
      "Epoch 482, Loss: 26.4143, Recon: 17.7095, KL: 8.7048\n",
      "\n",
      "===== Epoch 483 =====\n"
     ]
    },
    {
     "name": "stderr",
     "output_type": "stream",
     "text": [
      "Epoch 483/500: 100%|███████████████████████████| 11/11 [00:00<00:00, 638.98it/s]\n"
     ]
    },
    {
     "name": "stdout",
     "output_type": "stream",
     "text": [
      "Epoch 483, Loss: 25.5821, Recon: 16.9887, KL: 8.5934\n",
      "\n",
      "===== Epoch 484 =====\n"
     ]
    },
    {
     "name": "stderr",
     "output_type": "stream",
     "text": [
      "Epoch 484/500: 100%|██████████████████████████| 11/11 [00:00<00:00, 1318.47it/s]\n"
     ]
    },
    {
     "name": "stdout",
     "output_type": "stream",
     "text": [
      "Epoch 484, Loss: 25.8394, Recon: 17.1267, KL: 8.7127\n",
      "\n",
      "===== Epoch 485 =====\n"
     ]
    },
    {
     "name": "stderr",
     "output_type": "stream",
     "text": [
      "Epoch 485/500: 100%|██████████████████████████| 11/11 [00:00<00:00, 1564.51it/s]\n"
     ]
    },
    {
     "name": "stdout",
     "output_type": "stream",
     "text": [
      "Epoch 485, Loss: 26.5093, Recon: 17.7423, KL: 8.7670\n",
      "\n",
      "===== Epoch 486 =====\n"
     ]
    },
    {
     "name": "stderr",
     "output_type": "stream",
     "text": [
      "Epoch 486/500: 100%|██████████████████████████| 11/11 [00:00<00:00, 1486.29it/s]\n"
     ]
    },
    {
     "name": "stdout",
     "output_type": "stream",
     "text": [
      "Epoch 486, Loss: 25.6125, Recon: 17.0012, KL: 8.6114\n",
      "\n",
      "===== Epoch 487 =====\n"
     ]
    },
    {
     "name": "stderr",
     "output_type": "stream",
     "text": [
      "Epoch 487/500: 100%|███████████████████████████| 11/11 [00:00<00:00, 829.82it/s]\n"
     ]
    },
    {
     "name": "stdout",
     "output_type": "stream",
     "text": [
      "Epoch 487, Loss: 26.3020, Recon: 17.7735, KL: 8.5284\n",
      "\n",
      "===== Epoch 488 =====\n"
     ]
    },
    {
     "name": "stderr",
     "output_type": "stream",
     "text": [
      "Epoch 488/500: 100%|██████████████████████████| 11/11 [00:00<00:00, 1247.63it/s]\n"
     ]
    },
    {
     "name": "stdout",
     "output_type": "stream",
     "text": [
      "Epoch 488, Loss: 26.3129, Recon: 17.6022, KL: 8.7107\n",
      "\n",
      "===== Epoch 489 =====\n"
     ]
    },
    {
     "name": "stderr",
     "output_type": "stream",
     "text": [
      "Epoch 489/500: 100%|██████████████████████████| 11/11 [00:00<00:00, 1199.93it/s]\n"
     ]
    },
    {
     "name": "stdout",
     "output_type": "stream",
     "text": [
      "Epoch 489, Loss: 26.5368, Recon: 17.8441, KL: 8.6927\n",
      "\n",
      "===== Epoch 490 =====\n"
     ]
    },
    {
     "name": "stderr",
     "output_type": "stream",
     "text": [
      "Epoch 490/500: 100%|██████████████████████████| 11/11 [00:00<00:00, 1374.81it/s]\n"
     ]
    },
    {
     "name": "stdout",
     "output_type": "stream",
     "text": [
      "Epoch 490, Loss: 25.7807, Recon: 17.0864, KL: 8.6943\n",
      "\n",
      "===== Epoch 491 =====\n"
     ]
    },
    {
     "name": "stderr",
     "output_type": "stream",
     "text": [
      "Epoch 491/500: 100%|██████████████████████████| 11/11 [00:00<00:00, 1469.62it/s]\n"
     ]
    },
    {
     "name": "stdout",
     "output_type": "stream",
     "text": [
      "Epoch 491, Loss: 26.8355, Recon: 18.2594, KL: 8.5760\n",
      "\n",
      "===== Epoch 492 =====\n"
     ]
    },
    {
     "name": "stderr",
     "output_type": "stream",
     "text": [
      "Epoch 492/500: 100%|██████████████████████████| 11/11 [00:00<00:00, 1118.10it/s]\n"
     ]
    },
    {
     "name": "stdout",
     "output_type": "stream",
     "text": [
      "Epoch 492, Loss: 25.8564, Recon: 17.3203, KL: 8.5361\n",
      "\n",
      "===== Epoch 493 =====\n"
     ]
    },
    {
     "name": "stderr",
     "output_type": "stream",
     "text": [
      "Epoch 493/500: 100%|██████████████████████████| 11/11 [00:00<00:00, 1444.50it/s]\n"
     ]
    },
    {
     "name": "stdout",
     "output_type": "stream",
     "text": [
      "Epoch 493, Loss: 26.4659, Recon: 17.5104, KL: 8.9555\n",
      "\n",
      "===== Epoch 494 =====\n"
     ]
    },
    {
     "name": "stderr",
     "output_type": "stream",
     "text": [
      "Epoch 494/500: 100%|██████████████████████████| 11/11 [00:00<00:00, 1365.41it/s]\n"
     ]
    },
    {
     "name": "stdout",
     "output_type": "stream",
     "text": [
      "Epoch 494, Loss: 25.9441, Recon: 17.0158, KL: 8.9283\n",
      "\n",
      "===== Epoch 495 =====\n"
     ]
    },
    {
     "name": "stderr",
     "output_type": "stream",
     "text": [
      "Epoch 495/500: 100%|██████████████████████████| 11/11 [00:00<00:00, 1373.46it/s]\n"
     ]
    },
    {
     "name": "stdout",
     "output_type": "stream",
     "text": [
      "Epoch 495, Loss: 26.9525, Recon: 18.0346, KL: 8.9179\n",
      "\n",
      "===== Epoch 496 =====\n"
     ]
    },
    {
     "name": "stderr",
     "output_type": "stream",
     "text": [
      "Epoch 496/500: 100%|██████████████████████████| 11/11 [00:00<00:00, 1212.80it/s]\n"
     ]
    },
    {
     "name": "stdout",
     "output_type": "stream",
     "text": [
      "Epoch 496, Loss: 25.8085, Recon: 17.1086, KL: 8.6998\n",
      "\n",
      "===== Epoch 497 =====\n"
     ]
    },
    {
     "name": "stderr",
     "output_type": "stream",
     "text": [
      "Epoch 497/500: 100%|██████████████████████████| 11/11 [00:00<00:00, 1109.66it/s]\n"
     ]
    },
    {
     "name": "stdout",
     "output_type": "stream",
     "text": [
      "Epoch 497, Loss: 26.2485, Recon: 17.5656, KL: 8.6829\n",
      "\n",
      "===== Epoch 498 =====\n"
     ]
    },
    {
     "name": "stderr",
     "output_type": "stream",
     "text": [
      "Epoch 498/500: 100%|██████████████████████████| 11/11 [00:00<00:00, 1508.74it/s]\n"
     ]
    },
    {
     "name": "stdout",
     "output_type": "stream",
     "text": [
      "Epoch 498, Loss: 27.0435, Recon: 18.1029, KL: 8.9406\n",
      "\n",
      "===== Epoch 499 =====\n"
     ]
    },
    {
     "name": "stderr",
     "output_type": "stream",
     "text": [
      "Epoch 499/500: 100%|██████████████████████████| 11/11 [00:00<00:00, 1200.34it/s]\n"
     ]
    },
    {
     "name": "stdout",
     "output_type": "stream",
     "text": [
      "Epoch 499, Loss: 25.4035, Recon: 16.9312, KL: 8.4723\n",
      "\n",
      "===== Epoch 500 =====\n"
     ]
    },
    {
     "name": "stderr",
     "output_type": "stream",
     "text": [
      "Epoch 500/500: 100%|███████████████████████████| 11/11 [00:00<00:00, 794.39it/s]"
     ]
    },
    {
     "name": "stdout",
     "output_type": "stream",
     "text": [
      "Epoch 500, Loss: 26.1278, Recon: 17.4985, KL: 8.6293\n"
     ]
    },
    {
     "name": "stderr",
     "output_type": "stream",
     "text": [
      "\n"
     ]
    }
   ],
   "source": [
    "# Set up model, optimizer, and device\n",
    "input_dim = X_tensor.shape[1]\n",
    "cond_dim = subject_cond_tensor.shape[1]\n",
    "latent_dim = 10\n",
    "hidden_dim = 64 # 128 (64 for FC vector)  \n",
    "NUM_EPOCH = 500\n",
    "from sklearn.preprocessing import LabelEncoder\n",
    "LR = 3e-4\n",
    "le = LabelEncoder()\n",
    "device = torch.device(\"cuda\" if torch.cuda.is_available() else \"cpu\")\n",
    "model = CVAE(input_dim=input_dim, cond_dim=cond_dim, latent_dim=latent_dim, hidden_dim=hidden_dim).to(device)\n",
    "optimizer = torch.optim.Adam(model.parameters(), lr=LR)\n",
    "total_loss_hist, recon_loss_hist, kld_loss_hist = train_vae(model, dataloader, optimizer, device=device, epochs=NUM_EPOCH, label_encoder=le, log_batch_info=True)"
   ]
  },
  {
   "cell_type": "code",
   "execution_count": 17,
   "id": "f6dcdde0-7d83-457e-901f-c243eb756d48",
   "metadata": {},
   "outputs": [
    {
     "data": {
      "image/png": "[encoded data removed]",
      "text/plain": [
       "<Figure size 1000x600 with 1 Axes>"
      ]
     },
     "metadata": {},
     "output_type": "display_data"
    }
   ],
   "source": [
    "plot_vae_losses(total_loss_hist, recon_loss_hist, kld_loss_hist)"
   ]
  },
  {
   "cell_type": "code",
   "execution_count": 18,
   "id": "0604b710-ebdc-4385-a292-f984174e93b3",
   "metadata": {},
   "outputs": [
    {
     "name": "stdout",
     "output_type": "stream",
     "text": [
      "dim of latent mu: (331, 10)\n"
     ]
    },
    {
     "data": {
      "image/png": "[encoded data removed]",
      "text/plain": [
       "<Figure size 800x800 with 1 Axes>"
      ]
     },
     "metadata": {},
     "output_type": "display_data"
    }
   ],
   "source": [
    "mu_all = get_latent_mu_cvae(model, X_tensor, subject_cond_tensor, device=device)\n",
    "# 2d-TSNE\n",
    "z_2d = TSNE(n_components=2, perplexity=8).fit_transform(mu_all)\n",
    "plot_latent_embedding_by_condition_and_subject(z_2d, all_tms_type, all_subject_id)"
   ]
  },
  {
   "cell_type": "code",
   "execution_count": 22,
   "id": "fd2208ad-48f4-45de-b426-c6b631f6ad13",
   "metadata": {},
   "outputs": [
    {
     "name": "stdout",
     "output_type": "stream",
     "text": [
      "Paired t-test: t = -2.874, p = 0.0062\n"
     ]
    },
    {
     "data": {
      "image/png": "[encoded data removed]",
      "text/plain": [
       "<Figure size 800x500 with 1 Axes>"
      ]
     },
     "metadata": {},
     "output_type": "display_data"
    }
   ],
   "source": [
    "df = compute_condition_distances(mu_all, all_tms_type, all_subject_id, condition_map)\n",
    "\n",
    "# Paired t-test\n",
    "t_stat, p_val_t = ttest_rel(df[\"d_null_sham\"], df[\"d_null_real\"])\n",
    "print(f\"Paired t-test: t = {t_stat:.3f}, p = {p_val_t:.4f}\")\n",
    "plot_subject_distance_comparison(df)"
   ]
  },
  {
   "cell_type": "code",
   "execution_count": 21,
   "id": "6b2ca991-0aa9-4fc3-9158-4ef709e0be27",
   "metadata": {},
   "outputs": [
    {
     "name": "stdout",
     "output_type": "stream",
     "text": [
      "aOFC | Paired t-test: t = -1.359, p = 0.1885\n",
      "pOFC | Paired t-test: t = -2.607, p = 0.0158\n"
     ]
    },
    {
     "data": {
      "image/png": "[encoded data removed]",
      "text/plain": [
       "<Figure size 640x480 with 1 Axes>"
      ]
     },
     "metadata": {},
     "output_type": "display_data"
    }
   ],
   "source": [
    "stim_map = dict(zip(all_subject_id, all_stimloc))\n",
    "df['stimloc'] = df['subject'].map(stim_map)  # Add a new column\n",
    "\n",
    "df_aofc = df[df['stimloc'] == 'Anterior']\n",
    "df_pofc = df[df['stimloc'] == 'Posterior']\n",
    "\n",
    "def run_group_ttest(df_group, label):\n",
    "    t_stat, p_val = ttest_rel(df_group[\"d_null_sham\"], df_group[\"d_null_real\"])\n",
    "    print(f\"{label} | Paired t-test: t = {t_stat:.3f}, p = {p_val:.4f}\")\n",
    "\n",
    "run_group_ttest(df_aofc, \"aOFC\")\n",
    "run_group_ttest(df_pofc, \"pOFC\")\n",
    "\n",
    "import seaborn as sns\n",
    "import matplotlib.pyplot as plt\n",
    "\n",
    "df['region'] = df['stimloc']\n",
    "sns.boxplot(data=df, x='region', y='diff_real_minus_sham')\n",
    "plt.title(\"Real vs Sham Distance by Region (aOFC vs pOFC)\")\n",
    "plt.axhline(0, color='gray', linestyle='--')\n",
    "plt.ylabel(\"Real - Sham distance\")\n",
    "plt.show()\n"
   ]
  },
  {
   "cell_type": "code",
   "execution_count": null,
   "id": "ec20809f-0422-48be-8523-f609607e4c9b",
   "metadata": {},
   "outputs": [],
   "source": []
  }
 ],
 "metadata": {
  "kernelspec": {
   "display_name": "Python 3 (ipykernel)",
   "language": "python",
   "name": "python3"
  },
  "language_info": {
   "codemirror_mode": {
    "name": "ipython",
    "version": 3
   },
   "file_extension": ".py",
   "mimetype": "text/x-python",
   "name": "python",
   "nbconvert_exporter": "python",
   "pygments_lexer": "ipython3",
   "version": "3.13.5"
  }
 },
 "nbformat": 4,
 "nbformat_minor": 5
}
